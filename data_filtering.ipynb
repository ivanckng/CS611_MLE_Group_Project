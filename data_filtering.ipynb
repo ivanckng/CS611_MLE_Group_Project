{
 "cells": [
  {
   "cell_type": "markdown",
   "id": "ffe024a4",
   "metadata": {},
   "source": [
    "# Data Filtering"
   ]
  },
  {
   "cell_type": "code",
   "execution_count": 1,
   "id": "b8e7f563",
   "metadata": {},
   "outputs": [],
   "source": [
    "import pandas as pd\n",
    "\n",
    "df_member = pd.read_csv('data/members_v3.csv')\n",
    "df_transaction = pd.read_csv('data/transactions.csv')\n",
    "df_transaction2 = pd.read_csv('data/transactions_v2.csv')\n",
    "df_logs = pd.read_csv('data/user_logs.csv')\n",
    "df_logs2 = pd.read_csv('data/user_logs_v2.csv')"
   ]
  },
  {
   "cell_type": "code",
   "execution_count": 2,
   "id": "e93ea27a",
   "metadata": {},
   "outputs": [],
   "source": [
    "all_df_transaction = pd.concat([df_transaction, df_transaction2], axis=0)"
   ]
  },
  {
   "cell_type": "code",
   "execution_count": 3,
   "id": "38f50371",
   "metadata": {},
   "outputs": [
    {
     "name": "stdout",
     "output_type": "stream",
     "text": [
      "members: (6769473, 6)\n",
      "transactions: (22978755, 9)\n",
      "logs: (392106543, 9)\n",
      "logs2: (18396362, 9)\n"
     ]
    }
   ],
   "source": [
    "print(f\"members: {df_member.shape}\")\n",
    "print(f\"transactions: {all_df_transaction.shape}\")\n",
    "print(f\"logs: {df_logs.shape}\")\n",
    "print(f\"logs2: {df_logs2.shape}\")"
   ]
  },
  {
   "cell_type": "code",
   "execution_count": 4,
   "id": "d18f250d",
   "metadata": {},
   "outputs": [
    {
     "data": {
      "text/html": [
       "<div>\n",
       "<style scoped>\n",
       "    .dataframe tbody tr th:only-of-type {\n",
       "        vertical-align: middle;\n",
       "    }\n",
       "\n",
       "    .dataframe tbody tr th {\n",
       "        vertical-align: top;\n",
       "    }\n",
       "\n",
       "    .dataframe thead th {\n",
       "        text-align: right;\n",
       "    }\n",
       "</style>\n",
       "<table border=\"1\" class=\"dataframe\">\n",
       "  <thead>\n",
       "    <tr style=\"text-align: right;\">\n",
       "      <th></th>\n",
       "      <th>msno</th>\n",
       "      <th>is_cancel</th>\n",
       "    </tr>\n",
       "  </thead>\n",
       "  <tbody>\n",
       "    <tr>\n",
       "      <th>6</th>\n",
       "      <td>++/Gw1B9K+XOlB3hLTloeUK2QlCa2m+BJ8TrzGf7djI=</td>\n",
       "      <td>{0, 1}</td>\n",
       "    </tr>\n",
       "    <tr>\n",
       "      <th>7</th>\n",
       "      <td>++/TR7WI15q2ZCtOXmoap7jR+kEhbMVE5swOqsfqpqI=</td>\n",
       "      <td>{0, 1}</td>\n",
       "    </tr>\n",
       "    <tr>\n",
       "      <th>10</th>\n",
       "      <td>++/gTmVgKUbNFmsTiriZdWV1uZIrLXCUiEWN0fEU6BM=</td>\n",
       "      <td>{0, 1}</td>\n",
       "    </tr>\n",
       "    <tr>\n",
       "      <th>20</th>\n",
       "      <td>++0KpReZV9DjNUlP6aQhK3MDLWaxbA6fvZKh4UaFc3w=</td>\n",
       "      <td>{0, 1}</td>\n",
       "    </tr>\n",
       "    <tr>\n",
       "      <th>23</th>\n",
       "      <td>++0nOC7BmrUTtcSboRORfg6ZXTajnBDt1f/SEgH6ONo=</td>\n",
       "      <td>{0, 1}</td>\n",
       "    </tr>\n",
       "    <tr>\n",
       "      <th>...</th>\n",
       "      <td>...</td>\n",
       "      <td>...</td>\n",
       "    </tr>\n",
       "    <tr>\n",
       "      <th>2426134</th>\n",
       "      <td>zzz/5bh+8EOZTpIRKWiiaAwEH4uYwfDUaiahJlvABiQ=</td>\n",
       "      <td>{0, 1}</td>\n",
       "    </tr>\n",
       "    <tr>\n",
       "      <th>2426135</th>\n",
       "      <td>zzz1Dc3P9s53HAowRTrm3fNsWju5yeN4YBfNDq7Z99Q=</td>\n",
       "      <td>{0, 1}</td>\n",
       "    </tr>\n",
       "    <tr>\n",
       "      <th>2426136</th>\n",
       "      <td>zzz4xr5LLzoxUqD6LfKiieCt8Or4dUWFQ0RA5gmkx8I=</td>\n",
       "      <td>{0, 1}</td>\n",
       "    </tr>\n",
       "    <tr>\n",
       "      <th>2426138</th>\n",
       "      <td>zzz9+ZF4+GMyt63oU8xfjo1EkvRqH5OINlES0RUJI6I=</td>\n",
       "      <td>{0, 1}</td>\n",
       "    </tr>\n",
       "    <tr>\n",
       "      <th>2426140</th>\n",
       "      <td>zzzN9thH22os1dRS0VHReY/8FTfGHOi86//d+wGGFsQ=</td>\n",
       "      <td>{0, 1}</td>\n",
       "    </tr>\n",
       "  </tbody>\n",
       "</table>\n",
       "<p>778155 rows × 2 columns</p>\n",
       "</div>"
      ],
      "text/plain": [
       "                                                 msno is_cancel\n",
       "6        ++/Gw1B9K+XOlB3hLTloeUK2QlCa2m+BJ8TrzGf7djI=    {0, 1}\n",
       "7        ++/TR7WI15q2ZCtOXmoap7jR+kEhbMVE5swOqsfqpqI=    {0, 1}\n",
       "10       ++/gTmVgKUbNFmsTiriZdWV1uZIrLXCUiEWN0fEU6BM=    {0, 1}\n",
       "20       ++0KpReZV9DjNUlP6aQhK3MDLWaxbA6fvZKh4UaFc3w=    {0, 1}\n",
       "23       ++0nOC7BmrUTtcSboRORfg6ZXTajnBDt1f/SEgH6ONo=    {0, 1}\n",
       "...                                               ...       ...\n",
       "2426134  zzz/5bh+8EOZTpIRKWiiaAwEH4uYwfDUaiahJlvABiQ=    {0, 1}\n",
       "2426135  zzz1Dc3P9s53HAowRTrm3fNsWju5yeN4YBfNDq7Z99Q=    {0, 1}\n",
       "2426136  zzz4xr5LLzoxUqD6LfKiieCt8Or4dUWFQ0RA5gmkx8I=    {0, 1}\n",
       "2426138  zzz9+ZF4+GMyt63oU8xfjo1EkvRqH5OINlES0RUJI6I=    {0, 1}\n",
       "2426140  zzzN9thH22os1dRS0VHReY/8FTfGHOi86//d+wGGFsQ=    {0, 1}\n",
       "\n",
       "[778155 rows x 2 columns]"
      ]
     },
     "execution_count": 4,
     "metadata": {},
     "output_type": "execute_result"
    }
   ],
   "source": [
    "filtered_msno = all_df_transaction.groupby('msno')['is_cancel'].agg(set).reset_index()\n",
    "filtered_msno = filtered_msno[filtered_msno['is_cancel'] == {0, 1}]\n",
    "filtered_msno"
   ]
  },
  {
   "cell_type": "code",
   "execution_count": 5,
   "id": "1d6f3330",
   "metadata": {},
   "outputs": [
    {
     "data": {
      "text/html": [
       "<div>\n",
       "<style scoped>\n",
       "    .dataframe tbody tr th:only-of-type {\n",
       "        vertical-align: middle;\n",
       "    }\n",
       "\n",
       "    .dataframe tbody tr th {\n",
       "        vertical-align: top;\n",
       "    }\n",
       "\n",
       "    .dataframe thead th {\n",
       "        text-align: right;\n",
       "    }\n",
       "</style>\n",
       "<table border=\"1\" class=\"dataframe\">\n",
       "  <thead>\n",
       "    <tr style=\"text-align: right;\">\n",
       "      <th></th>\n",
       "      <th>msno</th>\n",
       "      <th>city</th>\n",
       "      <th>bd</th>\n",
       "      <th>gender</th>\n",
       "      <th>registered_via</th>\n",
       "      <th>registration_init_time</th>\n",
       "    </tr>\n",
       "  </thead>\n",
       "  <tbody>\n",
       "    <tr>\n",
       "      <th>1372093</th>\n",
       "      <td>JdmXXzLgL8NqEDBKXXPRSN6+H72vtMgzO7WQYfv3e34=</td>\n",
       "      <td>15</td>\n",
       "      <td>0</td>\n",
       "      <td>NaN</td>\n",
       "      <td>9</td>\n",
       "      <td>20141231</td>\n",
       "    </tr>\n",
       "    <tr>\n",
       "      <th>4929144</th>\n",
       "      <td>wzQL52h6U5ujx8F+zztPyN4bAzEVp94oZDK22HuiSmM=</td>\n",
       "      <td>22</td>\n",
       "      <td>23</td>\n",
       "      <td>male</td>\n",
       "      <td>3</td>\n",
       "      <td>20150608</td>\n",
       "    </tr>\n",
       "    <tr>\n",
       "      <th>1989021</th>\n",
       "      <td>5trzY3e8yDybNyTfz/teRrsPBGNtcVn5EKZfgYicAYs=</td>\n",
       "      <td>1</td>\n",
       "      <td>0</td>\n",
       "      <td>NaN</td>\n",
       "      <td>7</td>\n",
       "      <td>20120425</td>\n",
       "    </tr>\n",
       "    <tr>\n",
       "      <th>6234107</th>\n",
       "      <td>CBCUZZBicQhRyjmGuYT+EnzamYaO6PWrd7tSUsZtGzk=</td>\n",
       "      <td>6</td>\n",
       "      <td>27</td>\n",
       "      <td>female</td>\n",
       "      <td>9</td>\n",
       "      <td>20150124</td>\n",
       "    </tr>\n",
       "    <tr>\n",
       "      <th>824510</th>\n",
       "      <td>lA0oHXFDBFn3mFA+1w8m4N/J8fBTiGqPHbhZj5OTP34=</td>\n",
       "      <td>1</td>\n",
       "      <td>0</td>\n",
       "      <td>NaN</td>\n",
       "      <td>7</td>\n",
       "      <td>20140625</td>\n",
       "    </tr>\n",
       "    <tr>\n",
       "      <th>...</th>\n",
       "      <td>...</td>\n",
       "      <td>...</td>\n",
       "      <td>...</td>\n",
       "      <td>...</td>\n",
       "      <td>...</td>\n",
       "      <td>...</td>\n",
       "    </tr>\n",
       "    <tr>\n",
       "      <th>3277998</th>\n",
       "      <td>78awLLRmNMqpEC3ey/6bMfP1OXLaHBfZ4ms3AiiQCZQ=</td>\n",
       "      <td>1</td>\n",
       "      <td>0</td>\n",
       "      <td>female</td>\n",
       "      <td>3</td>\n",
       "      <td>20150530</td>\n",
       "    </tr>\n",
       "    <tr>\n",
       "      <th>6396775</th>\n",
       "      <td>azPF5rd82ITb7eBTeKkg3VpA8GJzVnk6VKHauDMGoaQ=</td>\n",
       "      <td>1</td>\n",
       "      <td>0</td>\n",
       "      <td>NaN</td>\n",
       "      <td>9</td>\n",
       "      <td>20150928</td>\n",
       "    </tr>\n",
       "    <tr>\n",
       "      <th>5727609</th>\n",
       "      <td>aADRhKqUWBgZlEJ1zxxS24ZpmkaM6as5PXPhU/2BytM=</td>\n",
       "      <td>1</td>\n",
       "      <td>0</td>\n",
       "      <td>NaN</td>\n",
       "      <td>4</td>\n",
       "      <td>20160209</td>\n",
       "    </tr>\n",
       "    <tr>\n",
       "      <th>1629890</th>\n",
       "      <td>eZNfGSnM3dsQFPwXnvFuBCxSwd+wxdd74/z9YFPJc6w=</td>\n",
       "      <td>12</td>\n",
       "      <td>69</td>\n",
       "      <td>female</td>\n",
       "      <td>3</td>\n",
       "      <td>20141225</td>\n",
       "    </tr>\n",
       "    <tr>\n",
       "      <th>4708892</th>\n",
       "      <td>TcfLz9OaXTyT59mdu7CY4mS8HglABe96zhh6z5s1Vz8=</td>\n",
       "      <td>4</td>\n",
       "      <td>22</td>\n",
       "      <td>female</td>\n",
       "      <td>3</td>\n",
       "      <td>20150702</td>\n",
       "    </tr>\n",
       "  </tbody>\n",
       "</table>\n",
       "<p>400000 rows × 6 columns</p>\n",
       "</div>"
      ],
      "text/plain": [
       "                                                 msno  city  bd  gender  \\\n",
       "1372093  JdmXXzLgL8NqEDBKXXPRSN6+H72vtMgzO7WQYfv3e34=    15   0     NaN   \n",
       "4929144  wzQL52h6U5ujx8F+zztPyN4bAzEVp94oZDK22HuiSmM=    22  23    male   \n",
       "1989021  5trzY3e8yDybNyTfz/teRrsPBGNtcVn5EKZfgYicAYs=     1   0     NaN   \n",
       "6234107  CBCUZZBicQhRyjmGuYT+EnzamYaO6PWrd7tSUsZtGzk=     6  27  female   \n",
       "824510   lA0oHXFDBFn3mFA+1w8m4N/J8fBTiGqPHbhZj5OTP34=     1   0     NaN   \n",
       "...                                               ...   ...  ..     ...   \n",
       "3277998  78awLLRmNMqpEC3ey/6bMfP1OXLaHBfZ4ms3AiiQCZQ=     1   0  female   \n",
       "6396775  azPF5rd82ITb7eBTeKkg3VpA8GJzVnk6VKHauDMGoaQ=     1   0     NaN   \n",
       "5727609  aADRhKqUWBgZlEJ1zxxS24ZpmkaM6as5PXPhU/2BytM=     1   0     NaN   \n",
       "1629890  eZNfGSnM3dsQFPwXnvFuBCxSwd+wxdd74/z9YFPJc6w=    12  69  female   \n",
       "4708892  TcfLz9OaXTyT59mdu7CY4mS8HglABe96zhh6z5s1Vz8=     4  22  female   \n",
       "\n",
       "         registered_via  registration_init_time  \n",
       "1372093               9                20141231  \n",
       "4929144               3                20150608  \n",
       "1989021               7                20120425  \n",
       "6234107               9                20150124  \n",
       "824510                7                20140625  \n",
       "...                 ...                     ...  \n",
       "3277998               3                20150530  \n",
       "6396775               9                20150928  \n",
       "5727609               4                20160209  \n",
       "1629890               3                20141225  \n",
       "4708892               3                20150702  \n",
       "\n",
       "[400000 rows x 6 columns]"
      ]
     },
     "execution_count": 5,
     "metadata": {},
     "output_type": "execute_result"
    }
   ],
   "source": [
    "filtered_df_member = df_member[df_member['msno'].isin(filtered_msno['msno'])].sample(n=300000, random_state=42)\n",
    "filtered_df_member2 = df_member[~df_member['msno'].isin(filtered_msno['msno'])].sample(n=100000, random_state=42)\n",
    "filtered_df_member_all = pd.concat([filtered_df_member, filtered_df_member2])\n",
    "filtered_df_member_all"
   ]
  },
  {
   "cell_type": "code",
   "execution_count": 6,
   "id": "a483d8b2",
   "metadata": {},
   "outputs": [
    {
     "data": {
      "text/plain": [
       "(4812931, 9)"
      ]
     },
     "execution_count": 6,
     "metadata": {},
     "output_type": "execute_result"
    }
   ],
   "source": [
    "filtered_df_transaction = all_df_transaction[all_df_transaction['msno'].isin(filtered_df_member_all['msno'])].drop_duplicates()\n",
    "filtered_df_transaction.shape"
   ]
  },
  {
   "cell_type": "code",
   "execution_count": 7,
   "id": "fb715d71",
   "metadata": {},
   "outputs": [
    {
     "data": {
      "text/plain": [
       "(79102442, 9)"
      ]
     },
     "execution_count": 7,
     "metadata": {},
     "output_type": "execute_result"
    }
   ],
   "source": [
    "filtered_df_logs = df_logs[df_logs['msno'].isin(filtered_df_member_all['msno'])]\n",
    "filtered_df_logs2 = df_logs2[df_logs2['msno'].isin(filtered_df_member_all['msno'])]\n",
    "all_df_logs = pd.concat([filtered_df_logs , filtered_df_logs2], axis=0).drop_duplicates()\n",
    "all_df_logs.shape"
   ]
  },
  {
   "cell_type": "code",
   "execution_count": null,
   "id": "ca38c700",
   "metadata": {},
   "outputs": [],
   "source": [
    "filtered_df_transaction.to_csv('data/transactions_filtered.csv')\n",
    "filtered_df_member_all.to_csv('data/members_filtered.csv')\n",
    "all_df_logs.to_csv('data/user_logs_filtered.csv')"
   ]
  },
  {
   "cell_type": "code",
   "execution_count": null,
   "id": "c0a116cf",
   "metadata": {},
   "outputs": [],
   "source": []
  },
  {
   "cell_type": "code",
   "execution_count": null,
   "id": "cb4a39aa",
   "metadata": {},
   "outputs": [],
   "source": []
  }
 ],
 "metadata": {
  "kernelspec": {
   "display_name": "Python 3",
   "language": "python",
   "name": "python3"
  },
  "language_info": {
   "codemirror_mode": {
    "name": "ipython",
    "version": 3
   },
   "file_extension": ".py",
   "mimetype": "text/x-python",
   "name": "python",
   "nbconvert_exporter": "python",
   "pygments_lexer": "ipython3",
   "version": "3.13.1"
  }
 },
 "nbformat": 4,
 "nbformat_minor": 5
}
