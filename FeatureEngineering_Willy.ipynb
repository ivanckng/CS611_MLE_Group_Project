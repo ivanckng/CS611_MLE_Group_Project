{
 "cells": [
  {
   "cell_type": "code",
   "execution_count": 1,
   "id": "f55906ef-8cf4-4d05-acfa-3db0f5db03ae",
   "metadata": {},
   "outputs": [],
   "source": [
    "import pandas as pd\n",
    "import numpy as np\n",
    "import seaborn as sns\n",
    "import matplotlib.pyplot as plt\n",
    "import calendar\n",
    "from pyspark.sql import SparkSession\n",
    "from tqdm import tqdm\n",
    "import time  # to simulate loading for tqdm\n",
    "\n",
    "import os\n",
    "import glob\n",
    "import random\n",
    "from datetime import datetime, timedelta\n",
    "from dateutil.relativedelta import relativedelta\n",
    "import pprint\n",
    "import pyspark\n",
    "import pyspark.sql.functions as F\n",
    "\n",
    "from pyspark.sql.functions import col, to_date, count, min, max\n",
    "from pyspark.sql.types import StringType, IntegerType, FloatType, DateType\n",
    "from pyspark.sql.functions import col, sum as spark_sum, when"
   ]
  },
  {
   "cell_type": "markdown",
   "id": "3105da35-8b5e-4d9f-b042-2e2b6c064c4a",
   "metadata": {},
   "source": [
    "# Setup Hadoop\n",
    "Go to your working directory: CS611_MLE_GROUP_PROJECT <br/>\n",
    "Then, run this command in your VM terminal:\n",
    "> wget https://repo1.maven.org/maven2/com/google/cloud/bigdataoss/gcs-connector/hadoop3-2.2.20/gcs-connector-hadoop3-2.2.20-shaded.jar -P jars/\n",
    "\n",
    "<br/><br/>\n",
    "Copy your google cloud application_default_credentials.json to this working directory, then can run the following commands:"
   ]
  },
  {
   "cell_type": "code",
   "execution_count": 2,
   "id": "565f3b59-3b87-4e6b-a132-0cd5714aa82a",
   "metadata": {},
   "outputs": [
    {
     "name": "stderr",
     "output_type": "stream",
     "text": [
      "25/06/13 07:44:53 WARN NativeCodeLoader: Unable to load native-hadoop library for your platform... using builtin-java classes where applicable\n",
      "Setting default log level to \"WARN\".\n",
      "To adjust logging level use sc.setLogLevel(newLevel). For SparkR, use setLogLevel(newLevel).\n"
     ]
    }
   ],
   "source": [
    "spark = SparkSession \\\n",
    "        .builder \\\n",
    "        .config(\"spark.jars\", \"jars/gcs-connector-hadoop3-2.2.20-shaded.jar\") \\\n",
    "        .getOrCreate()"
   ]
  },
  {
   "cell_type": "code",
   "execution_count": 3,
   "id": "f8dab6e9-5966-42af-8a64-603f71ba4a4a",
   "metadata": {},
   "outputs": [],
   "source": [
    "spark._jsc.hadoopConfiguration().set('fs.gs.impl', 'com.google.cloud.hadoop.fs.gcs.GoogleHadoopFileSystem')\n",
    "# This is required if you are using service account and set true, \n",
    "spark._jsc.hadoopConfiguration().set('fs.gs.auth.service.account.enable', 'true')\n",
    "spark._jsc.hadoopConfiguration().set('google.cloud.auth.service.account.json.keyfile', \"application_default_credentials.json\")\n",
    "# Following are required if you are using oAuth\n",
    "# spark._jsc.hadoopConfiguration().set('fs.gs.auth.client.id', 'YOUR_OAUTH_CLIENT_ID')\n",
    "# spark._jsc.hadoopConfiguration().set('fs.gs.auth.client.secret', 'OAUTH_SECRET')"
   ]
  },
  {
   "cell_type": "markdown",
   "id": "72c77fad-e95a-433a-b717-39d9c584967a",
   "metadata": {},
   "source": [
    "# Load from Bronze Table"
   ]
  },
  {
   "cell_type": "code",
   "execution_count": 4,
   "id": "5fe5d435-d23a-44b0-b08f-59c5068226b8",
   "metadata": {},
   "outputs": [
    {
     "name": "stderr",
     "output_type": "stream",
     "text": [
      "Loading members data: 100%|████████████████████████████████████████████████████████████████████████████████████████████████████████████████████████████████████████████████| 1/1 [00:06<00:00,  6.53s/it]\n"
     ]
    },
    {
     "name": "stdout",
     "output_type": "stream",
     "text": [
      "done members!\n"
     ]
    },
    {
     "name": "stderr",
     "output_type": "stream",
     "text": [
      "Loading transactions data: 100%|███████████████████████████████████████████████████████████████████████████████████████████████████████████████████████████████████████████| 1/1 [00:00<00:00,  1.34it/s]\n"
     ]
    },
    {
     "name": "stdout",
     "output_type": "stream",
     "text": [
      "done tx silver!\n"
     ]
    },
    {
     "name": "stderr",
     "output_type": "stream",
     "text": [
      "Loading user logs data: 100%|██████████████████████████████████████████████████████████████████████████████████████████████████████████████████████████████████████████████| 1/1 [00:00<00:00,  1.43it/s]"
     ]
    },
    {
     "name": "stdout",
     "output_type": "stream",
     "text": [
      "done logs!\n"
     ]
    },
    {
     "name": "stderr",
     "output_type": "stream",
     "text": [
      "\n"
     ]
    }
   ],
   "source": [
    "# ### Ingesting data from Google Cloud Storage\n",
    "\n",
    "bucket_name = \"cs611_mle\"\n",
    "members_path_in_bucket = \"Bronze Layer/bronze_members.csv\"\n",
    "transactions_path_in_bucket = \"Silver Layer/silver_transactions.csv\"\n",
    "user_logs_path_in_bucket = \"Bronze Layer/df_user_logs.csv\"\n",
    "\n",
    "members_gcs_path = f\"gs://{bucket_name}/{members_path_in_bucket}\"\n",
    "transactions_gcs_path = f\"gs://{bucket_name}/{transactions_path_in_bucket}\"\n",
    "user_logs_gcs_path = f\"gs://{bucket_name}/{user_logs_path_in_bucket}\"\n",
    "\n",
    "# Loading members\n",
    "for _ in tqdm(range(1), desc=\"Loading members data\"):\n",
    "    df_members = spark.read.option(\"header\", \"true\").csv(members_gcs_path)\n",
    "    time.sleep(0.2)  # simulate a load delay\n",
    "print(\"done members!\")\n",
    "\n",
    "# Loading transactions\n",
    "for _ in tqdm(range(1), desc=\"Loading transactions data\"):\n",
    "    df_transaction_silver = spark.read.option(\"header\", \"true\").csv(transactions_gcs_path)\n",
    "    time.sleep(0.2)\n",
    "print(\"done tx silver!\")\n",
    "\n",
    "# Loading user logs\n",
    "for _ in tqdm(range(1), desc=\"Loading user logs data\"):\n",
    "    df_user_logs = spark.read.option(\"header\", \"true\").csv(user_logs_gcs_path)\n",
    "    time.sleep(0.2)\n",
    "print(\"done logs!\")"
   ]
  },
  {
   "cell_type": "code",
   "execution_count": 5,
   "id": "ec19008b-d9a9-4842-8db2-9273c41ae837",
   "metadata": {},
   "outputs": [],
   "source": [
    "# df_members = pd.read_csv(r'Bronze\\Bronze Layer_bronze_members.csv', index_col=0)\n",
    "# df_members.index.name = None\n",
    "# df_members.head()"
   ]
  },
  {
   "cell_type": "code",
   "execution_count": 6,
   "id": "0c3b783b-c2b2-49c9-9d56-1b062b1b1ac7",
   "metadata": {},
   "outputs": [],
   "source": [
    "# df_user_logs = pd.read_csv(r'Bronze\\Bronze Layer_df_user_logs.csv', index_col=0)\n",
    "# df_user_logs.index.name = None\n",
    "# df_user_logs.head()"
   ]
  },
  {
   "cell_type": "markdown",
   "id": "f8913c2a-5345-420a-a9e8-e149760475ec",
   "metadata": {},
   "source": [
    "# Load from Silver Table"
   ]
  },
  {
   "cell_type": "code",
   "execution_count": 7,
   "id": "9326a3e6-debf-4531-91ef-aa6f12b85e80",
   "metadata": {},
   "outputs": [],
   "source": [
    "# df_transaction_silver = pd.read_csv(r'Silver\\Silver Layer_silver_transactions.csv')\n",
    "# df_transaction_silver.head()"
   ]
  },
  {
   "cell_type": "markdown",
   "id": "203a73e2-6819-4554-b7ae-381b40bac3f2",
   "metadata": {},
   "source": [
    "# Load from Gold Table"
   ]
  },
  {
   "cell_type": "code",
   "execution_count": 8,
   "id": "d74fd5b6-a99f-4fd6-a209-09ac2c3c9710",
   "metadata": {},
   "outputs": [],
   "source": [
    "# df_transaction_gold = pd.read_csv(r'Gold\\Gold Layer_labels.csv')\n",
    "# df_transaction_gold.head()"
   ]
  },
  {
   "cell_type": "markdown",
   "id": "7b27453c-5c00-43ec-a52c-3cc61dcbcec2",
   "metadata": {},
   "source": [
    "# EDA"
   ]
  },
  {
   "cell_type": "markdown",
   "id": "e789c578-5097-4cc7-bc35-b7c76a392c51",
   "metadata": {},
   "source": [
    "### Bronze Member"
   ]
  },
  {
   "cell_type": "code",
   "execution_count": 9,
   "id": "1fc9b292-b059-47cc-81f3-48f419c7d7fb",
   "metadata": {},
   "outputs": [
    {
     "name": "stdout",
     "output_type": "stream",
     "text": [
      "+--------------------+----+---+------+--------------+----------------------+\n",
      "|                msno|city| bd|gender|registered_via|registration_init_time|\n",
      "+--------------------+----+---+------+--------------+----------------------+\n",
      "|2dwuk0KQUnCnRvFnD...|   5|  0|female|             9|              20120309|\n",
      "|Bx13MoR+nVJVVDsat...|  13| 33|female|             7|              20130422|\n",
      "|2ouWnOhbWxdFyjEy8...|   1|  0|  NULL|             7|              20140629|\n",
      "|QvZtxnHz7yGh07QiF...|  13|  0|  NULL|             9|              20110528|\n",
      "|CUFR22oaKwIwzj4VM...|   5| 42|  male|             9|              20141128|\n",
      "+--------------------+----+---+------+--------------+----------------------+\n",
      "only showing top 5 rows\n",
      "\n"
     ]
    }
   ],
   "source": [
    "df_members = df_members.drop('Unnamed: 0')\n",
    "df_members.show(5) "
   ]
  },
  {
   "cell_type": "code",
   "execution_count": 10,
   "id": "61aa0e25-e5a5-4c75-be99-7bb755691170",
   "metadata": {},
   "outputs": [
    {
     "name": "stdout",
     "output_type": "stream",
     "text": [
      "+--------------------+----+---+------+--------------+----------------------+\n",
      "|                msno|city| bd|gender|registered_via|registration_init_time|\n",
      "+--------------------+----+---+------+--------------+----------------------+\n",
      "|2dwuk0KQUnCnRvFnD...|   5|  0|female|             9|            2012-03-09|\n",
      "|Bx13MoR+nVJVVDsat...|  13| 33|female|             7|            2013-04-22|\n",
      "|2ouWnOhbWxdFyjEy8...|   1|  0|  NULL|             7|            2014-06-29|\n",
      "|QvZtxnHz7yGh07QiF...|  13|  0|  NULL|             9|            2011-05-28|\n",
      "|CUFR22oaKwIwzj4VM...|   5| 42|  male|             9|            2014-11-28|\n",
      "+--------------------+----+---+------+--------------+----------------------+\n",
      "only showing top 5 rows\n",
      "\n"
     ]
    }
   ],
   "source": [
    "# Convert data type\n",
    "column_type_map = {\n",
    "    \"msno\":StringType(),\n",
    "    \"city\":IntegerType(),\n",
    "    \"bd\":IntegerType(),\n",
    "    \"gender\":StringType(),\n",
    "    \"registered_via\":IntegerType()\n",
    "}\n",
    "\n",
    "for column, new_type in column_type_map.items():\n",
    "    df_members = df_members.withColumn(column, col(column).cast(new_type))\n",
    "\n",
    "df_members = df_members.withColumn(\n",
    "    'registration_init_time',\n",
    "    to_date(col('registration_init_time').cast('string'), 'yyyyMMdd')\n",
    ")\n",
    "\n",
    "df_members.show(5)"
   ]
  },
  {
   "cell_type": "code",
   "execution_count": 11,
   "id": "fca2f58e-0880-4771-9920-d0a8263abb81",
   "metadata": {},
   "outputs": [
    {
     "name": "stderr",
     "output_type": "stream",
     "text": [
      "[Stage 5:=========>                                                 (1 + 5) / 6]"
     ]
    },
    {
     "name": "stdout",
     "output_type": "stream",
     "text": [
      "+----+----+---+------+--------------+----------------------+\n",
      "|msno|city| bd|gender|registered_via|registration_init_time|\n",
      "+----+----+---+------+--------------+----------------------+\n",
      "|   0|   0|  0|171532|             0|                     0|\n",
      "+----+----+---+------+--------------+----------------------+\n",
      "\n"
     ]
    },
    {
     "name": "stderr",
     "output_type": "stream",
     "text": [
      "                                                                                "
     ]
    }
   ],
   "source": [
    "df_members.select([\n",
    "    spark_sum(when(col(c).isNull(), 1).otherwise(0)).alias(c)\n",
    "    for c in df_members.columns\n",
    "]).show()"
   ]
  },
  {
   "cell_type": "markdown",
   "id": "319e8580-91fa-433b-be4c-97f48dc9b755",
   "metadata": {},
   "source": [
    "df_members consists of:\n",
    "<ul>\n",
    "    <li>msno = user ID, which is unique to each user and act as the primary key of this table</li>\n",
    "    <li>city = city number, represented in integer</li>\n",
    "    <li>gender = the gender of each user, but missing values are found</li>\n",
    "    <li>registered_via = registration platform number, represented in integer</li>\n",
    "    <li>registration_init_time = format %Y%m%d</li>\n",
    "</ul>"
   ]
  },
  {
   "cell_type": "code",
   "execution_count": 12,
   "id": "cd4beb3a-ca18-49d4-9581-1523c0d15585",
   "metadata": {},
   "outputs": [
    {
     "name": "stderr",
     "output_type": "stream",
     "text": [
      "[Stage 8:=========>                                                 (1 + 5) / 6]"
     ]
    },
    {
     "name": "stdout",
     "output_type": "stream",
     "text": [
      "+--------------------+-----+\n",
      "|                msno|count|\n",
      "+--------------------+-----+\n",
      "|56eGEJNiqLau6XF2c...|    1|\n",
      "|qu8A0WStTjGumcstJ...|    1|\n",
      "|FvfpM752t9Y1xhcYa...|    1|\n",
      "|jjIzcIhq+Ifp5hbeo...|    1|\n",
      "|kXwWZ/Y6c3caO6VMY...|    1|\n",
      "|zrvS8dzTDvIV/Xmw7...|    1|\n",
      "|reb2FdX8ywFLUUrvV...|    1|\n",
      "|0P4OB7S70U3aRvxji...|    1|\n",
      "|fGKbFFMT2OgrU1LEo...|    1|\n",
      "|mvLz5BoTIrr4U3TAO...|    1|\n",
      "|lTl2ZcMDz0yYNWyWc...|    1|\n",
      "|MFrXvRHqDAQRs5Ds4...|    1|\n",
      "|MqnwveJPAAKCrCw19...|    1|\n",
      "|0tsq/0BMVC1b8Plh6...|    1|\n",
      "|IqTyJXZ+F4E4NLZRF...|    1|\n",
      "|uQzzyNDy4Yv5izI+J...|    1|\n",
      "|FCmkX11ejjOxqPMFX...|    1|\n",
      "|/mwfdTn+VnKfu7x4A...|    1|\n",
      "|03IqrK+EK6PfP8FmU...|    1|\n",
      "|cz2/dSALRip2azsi2...|    1|\n",
      "+--------------------+-----+\n",
      "only showing top 20 rows\n",
      "\n"
     ]
    },
    {
     "name": "stderr",
     "output_type": "stream",
     "text": [
      "                                                                                "
     ]
    }
   ],
   "source": [
    "# ============ msno =======\n",
    "df_members.groupBy('msno').count().orderBy('count', ascending=False).show()"
   ]
  },
  {
   "cell_type": "code",
   "execution_count": 13,
   "id": "7dd369c7-5d75-4e55-a616-579e36f997d3",
   "metadata": {},
   "outputs": [
    {
     "name": "stdout",
     "output_type": "stream",
     "text": [
      "+----+------+\n",
      "|city| count|\n",
      "+----+------+\n",
      "|   1|170876|\n",
      "|  13| 28413|\n",
      "|   5| 23388|\n",
      "|   4| 15424|\n",
      "|  22| 13012|\n",
      "|  15| 12703|\n",
      "|   6|  7911|\n",
      "|  14|  5908|\n",
      "|  12|  3761|\n",
      "|   9|  3049|\n",
      "|  11|  2689|\n",
      "|   8|  2472|\n",
      "|  18|  2347|\n",
      "|  10|  2080|\n",
      "|  21|  1583|\n",
      "|  17|  1579|\n",
      "|   3|  1538|\n",
      "|   7|   760|\n",
      "|  16|   235|\n",
      "|  20|   219|\n",
      "+----+------+\n",
      "only showing top 20 rows\n",
      "\n"
     ]
    }
   ],
   "source": [
    "# ============ city =======\n",
    "city_counts = df_members.groupBy('city').count().orderBy('count', ascending=False)\n",
    "city_counts.show()"
   ]
  },
  {
   "cell_type": "code",
   "execution_count": 14,
   "id": "75facb56-c4f2-46c0-b730-b4c6b75636bd",
   "metadata": {},
   "outputs": [
    {
     "name": "stderr",
     "output_type": "stream",
     "text": [
      "                                                                                "
     ]
    },
    {
     "data": {
      "image/png": "[encoded data removed]",
      "text/plain": [
       "<Figure size 800x600 with 1 Axes>"
      ]
     },
     "metadata": {},
     "output_type": "display_data"
    }
   ],
   "source": [
    "pd_member = df_members.toPandas()\n",
    "pd_member['city'] = pd_member['city'].astype(int)\n",
    "\n",
    "# Create plot\n",
    "plt.figure(figsize=(8, 6))\n",
    "ax = sns.countplot(pd_member, x = 'city')\n",
    "\n",
    "# Add count labels on top of bars\n",
    "for p in ax.patches:\n",
    "    count = int(p.get_height())\n",
    "    ax.annotate(f'{count}', \n",
    "                (p.get_x() + p.get_width() / 2., p.get_height()), \n",
    "                ha='center', va='bottom', fontsize=10)\n",
    "\n",
    "plt.title('User Count by City Number')\n",
    "plt.xlabel('City')\n",
    "plt.ylabel('Number of Users')\n",
    "plt.tight_layout()\n",
    "plt.show()\n",
    "\n",
    "# Some cities has low values in number of users, bucketize low values"
   ]
  },
  {
   "cell_type": "code",
   "execution_count": 15,
   "id": "45faf58c-ba63-4bde-a364-61ae40ba6825",
   "metadata": {},
   "outputs": [
    {
     "name": "stdout",
     "output_type": "stream",
     "text": [
      "+---+------+\n",
      "| bd| count|\n",
      "+---+------+\n",
      "|  0|172938|\n",
      "| 27|  7476|\n",
      "| 26|  7041|\n",
      "| 25|  6811|\n",
      "| 24|  6768|\n",
      "| 23|  6397|\n",
      "| 28|  6303|\n",
      "| 29|  6220|\n",
      "| 22|  5908|\n",
      "| 30|  5333|\n",
      "| 21|  5026|\n",
      "| 32|  4698|\n",
      "| 31|  4685|\n",
      "| 20|  4305|\n",
      "| 33|  4272|\n",
      "| 34|  3846|\n",
      "| 35|  3427|\n",
      "| 36|  3193|\n",
      "| 19|  3192|\n",
      "| 37|  3053|\n",
      "+---+------+\n",
      "only showing top 20 rows\n",
      "\n"
     ]
    }
   ],
   "source": [
    "# ============ bd/age =======\n",
    "df_members.groupBy('bd').count().orderBy('count', ascending=False).show()"
   ]
  },
  {
   "cell_type": "code",
   "execution_count": 16,
   "id": "a1b4b9ae-af0f-41ce-8771-9dc02eec9acb",
   "metadata": {},
   "outputs": [
    {
     "data": {
      "image/png": "[encoded data removed]",
      "text/plain": [
       "<Figure size 800x600 with 1 Axes>"
      ]
     },
     "metadata": {},
     "output_type": "display_data"
    }
   ],
   "source": [
    "pd_member['bd'] = pd_member['bd'].astype(int)\n",
    "\n",
    "\n",
    "bins = [-float('inf'), 0, 12, 19, 30, 60, 100, float('inf')]\n",
    "labels = ['<=0', '1-12', '13-19', '20-30', '31-60', '60-100', '100+']\n",
    "\n",
    "# Compute temporary binned Series\n",
    "bd_bin = pd.cut(pd_member['bd'], bins=bins, labels=labels)\n",
    "\n",
    "# Create plot\n",
    "plt.figure(figsize=(8, 6))\n",
    "ax = sns.countplot(x=bd_bin, order=labels)\n",
    "\n",
    "# Add count labels on top of bars\n",
    "for p in ax.patches:\n",
    "    count = int(p.get_height())\n",
    "    ax.annotate(f'{count}', \n",
    "                (p.get_x() + p.get_width() / 2., p.get_height()), \n",
    "                ha='center', va='bottom', fontsize=10)\n",
    "\n",
    "plt.title('User Count by Age Bin (bd)')\n",
    "plt.xlabel('Age Bin')\n",
    "plt.ylabel('Number of Users')\n",
    "plt.tight_layout()\n",
    "plt.show()"
   ]
  },
  {
   "cell_type": "code",
   "execution_count": 17,
   "id": "f172b579-3828-456a-9951-c861376ddcd7",
   "metadata": {},
   "outputs": [
    {
     "name": "stdout",
     "output_type": "stream",
     "text": [
      "+--------------------+----+------+--------------+----------------------+\n",
      "|                msno|city|gender|registered_via|registration_init_time|\n",
      "+--------------------+----+------+--------------+----------------------+\n",
      "|2dwuk0KQUnCnRvFnD...|   5|female|             9|            2012-03-09|\n",
      "|Bx13MoR+nVJVVDsat...|  13|female|             7|            2013-04-22|\n",
      "|2ouWnOhbWxdFyjEy8...|   1|  NULL|             7|            2014-06-29|\n",
      "|QvZtxnHz7yGh07QiF...|  13|  NULL|             9|            2011-05-28|\n",
      "|CUFR22oaKwIwzj4VM...|   5|  male|             9|            2014-11-28|\n",
      "+--------------------+----+------+--------------+----------------------+\n",
      "only showing top 5 rows\n",
      "\n"
     ]
    }
   ],
   "source": [
    "# Drop age because it has lots of invalid data\n",
    "df_members = df_members.drop('bd')\n",
    "df_members.show(5)"
   ]
  },
  {
   "cell_type": "code",
   "execution_count": 18,
   "id": "4b0737ab-3e95-4817-8d48-2335785224b6",
   "metadata": {},
   "outputs": [
    {
     "name": "stdout",
     "output_type": "stream",
     "text": [
      "+------+\n",
      "|gender|\n",
      "+------+\n",
      "|female|\n",
      "|  male|\n",
      "|  NULL|\n",
      "+------+\n",
      "\n"
     ]
    }
   ],
   "source": [
    "# ============ gender ==============\n",
    "df_members.select('gender').distinct().show()"
   ]
  },
  {
   "cell_type": "code",
   "execution_count": 19,
   "id": "3d180438-9361-4ceb-9160-9737da80612c",
   "metadata": {},
   "outputs": [
    {
     "name": "stdout",
     "output_type": "stream",
     "text": [
      "+------+------+\n",
      "|gender| count|\n",
      "+------+------+\n",
      "|  NULL|171532|\n",
      "|  male| 65635|\n",
      "|female| 62833|\n",
      "+------+------+\n",
      "\n"
     ]
    }
   ],
   "source": [
    "df_members.groupBy('gender').count().orderBy('count', ascending=False).show()"
   ]
  },
  {
   "cell_type": "code",
   "execution_count": 20,
   "id": "49511d6a-4fd9-4c10-a576-8b7a73f4d903",
   "metadata": {},
   "outputs": [
    {
     "name": "stdout",
     "output_type": "stream",
     "text": [
      "+------+------+\n",
      "|gender| count|\n",
      "+------+------+\n",
      "|    na|171532|\n",
      "|  male| 65635|\n",
      "|female| 62833|\n",
      "+------+------+\n",
      "\n"
     ]
    }
   ],
   "source": [
    "df_members = df_members.fillna({'gender': 'na'})\n",
    "df_members.groupBy('gender').count().orderBy('count', ascending=False).show()"
   ]
  },
  {
   "cell_type": "code",
   "execution_count": 21,
   "id": "4a2d3648-2a6e-4767-9642-aa6de33b8b4a",
   "metadata": {},
   "outputs": [
    {
     "name": "stdout",
     "output_type": "stream",
     "text": [
      "+--------------+------+\n",
      "|registered_via| count|\n",
      "+--------------+------+\n",
      "|             7|100050|\n",
      "|             9| 75857|\n",
      "|             4| 67518|\n",
      "|             3| 55475|\n",
      "|            11|   534|\n",
      "|            13|   241|\n",
      "|             8|    91|\n",
      "|             5|    79|\n",
      "|            17|    38|\n",
      "|             2|    34|\n",
      "|             6|    27|\n",
      "|            16|    23|\n",
      "|            19|    20|\n",
      "|            14|    12|\n",
      "|            10|     1|\n",
      "+--------------+------+\n",
      "\n"
     ]
    }
   ],
   "source": [
    "# ============ registered_via ============\n",
    "df_members.groupBy('registered_via').count().orderBy('count', ascending=False).show()"
   ]
  },
  {
   "cell_type": "code",
   "execution_count": 22,
   "id": "45e07875-6fcf-436a-97da-9f9c34f3a19b",
   "metadata": {},
   "outputs": [
    {
     "data": {
      "image/png": "[encoded data removed]",
      "text/plain": [
       "<Figure size 800x600 with 1 Axes>"
      ]
     },
     "metadata": {},
     "output_type": "display_data"
    }
   ],
   "source": [
    "pd_member['registered_via'] = pd_member['registered_via'].astype(int)\n",
    "\n",
    "# Create plot\n",
    "plt.figure(figsize=(8, 6))\n",
    "ax = sns.countplot(pd_member, x = 'registered_via')\n",
    "\n",
    "# Add count labels on top of bars\n",
    "for p in ax.patches:\n",
    "    count = int(p.get_height())\n",
    "    ax.annotate(f'{count}', \n",
    "                (p.get_x() + p.get_width() / 2., p.get_height()), \n",
    "                ha='center', va='bottom', fontsize=10)\n",
    "\n",
    "plt.title('User Count by Registration Platform')\n",
    "plt.xlabel('Registration Platform')\n",
    "plt.ylabel('Number of Users')\n",
    "plt.tight_layout()\n",
    "plt.show()\n",
    "\n",
    "# Some platform has low values in number of users, bucketize low values"
   ]
  },
  {
   "cell_type": "markdown",
   "id": "0cdfaa37-d3b5-4f15-9a12-145457fa85f2",
   "metadata": {},
   "source": [
    "### df_user_logs"
   ]
  },
  {
   "cell_type": "code",
   "execution_count": 23,
   "id": "d401d5d9-93b8-48c7-8c4e-ffdbbc6f14e3",
   "metadata": {},
   "outputs": [
    {
     "name": "stdout",
     "output_type": "stream",
     "text": [
      "+--------------------+--------+------+------+------+-------+-------+-------+----------+\n",
      "|                msno|    date|num_25|num_50|num_75|num_985|num_100|num_unq|total_secs|\n",
      "+--------------------+--------+------+------+------+-------+-------+-------+----------+\n",
      "|mSM/P4XpWcuQUGnhL...|20150207|     0|     0|     0|      1|     54|     55| 15457.387|\n",
      "|mSM/P4XpWcuQUGnhL...|20150522|    15|     0|     0|      1|      3|     14|  1227.711|\n",
      "|mSM/P4XpWcuQUGnhL...|20151114|     6|     0|     0|      0|      3|      9|    782.02|\n",
      "|mSM/P4XpWcuQUGnhL...|20160827|     0|     0|     2|      0|      4|      5|  1416.413|\n",
      "|mSM/P4XpWcuQUGnhL...|20170225|     0|     0|     1|      0|      5|      6|  1526.661|\n",
      "+--------------------+--------+------+------+------+-------+-------+-------+----------+\n",
      "only showing top 5 rows\n",
      "\n"
     ]
    }
   ],
   "source": [
    "df_user_logs = df_user_logs.drop('Unnamed: 0')\n",
    "df_user_logs.show(5)"
   ]
  },
  {
   "cell_type": "code",
   "execution_count": 24,
   "id": "c24a5594-3adc-4ef7-88fb-aeb5d72f0edd",
   "metadata": {},
   "outputs": [
    {
     "name": "stdout",
     "output_type": "stream",
     "text": [
      "+--------------------+----------+------+------+------+-------+-------+-------+----------+\n",
      "|                msno|      date|num_25|num_50|num_75|num_985|num_100|num_unq|total_secs|\n",
      "+--------------------+----------+------+------+------+-------+-------+-------+----------+\n",
      "|mSM/P4XpWcuQUGnhL...|2015-02-07|     0|     0|     0|      1|     54|     55| 15457.387|\n",
      "|mSM/P4XpWcuQUGnhL...|2015-05-22|    15|     0|     0|      1|      3|     14|  1227.711|\n",
      "|mSM/P4XpWcuQUGnhL...|2015-11-14|     6|     0|     0|      0|      3|      9|    782.02|\n",
      "|mSM/P4XpWcuQUGnhL...|2016-08-27|     0|     0|     2|      0|      4|      5|  1416.413|\n",
      "|mSM/P4XpWcuQUGnhL...|2017-02-25|     0|     0|     1|      0|      5|      6|  1526.661|\n",
      "+--------------------+----------+------+------+------+-------+-------+-------+----------+\n",
      "only showing top 5 rows\n",
      "\n"
     ]
    }
   ],
   "source": [
    "# Convert data type\n",
    "column_type_map = {\n",
    "    \"msno\":StringType(),\n",
    "    \"num_25\":IntegerType(),\n",
    "    \"num_50\":IntegerType(),\n",
    "    \"num_75\":IntegerType(),\n",
    "    \"num_985\":IntegerType(),\n",
    "    \"num_100\":IntegerType(),\n",
    "    \"num_unq\":IntegerType(),\n",
    "    \"total_secs\":FloatType()\n",
    "}\n",
    "\n",
    "for column, new_type in column_type_map.items():\n",
    "    df_user_logs = df_user_logs.withColumn(column, col(column).cast(new_type))\n",
    "\n",
    "df_user_logs = df_user_logs.withColumn(\n",
    "    'date',\n",
    "    to_date(col('date').cast('string'), 'yyyyMMdd')\n",
    ")\n",
    "\n",
    "df_user_logs.show(5)"
   ]
  },
  {
   "cell_type": "code",
   "execution_count": 25,
   "id": "c9c3292b-f0ff-4e34-9dc8-5f9c63ce46a1",
   "metadata": {},
   "outputs": [
    {
     "name": "stderr",
     "output_type": "stream",
     "text": [
      "                                                                                "
     ]
    },
    {
     "name": "stdout",
     "output_type": "stream",
     "text": [
      "+---+-----+\n",
      "|min|  max|\n",
      "+---+-----+\n",
      "|  0|18798|\n",
      "+---+-----+\n",
      "\n"
     ]
    }
   ],
   "source": [
    "# ========== num_25 ===========\n",
    "df_user_logs.select(\n",
    "    min('num_25').alias('min'),\n",
    "    max('num_25').alias('max')\n",
    ").show()"
   ]
  },
  {
   "cell_type": "code",
   "execution_count": 26,
   "id": "cf9378d4-a7ab-49e1-ac98-6b91beab8b7f",
   "metadata": {},
   "outputs": [],
   "source": [
    "# df_user_logs['num_25'].plot(kind='box')"
   ]
  },
  {
   "cell_type": "code",
   "execution_count": 27,
   "id": "0d6a5a2d-28f6-49f2-a63e-181ac00ae238",
   "metadata": {},
   "outputs": [
    {
     "name": "stderr",
     "output_type": "stream",
     "text": [
      "[Stage 39:=========================================>              (11 + 4) / 15]"
     ]
    },
    {
     "name": "stdout",
     "output_type": "stream",
     "text": [
      "+--------------------+----------+------+------+------+-------+-------+-------+----------+\n",
      "|                msno|      date|num_25|num_50|num_75|num_985|num_100|num_unq|total_secs|\n",
      "+--------------------+----------+------+------+------+-------+-------+-------+----------+\n",
      "|rKYAG23CgaGX50gm+...|2016-01-09| 18798|   732|   688|   1504|   3616|   1118| 1494483.0|\n",
      "|rKYAG23CgaGX50gm+...|2015-12-21| 16465|   626|   602|   1282|   3046|   1077| 1270916.4|\n",
      "|rKYAG23CgaGX50gm+...|2015-12-31| 18733|   729|   685|   1499|   3615|   1101| 1491900.1|\n",
      "+--------------------+----------+------+------+------+-------+-------+-------+----------+\n",
      "\n"
     ]
    },
    {
     "name": "stderr",
     "output_type": "stream",
     "text": [
      "                                                                                "
     ]
    }
   ],
   "source": [
    "df_user_logs.filter(col('num_25') > 12500).show()\n",
    "# Outliers found\n",
    "# and found high total secs "
   ]
  },
  {
   "cell_type": "code",
   "execution_count": 28,
   "id": "dce5ec92-eb44-4e76-9c8d-767e33014647",
   "metadata": {},
   "outputs": [
    {
     "name": "stderr",
     "output_type": "stream",
     "text": [
      "[Stage 40:======================================================> (39 + 1) / 40]"
     ]
    },
    {
     "name": "stdout",
     "output_type": "stream",
     "text": [
      "+---+----+\n",
      "|min| max|\n",
      "+---+----+\n",
      "|  0|1262|\n",
      "+---+----+\n",
      "\n"
     ]
    },
    {
     "name": "stderr",
     "output_type": "stream",
     "text": [
      "                                                                                "
     ]
    }
   ],
   "source": [
    "# ========== num_50 ===========\n",
    "df_user_logs.select(\n",
    "    min('num_50').alias('min'),\n",
    "    max('num_50').alias('max')\n",
    ").show()"
   ]
  },
  {
   "cell_type": "code",
   "execution_count": 29,
   "id": "f6e9b57a-86a6-4a5a-8c17-77cef5326b24",
   "metadata": {},
   "outputs": [],
   "source": [
    "# df_user_logs['num_50'].plot(kind='box')"
   ]
  },
  {
   "cell_type": "code",
   "execution_count": 30,
   "id": "bc93ca86-2f22-4680-a853-dba60b25b0d5",
   "metadata": {},
   "outputs": [
    {
     "name": "stderr",
     "output_type": "stream",
     "text": [
      "[Stage 46:================================================>       (13 + 2) / 15]"
     ]
    },
    {
     "name": "stdout",
     "output_type": "stream",
     "text": [
      "+--------------------+----------+------+------+------+-------+-------+-------+----------+\n",
      "|                msno|      date|num_25|num_50|num_75|num_985|num_100|num_unq|total_secs|\n",
      "+--------------------+----------+------+------+------+-------+-------+-------+----------+\n",
      "|UEX+mLrHrdvNVyWht...|2016-06-10|    40|   878|   157|     10|     25|   1083| 110642.67|\n",
      "|rKYAG23CgaGX50gm+...|2016-01-09| 18798|   732|   688|   1504|   3616|   1118| 1494483.0|\n",
      "|QNgOsoH8vYW4oG8/D...|2016-01-22|    18|   756|     1|      0|     60|     66| 37085.777|\n",
      "|ekeasY63OvmQVV07d...|2016-04-04|   145|   746|    81|     15|      3|    974|  83527.66|\n",
      "|mET6TKheEo/3QCyTw...|2015-12-29|   466|   760|   188|     25|      4|    937| 115769.37|\n",
      "|SlhrdGRlvKRryBe+r...|2017-02-27|   581|   938|   547|     98|     64|   1792| 203545.61|\n",
      "|iwzBdXs+JXTV+HNUI...|2016-08-16|   334|   702|   202|     12|      8|   1117|  95003.53|\n",
      "|Yt0/tZ20o3qWMUhgm...|2016-08-27|   256|   872|    94|     11|      7|   1142| 104657.91|\n",
      "|V0tc4VtZiWQbVJhAy...|2016-08-09|   171|   821|   160|     26|     15|   1132|  102284.8|\n",
      "|ug9mLgENj27p9qsAN...|2016-02-21|     5|   789|     3|      4|     22|     13| 28870.951|\n",
      "|66knEhIHmSFn/nuhf...|2015-12-16|   394|   866|    89|      7|    155|   1215| 130541.16|\n",
      "|QoFAmp2fa5ob5YV3f...|2015-08-26|   620|   733|   271|     23|      5|   1596| 118012.54|\n",
      "|09IeH2GZi8lHm2pIn...|2015-04-08|   501|  1262|    47|     14|     21|   1524| 113331.22|\n",
      "|rKYAG23CgaGX50gm+...|2015-12-31| 18733|   729|   685|   1499|   3615|   1101| 1491900.1|\n",
      "|lQdMtm4gWQ0LtaOaD...|2017-03-26|   896|   912|   419|    128|    169|   1666| 234598.88|\n",
      "+--------------------+----------+------+------+------+-------+-------+-------+----------+\n",
      "\n"
     ]
    },
    {
     "name": "stderr",
     "output_type": "stream",
     "text": [
      "                                                                                "
     ]
    }
   ],
   "source": [
    "df_user_logs.filter(col('num_50') > 700).show()\n",
    "# Outliers found\n",
    "# and found high total secs"
   ]
  },
  {
   "cell_type": "code",
   "execution_count": 31,
   "id": "b45927aa-fd79-4c5e-b85f-019948715bf4",
   "metadata": {},
   "outputs": [
    {
     "name": "stderr",
     "output_type": "stream",
     "text": [
      "[Stage 47:=====================================================>  (38 + 2) / 40]"
     ]
    },
    {
     "name": "stdout",
     "output_type": "stream",
     "text": [
      "+---+---+\n",
      "|min|max|\n",
      "+---+---+\n",
      "|  0|688|\n",
      "+---+---+\n",
      "\n"
     ]
    },
    {
     "name": "stderr",
     "output_type": "stream",
     "text": [
      "                                                                                "
     ]
    }
   ],
   "source": [
    "# ========== num_75 ===========\n",
    "df_user_logs.select(\n",
    "    min('num_75').alias('min'),\n",
    "    max('num_75').alias('max')\n",
    ").show()"
   ]
  },
  {
   "cell_type": "code",
   "execution_count": 32,
   "id": "57036835-7b77-48fa-b1c3-b5e0ae50bf82",
   "metadata": {},
   "outputs": [],
   "source": [
    "# df_user_logs['num_75'].plot(kind='box')"
   ]
  },
  {
   "cell_type": "code",
   "execution_count": 33,
   "id": "3a00ef4a-28e3-4176-9e31-9f6b9d3eaa34",
   "metadata": {},
   "outputs": [
    {
     "name": "stderr",
     "output_type": "stream",
     "text": [
      "[Stage 53:====================================================>   (14 + 1) / 15]"
     ]
    },
    {
     "name": "stdout",
     "output_type": "stream",
     "text": [
      "+--------------------+----------+------+------+------+-------+-------+-------+----------+\n",
      "|                msno|      date|num_25|num_50|num_75|num_985|num_100|num_unq|total_secs|\n",
      "+--------------------+----------+------+------+------+-------+-------+-------+----------+\n",
      "|jFIwWiGrgAsFzSx8A...|2016-02-03|   115|   188|   434|    548|     31|   1246| 213323.72|\n",
      "|Tz719FG9HJ7Em/ypX...|2015-10-20|    47|   109|   488|    178|     40|    758|122414.414|\n",
      "|rKYAG23CgaGX50gm+...|2016-01-09| 18798|   732|   688|   1504|   3616|   1118| 1494483.0|\n",
      "|KLU7vNQihy2D9Y6yl...|2016-02-13|   328|   424|   408|     40|     35|   1139| 120227.26|\n",
      "|jFIwWiGrgAsFzSx8A...|2015-12-20|    84|   139|   466|    329|     10|    977| 162065.69|\n",
      "|SlhrdGRlvKRryBe+r...|2017-02-27|   581|   938|   547|     98|     64|   1792| 203545.61|\n",
      "|i4/GC0Jfd08UId3Lz...|2016-07-07|    56|   104|   435|    198|     16|    776| 126747.21|\n",
      "|i4/GC0Jfd08UId3Lz...|2016-07-08|    80|    68|   415|    215|     23|    741| 127033.59|\n",
      "|W9r/0x5PBM3c5xRH0...|2015-07-21|   368|    46|   455|    139|    117|    985| 134495.22|\n",
      "|MhTMQPgZTx+v6WBRB...|2015-10-14|   201|    44|   417|      5|     10|    276|  61747.23|\n",
      "|rKYAG23CgaGX50gm+...|2015-12-21| 16465|   626|   602|   1282|   3046|   1077| 1270916.4|\n",
      "|gaAaoVovcypcJrhtJ...|2016-10-16|    88|   250|   434|     48|     63|    811|110069.375|\n",
      "|jEmXmTYFfwjOnDd48...|2016-06-16|   160|   189|   412|     83|     12|    739| 110320.51|\n",
      "|rKYAG23CgaGX50gm+...|2015-12-31| 18733|   729|   685|   1499|   3615|   1101| 1491900.1|\n",
      "|lQdMtm4gWQ0LtaOaD...|2017-03-26|   896|   912|   419|    128|    169|   1666| 234598.88|\n",
      "+--------------------+----------+------+------+------+-------+-------+-------+----------+\n",
      "\n"
     ]
    },
    {
     "name": "stderr",
     "output_type": "stream",
     "text": [
      "                                                                                "
     ]
    }
   ],
   "source": [
    "df_user_logs.filter(col('num_75') > 400).show()\n",
    "# Outliers found\n",
    "# and found high total secs"
   ]
  },
  {
   "cell_type": "code",
   "execution_count": 34,
   "id": "d7e4a2a9-1733-4abf-82d9-c16df8b54ceb",
   "metadata": {},
   "outputs": [
    {
     "name": "stderr",
     "output_type": "stream",
     "text": [
      "[Stage 54:=================================================>      (35 + 5) / 40]"
     ]
    },
    {
     "name": "stdout",
     "output_type": "stream",
     "text": [
      "+---+----+\n",
      "|min| max|\n",
      "+---+----+\n",
      "|  0|2747|\n",
      "+---+----+\n",
      "\n"
     ]
    },
    {
     "name": "stderr",
     "output_type": "stream",
     "text": [
      "                                                                                "
     ]
    }
   ],
   "source": [
    "# ========== num_985 ===========\n",
    "df_user_logs.select(\n",
    "    min('num_985').alias('min'),\n",
    "    max('num_985').alias('max')\n",
    ").show()"
   ]
  },
  {
   "cell_type": "code",
   "execution_count": 35,
   "id": "8732ae7c-a629-41f3-9e26-c5b0f45f37cf",
   "metadata": {},
   "outputs": [],
   "source": [
    "# df_user_logs['num_985'].plot(kind='box')"
   ]
  },
  {
   "cell_type": "code",
   "execution_count": 36,
   "id": "cf308ce4-d6e3-4de2-b98e-4754982aaa4a",
   "metadata": {},
   "outputs": [
    {
     "name": "stderr",
     "output_type": "stream",
     "text": [
      "[Stage 60:================================================>       (13 + 2) / 15]"
     ]
    },
    {
     "name": "stdout",
     "output_type": "stream",
     "text": [
      "+--------------------+----------+------+------+------+-------+-------+-------+----------+\n",
      "|                msno|      date|num_25|num_50|num_75|num_985|num_100|num_unq|total_secs|\n",
      "+--------------------+----------+------+------+------+-------+-------+-------+----------+\n",
      "|enqAew7Ekiu8s3QXl...|2016-11-28|     0|     0|     0|   2417|      6|      2|   49864.0|\n",
      "|enqAew7Ekiu8s3QXl...|2016-12-02|    10|     1|     0|   2516|      9|     17| 52729.625|\n",
      "|76jXST/+vmVgHwOs7...|2015-04-04|     0|     0|     0|   1617|    886|      3|  74927.42|\n",
      "|76jXST/+vmVgHwOs7...|2015-02-15|     0|     0|     0|   1603|   1345|      3|  88374.06|\n",
      "|76jXST/+vmVgHwOs7...|2015-04-15|     0|     0|     0|   1695|   1391|      3|  92483.99|\n",
      "|76jXST/+vmVgHwOs7...|2015-02-22|     0|     0|     0|   2747|   2912|      3| 169357.12|\n",
      "|76jXST/+vmVgHwOs7...|2015-02-23|     0|     0|     0|   1692|   1046|      3| 81965.484|\n",
      "|76jXST/+vmVgHwOs7...|2015-03-12|     0|     0|     0|   1671|   1283|      3|  88615.59|\n",
      "|76jXST/+vmVgHwOs7...|2015-01-24|     0|     0|     0|   1636|   1015|      3|  79433.59|\n",
      "+--------------------+----------+------+------+------+-------+-------+-------+----------+\n",
      "\n"
     ]
    },
    {
     "name": "stderr",
     "output_type": "stream",
     "text": [
      "                                                                                "
     ]
    }
   ],
   "source": [
    "df_user_logs.filter(col('num_985') > 1600).show()\n",
    "# Outliers found\n",
    "# and found high total secs"
   ]
  },
  {
   "cell_type": "code",
   "execution_count": 37,
   "id": "7eca0465-e15f-49ef-baa5-94b991e20f06",
   "metadata": {},
   "outputs": [
    {
     "name": "stderr",
     "output_type": "stream",
     "text": [
      "[Stage 61:======================================================> (39 + 1) / 40]"
     ]
    },
    {
     "name": "stdout",
     "output_type": "stream",
     "text": [
      "+---+-----+\n",
      "|min|  max|\n",
      "+---+-----+\n",
      "|  0|20172|\n",
      "+---+-----+\n",
      "\n"
     ]
    },
    {
     "name": "stderr",
     "output_type": "stream",
     "text": [
      "                                                                                "
     ]
    }
   ],
   "source": [
    "# ========== num_100 ===========\n",
    "df_user_logs.select(\n",
    "    min('num_100').alias('min'),\n",
    "    max('num_100').alias('max')\n",
    ").show()"
   ]
  },
  {
   "cell_type": "code",
   "execution_count": 38,
   "id": "dc3db15c-1a41-4c69-80c4-c6e5da371e58",
   "metadata": {},
   "outputs": [],
   "source": [
    "# df_user_logs['num_100'].plot(kind='box')"
   ]
  },
  {
   "cell_type": "code",
   "execution_count": 39,
   "id": "0793746e-3be6-4b27-ac78-8d13aedc438e",
   "metadata": {},
   "outputs": [
    {
     "name": "stderr",
     "output_type": "stream",
     "text": [
      "[Stage 67:================================================>       (13 + 2) / 15]"
     ]
    },
    {
     "name": "stdout",
     "output_type": "stream",
     "text": [
      "+--------------------+----------+------+------+------+-------+-------+-------+----------+\n",
      "|                msno|      date|num_25|num_50|num_75|num_985|num_100|num_unq|total_secs|\n",
      "+--------------------+----------+------+------+------+-------+-------+-------+----------+\n",
      "|bz8tM5vSCAg992wnQ...|2016-03-22|    95|    55|    34|    450|  11213|   2272| 2708302.0|\n",
      "|ZxWDBRckGEs3+L8qW...|2016-07-20|   115|    19|    15|     19|   7758|    978| 1576668.6|\n",
      "|aeW+ms5r1+0LHgwkJ...|2015-12-19|     8|     8|     2|      5|   8702|     44| 1862034.5|\n",
      "|jiEdYmpC+8AENimOl...|2017-01-01|     6|     0|     2|      0|  10816|     20| 2380272.0|\n",
      "|foP1R+vlUmNLN7oOa...|2016-06-18|    43|     1|     0|     29|  15068|    510| 4005499.2|\n",
      "|76jXST/+vmVgHwOs7...|2015-06-24|     1|     2|     5|      1|   9069|      9|  283863.6|\n",
      "|eSS75Gcs1NmYjATYn...|2016-06-27|    42|    28|    21|     23|  20172|    799| 4155401.8|\n",
      "|RljgFxE+iLu5nMlGK...|2016-08-03|   381|   130|   104|    121|   8421|   3025| 2051992.9|\n",
      "|pLHLxfHn2YrarZwZF...|2016-09-28|     2|     2|     0|      0|   8419|     39|  989726.2|\n",
      "|aLZh7PjXmJL2k6ViI...|2017-03-22|    70|    19|    13|     26|   8006|    483| 1871809.8|\n",
      "+--------------------+----------+------+------+------+-------+-------+-------+----------+\n",
      "\n"
     ]
    },
    {
     "name": "stderr",
     "output_type": "stream",
     "text": [
      "                                                                                "
     ]
    }
   ],
   "source": [
    "\n",
    "df_user_logs.filter(col('num_100') > 7500).show()\n",
    "# Outliers found\n",
    "# and found high total secs"
   ]
  },
  {
   "cell_type": "code",
   "execution_count": 40,
   "id": "4daa92ae-6ecf-45f9-8c3f-b1e2c510897c",
   "metadata": {},
   "outputs": [
    {
     "name": "stderr",
     "output_type": "stream",
     "text": [
      "[Stage 68:==================================================>     (36 + 4) / 40]"
     ]
    },
    {
     "name": "stdout",
     "output_type": "stream",
     "text": [
      "+---+----+\n",
      "|min| max|\n",
      "+---+----+\n",
      "|  1|3025|\n",
      "+---+----+\n",
      "\n"
     ]
    },
    {
     "name": "stderr",
     "output_type": "stream",
     "text": [
      "                                                                                "
     ]
    }
   ],
   "source": [
    "# ========== num_unq ===========\n",
    "df_user_logs.select(\n",
    "    min('num_unq').alias('min'),\n",
    "    max('num_unq').alias('max')\n",
    ").show()"
   ]
  },
  {
   "cell_type": "code",
   "execution_count": 41,
   "id": "9d3525e6-eb9f-4af8-91d7-44691f6601b1",
   "metadata": {},
   "outputs": [],
   "source": [
    "# df_user_logs['num_unq'].plot(kind='box')"
   ]
  },
  {
   "cell_type": "code",
   "execution_count": 42,
   "id": "04212513-8e4b-4f8e-94ee-1a67ad12e6da",
   "metadata": {},
   "outputs": [
    {
     "name": "stderr",
     "output_type": "stream",
     "text": [
      "[Stage 74:================================================>       (13 + 2) / 15]"
     ]
    },
    {
     "name": "stdout",
     "output_type": "stream",
     "text": [
      "+--------------------+----------+------+------+------+-------+-------+-------+----------+\n",
      "|                msno|      date|num_25|num_50|num_75|num_985|num_100|num_unq|total_secs|\n",
      "+--------------------+----------+------+------+------+-------+-------+-------+----------+\n",
      "|AkuXvmyjhg3+9bQIN...|2015-11-04|    68|    30|    13|     80|   2414|   1589| 585101.06|\n",
      "|bz8tM5vSCAg992wnQ...|2016-03-22|    95|    55|    34|    450|  11213|   2272| 2708302.0|\n",
      "|C23OD8bIL1ixdgT1G...|2015-02-08|  1419|   118|    25|      8|     29|   1574|  57364.91|\n",
      "|CFaHdyJlruBCq4qkO...|2016-10-09|  3392|    28|    12|      7|     52|   3018| 42443.094|\n",
      "|k7XqJbBHpI9owoBZZ...|2016-05-04|   140|    22|    12|     24|   2334|   1569|  606834.7|\n",
      "|SlhrdGRlvKRryBe+r...|2017-02-27|   581|   938|   547|     98|     64|   1792| 203545.61|\n",
      "|u0A0nM1bXT3IdnZuQ...|2016-10-10|  2680|     7|     0|      5|    173|   2823| 45011.176|\n",
      "|RljgFxE+iLu5nMlGK...|2015-12-22|   175|    45|    46|     35|   3378|   1757|  812306.2|\n",
      "|oqr2ReSaecH2+n51J...|2015-07-18|  1504|    65|   192|     11|     29|   1687|  49968.01|\n",
      "|KANU1H1TA4fg0XGPu...|2016-04-26|    12|     7|     5|     40|   1953|   1590| 471926.56|\n",
      "|mnb/Vt2b/Qovbd2Xc...|2016-05-07|  2002|   255|    68|     35|     90|   2123|  68025.78|\n",
      "|RljgFxE+iLu5nMlGK...|2016-08-03|   381|   130|   104|    121|   8421|   3025| 2051992.9|\n",
      "|CUtZvVbSX2u8slC5h...|2016-05-23|  1910|    48|     8|      4|    293|   1973| 90888.766|\n",
      "|D59O3YPkzg2dVnV7L...|2015-12-28|    30|    10|     5|      9|   4691|   2091| 1135976.1|\n",
      "|tvQE/vhS8q1IMRpBv...|2016-10-11|  1179|   361|   144|     30|     58|   1585|  93349.21|\n",
      "|QoFAmp2fa5ob5YV3f...|2015-08-26|   620|   733|   271|     23|      5|   1596| 118012.54|\n",
      "|i8NUmllxUqGsoJ87P...|2016-12-09|     2|     1|     0|      0|   1692|   1693| 414542.75|\n",
      "|09IeH2GZi8lHm2pIn...|2015-04-08|   501|  1262|    47|     14|     21|   1524| 113331.22|\n",
      "|DU/38iYztdI15UHY/...|2015-06-04|  1647|     1|     0|      0|      1|   1597|  5772.504|\n",
      "|lQdMtm4gWQ0LtaOaD...|2017-03-26|   896|   912|   419|    128|    169|   1666| 234598.88|\n",
      "+--------------------+----------+------+------+------+-------+-------+-------+----------+\n",
      "\n"
     ]
    },
    {
     "name": "stderr",
     "output_type": "stream",
     "text": [
      "                                                                                "
     ]
    }
   ],
   "source": [
    "\n",
    "df_user_logs.filter(col('num_unq') > 1500).show()\n",
    "# Outliers found\n",
    "# and found high total secs"
   ]
  },
  {
   "cell_type": "code",
   "execution_count": 43,
   "id": "7aa117ac-9c29-43a9-a3c6-5129135bae7d",
   "metadata": {},
   "outputs": [
    {
     "name": "stderr",
     "output_type": "stream",
     "text": [
      "[Stage 75:======================================================> (39 + 1) / 40]"
     ]
    },
    {
     "name": "stdout",
     "output_type": "stream",
     "text": [
      "+-------------+------------+\n",
      "|          min|         max|\n",
      "+-------------+------------+\n",
      "|-9.2233725E15|9.2233725E15|\n",
      "+-------------+------------+\n",
      "\n"
     ]
    },
    {
     "name": "stderr",
     "output_type": "stream",
     "text": [
      "                                                                                "
     ]
    }
   ],
   "source": [
    "# ========== total_secs ===========\n",
    "df_user_logs.select(\n",
    "    min('total_secs').alias('min'),\n",
    "    max('total_secs').alias('max')\n",
    ").show()"
   ]
  },
  {
   "cell_type": "code",
   "execution_count": 44,
   "id": "b845bc8f-0d19-4b9d-ae7b-35d068fae8c1",
   "metadata": {},
   "outputs": [],
   "source": [
    "# df_user_logs['total_secs'].plot(kind='box')"
   ]
  },
  {
   "cell_type": "code",
   "execution_count": 45,
   "id": "ffb1b3cc-3e26-47ca-9c2f-d8e219f539fc",
   "metadata": {},
   "outputs": [
    {
     "name": "stdout",
     "output_type": "stream",
     "text": [
      "+--------------------+----------+------+------+------+-------+-------+-------+-------------+\n",
      "|                msno|      date|num_25|num_50|num_75|num_985|num_100|num_unq|   total_secs|\n",
      "+--------------------+----------+------+------+------+-------+-------+-------+-------------+\n",
      "|XoJGWnX0RN5ZUvUTG...|2015-04-30|     2|     6|     0|      0|    120|    118|-9.2233725E15|\n",
      "|zCKbAfdXVRoZGSlmL...|2016-02-21|    12|     8|     8|      8|     53|     77|-9.2233725E15|\n",
      "|YHWuzCAur0d5X82+z...|2015-07-15|    50|     6|     5|      2|     51|    101|-9.2233725E15|\n",
      "|gkd3Yd+8ThL5rZJ3q...|2015-05-13|     0|     2|     0|      0|      4|      5|-9.2233725E15|\n",
      "|+cWJuobnNfcWw5iVJ...|2015-07-03|     0|     0|     1|      2|     41|     44|-9.2233725E15|\n",
      "|KUNZ1kAB8t125wp9w...|2015-07-08|     4|     1|     0|      0|     43|     48|-9.2233725E15|\n",
      "|wqvnYhTcCaeN30b2J...|2015-10-10|    14|    10|     8|      1|    111|    135|-9.2233725E15|\n",
      "|njL8nKwXtZfK6QwNK...|2015-05-25|    14|     2|     1|      0|     33|     39|-9.2233725E15|\n",
      "|wxzgyDeJItX+RMHCJ...|2015-04-26|     2|     4|     2|      3|    192|    104|-9.2233725E15|\n",
      "|fVpOamh9F7yLemRF8...|2015-07-17|    35|     5|     1|      1|     90|    101|-9.2233725E15|\n",
      "|93lKe4DfiJydJH2c1...|2015-08-14|    65|    45|    11|      1|      4|    124|-9.2233725E15|\n",
      "|kGheKzYg2aegTMBAS...|2015-07-17|    35|     2|     0|      2|     34|     70|-9.2233725E15|\n",
      "|8WNktYsNj8d6pfFoa...|2015-07-02|     4|     1|     1|     10|    274|    273|-9.2233725E15|\n",
      "|eXg9VA8CvtQnWqr/H...|2015-10-01|    13|    13|     8|      1|     27|     38|-9.2233725E15|\n",
      "|Vz6104oH0K+Ii2/YZ...|2015-08-16|     6|     0|     0|      1|     21|     23|-9.2233725E15|\n",
      "|QzTXu1m41Zbe+k7Mi...|2015-08-04|     1|     1|     0|      2|     61|     58|-9.2233725E15|\n",
      "|nM++E4aarhUlovxp0...|2015-05-25|     4|     2|     2|      1|     56|     50|-9.2233725E15|\n",
      "|nM++E4aarhUlovxp0...|2015-07-14|     6|     0|     1|      1|     41|     34|-9.2233725E15|\n",
      "|E8tU830P/mjx5CNQF...|2015-08-04|     5|     0|     0|      2|     16|     21|-9.2233725E15|\n",
      "|BC3oZQJMya05Jl+Iv...|2015-05-01|     3|     0|     0|      3|     24|     30|-9.2233725E15|\n",
      "+--------------------+----------+------+------+------+-------+-------+-------+-------------+\n",
      "only showing top 20 rows\n",
      "\n"
     ]
    }
   ],
   "source": [
    "\n",
    "df_user_logs.filter(col('total_secs') < 0).show()"
   ]
  },
  {
   "cell_type": "code",
   "execution_count": 46,
   "id": "97b8b349-b72d-46d5-a9f0-eb216ddeaba4",
   "metadata": {},
   "outputs": [
    {
     "name": "stdout",
     "output_type": "stream",
     "text": [
      "+--------------------+----------+------+------+------+-------+-------+-------+----------+\n",
      "|                msno|      date|num_25|num_50|num_75|num_985|num_100|num_unq|total_secs|\n",
      "+--------------------+----------+------+------+------+-------+-------+-------+----------+\n",
      "|fyEkBkwi7KQZWM1rv...|2015-02-15|     6|     2|     3|      9|     68|     87|  640794.6|\n",
      "|nt1oMTJ2HZ7VSWbLT...|2016-01-20|     0|     0|     0|      0|    474|    166| 102651.51|\n",
      "|FsJ87XDfjI16R8ZxT...|2015-07-05|     3|     0|     0|      0|    748|     41|  202774.6|\n",
      "|i/wSrWYltgP986Ng+...|2015-07-13|    18|     6|     6|      4|    384|     79| 102633.25|\n",
      "|9z/S+AAp1Ko0RBDpV...|2015-11-08|     2|     1|     0|      0|    337|    338|  86422.03|\n",
      "|9z/S+AAp1Ko0RBDpV...|2016-12-27|     2|     0|     0|      0|    538|    217| 147768.88|\n",
      "|lYzD69CLuDxJHD1ue...|2015-01-30|     0|     0|     0|      0|    638|    140| 154034.75|\n",
      "|lYzD69CLuDxJHD1ue...|2015-03-21|     3|     0|     1|      0|    441|    394| 111167.93|\n",
      "|lYzD69CLuDxJHD1ue...|2016-12-16|     2|     0|     0|      0|    496|    413| 114766.58|\n",
      "|+xgCybcb5v4CCT5n6...|2015-11-24|    52|    14|     9|     12|   1524|    255| 351147.75|\n",
      "|exau7bbv0kG4qAv9d...|2015-03-10|     1|     1|     0|      1|    123|    126| 752248.94|\n",
      "|Hf/lJOc97XnxZ0rte...|2016-12-18|     2|     1|     2|      0|    415|    275|  97232.66|\n",
      "|lt6XnGdBh0iPtWooN...|2015-06-27|    65|    38|    22|     14|    389|    203|  100075.2|\n",
      "|Awi+136GmTa4UPJlJ...|2015-05-25|     0|     0|     0|      0|    564|     10|  454537.2|\n",
      "|WdGy7As+FP3lq5o3l...|2016-10-29|     0|     3|     0|      0|    364|    228|   86589.2|\n",
      "|0sUVytPnEL7q/tSzV...|2015-02-20|    16|     0|     0|      3|     27|     44|  531332.6|\n",
      "|TFDeZpiIpUWQN3s2S...|2015-01-27|    14|     7|     4|     23|    149|    133| 104322.97|\n",
      "|0N73h86lLrMbtV6VL...|2015-06-14|    39|    49|    12|      7|    355|    296|  91451.67|\n",
      "|RDR/7HofTMB+YU8TA...|2015-04-15|     0|     0|     0|      0|    594|    218| 149907.77|\n",
      "|RDR/7HofTMB+YU8TA...|2015-06-05|     5|     0|     0|      0|    660|    153| 156606.88|\n",
      "+--------------------+----------+------+------+------+-------+-------+-------+----------+\n",
      "only showing top 20 rows\n",
      "\n"
     ]
    }
   ],
   "source": [
    "# 1 day = 24 hours = 86400 seconds\n",
    "df_user_logs.filter(col('total_secs') > 86400).show()"
   ]
  },
  {
   "cell_type": "code",
   "execution_count": 47,
   "id": "c38f64fe-f260-4cf2-acd8-7bc009ececb8",
   "metadata": {},
   "outputs": [
    {
     "name": "stderr",
     "output_type": "stream",
     "text": [
      "[Stage 83:=========================================>              (11 + 4) / 15]"
     ]
    },
    {
     "name": "stdout",
     "output_type": "stream",
     "text": [
      "+--------------------+----------+------+------+------+-------+-------+-------+------------+\n",
      "|                msno|      date|num_25|num_50|num_75|num_985|num_100|num_unq|  total_secs|\n",
      "+--------------------+----------+------+------+------+-------+-------+-------+------------+\n",
      "|+XCfUxc7QlExHUza/...|2015-05-07|     0|     0|     0|      0|      1|      1|9.2233725E15|\n",
      "|sKpCPCQsZcap95MBq...|2015-06-09|     0|     0|     0|      0|      1|      1|9.2233725E15|\n",
      "|o3D/vuZKd6cmjneaw...|2015-05-06|     0|     0|     0|      0|      1|      1|9.2233725E15|\n",
      "|EYqVF700cpelgkaMa...|2015-04-24|     0|     0|     0|      0|      1|      1|9.2233725E15|\n",
      "|ggjM+mdXCHxeeXYhk...|2015-10-11|     0|     0|     0|      0|    741|      1|9.2233725E15|\n",
      "+--------------------+----------+------+------+------+-------+-------+-------+------------+\n",
      "\n"
     ]
    },
    {
     "name": "stderr",
     "output_type": "stream",
     "text": [
      "                                                                                "
     ]
    }
   ],
   "source": [
    "\n",
    "df_user_logs.filter(col('total_secs') > (0.5*10**16)).show()"
   ]
  },
  {
   "cell_type": "code",
   "execution_count": 48,
   "id": "b4943976-14c8-4fed-ba05-9864cb0c8726",
   "metadata": {},
   "outputs": [],
   "source": [
    "# df_user_logs[(df_user_logs['total_secs'] >= 0) & (df_user_logs['total_secs'] < (1.4*10**9))]['total_secs'].plot(kind='box')"
   ]
  },
  {
   "cell_type": "markdown",
   "id": "93c41185-ec44-476e-ac89-557c527fd2ea",
   "metadata": {},
   "source": [
    "### Transaction"
   ]
  },
  {
   "cell_type": "code",
   "execution_count": 49,
   "id": "7ca89dcf-3801-401e-b104-6c9e44ceb5f2",
   "metadata": {},
   "outputs": [
    {
     "name": "stdout",
     "output_type": "stream",
     "text": [
      "+--------------------+-----------------+-----------------+---------------+------------------+-------------+----------------+----------------------+---------+---------------------+\n",
      "|                msno|payment_method_id|payment_plan_days|plan_list_price|actual_amount_paid|is_auto_renew|transaction_date|membership_expire_date|is_cancel|membership_start_date|\n",
      "+--------------------+-----------------+-----------------+---------------+------------------+-------------+----------------+----------------------+---------+---------------------+\n",
      "|++3Z+W8OPnpbHYfrK...|               41|               30|            149|               149|            1|      2015-01-08|            2015-02-09|        0|           2015-01-10|\n",
      "|++3Z+W8OPnpbHYfrK...|               41|               30|            149|               149|            1|      2015-02-08|            2015-03-09|        0|           2015-02-07|\n",
      "|++3Z+W8OPnpbHYfrK...|               41|               30|            149|               149|            1|      2015-03-08|            2015-04-09|        0|           2015-03-10|\n",
      "|++3Z+W8OPnpbHYfrK...|               41|               30|            149|               149|            1|      2015-04-08|            2015-05-09|        0|           2015-04-09|\n",
      "|++3Z+W8OPnpbHYfrK...|               41|                0|              0|               149|            1|      2015-05-04|            2015-06-04|        1|           2015-06-04|\n",
      "+--------------------+-----------------+-----------------+---------------+------------------+-------------+----------------+----------------------+---------+---------------------+\n",
      "only showing top 5 rows\n",
      "\n"
     ]
    }
   ],
   "source": [
    "df_transaction_silver.show(5)"
   ]
  },
  {
   "cell_type": "code",
   "execution_count": 50,
   "id": "f938dc31-fce2-482f-aeb5-83680b021357",
   "metadata": {},
   "outputs": [
    {
     "name": "stderr",
     "output_type": "stream",
     "text": [
      "[Stage 85:>                                                         (0 + 8) / 8]"
     ]
    },
    {
     "name": "stdout",
     "output_type": "stream",
     "text": [
      "+-----------------+-------+\n",
      "|payment_method_id|  count|\n",
      "+-----------------+-------+\n",
      "|               41|1847550|\n",
      "|               40| 523088|\n",
      "|               36| 179759|\n",
      "|               39| 174531|\n",
      "|               37| 156567|\n",
      "|               38|  85184|\n",
      "|               33|  46769|\n",
      "|               34|  35789|\n",
      "|               35|  30873|\n",
      "|               30|  23458|\n",
      "|               31|  18839|\n",
      "|               29|  15260|\n",
      "|               27|  14280|\n",
      "|               32|  13959|\n",
      "|               23|   4904|\n",
      "|               24|   4528|\n",
      "|               28|   3955|\n",
      "|               16|   3085|\n",
      "|               18|   2152|\n",
      "|               20|   1435|\n",
      "+-----------------+-------+\n",
      "only showing top 20 rows\n",
      "\n"
     ]
    },
    {
     "name": "stderr",
     "output_type": "stream",
     "text": [
      "                                                                                "
     ]
    }
   ],
   "source": [
    "# === payment method_id ====\n",
    "df_transaction_silver.groupBy('payment_method_id').count().orderBy('count', ascending=False).show()"
   ]
  },
  {
   "cell_type": "code",
   "execution_count": 51,
   "id": "c747ffd9-5190-4c33-908c-946e77be7a47",
   "metadata": {},
   "outputs": [
    {
     "name": "stderr",
     "output_type": "stream",
     "text": [
      "                                                                                \n",
      "Exception: java.lang.OutOfMemoryError thrown from the UncaughtExceptionHandler in thread \"RemoteBlock-temp-file-clean-thread\"\n",
      "Exception in thread \"refresh progress\" java.lang.OutOfMemoryError: Java heap space\n",
      "\tat scala.Option.map(Option.scala:230)\n",
      "\tat org.apache.spark.status.AppStatusStore.activeStages(AppStatusStore.scala:170)\n",
      "\tat org.apache.spark.ui.ConsoleProgressBar.org$apache$spark$ui$ConsoleProgressBar$$refresh(ConsoleProgressBar.scala:64)\n",
      "\tat org.apache.spark.ui.ConsoleProgressBar$$anon$1.run(ConsoleProgressBar.scala:52)\n",
      "\tat java.base/java.util.TimerThread.mainLoop(Timer.java:566)\n",
      "\tat java.base/java.util.TimerThread.run(Timer.java:516)\n",
      "25/06/13 07:53:27 ERROR Utils: uncaught error in thread Spark Context Cleaner, stopping SparkContext\n",
      "java.lang.OutOfMemoryError: Java heap space\n",
      "\tat java.base/java.lang.invoke.DirectMethodHandle.allocateInstance(DirectMethodHandle.java:520)\n",
      "\tat java.base/java.lang.invoke.DirectMethodHandle$Holder.newInvokeSpecial(DirectMethodHandle$Holder)\n",
      "\tat java.base/java.lang.invoke.Invokers$Holder.linkToTargetMethod(Invokers$Holder)\n",
      "\tat org.apache.spark.ContextCleaner.$anonfun$keepCleaning$1(ContextCleaner.scala:195)\n",
      "\tat org.apache.spark.ContextCleaner$$Lambda$806/0x00007f12ac5bacb0.apply$mcV$sp(Unknown Source)\n",
      "\tat org.apache.spark.util.Utils$.tryOrStopSparkContext(Utils.scala:1356)\n",
      "\tat org.apache.spark.ContextCleaner.org$apache$spark$ContextCleaner$$keepCleaning(ContextCleaner.scala:189)\n",
      "\tat org.apache.spark.ContextCleaner$$anon$1.run(ContextCleaner.scala:79)\n",
      "25/06/13 07:53:27 ERROR Utils: throw uncaught fatal error in thread Spark Context Cleaner\n",
      "java.lang.OutOfMemoryError: Java heap space\n",
      "\tat java.base/java.lang.invoke.DirectMethodHandle.allocateInstance(DirectMethodHandle.java:520)\n",
      "\tat java.base/java.lang.invoke.DirectMethodHandle$Holder.newInvokeSpecial(DirectMethodHandle$Holder)\n",
      "\tat java.base/java.lang.invoke.Invokers$Holder.linkToTargetMethod(Invokers$Holder)\n",
      "\tat org.apache.spark.ContextCleaner.$anonfun$keepCleaning$1(ContextCleaner.scala:195)\n",
      "\tat org.apache.spark.ContextCleaner$$Lambda$806/0x00007f12ac5bacb0.apply$mcV$sp(Unknown Source)\n",
      "\tat org.apache.spark.util.Utils$.tryOrStopSparkContext(Utils.scala:1356)\n",
      "\tat org.apache.spark.ContextCleaner.org$apache$spark$ContextCleaner$$keepCleaning(ContextCleaner.scala:189)\n",
      "\tat org.apache.spark.ContextCleaner$$anon$1.run(ContextCleaner.scala:79)\n",
      "Exception in thread \"Spark Context Cleaner\" java.lang.OutOfMemoryError: Java heap space\n",
      "\tat java.base/java.lang.invoke.DirectMethodHandle.allocateInstance(DirectMethodHandle.java:520)\n",
      "\tat java.base/java.lang.invoke.DirectMethodHandle$Holder.newInvokeSpecial(DirectMethodHandle$Holder)\n",
      "\tat java.base/java.lang.invoke.Invokers$Holder.linkToTargetMethod(Invokers$Holder)\n",
      "\tat org.apache.spark.ContextCleaner.$anonfun$keepCleaning$1(ContextCleaner.scala:195)\n",
      "\tat org.apache.spark.ContextCleaner$$Lambda$806/0x00007f12ac5bacb0.apply$mcV$sp(Unknown Source)\n",
      "\tat org.apache.spark.util.Utils$.tryOrStopSparkContext(Utils.scala:1356)\n",
      "\tat org.apache.spark.ContextCleaner.org$apache$spark$ContextCleaner$$keepCleaning(ContextCleaner.scala:189)\n",
      "\tat org.apache.spark.ContextCleaner$$anon$1.run(ContextCleaner.scala:79)\n"
     ]
    },
    {
     "ename": "Py4JJavaError",
     "evalue": "An error occurred while calling o39.collectToPython.\n: java.lang.OutOfMemoryError: Java heap space\n",
     "output_type": "error",
     "traceback": [
      "\u001b[31m---------------------------------------------------------------------------\u001b[39m",
      "\u001b[31mPy4JJavaError\u001b[39m                             Traceback (most recent call last)",
      "\u001b[36mCell\u001b[39m\u001b[36m \u001b[39m\u001b[32mIn[51]\u001b[39m\u001b[32m, line 1\u001b[39m\n\u001b[32m----> \u001b[39m\u001b[32m1\u001b[39m pd_transaction_silver = \u001b[43mdf_transaction_silver\u001b[49m\u001b[43m.\u001b[49m\u001b[43mtoPandas\u001b[49m\u001b[43m(\u001b[49m\u001b[43m)\u001b[49m\n\u001b[32m      3\u001b[39m \u001b[38;5;66;03m# Create plot\u001b[39;00m\n\u001b[32m      4\u001b[39m plt.figure(figsize=(\u001b[32m12\u001b[39m, \u001b[32m6\u001b[39m))\n",
      "\u001b[36mFile \u001b[39m\u001b[32m/usr/local/lib/python3.12/site-packages/pyspark/sql/pandas/conversion.py:202\u001b[39m, in \u001b[36mPandasConversionMixin.toPandas\u001b[39m\u001b[34m(self)\u001b[39m\n\u001b[32m    199\u001b[39m             \u001b[38;5;28;01mraise\u001b[39;00m\n\u001b[32m    201\u001b[39m \u001b[38;5;66;03m# Below is toPandas without Arrow optimization.\u001b[39;00m\n\u001b[32m--> \u001b[39m\u001b[32m202\u001b[39m rows = \u001b[38;5;28;43mself\u001b[39;49m\u001b[43m.\u001b[49m\u001b[43mcollect\u001b[49m\u001b[43m(\u001b[49m\u001b[43m)\u001b[49m\n\u001b[32m    203\u001b[39m \u001b[38;5;28;01mif\u001b[39;00m \u001b[38;5;28mlen\u001b[39m(rows) > \u001b[32m0\u001b[39m:\n\u001b[32m    204\u001b[39m     pdf = pd.DataFrame.from_records(\n\u001b[32m    205\u001b[39m         rows, index=\u001b[38;5;28mrange\u001b[39m(\u001b[38;5;28mlen\u001b[39m(rows)), columns=\u001b[38;5;28mself\u001b[39m.columns  \u001b[38;5;66;03m# type: ignore[arg-type]\u001b[39;00m\n\u001b[32m    206\u001b[39m     )\n",
      "\u001b[36mFile \u001b[39m\u001b[32m/usr/local/lib/python3.12/site-packages/pyspark/sql/dataframe.py:1263\u001b[39m, in \u001b[36mDataFrame.collect\u001b[39m\u001b[34m(self)\u001b[39m\n\u001b[32m   1243\u001b[39m \u001b[38;5;250m\u001b[39m\u001b[33;03m\"\"\"Returns all the records as a list of :class:`Row`.\u001b[39;00m\n\u001b[32m   1244\u001b[39m \n\u001b[32m   1245\u001b[39m \u001b[33;03m.. versionadded:: 1.3.0\u001b[39;00m\n\u001b[32m   (...)\u001b[39m\u001b[32m   1260\u001b[39m \u001b[33;03m[Row(age=14, name='Tom'), Row(age=23, name='Alice'), Row(age=16, name='Bob')]\u001b[39;00m\n\u001b[32m   1261\u001b[39m \u001b[33;03m\"\"\"\u001b[39;00m\n\u001b[32m   1262\u001b[39m \u001b[38;5;28;01mwith\u001b[39;00m SCCallSiteSync(\u001b[38;5;28mself\u001b[39m._sc):\n\u001b[32m-> \u001b[39m\u001b[32m1263\u001b[39m     sock_info = \u001b[38;5;28;43mself\u001b[39;49m\u001b[43m.\u001b[49m\u001b[43m_jdf\u001b[49m\u001b[43m.\u001b[49m\u001b[43mcollectToPython\u001b[49m\u001b[43m(\u001b[49m\u001b[43m)\u001b[49m\n\u001b[32m   1264\u001b[39m \u001b[38;5;28;01mreturn\u001b[39;00m \u001b[38;5;28mlist\u001b[39m(_load_from_socket(sock_info, BatchedSerializer(CPickleSerializer())))\n",
      "\u001b[36mFile \u001b[39m\u001b[32m/usr/local/lib/python3.12/site-packages/py4j/java_gateway.py:1322\u001b[39m, in \u001b[36mJavaMember.__call__\u001b[39m\u001b[34m(self, *args)\u001b[39m\n\u001b[32m   1316\u001b[39m command = proto.CALL_COMMAND_NAME +\\\n\u001b[32m   1317\u001b[39m     \u001b[38;5;28mself\u001b[39m.command_header +\\\n\u001b[32m   1318\u001b[39m     args_command +\\\n\u001b[32m   1319\u001b[39m     proto.END_COMMAND_PART\n\u001b[32m   1321\u001b[39m answer = \u001b[38;5;28mself\u001b[39m.gateway_client.send_command(command)\n\u001b[32m-> \u001b[39m\u001b[32m1322\u001b[39m return_value = \u001b[43mget_return_value\u001b[49m\u001b[43m(\u001b[49m\n\u001b[32m   1323\u001b[39m \u001b[43m    \u001b[49m\u001b[43manswer\u001b[49m\u001b[43m,\u001b[49m\u001b[43m \u001b[49m\u001b[38;5;28;43mself\u001b[39;49m\u001b[43m.\u001b[49m\u001b[43mgateway_client\u001b[49m\u001b[43m,\u001b[49m\u001b[43m \u001b[49m\u001b[38;5;28;43mself\u001b[39;49m\u001b[43m.\u001b[49m\u001b[43mtarget_id\u001b[49m\u001b[43m,\u001b[49m\u001b[43m \u001b[49m\u001b[38;5;28;43mself\u001b[39;49m\u001b[43m.\u001b[49m\u001b[43mname\u001b[49m\u001b[43m)\u001b[49m\n\u001b[32m   1325\u001b[39m \u001b[38;5;28;01mfor\u001b[39;00m temp_arg \u001b[38;5;129;01min\u001b[39;00m temp_args:\n\u001b[32m   1326\u001b[39m     \u001b[38;5;28;01mif\u001b[39;00m \u001b[38;5;28mhasattr\u001b[39m(temp_arg, \u001b[33m\"\u001b[39m\u001b[33m_detach\u001b[39m\u001b[33m\"\u001b[39m):\n",
      "\u001b[36mFile \u001b[39m\u001b[32m/usr/local/lib/python3.12/site-packages/pyspark/errors/exceptions/captured.py:179\u001b[39m, in \u001b[36mcapture_sql_exception.<locals>.deco\u001b[39m\u001b[34m(*a, **kw)\u001b[39m\n\u001b[32m    177\u001b[39m \u001b[38;5;28;01mdef\u001b[39;00m\u001b[38;5;250m \u001b[39m\u001b[34mdeco\u001b[39m(*a: Any, **kw: Any) -> Any:\n\u001b[32m    178\u001b[39m     \u001b[38;5;28;01mtry\u001b[39;00m:\n\u001b[32m--> \u001b[39m\u001b[32m179\u001b[39m         \u001b[38;5;28;01mreturn\u001b[39;00m \u001b[43mf\u001b[49m\u001b[43m(\u001b[49m\u001b[43m*\u001b[49m\u001b[43ma\u001b[49m\u001b[43m,\u001b[49m\u001b[43m \u001b[49m\u001b[43m*\u001b[49m\u001b[43m*\u001b[49m\u001b[43mkw\u001b[49m\u001b[43m)\u001b[49m\n\u001b[32m    180\u001b[39m     \u001b[38;5;28;01mexcept\u001b[39;00m Py4JJavaError \u001b[38;5;28;01mas\u001b[39;00m e:\n\u001b[32m    181\u001b[39m         converted = convert_exception(e.java_exception)\n",
      "\u001b[36mFile \u001b[39m\u001b[32m/usr/local/lib/python3.12/site-packages/py4j/protocol.py:326\u001b[39m, in \u001b[36mget_return_value\u001b[39m\u001b[34m(answer, gateway_client, target_id, name)\u001b[39m\n\u001b[32m    324\u001b[39m value = OUTPUT_CONVERTER[\u001b[38;5;28mtype\u001b[39m](answer[\u001b[32m2\u001b[39m:], gateway_client)\n\u001b[32m    325\u001b[39m \u001b[38;5;28;01mif\u001b[39;00m answer[\u001b[32m1\u001b[39m] == REFERENCE_TYPE:\n\u001b[32m--> \u001b[39m\u001b[32m326\u001b[39m     \u001b[38;5;28;01mraise\u001b[39;00m Py4JJavaError(\n\u001b[32m    327\u001b[39m         \u001b[33m\"\u001b[39m\u001b[33mAn error occurred while calling \u001b[39m\u001b[38;5;132;01m{0}\u001b[39;00m\u001b[38;5;132;01m{1}\u001b[39;00m\u001b[38;5;132;01m{2}\u001b[39;00m\u001b[33m.\u001b[39m\u001b[38;5;130;01m\\n\u001b[39;00m\u001b[33m\"\u001b[39m.\n\u001b[32m    328\u001b[39m         \u001b[38;5;28mformat\u001b[39m(target_id, \u001b[33m\"\u001b[39m\u001b[33m.\u001b[39m\u001b[33m\"\u001b[39m, name), value)\n\u001b[32m    329\u001b[39m \u001b[38;5;28;01melse\u001b[39;00m:\n\u001b[32m    330\u001b[39m     \u001b[38;5;28;01mraise\u001b[39;00m Py4JError(\n\u001b[32m    331\u001b[39m         \u001b[33m\"\u001b[39m\u001b[33mAn error occurred while calling \u001b[39m\u001b[38;5;132;01m{0}\u001b[39;00m\u001b[38;5;132;01m{1}\u001b[39;00m\u001b[38;5;132;01m{2}\u001b[39;00m\u001b[33m. Trace:\u001b[39m\u001b[38;5;130;01m\\n\u001b[39;00m\u001b[38;5;132;01m{3}\u001b[39;00m\u001b[38;5;130;01m\\n\u001b[39;00m\u001b[33m\"\u001b[39m.\n\u001b[32m    332\u001b[39m         \u001b[38;5;28mformat\u001b[39m(target_id, \u001b[33m\"\u001b[39m\u001b[33m.\u001b[39m\u001b[33m\"\u001b[39m, name, value))\n",
      "\u001b[31mPy4JJavaError\u001b[39m: An error occurred while calling o39.collectToPython.\n: java.lang.OutOfMemoryError: Java heap space\n"
     ]
    }
   ],
   "source": [
    "pd_transaction_silver = df_transaction_silver.toPandas()\n",
    "\n",
    "# Create plot\n",
    "plt.figure(figsize=(12, 6))\n",
    "ax = sns.countplot(pd_transaction_silver, x = 'payment_method_id')\n",
    "\n",
    "# Add count labels on top of bars\n",
    "for p in ax.patches:\n",
    "    count = int(p.get_height())\n",
    "    ax.annotate(f'{count}', \n",
    "                (p.get_x() + p.get_width() / 2., p.get_height()), \n",
    "                ha='center', va='bottom', fontsize=10)\n",
    "\n",
    "plt.title('Num of Transaction by Payment Method')\n",
    "plt.xlabel('Payment Method')\n",
    "plt.ylabel('Num of Transactions')\n",
    "plt.tight_layout()\n",
    "plt.show()\n",
    "\n",
    "# Some payment method has low values in number of users, bucketize low values"
   ]
  },
  {
   "cell_type": "code",
   "execution_count": null,
   "id": "e8989b54-c3cb-4a89-85b8-44a615c07b03",
   "metadata": {},
   "outputs": [],
   "source": [
    "# ======== plan_list_price =============\n",
    "df_transaction_silver.select(\n",
    "    min('plan_list_price').alias('min'),\n",
    "    max('plan_list_price').alias('max')\n",
    ").show()"
   ]
  },
  {
   "cell_type": "code",
   "execution_count": null,
   "id": "4de4dd96-5762-4355-bda0-a1fdecdba1d6",
   "metadata": {},
   "outputs": [],
   "source": [
    "# df_transaction_silver['plan_list_price'].plot(kind = 'box')"
   ]
  },
  {
   "cell_type": "code",
   "execution_count": null,
   "id": "9ff72854-e30c-4769-81d3-88b17da62ba8",
   "metadata": {},
   "outputs": [],
   "source": [
    "df_transaction_silver.filter(col('plan_list_price') > 1000).show()"
   ]
  },
  {
   "cell_type": "code",
   "execution_count": null,
   "id": "92c900c9-fe1a-4a82-af94-adae9bc20a15",
   "metadata": {},
   "outputs": [],
   "source": [
    "# ======= actual_amount_paid ============\n",
    "\n",
    "df_transaction_silver.select(\n",
    "    min('actual_amount_paid').alias('min'),\n",
    "    max('actual_amount_paid').alias('max')\n",
    ").show()"
   ]
  },
  {
   "cell_type": "code",
   "execution_count": null,
   "id": "d23a1b0d-2081-444c-ab48-f83a27c22e40",
   "metadata": {},
   "outputs": [],
   "source": [
    "# df_transaction_silver['actual_amount_paid'].plot(kind = 'box')"
   ]
  },
  {
   "cell_type": "code",
   "execution_count": null,
   "id": "b0108404-dd91-41e3-8ee3-0ef8b7dac7d4",
   "metadata": {},
   "outputs": [],
   "source": [
    "df_transaction_silver.filter(col('actual_amount_paid') > 1000).show()"
   ]
  },
  {
   "cell_type": "code",
   "execution_count": null,
   "id": "eadc09fb-eae8-4cdb-8650-ef54c0c960d1",
   "metadata": {},
   "outputs": [],
   "source": [
    "# ======= payment plan days ============\n",
    "df_transaction_silver.select(\n",
    "    min('payment_plan_days').alias('min'),\n",
    "    max('payment_plan_days').alias('max')\n",
    ").show()"
   ]
  },
  {
   "cell_type": "code",
   "execution_count": null,
   "id": "1f09b2b3-8083-45e9-9168-0b225908db6a",
   "metadata": {},
   "outputs": [],
   "source": [
    "# df_transaction_silver['payment_plan_days'].plot(kind = 'box')"
   ]
  },
  {
   "cell_type": "code",
   "execution_count": null,
   "id": "60a028d7-bed1-4839-a1f7-c6f30e9a2cbb",
   "metadata": {},
   "outputs": [],
   "source": [
    "# ========= is_auto_renew ===========\n",
    "df_transaction_silver.select(\n",
    "    min('is_auto_renew').alias('min'),\n",
    "    max('is_auto_renew').alias('max')\n",
    ").show()"
   ]
  },
  {
   "cell_type": "code",
   "execution_count": null,
   "id": "df89a799-b74b-4337-a67f-3448003d535a",
   "metadata": {},
   "outputs": [],
   "source": [
    "# ========= is_cancel ===========\n",
    "df_transaction_silver.select(\n",
    "    min('is_cancel').alias('min'),\n",
    "    max('is_cancel').alias('max')\n",
    ").show()"
   ]
  },
  {
   "cell_type": "markdown",
   "id": "0ef1ed71-d4b9-4d5c-8fdb-1fd9008e769d",
   "metadata": {},
   "source": [
    "# Feature Engineering"
   ]
  },
  {
   "cell_type": "markdown",
   "id": "a9fc479f-550c-48e5-8ae0-32e23e94854c",
   "metadata": {},
   "source": [
    "### Transaction"
   ]
  },
  {
   "cell_type": "code",
   "execution_count": null,
   "id": "89c91e38-5cd8-4964-8b8f-753fa5faede1",
   "metadata": {
    "scrolled": true
   },
   "outputs": [],
   "source": [
    "# Bucketize payment method id\n",
    "df_transaction_silver.groupBy('payment_method_id').count().orderBy('count', ascending=False).show()"
   ]
  },
  {
   "cell_type": "code",
   "execution_count": null,
   "id": "4d4c5d0a-6764-4c92-9c5a-533ae48dd834",
   "metadata": {},
   "outputs": [],
   "source": [
    "valid_range = list(range(36, 42))\n",
    "df_transaction_silver = (\n",
    "    df_transaction_silver\n",
    "        .withColumn(\n",
    "            \"payment_method_id\",\n",
    "            F.when(F.col(\"payment_method_id\").isin(valid_range),\n",
    "                   F.col(\"payment_method_id\").cast(\"string\"))\n",
    "             .otherwise(F.lit(\"Others\"))\n",
    "        )\n",
    ")"
   ]
  },
  {
   "cell_type": "code",
   "execution_count": null,
   "id": "15b4c584-6144-4ca4-97f5-5c3352a121ab",
   "metadata": {},
   "outputs": [],
   "source": [
    "df_transaction_silver.groupBy('payment_method_id').count().orderBy('count', ascending=False).show()"
   ]
  },
  {
   "cell_type": "code",
   "execution_count": null,
   "id": "f41c5a00-ac82-4219-8b0f-efcc4522134d",
   "metadata": {},
   "outputs": [],
   "source": [
    "# pd_transaction_silver = df_transaction_silver.toPandas()\n",
    "\n",
    "# # Create plot\n",
    "# plt.figure(figsize=(12, 6))\n",
    "# ax = sns.countplot(pd_transaction_silver, x = 'payment_method_id')\n",
    "\n",
    "# # Add count labels on top of bars\n",
    "# for p in ax.patches:\n",
    "#     count = int(p.get_height())\n",
    "#     ax.annotate(f'{count}', \n",
    "#                 (p.get_x() + p.get_width() / 2., p.get_height()), \n",
    "#                 ha='center', va='bottom', fontsize=10)\n",
    "\n",
    "# plt.title('Num of Transaction by Payment Method')\n",
    "# plt.xlabel('Payment Method')\n",
    "# plt.ylabel('Num of Transactions')\n",
    "# plt.tight_layout()\n",
    "# plt.show()"
   ]
  },
  {
   "cell_type": "code",
   "execution_count": null,
   "id": "811e7362-51e1-4b8f-a608-fcfa8767a95e",
   "metadata": {},
   "outputs": [],
   "source": [
    "df_transaction_silver = (\n",
    "    df_transaction_silver\n",
    "        .withColumn(\n",
    "            \"discount_ratio\",\n",
    "            F.when(\n",
    "                F.col(\"plan_list_price\") != 0,\n",
    "                (F.col(\"plan_list_price\") - F.col(\"actual_amount_paid\")) / F.col(\"plan_list_price\")\n",
    "            ).otherwise(F.lit(0))\n",
    "        )\n",
    ")"
   ]
  },
  {
   "cell_type": "code",
   "execution_count": null,
   "id": "c3a25e11-0887-48c7-93ce-b3cc5b9a99b3",
   "metadata": {},
   "outputs": [],
   "source": [
    "df_transaction_silver.show(5)"
   ]
  },
  {
   "cell_type": "code",
   "execution_count": 72,
   "id": "dd94e73c-968b-4406-bd1d-91401dec57a1",
   "metadata": {},
   "outputs": [],
   "source": [
    "# df_transaction_silver[df_transaction_silver['discount_ratio'] < 0]['is_cancel'].value_counts()"
   ]
  },
  {
   "cell_type": "code",
   "execution_count": 73,
   "id": "d1e10d56-0959-49b5-ac6f-400aa4d21dee",
   "metadata": {},
   "outputs": [],
   "source": [
    "# df_transaction_silver[df_transaction_silver['discount_ratio'] == 1]['discount_rate'].value_counts()"
   ]
  },
  {
   "cell_type": "code",
   "execution_count": 74,
   "id": "d5e11159-141c-4ce2-856a-95c88d3968d8",
   "metadata": {},
   "outputs": [
    {
     "data": {
      "text/html": [
       "<div>\n",
       "<style scoped>\n",
       "    .dataframe tbody tr th:only-of-type {\n",
       "        vertical-align: middle;\n",
       "    }\n",
       "\n",
       "    .dataframe tbody tr th {\n",
       "        vertical-align: top;\n",
       "    }\n",
       "\n",
       "    .dataframe thead th {\n",
       "        text-align: right;\n",
       "    }\n",
       "</style>\n",
       "<table border=\"1\" class=\"dataframe\">\n",
       "  <thead>\n",
       "    <tr style=\"text-align: right;\">\n",
       "      <th></th>\n",
       "      <th>msno</th>\n",
       "      <th>payment_method_id</th>\n",
       "      <th>payment_plan_days</th>\n",
       "      <th>plan_list_price</th>\n",
       "      <th>actual_amount_paid</th>\n",
       "      <th>is_auto_renew</th>\n",
       "      <th>transaction_date</th>\n",
       "      <th>membership_expire_date</th>\n",
       "      <th>is_cancel</th>\n",
       "      <th>membership_start_date</th>\n",
       "      <th>discount_ratio</th>\n",
       "    </tr>\n",
       "  </thead>\n",
       "  <tbody>\n",
       "    <tr>\n",
       "      <th>0</th>\n",
       "      <td>++3Z+W8OPnpbHYfrKwqRKN1bF83XEbxjdYUolhGdHZg=</td>\n",
       "      <td>41</td>\n",
       "      <td>30</td>\n",
       "      <td>149</td>\n",
       "      <td>149</td>\n",
       "      <td>1</td>\n",
       "      <td>2015-01-08</td>\n",
       "      <td>2015-02-09</td>\n",
       "      <td>0</td>\n",
       "      <td>2015-01-10</td>\n",
       "      <td>0.0</td>\n",
       "    </tr>\n",
       "    <tr>\n",
       "      <th>1</th>\n",
       "      <td>++3Z+W8OPnpbHYfrKwqRKN1bF83XEbxjdYUolhGdHZg=</td>\n",
       "      <td>41</td>\n",
       "      <td>30</td>\n",
       "      <td>149</td>\n",
       "      <td>149</td>\n",
       "      <td>1</td>\n",
       "      <td>2015-02-08</td>\n",
       "      <td>2015-03-09</td>\n",
       "      <td>0</td>\n",
       "      <td>2015-02-07</td>\n",
       "      <td>0.0</td>\n",
       "    </tr>\n",
       "    <tr>\n",
       "      <th>2</th>\n",
       "      <td>++3Z+W8OPnpbHYfrKwqRKN1bF83XEbxjdYUolhGdHZg=</td>\n",
       "      <td>41</td>\n",
       "      <td>30</td>\n",
       "      <td>149</td>\n",
       "      <td>149</td>\n",
       "      <td>1</td>\n",
       "      <td>2015-03-08</td>\n",
       "      <td>2015-04-09</td>\n",
       "      <td>0</td>\n",
       "      <td>2015-03-10</td>\n",
       "      <td>0.0</td>\n",
       "    </tr>\n",
       "    <tr>\n",
       "      <th>3</th>\n",
       "      <td>++3Z+W8OPnpbHYfrKwqRKN1bF83XEbxjdYUolhGdHZg=</td>\n",
       "      <td>41</td>\n",
       "      <td>30</td>\n",
       "      <td>149</td>\n",
       "      <td>149</td>\n",
       "      <td>1</td>\n",
       "      <td>2015-04-08</td>\n",
       "      <td>2015-05-09</td>\n",
       "      <td>0</td>\n",
       "      <td>2015-04-09</td>\n",
       "      <td>0.0</td>\n",
       "    </tr>\n",
       "    <tr>\n",
       "      <th>4</th>\n",
       "      <td>++3Z+W8OPnpbHYfrKwqRKN1bF83XEbxjdYUolhGdHZg=</td>\n",
       "      <td>41</td>\n",
       "      <td>0</td>\n",
       "      <td>0</td>\n",
       "      <td>149</td>\n",
       "      <td>1</td>\n",
       "      <td>2015-05-04</td>\n",
       "      <td>2015-06-04</td>\n",
       "      <td>1</td>\n",
       "      <td>2015-06-04</td>\n",
       "      <td>0.0</td>\n",
       "    </tr>\n",
       "  </tbody>\n",
       "</table>\n",
       "</div>"
      ],
      "text/plain": [
       "                                           msno payment_method_id  \\\n",
       "0  ++3Z+W8OPnpbHYfrKwqRKN1bF83XEbxjdYUolhGdHZg=                41   \n",
       "1  ++3Z+W8OPnpbHYfrKwqRKN1bF83XEbxjdYUolhGdHZg=                41   \n",
       "2  ++3Z+W8OPnpbHYfrKwqRKN1bF83XEbxjdYUolhGdHZg=                41   \n",
       "3  ++3Z+W8OPnpbHYfrKwqRKN1bF83XEbxjdYUolhGdHZg=                41   \n",
       "4  ++3Z+W8OPnpbHYfrKwqRKN1bF83XEbxjdYUolhGdHZg=                41   \n",
       "\n",
       "   payment_plan_days  plan_list_price  actual_amount_paid  is_auto_renew  \\\n",
       "0                 30              149                 149              1   \n",
       "1                 30              149                 149              1   \n",
       "2                 30              149                 149              1   \n",
       "3                 30              149                 149              1   \n",
       "4                  0                0                 149              1   \n",
       "\n",
       "  transaction_date membership_expire_date  is_cancel membership_start_date  \\\n",
       "0       2015-01-08             2015-02-09          0            2015-01-10   \n",
       "1       2015-02-08             2015-03-09          0            2015-02-07   \n",
       "2       2015-03-08             2015-04-09          0            2015-03-10   \n",
       "3       2015-04-08             2015-05-09          0            2015-04-09   \n",
       "4       2015-05-04             2015-06-04          1            2015-06-04   \n",
       "\n",
       "   discount_ratio  \n",
       "0             0.0  \n",
       "1             0.0  \n",
       "2             0.0  \n",
       "3             0.0  \n",
       "4             0.0  "
      ]
     },
     "execution_count": 74,
     "metadata": {},
     "output_type": "execute_result"
    }
   ],
   "source": [
    "df_transaction_silver.head()"
   ]
  },
  {
   "cell_type": "code",
   "execution_count": 75,
   "id": "5caee3dc-566c-446a-99bd-188b92bebe99",
   "metadata": {},
   "outputs": [],
   "source": [
    "df_transaction_silver.to_csv('Silver Layer_silver_transactions_FE.csv', index=False)"
   ]
  },
  {
   "cell_type": "markdown",
   "id": "ea01e851-4083-4116-925b-00239150d0b6",
   "metadata": {},
   "source": [
    "## <b> Transaction Silver Issues to be addressed: </b>\n",
    "<ol>\n",
    "    <li><b>actual amount paid (or plan_list_price)</b> will be deleted later!</li>\n",
    "    <li><b>payment method id</b> has been binned/bucketized, Risk of Data Leakage</li>\n",
    "    <li><b>discount rate </b>= (1 - (df_transaction_silver['actual_amount_paid']/df_transaction_silver['plan_list_price'])) if df_transaction_silver['plan_list_price'] == 0 else 0<br/>but some discount rate has negative values, cause by plan_list_price < actual_amount_paid, and plan_list_price != 0</li>\n",
    "        <li><b>payment_plan_days</b> some are not 30 or 31 days</li>\n",
    "</ol>"
   ]
  },
  {
   "cell_type": "markdown",
   "id": "6b04591e-64c2-42a0-8f0f-7b4553a36632",
   "metadata": {},
   "source": [
    "### User Logs"
   ]
  },
  {
   "cell_type": "code",
   "execution_count": 76,
   "id": "9cecdbde-c83c-47b0-ab1b-8ef668166822",
   "metadata": {},
   "outputs": [
    {
     "data": {
      "text/html": [
       "<div>\n",
       "<style scoped>\n",
       "    .dataframe tbody tr th:only-of-type {\n",
       "        vertical-align: middle;\n",
       "    }\n",
       "\n",
       "    .dataframe tbody tr th {\n",
       "        vertical-align: top;\n",
       "    }\n",
       "\n",
       "    .dataframe thead th {\n",
       "        text-align: right;\n",
       "    }\n",
       "</style>\n",
       "<table border=\"1\" class=\"dataframe\">\n",
       "  <thead>\n",
       "    <tr style=\"text-align: right;\">\n",
       "      <th></th>\n",
       "      <th>msno</th>\n",
       "      <th>date</th>\n",
       "      <th>num_25</th>\n",
       "      <th>num_50</th>\n",
       "      <th>num_75</th>\n",
       "      <th>num_985</th>\n",
       "      <th>num_100</th>\n",
       "      <th>num_unq</th>\n",
       "      <th>total_secs</th>\n",
       "    </tr>\n",
       "  </thead>\n",
       "  <tbody>\n",
       "    <tr>\n",
       "      <th>84</th>\n",
       "      <td>mSM/P4XpWcuQUGnhL0vaCDEGjmM/7YaWew6O/eE5mV4=</td>\n",
       "      <td>2015-02-07</td>\n",
       "      <td>0</td>\n",
       "      <td>0</td>\n",
       "      <td>0</td>\n",
       "      <td>1</td>\n",
       "      <td>54</td>\n",
       "      <td>55</td>\n",
       "      <td>15457.387</td>\n",
       "    </tr>\n",
       "    <tr>\n",
       "      <th>85</th>\n",
       "      <td>mSM/P4XpWcuQUGnhL0vaCDEGjmM/7YaWew6O/eE5mV4=</td>\n",
       "      <td>2015-05-22</td>\n",
       "      <td>15</td>\n",
       "      <td>0</td>\n",
       "      <td>0</td>\n",
       "      <td>1</td>\n",
       "      <td>3</td>\n",
       "      <td>14</td>\n",
       "      <td>1227.711</td>\n",
       "    </tr>\n",
       "    <tr>\n",
       "      <th>86</th>\n",
       "      <td>mSM/P4XpWcuQUGnhL0vaCDEGjmM/7YaWew6O/eE5mV4=</td>\n",
       "      <td>2015-11-14</td>\n",
       "      <td>6</td>\n",
       "      <td>0</td>\n",
       "      <td>0</td>\n",
       "      <td>0</td>\n",
       "      <td>3</td>\n",
       "      <td>9</td>\n",
       "      <td>782.020</td>\n",
       "    </tr>\n",
       "    <tr>\n",
       "      <th>87</th>\n",
       "      <td>mSM/P4XpWcuQUGnhL0vaCDEGjmM/7YaWew6O/eE5mV4=</td>\n",
       "      <td>2016-08-27</td>\n",
       "      <td>0</td>\n",
       "      <td>0</td>\n",
       "      <td>2</td>\n",
       "      <td>0</td>\n",
       "      <td>4</td>\n",
       "      <td>5</td>\n",
       "      <td>1416.413</td>\n",
       "    </tr>\n",
       "    <tr>\n",
       "      <th>88</th>\n",
       "      <td>mSM/P4XpWcuQUGnhL0vaCDEGjmM/7YaWew6O/eE5mV4=</td>\n",
       "      <td>2017-02-25</td>\n",
       "      <td>0</td>\n",
       "      <td>0</td>\n",
       "      <td>1</td>\n",
       "      <td>0</td>\n",
       "      <td>5</td>\n",
       "      <td>6</td>\n",
       "      <td>1526.661</td>\n",
       "    </tr>\n",
       "  </tbody>\n",
       "</table>\n",
       "</div>"
      ],
      "text/plain": [
       "                                            msno       date  num_25  num_50  \\\n",
       "84  mSM/P4XpWcuQUGnhL0vaCDEGjmM/7YaWew6O/eE5mV4= 2015-02-07       0       0   \n",
       "85  mSM/P4XpWcuQUGnhL0vaCDEGjmM/7YaWew6O/eE5mV4= 2015-05-22      15       0   \n",
       "86  mSM/P4XpWcuQUGnhL0vaCDEGjmM/7YaWew6O/eE5mV4= 2015-11-14       6       0   \n",
       "87  mSM/P4XpWcuQUGnhL0vaCDEGjmM/7YaWew6O/eE5mV4= 2016-08-27       0       0   \n",
       "88  mSM/P4XpWcuQUGnhL0vaCDEGjmM/7YaWew6O/eE5mV4= 2017-02-25       0       0   \n",
       "\n",
       "    num_75  num_985  num_100  num_unq  total_secs  \n",
       "84       0        1       54       55   15457.387  \n",
       "85       0        1        3       14    1227.711  \n",
       "86       0        0        3        9     782.020  \n",
       "87       2        0        4        5    1416.413  \n",
       "88       1        0        5        6    1526.661  "
      ]
     },
     "execution_count": 76,
     "metadata": {},
     "output_type": "execute_result"
    }
   ],
   "source": [
    "df_user_logs.head()"
   ]
  },
  {
   "cell_type": "code",
   "execution_count": 77,
   "id": "8ac5b3d1-bceb-474a-a99a-2f3149de5a68",
   "metadata": {},
   "outputs": [
    {
     "data": {
      "text/html": [
       "<div>\n",
       "<style scoped>\n",
       "    .dataframe tbody tr th:only-of-type {\n",
       "        vertical-align: middle;\n",
       "    }\n",
       "\n",
       "    .dataframe tbody tr th {\n",
       "        vertical-align: top;\n",
       "    }\n",
       "\n",
       "    .dataframe thead th {\n",
       "        text-align: right;\n",
       "    }\n",
       "</style>\n",
       "<table border=\"1\" class=\"dataframe\">\n",
       "  <thead>\n",
       "    <tr style=\"text-align: right;\">\n",
       "      <th></th>\n",
       "      <th>msno</th>\n",
       "      <th>date</th>\n",
       "      <th>num_25</th>\n",
       "      <th>num_50</th>\n",
       "      <th>num_75</th>\n",
       "      <th>num_985</th>\n",
       "      <th>num_100</th>\n",
       "      <th>num_unq</th>\n",
       "      <th>total_secs</th>\n",
       "    </tr>\n",
       "  </thead>\n",
       "  <tbody>\n",
       "    <tr>\n",
       "      <th>84</th>\n",
       "      <td>mSM/P4XpWcuQUGnhL0vaCDEGjmM/7YaWew6O/eE5mV4=</td>\n",
       "      <td>2015-02-07</td>\n",
       "      <td>0</td>\n",
       "      <td>0</td>\n",
       "      <td>0</td>\n",
       "      <td>1</td>\n",
       "      <td>54</td>\n",
       "      <td>55</td>\n",
       "      <td>15457.387</td>\n",
       "    </tr>\n",
       "    <tr>\n",
       "      <th>14348417</th>\n",
       "      <td>mSM/P4XpWcuQUGnhL0vaCDEGjmM/7YaWew6O/eE5mV4=</td>\n",
       "      <td>2015-02-08</td>\n",
       "      <td>0</td>\n",
       "      <td>0</td>\n",
       "      <td>1</td>\n",
       "      <td>0</td>\n",
       "      <td>14</td>\n",
       "      <td>15</td>\n",
       "      <td>4250.033</td>\n",
       "    </tr>\n",
       "    <tr>\n",
       "      <th>22344793</th>\n",
       "      <td>mSM/P4XpWcuQUGnhL0vaCDEGjmM/7YaWew6O/eE5mV4=</td>\n",
       "      <td>2015-02-10</td>\n",
       "      <td>19</td>\n",
       "      <td>1</td>\n",
       "      <td>0</td>\n",
       "      <td>0</td>\n",
       "      <td>1</td>\n",
       "      <td>19</td>\n",
       "      <td>402.101</td>\n",
       "    </tr>\n",
       "    <tr>\n",
       "      <th>85</th>\n",
       "      <td>mSM/P4XpWcuQUGnhL0vaCDEGjmM/7YaWew6O/eE5mV4=</td>\n",
       "      <td>2015-05-22</td>\n",
       "      <td>15</td>\n",
       "      <td>0</td>\n",
       "      <td>0</td>\n",
       "      <td>1</td>\n",
       "      <td>3</td>\n",
       "      <td>14</td>\n",
       "      <td>1227.711</td>\n",
       "    </tr>\n",
       "    <tr>\n",
       "      <th>14348418</th>\n",
       "      <td>mSM/P4XpWcuQUGnhL0vaCDEGjmM/7YaWew6O/eE5mV4=</td>\n",
       "      <td>2015-05-31</td>\n",
       "      <td>11</td>\n",
       "      <td>0</td>\n",
       "      <td>0</td>\n",
       "      <td>0</td>\n",
       "      <td>0</td>\n",
       "      <td>9</td>\n",
       "      <td>65.626</td>\n",
       "    </tr>\n",
       "    <tr>\n",
       "      <th>86</th>\n",
       "      <td>mSM/P4XpWcuQUGnhL0vaCDEGjmM/7YaWew6O/eE5mV4=</td>\n",
       "      <td>2015-11-14</td>\n",
       "      <td>6</td>\n",
       "      <td>0</td>\n",
       "      <td>0</td>\n",
       "      <td>0</td>\n",
       "      <td>3</td>\n",
       "      <td>9</td>\n",
       "      <td>782.020</td>\n",
       "    </tr>\n",
       "    <tr>\n",
       "      <th>14348419</th>\n",
       "      <td>mSM/P4XpWcuQUGnhL0vaCDEGjmM/7YaWew6O/eE5mV4=</td>\n",
       "      <td>2015-11-19</td>\n",
       "      <td>28</td>\n",
       "      <td>1</td>\n",
       "      <td>0</td>\n",
       "      <td>3</td>\n",
       "      <td>1</td>\n",
       "      <td>29</td>\n",
       "      <td>1180.717</td>\n",
       "    </tr>\n",
       "    <tr>\n",
       "      <th>87</th>\n",
       "      <td>mSM/P4XpWcuQUGnhL0vaCDEGjmM/7YaWew6O/eE5mV4=</td>\n",
       "      <td>2016-08-27</td>\n",
       "      <td>0</td>\n",
       "      <td>0</td>\n",
       "      <td>2</td>\n",
       "      <td>0</td>\n",
       "      <td>4</td>\n",
       "      <td>5</td>\n",
       "      <td>1416.413</td>\n",
       "    </tr>\n",
       "    <tr>\n",
       "      <th>14348420</th>\n",
       "      <td>mSM/P4XpWcuQUGnhL0vaCDEGjmM/7YaWew6O/eE5mV4=</td>\n",
       "      <td>2016-09-03</td>\n",
       "      <td>7</td>\n",
       "      <td>0</td>\n",
       "      <td>0</td>\n",
       "      <td>2</td>\n",
       "      <td>65</td>\n",
       "      <td>71</td>\n",
       "      <td>17871.646</td>\n",
       "    </tr>\n",
       "    <tr>\n",
       "      <th>88</th>\n",
       "      <td>mSM/P4XpWcuQUGnhL0vaCDEGjmM/7YaWew6O/eE5mV4=</td>\n",
       "      <td>2017-02-25</td>\n",
       "      <td>0</td>\n",
       "      <td>0</td>\n",
       "      <td>1</td>\n",
       "      <td>0</td>\n",
       "      <td>5</td>\n",
       "      <td>6</td>\n",
       "      <td>1526.661</td>\n",
       "    </tr>\n",
       "  </tbody>\n",
       "</table>\n",
       "</div>"
      ],
      "text/plain": [
       "                                                  msno       date  num_25  \\\n",
       "84        mSM/P4XpWcuQUGnhL0vaCDEGjmM/7YaWew6O/eE5mV4= 2015-02-07       0   \n",
       "14348417  mSM/P4XpWcuQUGnhL0vaCDEGjmM/7YaWew6O/eE5mV4= 2015-02-08       0   \n",
       "22344793  mSM/P4XpWcuQUGnhL0vaCDEGjmM/7YaWew6O/eE5mV4= 2015-02-10      19   \n",
       "85        mSM/P4XpWcuQUGnhL0vaCDEGjmM/7YaWew6O/eE5mV4= 2015-05-22      15   \n",
       "14348418  mSM/P4XpWcuQUGnhL0vaCDEGjmM/7YaWew6O/eE5mV4= 2015-05-31      11   \n",
       "86        mSM/P4XpWcuQUGnhL0vaCDEGjmM/7YaWew6O/eE5mV4= 2015-11-14       6   \n",
       "14348419  mSM/P4XpWcuQUGnhL0vaCDEGjmM/7YaWew6O/eE5mV4= 2015-11-19      28   \n",
       "87        mSM/P4XpWcuQUGnhL0vaCDEGjmM/7YaWew6O/eE5mV4= 2016-08-27       0   \n",
       "14348420  mSM/P4XpWcuQUGnhL0vaCDEGjmM/7YaWew6O/eE5mV4= 2016-09-03       7   \n",
       "88        mSM/P4XpWcuQUGnhL0vaCDEGjmM/7YaWew6O/eE5mV4= 2017-02-25       0   \n",
       "\n",
       "          num_50  num_75  num_985  num_100  num_unq  total_secs  \n",
       "84             0       0        1       54       55   15457.387  \n",
       "14348417       0       1        0       14       15    4250.033  \n",
       "22344793       1       0        0        1       19     402.101  \n",
       "85             0       0        1        3       14    1227.711  \n",
       "14348418       0       0        0        0        9      65.626  \n",
       "86             0       0        0        3        9     782.020  \n",
       "14348419       1       0        3        1       29    1180.717  \n",
       "87             0       2        0        4        5    1416.413  \n",
       "14348420       0       0        2       65       71   17871.646  \n",
       "88             0       1        0        5        6    1526.661  "
      ]
     },
     "execution_count": 77,
     "metadata": {},
     "output_type": "execute_result"
    }
   ],
   "source": [
    "df_user_logs[df_user_logs['msno'] == 'mSM/P4XpWcuQUGnhL0vaCDEGjmM/7YaWew6O/eE5mV4='].head(10).sort_values(by='date')"
   ]
  },
  {
   "cell_type": "code",
   "execution_count": 78,
   "id": "0b147753-23c8-4267-a325-47fe80c0530a",
   "metadata": {},
   "outputs": [],
   "source": [
    "# \"\"\"\n",
    "# each membership period\n",
    "# 1. sum_songs = sum(num_25 + num_50 + num_75 + ..)\n",
    "# 2. sum_total_seconds_per_day = sum(total_seconds_day1 + 2 + 3)\n",
    "\n",
    "# 4. avg_secs_per_song = total_secs_played/sum_songs\n",
    "# 5. last_first_7_days_total_secs_ratio = (total_secs_last_7_days/total_secs_first_7_days)\n",
    "# 6. avg unique song played ratio (n_unique/sum_songs) per day\n",
    "# 7. avg songs_played_25%_ratio = (num_25/sum_songs) per day\n",
    "# 8. avg songs_played_50%_ratio = (num_50/sum_songs) per day\n",
    "# 9 avg songs_played_75%_ratio = (num_75/sum_songs) per day\n",
    "# 10. avg songs_played_985%_ratio = (num_985/sum_songs) per day\n",
    "# 11. avg songs_played_100%_ratio = (num_100/sum_songs) per day\n",
    "# 12. skip_ratio = (num_25 + num_50) / total_songs_played\n",
    "\n",
    "# joined with tx (to get msno, start membership, expire membership)\n",
    "# \"\"\""
   ]
  },
  {
   "cell_type": "code",
   "execution_count": 77,
   "id": "6bbbb271-7263-4ea3-afbd-c935884f6485",
   "metadata": {},
   "outputs": [
    {
     "data": {
      "text/html": [
       "<div>\n",
       "<style scoped>\n",
       "    .dataframe tbody tr th:only-of-type {\n",
       "        vertical-align: middle;\n",
       "    }\n",
       "\n",
       "    .dataframe tbody tr th {\n",
       "        vertical-align: top;\n",
       "    }\n",
       "\n",
       "    .dataframe thead th {\n",
       "        text-align: right;\n",
       "    }\n",
       "</style>\n",
       "<table border=\"1\" class=\"dataframe\">\n",
       "  <thead>\n",
       "    <tr style=\"text-align: right;\">\n",
       "      <th></th>\n",
       "      <th>msno</th>\n",
       "      <th>membership_start_date</th>\n",
       "      <th>membership_expire_date</th>\n",
       "    </tr>\n",
       "  </thead>\n",
       "  <tbody>\n",
       "    <tr>\n",
       "      <th>0</th>\n",
       "      <td>++3Z+W8OPnpbHYfrKwqRKN1bF83XEbxjdYUolhGdHZg=</td>\n",
       "      <td>2015-01-10</td>\n",
       "      <td>2015-02-09</td>\n",
       "    </tr>\n",
       "    <tr>\n",
       "      <th>1</th>\n",
       "      <td>++3Z+W8OPnpbHYfrKwqRKN1bF83XEbxjdYUolhGdHZg=</td>\n",
       "      <td>2015-02-07</td>\n",
       "      <td>2015-03-09</td>\n",
       "    </tr>\n",
       "    <tr>\n",
       "      <th>2</th>\n",
       "      <td>++3Z+W8OPnpbHYfrKwqRKN1bF83XEbxjdYUolhGdHZg=</td>\n",
       "      <td>2015-03-10</td>\n",
       "      <td>2015-04-09</td>\n",
       "    </tr>\n",
       "    <tr>\n",
       "      <th>3</th>\n",
       "      <td>++3Z+W8OPnpbHYfrKwqRKN1bF83XEbxjdYUolhGdHZg=</td>\n",
       "      <td>2015-04-09</td>\n",
       "      <td>2015-05-09</td>\n",
       "    </tr>\n",
       "    <tr>\n",
       "      <th>4</th>\n",
       "      <td>++3Z+W8OPnpbHYfrKwqRKN1bF83XEbxjdYUolhGdHZg=</td>\n",
       "      <td>2015-06-04</td>\n",
       "      <td>2015-06-04</td>\n",
       "    </tr>\n",
       "  </tbody>\n",
       "</table>\n",
       "</div>"
      ],
      "text/plain": [
       "                                           msno membership_start_date  \\\n",
       "0  ++3Z+W8OPnpbHYfrKwqRKN1bF83XEbxjdYUolhGdHZg=            2015-01-10   \n",
       "1  ++3Z+W8OPnpbHYfrKwqRKN1bF83XEbxjdYUolhGdHZg=            2015-02-07   \n",
       "2  ++3Z+W8OPnpbHYfrKwqRKN1bF83XEbxjdYUolhGdHZg=            2015-03-10   \n",
       "3  ++3Z+W8OPnpbHYfrKwqRKN1bF83XEbxjdYUolhGdHZg=            2015-04-09   \n",
       "4  ++3Z+W8OPnpbHYfrKwqRKN1bF83XEbxjdYUolhGdHZg=            2015-06-04   \n",
       "\n",
       "  membership_expire_date  \n",
       "0             2015-02-09  \n",
       "1             2015-03-09  \n",
       "2             2015-04-09  \n",
       "3             2015-05-09  \n",
       "4             2015-06-04  "
      ]
     },
     "execution_count": 77,
     "metadata": {},
     "output_type": "execute_result"
    }
   ],
   "source": [
    "df_user_logs_silver = df_transaction_silver[['msno', 'membership_start_date', 'membership_expire_date']]\n",
    "df_user_logs_silver.head()"
   ]
  },
  {
   "cell_type": "code",
   "execution_count": 79,
   "id": "2e9ca8c1-ee6a-4f54-8e5b-5196b4372617",
   "metadata": {},
   "outputs": [
    {
     "ename": "NameError",
     "evalue": "name 'df_user_logs_silver' is not defined",
     "output_type": "error",
     "traceback": [
      "\u001b[31m---------------------------------------------------------------------------\u001b[39m",
      "\u001b[31mNameError\u001b[39m                                 Traceback (most recent call last)",
      "\u001b[36mCell\u001b[39m\u001b[36m \u001b[39m\u001b[32mIn[79]\u001b[39m\u001b[32m, line 1\u001b[39m\n\u001b[32m----> \u001b[39m\u001b[32m1\u001b[39m \u001b[43mdf_user_logs_silver\u001b[49m.info()\n",
      "\u001b[31mNameError\u001b[39m: name 'df_user_logs_silver' is not defined"
     ]
    }
   ],
   "source": [
    "df_user_logs_silver.info()"
   ]
  },
  {
   "cell_type": "code",
   "execution_count": null,
   "id": "c9d34f31-8b6f-474c-ad59-fff2e7dd97c0",
   "metadata": {},
   "outputs": [],
   "source": []
  },
  {
   "cell_type": "code",
   "execution_count": null,
   "id": "9bd874a8-d861-4595-8295-e64f02e7fe2b",
   "metadata": {},
   "outputs": [],
   "source": [
    "# # Do the range join (this is like SQL's ON msno AND date BETWEEN start and end)\n",
    "# df_joined = df_logs.join(\n",
    "#     df_transactions,\n",
    "#     on=(\n",
    "#         (df_logs.msno == df_transactions.msno) &\n",
    "#         (df_logs.date >= df_transactions.membership_start_date) &\n",
    "#         (df_logs.date <= df_transactions.membership_expire_date)\n",
    "#     ),\n",
    "#     how='inner'\n",
    "# )\n"
   ]
  },
  {
   "cell_type": "code",
   "execution_count": null,
   "id": "10bad09a-390b-428c-8323-37be4feaaec3",
   "metadata": {},
   "outputs": [],
   "source": []
  },
  {
   "cell_type": "code",
   "execution_count": null,
   "id": "1ba3612d-4c37-444d-8d50-81a7fa6ab062",
   "metadata": {},
   "outputs": [],
   "source": []
  },
  {
   "cell_type": "code",
   "execution_count": null,
   "id": "75ddd79b-ff64-45f8-a83a-914efcdba11c",
   "metadata": {},
   "outputs": [],
   "source": []
  },
  {
   "cell_type": "code",
   "execution_count": null,
   "id": "b2ed89ac-79e5-4734-91d6-82b81c23adb3",
   "metadata": {},
   "outputs": [],
   "source": []
  },
  {
   "cell_type": "code",
   "execution_count": null,
   "id": "427b26d1-71ea-4e4e-887a-c40a2b82cc0c",
   "metadata": {},
   "outputs": [],
   "source": []
  },
  {
   "cell_type": "code",
   "execution_count": null,
   "id": "f000b03d-5045-490f-b992-241d1ccee6c3",
   "metadata": {},
   "outputs": [],
   "source": []
  },
  {
   "cell_type": "code",
   "execution_count": null,
   "id": "03a9560e-e19d-447d-a349-752fbb2fa605",
   "metadata": {},
   "outputs": [],
   "source": [
    "# rows = []\n",
    "\n",
    "# for index, row in df_transaction_silver.iterrows():\n",
    "#     msno = row['msno']\n",
    "#     print('done msno')\n",
    "#     start_date = row['membership_start_date']\n",
    "#     print('start date')\n",
    "#     end_date = row['membership_expire_date']\n",
    "#     print('expr')\n",
    "\n",
    "#     logs = df_user_logs[(df_user_logs['msno'] == msno) & (df_user_logs['date'] >= start_date) & (df_user_logs['date'] <= end_date)]\n",
    "\n",
    "#     sum_songs = logs[['num_25', 'num_50', 'num_75', 'num_985', 'num_100']].sum().sum()\n",
    "#     total_secs = logs['total_secs'].sum()\n",
    "#     active_days = logs['date'].nunique()\n",
    "\n",
    "#     avg_secs_per_song = total_secs / sum_songs if sum_songs > 0 else 0\n",
    "\n",
    "#     rows.append({\n",
    "#         'msno': msno,\n",
    "#         'membership_start_date': start_date,\n",
    "#         'membership_expire_date': end_date,\n",
    "#         'sum_songs': sum_songs,\n",
    "#         'total_secs': total_secs,\n",
    "#         'active_days': active_days,\n",
    "#         'avg_secs_per_song': avg_secs_per_song\n",
    "#     })\n",
    "\n",
    "# testing_for_df = pd.DataFrame(rows)\n",
    "# testing_for_df"
   ]
  },
  {
   "cell_type": "markdown",
   "id": "0414f57a-ab29-40e8-97c6-776f0e49515e",
   "metadata": {},
   "source": [
    "### Member"
   ]
  },
  {
   "cell_type": "code",
   "execution_count": 90,
   "id": "812ace58-4f73-4297-a2c3-f86e4a7024f2",
   "metadata": {},
   "outputs": [
    {
     "data": {
      "text/html": [
       "<div>\n",
       "<style scoped>\n",
       "    .dataframe tbody tr th:only-of-type {\n",
       "        vertical-align: middle;\n",
       "    }\n",
       "\n",
       "    .dataframe tbody tr th {\n",
       "        vertical-align: top;\n",
       "    }\n",
       "\n",
       "    .dataframe thead th {\n",
       "        text-align: right;\n",
       "    }\n",
       "</style>\n",
       "<table border=\"1\" class=\"dataframe\">\n",
       "  <thead>\n",
       "    <tr style=\"text-align: right;\">\n",
       "      <th></th>\n",
       "      <th>msno</th>\n",
       "      <th>city</th>\n",
       "      <th>gender</th>\n",
       "      <th>registered_via</th>\n",
       "      <th>registration_init_time</th>\n",
       "    </tr>\n",
       "  </thead>\n",
       "  <tbody>\n",
       "    <tr>\n",
       "      <th>1108581</th>\n",
       "      <td>2dwuk0KQUnCnRvFnDGFyIslHLqG8lFHkyOvfRNwc5XI=</td>\n",
       "      <td>5</td>\n",
       "      <td>female</td>\n",
       "      <td>9</td>\n",
       "      <td>2012-03-09</td>\n",
       "    </tr>\n",
       "    <tr>\n",
       "      <th>2860696</th>\n",
       "      <td>Bx13MoR+nVJVVDsatg3fxInFupmO1jSzdkFKMA976t8=</td>\n",
       "      <td>13</td>\n",
       "      <td>female</td>\n",
       "      <td>7</td>\n",
       "      <td>2013-04-22</td>\n",
       "    </tr>\n",
       "    <tr>\n",
       "      <th>685587</th>\n",
       "      <td>2ouWnOhbWxdFyjEy8qx/8lr15OzZ0PX9tr6xZP4Ihns=</td>\n",
       "      <td>1</td>\n",
       "      <td>na</td>\n",
       "      <td>7</td>\n",
       "      <td>2014-06-29</td>\n",
       "    </tr>\n",
       "    <tr>\n",
       "      <th>3381701</th>\n",
       "      <td>QvZtxnHz7yGh07QiFuq0RN1hL5WrzcbKlQTUiroEEyE=</td>\n",
       "      <td>13</td>\n",
       "      <td>na</td>\n",
       "      <td>9</td>\n",
       "      <td>2011-05-28</td>\n",
       "    </tr>\n",
       "    <tr>\n",
       "      <th>5145811</th>\n",
       "      <td>CUFR22oaKwIwzj4VMey3Mj76B5zawuo2PxsWheNfQ6Q=</td>\n",
       "      <td>5</td>\n",
       "      <td>male</td>\n",
       "      <td>9</td>\n",
       "      <td>2014-11-28</td>\n",
       "    </tr>\n",
       "  </tbody>\n",
       "</table>\n",
       "</div>"
      ],
      "text/plain": [
       "                                                 msno  city  gender  \\\n",
       "1108581  2dwuk0KQUnCnRvFnDGFyIslHLqG8lFHkyOvfRNwc5XI=     5  female   \n",
       "2860696  Bx13MoR+nVJVVDsatg3fxInFupmO1jSzdkFKMA976t8=    13  female   \n",
       "685587   2ouWnOhbWxdFyjEy8qx/8lr15OzZ0PX9tr6xZP4Ihns=     1      na   \n",
       "3381701  QvZtxnHz7yGh07QiFuq0RN1hL5WrzcbKlQTUiroEEyE=    13      na   \n",
       "5145811  CUFR22oaKwIwzj4VMey3Mj76B5zawuo2PxsWheNfQ6Q=     5    male   \n",
       "\n",
       "         registered_via registration_init_time  \n",
       "1108581               9             2012-03-09  \n",
       "2860696               7             2013-04-22  \n",
       "685587                7             2014-06-29  \n",
       "3381701               9             2011-05-28  \n",
       "5145811               9             2014-11-28  "
      ]
     },
     "execution_count": 90,
     "metadata": {},
     "output_type": "execute_result"
    }
   ],
   "source": [
    "df_members.head()"
   ]
  },
  {
   "cell_type": "code",
   "execution_count": 91,
   "id": "552c3e02-3df6-4e0c-af2b-416815c8a977",
   "metadata": {},
   "outputs": [],
   "source": [
    "# Account age on transaction x member registration init time"
   ]
  },
  {
   "cell_type": "code",
   "execution_count": null,
   "id": "a892c686-fb6c-4b68-a647-59a3e441cc7d",
   "metadata": {},
   "outputs": [],
   "source": []
  },
  {
   "cell_type": "code",
   "execution_count": null,
   "id": "e47a8e7b-9590-4f95-8403-2f29aa5024cf",
   "metadata": {},
   "outputs": [],
   "source": []
  },
  {
   "cell_type": "code",
   "execution_count": null,
   "id": "e0f850e6-936d-4c9c-bb5f-ee0c03ea59d4",
   "metadata": {},
   "outputs": [],
   "source": []
  }
 ],
 "metadata": {
  "kernelspec": {
   "display_name": "Python 3 (ipykernel)",
   "language": "python",
   "name": "python3"
  },
  "language_info": {
   "codemirror_mode": {
    "name": "ipython",
    "version": 3
   },
   "file_extension": ".py",
   "mimetype": "text/x-python",
   "name": "python",
   "nbconvert_exporter": "python",
   "pygments_lexer": "ipython3",
   "version": "3.12.11"
  }
 },
 "nbformat": 4,
 "nbformat_minor": 5
}
