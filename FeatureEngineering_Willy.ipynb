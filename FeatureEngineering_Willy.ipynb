{
 "cells": [
  {
   "cell_type": "code",
   "execution_count": 1,
   "id": "fcfd64a6-342a-4f7f-9215-bb15e8879db7",
   "metadata": {},
   "outputs": [
    {
     "name": "stdout",
     "output_type": "stream",
     "text": [
      "Done Importing!\n"
     ]
    }
   ],
   "source": [
    "import pandas as pd\n",
    "import numpy as np\n",
    "import seaborn as sns\n",
    "import matplotlib.pyplot as plt\n",
    "import calendar\n",
    "from pyspark.sql import SparkSession\n",
    "from tqdm import tqdm\n",
    "import time  # to simulate loading for tqdm\n",
    "\n",
    "import os\n",
    "import glob\n",
    "import random\n",
    "from datetime import datetime, timedelta\n",
    "from dateutil.relativedelta import relativedelta\n",
    "import pprint\n",
    "import pyspark\n",
    "import pyspark.sql.functions as F\n",
    "\n",
    "from pyspark.sql.functions import col, to_date, count, min, max, lit\n",
    "from pyspark.sql.types import StringType, IntegerType, FloatType, DateType\n",
    "from pyspark.sql.functions import col, sum as spark_sum, when\n",
    "\n",
    "import utils.bronze\n",
    "import utils.silver\n",
    "\n",
    "print('Done Importing!')"
   ]
  },
  {
   "cell_type": "code",
   "execution_count": 2,
   "id": "57e43867-7336-4c85-9f58-f213f6f0ad7d",
   "metadata": {},
   "outputs": [],
   "source": [
    "# # Create gold table and store to Google Cloud Storage\n",
    "# gold_label_file_path = \"Gold Layer/labels.csv\"\n",
    "# gold_label_gcs_path = f\"gs://{bucket_name}/{gold_label_file_path}\"\n",
    "\n",
    "# try:\n",
    "#     df_labels.to_csv(gold_label_gcs_path, index=False)\n",
    "#     print(\"labels.csv Stored to Gold Layer Successfully! ✅\")\n",
    "# except Exception as e:\n",
    "#     print(f\"labels.csv Store Failed: {e}\")"
   ]
  },
  {
   "cell_type": "markdown",
   "id": "875478ff-a598-4c8b-a554-3339d7bbcd3e",
   "metadata": {},
   "source": [
    "# Setup Hadoop\n",
    "Go to your working directory: CS611_MLE_GROUP_PROJECT <br/>\n",
    "Then, run this command in your VM terminal:\n",
    "> wget https://repo1.maven.org/maven2/com/google/cloud/bigdataoss/gcs-connector/hadoop3-2.2.20/gcs-connector-hadoop3-2.2.20-shaded.jar -P jars/\n",
    "\n",
    "<br/><br/>\n",
    "Copy your google cloud application_default_credentials.json to this working directory, then can run the following commands:"
   ]
  },
  {
   "cell_type": "code",
   "execution_count": 3,
   "id": "9c8c23a9-e386-4fdd-9469-7deb322f36b3",
   "metadata": {},
   "outputs": [
    {
     "name": "stderr",
     "output_type": "stream",
     "text": [
      "25/06/15 00:58:16 WARN NativeCodeLoader: Unable to load native-hadoop library for your platform... using builtin-java classes where applicable\n",
      "Setting default log level to \"WARN\".\n",
      "To adjust logging level use sc.setLogLevel(newLevel). For SparkR, use setLogLevel(newLevel).\n"
     ]
    }
   ],
   "source": [
    "spark = SparkSession \\\n",
    "        .builder \\\n",
    "        .config(\"spark.jars\", \"jars/gcs-connector-hadoop3-2.2.20-shaded.jar\") \\\n",
    "        .getOrCreate()"
   ]
  },
  {
   "cell_type": "code",
   "execution_count": 4,
   "id": "5bfa7d2b-f59e-4382-85f7-238b9f1f9abd",
   "metadata": {},
   "outputs": [],
   "source": [
    "spark._jsc.hadoopConfiguration().set('fs.gs.impl', 'com.google.cloud.hadoop.fs.gcs.GoogleHadoopFileSystem')\n",
    "# This is required if you are using service account and set true, \n",
    "spark._jsc.hadoopConfiguration().set('fs.gs.auth.service.account.enable', 'true')\n",
    "spark._jsc.hadoopConfiguration().set('google.cloud.auth.service.account.json.keyfile', \"application_default_credentials.json\")\n",
    "# Following are required if you are using oAuth\n",
    "# spark._jsc.hadoopConfiguration().set('fs.gs.auth.client.id', 'YOUR_OAUTH_CLIENT_ID')\n",
    "# spark._jsc.hadoopConfiguration().set('fs.gs.auth.client.secret', 'OAUTH_SECRET')"
   ]
  },
  {
   "cell_type": "markdown",
   "id": "05687340-0d0b-4626-a6f2-cd88e395ab56",
   "metadata": {},
   "source": [
    "# Partition Existing Bronze"
   ]
  },
  {
   "cell_type": "code",
   "execution_count": 5,
   "id": "b3107dbf-0815-4115-8bb5-6deb5c65d493",
   "metadata": {},
   "outputs": [],
   "source": [
    "# Setup Config\n",
    "snapshot_date_str = \"2015-01-01\"\n",
    "\n",
    "start_date_str = \"2015-01-01\"\n",
    "end_date_str = \"2017-03-31\""
   ]
  },
  {
   "cell_type": "code",
   "execution_count": 6,
   "id": "92c3ad1c-639d-440c-968e-17883f05cdaa",
   "metadata": {},
   "outputs": [
    {
     "name": "stdout",
     "output_type": "stream",
     "text": [
      "Done generate list of dates!\n"
     ]
    }
   ],
   "source": [
    "# generate list of dates to process\n",
    "def generate_first_of_month_dates(start_date_str, end_date_str):\n",
    "    # Convert the date strings to datetime objects\n",
    "    start_date = datetime.strptime(start_date_str, \"%Y-%m-%d\")\n",
    "    end_date = datetime.strptime(end_date_str, \"%Y-%m-%d\")\n",
    "    \n",
    "    # List to store the first of month dates\n",
    "    first_of_month_dates = []\n",
    "\n",
    "    # Start from the first of the month of the start_date\n",
    "    current_date = datetime(start_date.year, start_date.month, 1)\n",
    "\n",
    "    while current_date <= end_date:\n",
    "        # Append the date in yyyy-mm-dd format\n",
    "        first_of_month_dates.append(current_date.strftime(\"%Y-%m-%d\"))\n",
    "        \n",
    "        # Move to the first of the next month\n",
    "        if current_date.month == 12:\n",
    "            current_date = datetime(current_date.year + 1, 1, 1)\n",
    "        else:\n",
    "            current_date = datetime(current_date.year, current_date.month + 1, 1)\n",
    "\n",
    "    return first_of_month_dates\n",
    "\n",
    "dates_str_lst = generate_first_of_month_dates(start_date_str, end_date_str)\n",
    "print(\"Done generate list of dates!\")"
   ]
  },
  {
   "cell_type": "code",
   "execution_count": 7,
   "id": "9d606561-b76b-48e0-8006-9332c6b1a45c",
   "metadata": {},
   "outputs": [
    {
     "data": {
      "text/plain": [
       "['2015-01-01',\n",
       " '2015-02-01',\n",
       " '2015-03-01',\n",
       " '2015-04-01',\n",
       " '2015-05-01',\n",
       " '2015-06-01',\n",
       " '2015-07-01',\n",
       " '2015-08-01',\n",
       " '2015-09-01',\n",
       " '2015-10-01',\n",
       " '2015-11-01',\n",
       " '2015-12-01',\n",
       " '2016-01-01',\n",
       " '2016-02-01',\n",
       " '2016-03-01',\n",
       " '2016-04-01',\n",
       " '2016-05-01',\n",
       " '2016-06-01',\n",
       " '2016-07-01',\n",
       " '2016-08-01',\n",
       " '2016-09-01',\n",
       " '2016-10-01',\n",
       " '2016-11-01',\n",
       " '2016-12-01',\n",
       " '2017-01-01',\n",
       " '2017-02-01',\n",
       " '2017-03-01']"
      ]
     },
     "execution_count": 7,
     "metadata": {},
     "output_type": "execute_result"
    }
   ],
   "source": [
    "dates_str_lst"
   ]
  },
  {
   "cell_type": "code",
   "execution_count": 8,
   "id": "a872c187-d5ca-43ce-9cd4-e6064534e903",
   "metadata": {},
   "outputs": [],
   "source": [
    "bucket_name = \"cs611_mle\""
   ]
  },
  {
   "cell_type": "markdown",
   "id": "d2584a1a-b3ae-47fc-9cf5-2bba0cbdde71",
   "metadata": {},
   "source": [
    "### Bronze Member"
   ]
  },
  {
   "cell_type": "code",
   "execution_count": 9,
   "id": "f4569354-114f-46ed-baae-981be7724e27",
   "metadata": {},
   "outputs": [],
   "source": [
    "### ~~~ Bronze Member ~~~\n",
    "# create bronze datalake\n",
    "bronze_member_directory = \"datamart/bronze/member\""
   ]
  },
  {
   "cell_type": "code",
   "execution_count": null,
   "id": "c46b9659-5321-4781-b8c9-a9a6374f97f7",
   "metadata": {},
   "outputs": [],
   "source": [
    "# No need to be partitioned\n",
    "utils.bronze.process_bronze_member(bucket_name, bronze_member_directory, spark)\n",
    "print('Done Build Bronze Table - Member!')"
   ]
  },
  {
   "cell_type": "markdown",
   "id": "e1322ed7-7e7b-417b-815b-c9e80f27df2d",
   "metadata": {},
   "source": [
    "### Bronze User Log"
   ]
  },
  {
   "cell_type": "code",
   "execution_count": 11,
   "id": "c8b6fba4-3256-4eb8-8c4e-4ae49e95df46",
   "metadata": {},
   "outputs": [],
   "source": [
    "### ~~~ User Log ~~~\n",
    "# create bronze datalake\n",
    "# create multiple csv files \n",
    "bronze_userlog_directory = \"datamart/bronze/userlog\""
   ]
  },
  {
   "cell_type": "code",
   "execution_count": 11,
   "id": "1a3bd6c3-4522-49df-9af1-a0acd396952c",
   "metadata": {
    "scrolled": true
   },
   "outputs": [
    {
     "name": "stderr",
     "output_type": "stream",
     "text": [
      "                                                                                "
     ]
    },
    {
     "name": "stdout",
     "output_type": "stream",
     "text": [
      "2015-01-01row count: 2032255\n"
     ]
    },
    {
     "name": "stderr",
     "output_type": "stream",
     "text": [
      "                                                                                "
     ]
    },
    {
     "name": "stdout",
     "output_type": "stream",
     "text": [
      "saved to: gs://cs611_mle/datamart/bronze/userlog/bronze_userlog_2015_01_01.csv\n"
     ]
    },
    {
     "name": "stderr",
     "output_type": "stream",
     "text": [
      "                                                                                "
     ]
    },
    {
     "name": "stdout",
     "output_type": "stream",
     "text": [
      "2015-02-01row count: 1812923\n"
     ]
    },
    {
     "name": "stderr",
     "output_type": "stream",
     "text": [
      "                                                                                "
     ]
    },
    {
     "name": "stdout",
     "output_type": "stream",
     "text": [
      "saved to: gs://cs611_mle/datamart/bronze/userlog/bronze_userlog_2015_02_01.csv\n"
     ]
    },
    {
     "name": "stderr",
     "output_type": "stream",
     "text": [
      "                                                                                "
     ]
    },
    {
     "name": "stdout",
     "output_type": "stream",
     "text": [
      "2015-03-01row count: 2093862\n"
     ]
    },
    {
     "name": "stderr",
     "output_type": "stream",
     "text": [
      "                                                                                "
     ]
    },
    {
     "name": "stdout",
     "output_type": "stream",
     "text": [
      "saved to: gs://cs611_mle/datamart/bronze/userlog/bronze_userlog_2015_03_01.csv\n"
     ]
    },
    {
     "name": "stderr",
     "output_type": "stream",
     "text": [
      "                                                                                "
     ]
    },
    {
     "name": "stdout",
     "output_type": "stream",
     "text": [
      "2015-04-01row count: 2073110\n"
     ]
    },
    {
     "name": "stderr",
     "output_type": "stream",
     "text": [
      "                                                                                "
     ]
    },
    {
     "name": "stdout",
     "output_type": "stream",
     "text": [
      "saved to: gs://cs611_mle/datamart/bronze/userlog/bronze_userlog_2015_04_01.csv\n"
     ]
    },
    {
     "name": "stderr",
     "output_type": "stream",
     "text": [
      "                                                                                "
     ]
    },
    {
     "name": "stdout",
     "output_type": "stream",
     "text": [
      "2015-05-01row count: 2132861\n"
     ]
    },
    {
     "name": "stderr",
     "output_type": "stream",
     "text": [
      "                                                                                "
     ]
    },
    {
     "name": "stdout",
     "output_type": "stream",
     "text": [
      "saved to: gs://cs611_mle/datamart/bronze/userlog/bronze_userlog_2015_05_01.csv\n"
     ]
    },
    {
     "name": "stderr",
     "output_type": "stream",
     "text": [
      "                                                                                "
     ]
    },
    {
     "name": "stdout",
     "output_type": "stream",
     "text": [
      "2015-06-01row count: 2057344\n"
     ]
    },
    {
     "name": "stderr",
     "output_type": "stream",
     "text": [
      "                                                                                "
     ]
    },
    {
     "name": "stdout",
     "output_type": "stream",
     "text": [
      "saved to: gs://cs611_mle/datamart/bronze/userlog/bronze_userlog_2015_06_01.csv\n"
     ]
    },
    {
     "name": "stderr",
     "output_type": "stream",
     "text": [
      "                                                                                "
     ]
    },
    {
     "name": "stdout",
     "output_type": "stream",
     "text": [
      "2015-07-01row count: 2101474\n"
     ]
    },
    {
     "name": "stderr",
     "output_type": "stream",
     "text": [
      "                                                                                "
     ]
    },
    {
     "name": "stdout",
     "output_type": "stream",
     "text": [
      "saved to: gs://cs611_mle/datamart/bronze/userlog/bronze_userlog_2015_07_01.csv\n"
     ]
    },
    {
     "name": "stderr",
     "output_type": "stream",
     "text": [
      "                                                                                "
     ]
    },
    {
     "name": "stdout",
     "output_type": "stream",
     "text": [
      "2015-08-01row count: 2114079\n"
     ]
    },
    {
     "name": "stderr",
     "output_type": "stream",
     "text": [
      "                                                                                "
     ]
    },
    {
     "name": "stdout",
     "output_type": "stream",
     "text": [
      "saved to: gs://cs611_mle/datamart/bronze/userlog/bronze_userlog_2015_08_01.csv\n"
     ]
    },
    {
     "name": "stderr",
     "output_type": "stream",
     "text": [
      "                                                                                "
     ]
    },
    {
     "name": "stdout",
     "output_type": "stream",
     "text": [
      "2015-09-01row count: 2114567\n"
     ]
    },
    {
     "name": "stderr",
     "output_type": "stream",
     "text": [
      "                                                                                "
     ]
    },
    {
     "name": "stdout",
     "output_type": "stream",
     "text": [
      "saved to: gs://cs611_mle/datamart/bronze/userlog/bronze_userlog_2015_09_01.csv\n"
     ]
    },
    {
     "name": "stderr",
     "output_type": "stream",
     "text": [
      "                                                                                "
     ]
    },
    {
     "name": "stdout",
     "output_type": "stream",
     "text": [
      "2015-10-01row count: 2208924\n"
     ]
    },
    {
     "name": "stderr",
     "output_type": "stream",
     "text": [
      "                                                                                "
     ]
    },
    {
     "name": "stdout",
     "output_type": "stream",
     "text": [
      "saved to: gs://cs611_mle/datamart/bronze/userlog/bronze_userlog_2015_10_01.csv\n"
     ]
    },
    {
     "name": "stderr",
     "output_type": "stream",
     "text": [
      "                                                                                "
     ]
    },
    {
     "name": "stdout",
     "output_type": "stream",
     "text": [
      "2015-11-01row count: 2193150\n"
     ]
    },
    {
     "name": "stderr",
     "output_type": "stream",
     "text": [
      "                                                                                "
     ]
    },
    {
     "name": "stdout",
     "output_type": "stream",
     "text": [
      "saved to: gs://cs611_mle/datamart/bronze/userlog/bronze_userlog_2015_11_01.csv\n"
     ]
    },
    {
     "name": "stderr",
     "output_type": "stream",
     "text": [
      "                                                                                "
     ]
    },
    {
     "name": "stdout",
     "output_type": "stream",
     "text": [
      "2015-12-01row count: 2286470\n"
     ]
    },
    {
     "name": "stderr",
     "output_type": "stream",
     "text": [
      "                                                                                "
     ]
    },
    {
     "name": "stdout",
     "output_type": "stream",
     "text": [
      "saved to: gs://cs611_mle/datamart/bronze/userlog/bronze_userlog_2015_12_01.csv\n"
     ]
    },
    {
     "name": "stderr",
     "output_type": "stream",
     "text": [
      "                                                                                "
     ]
    },
    {
     "name": "stdout",
     "output_type": "stream",
     "text": [
      "2016-01-01row count: 2266296\n"
     ]
    },
    {
     "name": "stderr",
     "output_type": "stream",
     "text": [
      "                                                                                "
     ]
    },
    {
     "name": "stdout",
     "output_type": "stream",
     "text": [
      "saved to: gs://cs611_mle/datamart/bronze/userlog/bronze_userlog_2016_01_01.csv\n"
     ]
    },
    {
     "name": "stderr",
     "output_type": "stream",
     "text": [
      "                                                                                "
     ]
    },
    {
     "name": "stdout",
     "output_type": "stream",
     "text": [
      "2016-02-01row count: 2084238\n"
     ]
    },
    {
     "name": "stderr",
     "output_type": "stream",
     "text": [
      "                                                                                "
     ]
    },
    {
     "name": "stdout",
     "output_type": "stream",
     "text": [
      "saved to: gs://cs611_mle/datamart/bronze/userlog/bronze_userlog_2016_02_01.csv\n"
     ]
    },
    {
     "name": "stderr",
     "output_type": "stream",
     "text": [
      "                                                                                "
     ]
    },
    {
     "name": "stdout",
     "output_type": "stream",
     "text": [
      "2016-03-01row count: 2372010\n"
     ]
    },
    {
     "name": "stderr",
     "output_type": "stream",
     "text": [
      "                                                                                "
     ]
    },
    {
     "name": "stdout",
     "output_type": "stream",
     "text": [
      "saved to: gs://cs611_mle/datamart/bronze/userlog/bronze_userlog_2016_03_01.csv\n"
     ]
    },
    {
     "name": "stderr",
     "output_type": "stream",
     "text": [
      "                                                                                "
     ]
    },
    {
     "name": "stdout",
     "output_type": "stream",
     "text": [
      "2016-04-01row count: 2346184\n"
     ]
    },
    {
     "name": "stderr",
     "output_type": "stream",
     "text": [
      "                                                                                "
     ]
    },
    {
     "name": "stdout",
     "output_type": "stream",
     "text": [
      "saved to: gs://cs611_mle/datamart/bronze/userlog/bronze_userlog_2016_04_01.csv\n"
     ]
    },
    {
     "name": "stderr",
     "output_type": "stream",
     "text": [
      "                                                                                "
     ]
    },
    {
     "name": "stdout",
     "output_type": "stream",
     "text": [
      "2016-05-01row count: 2445414\n"
     ]
    },
    {
     "name": "stderr",
     "output_type": "stream",
     "text": [
      "                                                                                "
     ]
    },
    {
     "name": "stdout",
     "output_type": "stream",
     "text": [
      "saved to: gs://cs611_mle/datamart/bronze/userlog/bronze_userlog_2016_05_01.csv\n"
     ]
    },
    {
     "name": "stderr",
     "output_type": "stream",
     "text": [
      "                                                                                "
     ]
    },
    {
     "name": "stdout",
     "output_type": "stream",
     "text": [
      "2016-06-01row count: 2374866\n"
     ]
    },
    {
     "name": "stderr",
     "output_type": "stream",
     "text": [
      "                                                                                "
     ]
    },
    {
     "name": "stdout",
     "output_type": "stream",
     "text": [
      "saved to: gs://cs611_mle/datamart/bronze/userlog/bronze_userlog_2016_06_01.csv\n"
     ]
    },
    {
     "name": "stderr",
     "output_type": "stream",
     "text": [
      "                                                                                "
     ]
    },
    {
     "name": "stdout",
     "output_type": "stream",
     "text": [
      "2016-07-01row count: 2444254\n"
     ]
    },
    {
     "name": "stderr",
     "output_type": "stream",
     "text": [
      "                                                                                "
     ]
    },
    {
     "name": "stdout",
     "output_type": "stream",
     "text": [
      "saved to: gs://cs611_mle/datamart/bronze/userlog/bronze_userlog_2016_07_01.csv\n"
     ]
    },
    {
     "name": "stderr",
     "output_type": "stream",
     "text": [
      "                                                                                "
     ]
    },
    {
     "name": "stdout",
     "output_type": "stream",
     "text": [
      "2016-08-01row count: 2451183\n"
     ]
    },
    {
     "name": "stderr",
     "output_type": "stream",
     "text": [
      "                                                                                "
     ]
    },
    {
     "name": "stdout",
     "output_type": "stream",
     "text": [
      "saved to: gs://cs611_mle/datamart/bronze/userlog/bronze_userlog_2016_08_01.csv\n"
     ]
    },
    {
     "name": "stderr",
     "output_type": "stream",
     "text": [
      "                                                                                "
     ]
    },
    {
     "name": "stdout",
     "output_type": "stream",
     "text": [
      "2016-09-01row count: 2376297\n"
     ]
    },
    {
     "name": "stderr",
     "output_type": "stream",
     "text": [
      "                                                                                "
     ]
    },
    {
     "name": "stdout",
     "output_type": "stream",
     "text": [
      "saved to: gs://cs611_mle/datamart/bronze/userlog/bronze_userlog_2016_09_01.csv\n"
     ]
    },
    {
     "name": "stderr",
     "output_type": "stream",
     "text": [
      "                                                                                "
     ]
    },
    {
     "name": "stdout",
     "output_type": "stream",
     "text": [
      "2016-10-01row count: 2516994\n"
     ]
    },
    {
     "name": "stderr",
     "output_type": "stream",
     "text": [
      "                                                                                "
     ]
    },
    {
     "name": "stdout",
     "output_type": "stream",
     "text": [
      "saved to: gs://cs611_mle/datamart/bronze/userlog/bronze_userlog_2016_10_01.csv\n"
     ]
    },
    {
     "name": "stderr",
     "output_type": "stream",
     "text": [
      "                                                                                "
     ]
    },
    {
     "name": "stdout",
     "output_type": "stream",
     "text": [
      "2016-11-01row count: 2466286\n"
     ]
    },
    {
     "name": "stderr",
     "output_type": "stream",
     "text": [
      "                                                                                "
     ]
    },
    {
     "name": "stdout",
     "output_type": "stream",
     "text": [
      "saved to: gs://cs611_mle/datamart/bronze/userlog/bronze_userlog_2016_11_01.csv\n"
     ]
    },
    {
     "name": "stderr",
     "output_type": "stream",
     "text": [
      "                                                                                "
     ]
    },
    {
     "name": "stdout",
     "output_type": "stream",
     "text": [
      "2016-12-01row count: 2565567\n"
     ]
    },
    {
     "name": "stderr",
     "output_type": "stream",
     "text": [
      "                                                                                "
     ]
    },
    {
     "name": "stdout",
     "output_type": "stream",
     "text": [
      "saved to: gs://cs611_mle/datamart/bronze/userlog/bronze_userlog_2016_12_01.csv\n"
     ]
    },
    {
     "name": "stderr",
     "output_type": "stream",
     "text": [
      "                                                                                "
     ]
    },
    {
     "name": "stdout",
     "output_type": "stream",
     "text": [
      "2017-01-01row count: 2536389\n"
     ]
    },
    {
     "name": "stderr",
     "output_type": "stream",
     "text": [
      "                                                                                "
     ]
    },
    {
     "name": "stdout",
     "output_type": "stream",
     "text": [
      "saved to: gs://cs611_mle/datamart/bronze/userlog/bronze_userlog_2017_01_01.csv\n"
     ]
    },
    {
     "name": "stderr",
     "output_type": "stream",
     "text": [
      "                                                                                "
     ]
    },
    {
     "name": "stdout",
     "output_type": "stream",
     "text": [
      "2017-02-01row count: 2270306\n"
     ]
    },
    {
     "name": "stderr",
     "output_type": "stream",
     "text": [
      "                                                                                "
     ]
    },
    {
     "name": "stdout",
     "output_type": "stream",
     "text": [
      "saved to: gs://cs611_mle/datamart/bronze/userlog/bronze_userlog_2017_02_01.csv\n"
     ]
    },
    {
     "name": "stderr",
     "output_type": "stream",
     "text": [
      "                                                                                "
     ]
    },
    {
     "name": "stdout",
     "output_type": "stream",
     "text": [
      "2017-03-01row count: 2587759\n"
     ]
    },
    {
     "name": "stderr",
     "output_type": "stream",
     "text": [
      "                                                                                "
     ]
    },
    {
     "name": "stdout",
     "output_type": "stream",
     "text": [
      "saved to: gs://cs611_mle/datamart/bronze/userlog/bronze_userlog_2017_03_01.csv\n",
      "Done Build Bronze Table - userlog!\n"
     ]
    }
   ],
   "source": [
    "\n",
    "# run bronze backfill\n",
    "for date_str in dates_str_lst:\n",
    "    utils.bronze.process_bronze_userlog(date_str, bucket_name, bronze_userlog_directory, spark)\n",
    "    \n",
    "print('Done Build Bronze Table - userlog!')"
   ]
  },
  {
   "cell_type": "markdown",
   "id": "c518d048-d945-4574-801a-6738c9fd077d",
   "metadata": {},
   "source": [
    "# Partition Existing Silver"
   ]
  },
  {
   "cell_type": "markdown",
   "id": "12563740-da19-4457-8c81-5ee89219d0a2",
   "metadata": {},
   "source": [
    "This should have been done in Bronze"
   ]
  },
  {
   "cell_type": "markdown",
   "id": "0ba4036e-5d5d-4c5e-a921-385ac07300a4",
   "metadata": {},
   "source": [
    "### Silver Transaction"
   ]
  },
  {
   "cell_type": "code",
   "execution_count": 14,
   "id": "4ad360dc-f179-4500-989b-9e41f0b24494",
   "metadata": {},
   "outputs": [],
   "source": [
    "### ~~~ Transaction ~~~\n",
    "# create silver datalake\n",
    "# create multiple csv files \n",
    "bronze_transaction_directory = \"datamart/bronze/transaction\""
   ]
  },
  {
   "cell_type": "code",
   "execution_count": 15,
   "id": "96bb98ad-85e8-49f2-b865-b72435c13564",
   "metadata": {
    "scrolled": true
   },
   "outputs": [
    {
     "name": "stderr",
     "output_type": "stream",
     "text": [
      "                                                                                "
     ]
    },
    {
     "name": "stdout",
     "output_type": "stream",
     "text": [
      "2015-01-01row count: 97582\n"
     ]
    },
    {
     "name": "stderr",
     "output_type": "stream",
     "text": [
      "                                                                                "
     ]
    },
    {
     "name": "stdout",
     "output_type": "stream",
     "text": [
      "saved to: gs://cs611_mle/datamart/bronze/transaction/bronze_transaction_2015_01_01.csv\n"
     ]
    },
    {
     "name": "stderr",
     "output_type": "stream",
     "text": [
      "                                                                                "
     ]
    },
    {
     "name": "stdout",
     "output_type": "stream",
     "text": [
      "2015-02-01row count: 88599\n"
     ]
    },
    {
     "name": "stderr",
     "output_type": "stream",
     "text": [
      "                                                                                "
     ]
    },
    {
     "name": "stdout",
     "output_type": "stream",
     "text": [
      "saved to: gs://cs611_mle/datamart/bronze/transaction/bronze_transaction_2015_02_01.csv\n"
     ]
    },
    {
     "name": "stderr",
     "output_type": "stream",
     "text": [
      "                                                                                "
     ]
    },
    {
     "name": "stdout",
     "output_type": "stream",
     "text": [
      "2015-03-01row count: 110650\n"
     ]
    },
    {
     "name": "stderr",
     "output_type": "stream",
     "text": [
      "                                                                                "
     ]
    },
    {
     "name": "stdout",
     "output_type": "stream",
     "text": [
      "saved to: gs://cs611_mle/datamart/bronze/transaction/bronze_transaction_2015_03_01.csv\n"
     ]
    },
    {
     "name": "stderr",
     "output_type": "stream",
     "text": [
      "                                                                                "
     ]
    },
    {
     "name": "stdout",
     "output_type": "stream",
     "text": [
      "2015-04-01row count: 90444\n"
     ]
    },
    {
     "name": "stderr",
     "output_type": "stream",
     "text": [
      "                                                                                "
     ]
    },
    {
     "name": "stdout",
     "output_type": "stream",
     "text": [
      "saved to: gs://cs611_mle/datamart/bronze/transaction/bronze_transaction_2015_04_01.csv\n"
     ]
    },
    {
     "name": "stderr",
     "output_type": "stream",
     "text": [
      "                                                                                "
     ]
    },
    {
     "name": "stdout",
     "output_type": "stream",
     "text": [
      "2015-05-01row count: 74016\n"
     ]
    },
    {
     "name": "stderr",
     "output_type": "stream",
     "text": [
      "                                                                                "
     ]
    },
    {
     "name": "stdout",
     "output_type": "stream",
     "text": [
      "saved to: gs://cs611_mle/datamart/bronze/transaction/bronze_transaction_2015_05_01.csv\n"
     ]
    },
    {
     "name": "stderr",
     "output_type": "stream",
     "text": [
      "                                                                                "
     ]
    },
    {
     "name": "stdout",
     "output_type": "stream",
     "text": [
      "2015-06-01row count: 159757\n"
     ]
    },
    {
     "name": "stderr",
     "output_type": "stream",
     "text": [
      "                                                                                "
     ]
    },
    {
     "name": "stdout",
     "output_type": "stream",
     "text": [
      "saved to: gs://cs611_mle/datamart/bronze/transaction/bronze_transaction_2015_06_01.csv\n"
     ]
    },
    {
     "name": "stderr",
     "output_type": "stream",
     "text": [
      "                                                                                "
     ]
    },
    {
     "name": "stdout",
     "output_type": "stream",
     "text": [
      "2015-07-01row count: 114653\n"
     ]
    },
    {
     "name": "stderr",
     "output_type": "stream",
     "text": [
      "                                                                                "
     ]
    },
    {
     "name": "stdout",
     "output_type": "stream",
     "text": [
      "saved to: gs://cs611_mle/datamart/bronze/transaction/bronze_transaction_2015_07_01.csv\n"
     ]
    },
    {
     "name": "stderr",
     "output_type": "stream",
     "text": [
      "                                                                                "
     ]
    },
    {
     "name": "stdout",
     "output_type": "stream",
     "text": [
      "2015-08-01row count: 120975\n"
     ]
    },
    {
     "name": "stderr",
     "output_type": "stream",
     "text": [
      "                                                                                "
     ]
    },
    {
     "name": "stdout",
     "output_type": "stream",
     "text": [
      "saved to: gs://cs611_mle/datamart/bronze/transaction/bronze_transaction_2015_08_01.csv\n"
     ]
    },
    {
     "name": "stderr",
     "output_type": "stream",
     "text": [
      "                                                                                "
     ]
    },
    {
     "name": "stdout",
     "output_type": "stream",
     "text": [
      "2015-09-01row count: 114040\n"
     ]
    },
    {
     "name": "stderr",
     "output_type": "stream",
     "text": [
      "                                                                                "
     ]
    },
    {
     "name": "stdout",
     "output_type": "stream",
     "text": [
      "saved to: gs://cs611_mle/datamart/bronze/transaction/bronze_transaction_2015_09_01.csv\n"
     ]
    },
    {
     "name": "stderr",
     "output_type": "stream",
     "text": [
      "                                                                                "
     ]
    },
    {
     "name": "stdout",
     "output_type": "stream",
     "text": [
      "2015-10-01row count: 122403\n"
     ]
    },
    {
     "name": "stderr",
     "output_type": "stream",
     "text": [
      "                                                                                "
     ]
    },
    {
     "name": "stdout",
     "output_type": "stream",
     "text": [
      "saved to: gs://cs611_mle/datamart/bronze/transaction/bronze_transaction_2015_10_01.csv\n"
     ]
    },
    {
     "name": "stderr",
     "output_type": "stream",
     "text": [
      "                                                                                "
     ]
    },
    {
     "name": "stdout",
     "output_type": "stream",
     "text": [
      "2015-11-01row count: 120900\n"
     ]
    },
    {
     "name": "stderr",
     "output_type": "stream",
     "text": [
      "                                                                                "
     ]
    },
    {
     "name": "stdout",
     "output_type": "stream",
     "text": [
      "saved to: gs://cs611_mle/datamart/bronze/transaction/bronze_transaction_2015_11_01.csv\n"
     ]
    },
    {
     "name": "stderr",
     "output_type": "stream",
     "text": [
      "                                                                                "
     ]
    },
    {
     "name": "stdout",
     "output_type": "stream",
     "text": [
      "2015-12-01row count: 127488\n"
     ]
    },
    {
     "name": "stderr",
     "output_type": "stream",
     "text": [
      "                                                                                "
     ]
    },
    {
     "name": "stdout",
     "output_type": "stream",
     "text": [
      "saved to: gs://cs611_mle/datamart/bronze/transaction/bronze_transaction_2015_12_01.csv\n"
     ]
    },
    {
     "name": "stderr",
     "output_type": "stream",
     "text": [
      "                                                                                "
     ]
    },
    {
     "name": "stdout",
     "output_type": "stream",
     "text": [
      "2016-01-01row count: 140191\n"
     ]
    },
    {
     "name": "stderr",
     "output_type": "stream",
     "text": [
      "                                                                                "
     ]
    },
    {
     "name": "stdout",
     "output_type": "stream",
     "text": [
      "saved to: gs://cs611_mle/datamart/bronze/transaction/bronze_transaction_2016_01_01.csv\n"
     ]
    },
    {
     "name": "stderr",
     "output_type": "stream",
     "text": [
      "                                                                                "
     ]
    },
    {
     "name": "stdout",
     "output_type": "stream",
     "text": [
      "2016-02-01row count: 113518\n"
     ]
    },
    {
     "name": "stderr",
     "output_type": "stream",
     "text": [
      "                                                                                "
     ]
    },
    {
     "name": "stdout",
     "output_type": "stream",
     "text": [
      "saved to: gs://cs611_mle/datamart/bronze/transaction/bronze_transaction_2016_02_01.csv\n"
     ]
    },
    {
     "name": "stderr",
     "output_type": "stream",
     "text": [
      "                                                                                "
     ]
    },
    {
     "name": "stdout",
     "output_type": "stream",
     "text": [
      "2016-03-01row count: 129277\n"
     ]
    },
    {
     "name": "stderr",
     "output_type": "stream",
     "text": [
      "                                                                                "
     ]
    },
    {
     "name": "stdout",
     "output_type": "stream",
     "text": [
      "saved to: gs://cs611_mle/datamart/bronze/transaction/bronze_transaction_2016_03_01.csv\n"
     ]
    },
    {
     "name": "stderr",
     "output_type": "stream",
     "text": [
      "                                                                                "
     ]
    },
    {
     "name": "stdout",
     "output_type": "stream",
     "text": [
      "2016-04-01row count: 111378\n"
     ]
    },
    {
     "name": "stderr",
     "output_type": "stream",
     "text": [
      "                                                                                "
     ]
    },
    {
     "name": "stdout",
     "output_type": "stream",
     "text": [
      "saved to: gs://cs611_mle/datamart/bronze/transaction/bronze_transaction_2016_04_01.csv\n"
     ]
    },
    {
     "name": "stderr",
     "output_type": "stream",
     "text": [
      "                                                                                "
     ]
    },
    {
     "name": "stdout",
     "output_type": "stream",
     "text": [
      "2016-05-01row count: 128071\n"
     ]
    },
    {
     "name": "stderr",
     "output_type": "stream",
     "text": [
      "                                                                                "
     ]
    },
    {
     "name": "stdout",
     "output_type": "stream",
     "text": [
      "saved to: gs://cs611_mle/datamart/bronze/transaction/bronze_transaction_2016_05_01.csv\n"
     ]
    },
    {
     "name": "stderr",
     "output_type": "stream",
     "text": [
      "                                                                                "
     ]
    },
    {
     "name": "stdout",
     "output_type": "stream",
     "text": [
      "2016-06-01row count: 113673\n"
     ]
    },
    {
     "name": "stderr",
     "output_type": "stream",
     "text": [
      "                                                                                "
     ]
    },
    {
     "name": "stdout",
     "output_type": "stream",
     "text": [
      "saved to: gs://cs611_mle/datamart/bronze/transaction/bronze_transaction_2016_06_01.csv\n"
     ]
    },
    {
     "name": "stderr",
     "output_type": "stream",
     "text": [
      "[Stage 110:============================>                            (4 + 4) / 8]"
     ]
    },
    {
     "name": "stdout",
     "output_type": "stream",
     "text": [
      "2016-07-01row count: 123913\n"
     ]
    },
    {
     "name": "stderr",
     "output_type": "stream",
     "text": [
      "                                                                                "
     ]
    },
    {
     "name": "stdout",
     "output_type": "stream",
     "text": [
      "saved to: gs://cs611_mle/datamart/bronze/transaction/bronze_transaction_2016_07_01.csv\n"
     ]
    },
    {
     "name": "stderr",
     "output_type": "stream",
     "text": [
      "                                                                                "
     ]
    },
    {
     "name": "stdout",
     "output_type": "stream",
     "text": [
      "2016-08-01row count: 150382\n"
     ]
    },
    {
     "name": "stderr",
     "output_type": "stream",
     "text": [
      "                                                                                "
     ]
    },
    {
     "name": "stdout",
     "output_type": "stream",
     "text": [
      "saved to: gs://cs611_mle/datamart/bronze/transaction/bronze_transaction_2016_08_01.csv\n"
     ]
    },
    {
     "name": "stderr",
     "output_type": "stream",
     "text": [
      "                                                                                "
     ]
    },
    {
     "name": "stdout",
     "output_type": "stream",
     "text": [
      "2016-09-01row count: 128303\n"
     ]
    },
    {
     "name": "stderr",
     "output_type": "stream",
     "text": [
      "                                                                                "
     ]
    },
    {
     "name": "stdout",
     "output_type": "stream",
     "text": [
      "saved to: gs://cs611_mle/datamart/bronze/transaction/bronze_transaction_2016_09_01.csv\n"
     ]
    },
    {
     "name": "stderr",
     "output_type": "stream",
     "text": [
      "                                                                                "
     ]
    },
    {
     "name": "stdout",
     "output_type": "stream",
     "text": [
      "2016-10-01row count: 152765\n"
     ]
    },
    {
     "name": "stderr",
     "output_type": "stream",
     "text": [
      "                                                                                "
     ]
    },
    {
     "name": "stdout",
     "output_type": "stream",
     "text": [
      "saved to: gs://cs611_mle/datamart/bronze/transaction/bronze_transaction_2016_10_01.csv\n"
     ]
    },
    {
     "name": "stderr",
     "output_type": "stream",
     "text": [
      "                                                                                "
     ]
    },
    {
     "name": "stdout",
     "output_type": "stream",
     "text": [
      "2016-11-01row count: 134110\n"
     ]
    },
    {
     "name": "stderr",
     "output_type": "stream",
     "text": [
      "                                                                                "
     ]
    },
    {
     "name": "stdout",
     "output_type": "stream",
     "text": [
      "saved to: gs://cs611_mle/datamart/bronze/transaction/bronze_transaction_2016_11_01.csv\n"
     ]
    },
    {
     "name": "stderr",
     "output_type": "stream",
     "text": [
      "                                                                                "
     ]
    },
    {
     "name": "stdout",
     "output_type": "stream",
     "text": [
      "2016-12-01row count: 138018\n"
     ]
    },
    {
     "name": "stderr",
     "output_type": "stream",
     "text": [
      "                                                                                "
     ]
    },
    {
     "name": "stdout",
     "output_type": "stream",
     "text": [
      "saved to: gs://cs611_mle/datamart/bronze/transaction/bronze_transaction_2016_12_01.csv\n"
     ]
    },
    {
     "name": "stderr",
     "output_type": "stream",
     "text": [
      "                                                                                "
     ]
    },
    {
     "name": "stdout",
     "output_type": "stream",
     "text": [
      "2017-01-01row count: 160929\n"
     ]
    },
    {
     "name": "stderr",
     "output_type": "stream",
     "text": [
      "                                                                                "
     ]
    },
    {
     "name": "stdout",
     "output_type": "stream",
     "text": [
      "saved to: gs://cs611_mle/datamart/bronze/transaction/bronze_transaction_2017_01_01.csv\n"
     ]
    },
    {
     "name": "stderr",
     "output_type": "stream",
     "text": [
      "                                                                                "
     ]
    },
    {
     "name": "stdout",
     "output_type": "stream",
     "text": [
      "2017-02-01row count: 116238\n"
     ]
    },
    {
     "name": "stderr",
     "output_type": "stream",
     "text": [
      "                                                                                "
     ]
    },
    {
     "name": "stdout",
     "output_type": "stream",
     "text": [
      "saved to: gs://cs611_mle/datamart/bronze/transaction/bronze_transaction_2017_02_01.csv\n"
     ]
    },
    {
     "name": "stderr",
     "output_type": "stream",
     "text": [
      "                                                                                "
     ]
    },
    {
     "name": "stdout",
     "output_type": "stream",
     "text": [
      "2017-03-01row count: 11247\n"
     ]
    },
    {
     "name": "stderr",
     "output_type": "stream",
     "text": [
      "                                                                                "
     ]
    },
    {
     "name": "stdout",
     "output_type": "stream",
     "text": [
      "saved to: gs://cs611_mle/datamart/bronze/transaction/bronze_transaction_2017_03_01.csv\n",
      "Done Partition Silver (Actually Bronze) Table - transaction!\n"
     ]
    }
   ],
   "source": [
    "\n",
    "# run bronze backfill\n",
    "for date_str in dates_str_lst:\n",
    "    utils.bronze.process_bronze_transaction_partition(date_str, bucket_name, bronze_transaction_directory, spark)\n",
    "print('Done Partition Silver (Actually Bronze) Table - transaction!')"
   ]
  },
  {
   "cell_type": "markdown",
   "id": "e001a817-b086-4117-9182-e1e0cf3338f4",
   "metadata": {},
   "source": [
    "# Process Feature Silver Table"
   ]
  },
  {
   "cell_type": "markdown",
   "id": "863a710f-b501-4308-b38d-2e8d1551ca9e",
   "metadata": {},
   "source": [
    "### Member ~ Bronze to Silver Table"
   ]
  },
  {
   "cell_type": "code",
   "execution_count": 11,
   "id": "a51d76b3-5599-40d2-9a38-2256ee10c0f7",
   "metadata": {},
   "outputs": [],
   "source": [
    "# create silver datalake\n",
    "silver_member_directory = \"datamart/silver/member/\""
   ]
  },
  {
   "cell_type": "code",
   "execution_count": 14,
   "id": "f1a9a1a4-c52e-4ea0-a85d-6e8ec3de45c0",
   "metadata": {},
   "outputs": [
    {
     "name": "stdout",
     "output_type": "stream",
     "text": [
      "loaded from: gs://cs611_mle/datamart/bronze/member/bronze_members.csv row count: 300000\n",
      "+------+------+\n",
      "|gender| count|\n",
      "+------+------+\n",
      "|  NULL|171532|\n",
      "|  male| 65635|\n",
      "|female| 62833|\n",
      "+------+------+\n",
      "\n"
     ]
    },
    {
     "name": "stderr",
     "output_type": "stream",
     "text": [
      "                                                                                "
     ]
    },
    {
     "name": "stdout",
     "output_type": "stream",
     "text": [
      "saved to: gs://cs611_mle/datamart/silver/member//silver_member.parquet\n"
     ]
    },
    {
     "data": {
      "text/html": [
       "<div>\n",
       "<style scoped>\n",
       "    .dataframe tbody tr th:only-of-type {\n",
       "        vertical-align: middle;\n",
       "    }\n",
       "\n",
       "    .dataframe tbody tr th {\n",
       "        vertical-align: top;\n",
       "    }\n",
       "\n",
       "    .dataframe thead th {\n",
       "        text-align: right;\n",
       "    }\n",
       "</style>\n",
       "<table border=\"1\" class=\"dataframe\">\n",
       "  <thead>\n",
       "    <tr style=\"text-align: right;\">\n",
       "      <th></th>\n",
       "      <th>msno</th>\n",
       "      <th>city</th>\n",
       "      <th>gender</th>\n",
       "      <th>registered_via</th>\n",
       "      <th>registration_init_time</th>\n",
       "    </tr>\n",
       "  </thead>\n",
       "  <tbody>\n",
       "    <tr>\n",
       "      <th>0</th>\n",
       "      <td>2dwuk0KQUnCnRvFnDGFyIslHLqG8lFHkyOvfRNwc5XI=</td>\n",
       "      <td>5</td>\n",
       "      <td>female</td>\n",
       "      <td>9</td>\n",
       "      <td>2012-03-09</td>\n",
       "    </tr>\n",
       "    <tr>\n",
       "      <th>1</th>\n",
       "      <td>Bx13MoR+nVJVVDsatg3fxInFupmO1jSzdkFKMA976t8=</td>\n",
       "      <td>13</td>\n",
       "      <td>female</td>\n",
       "      <td>7</td>\n",
       "      <td>2013-04-22</td>\n",
       "    </tr>\n",
       "    <tr>\n",
       "      <th>2</th>\n",
       "      <td>2ouWnOhbWxdFyjEy8qx/8lr15OzZ0PX9tr6xZP4Ihns=</td>\n",
       "      <td>1</td>\n",
       "      <td>na</td>\n",
       "      <td>7</td>\n",
       "      <td>2014-06-29</td>\n",
       "    </tr>\n",
       "    <tr>\n",
       "      <th>3</th>\n",
       "      <td>QvZtxnHz7yGh07QiFuq0RN1hL5WrzcbKlQTUiroEEyE=</td>\n",
       "      <td>13</td>\n",
       "      <td>na</td>\n",
       "      <td>9</td>\n",
       "      <td>2011-05-28</td>\n",
       "    </tr>\n",
       "    <tr>\n",
       "      <th>4</th>\n",
       "      <td>CUFR22oaKwIwzj4VMey3Mj76B5zawuo2PxsWheNfQ6Q=</td>\n",
       "      <td>5</td>\n",
       "      <td>male</td>\n",
       "      <td>9</td>\n",
       "      <td>2014-11-28</td>\n",
       "    </tr>\n",
       "  </tbody>\n",
       "</table>\n",
       "</div>"
      ],
      "text/plain": [
       "                                           msno city  gender registered_via  \\\n",
       "0  2dwuk0KQUnCnRvFnDGFyIslHLqG8lFHkyOvfRNwc5XI=    5  female              9   \n",
       "1  Bx13MoR+nVJVVDsatg3fxInFupmO1jSzdkFKMA976t8=   13  female              7   \n",
       "2  2ouWnOhbWxdFyjEy8qx/8lr15OzZ0PX9tr6xZP4Ihns=    1      na              7   \n",
       "3  QvZtxnHz7yGh07QiFuq0RN1hL5WrzcbKlQTUiroEEyE=   13      na              9   \n",
       "4  CUFR22oaKwIwzj4VMey3Mj76B5zawuo2PxsWheNfQ6Q=    5    male              9   \n",
       "\n",
       "  registration_init_time  \n",
       "0             2012-03-09  \n",
       "1             2013-04-22  \n",
       "2             2014-06-29  \n",
       "3             2011-05-28  \n",
       "4             2014-11-28  "
      ]
     },
     "execution_count": 14,
     "metadata": {},
     "output_type": "execute_result"
    }
   ],
   "source": [
    "utils.silver.process_silver_table_member(bucket_name, bronze_member_directory, silver_member_directory, spark).toPandas().head()"
   ]
  },
  {
   "cell_type": "markdown",
   "id": "dc8839f0-92f0-42df-9d3f-0e4fde00f993",
   "metadata": {},
   "source": [
    "### Transaction ~ Partitioned_Silver to Actual Silver (processed)"
   ]
  },
  {
   "cell_type": "code",
   "execution_count": 16,
   "id": "c3193914-f6f0-43cb-bfd6-2fdbc0c7402a",
   "metadata": {},
   "outputs": [],
   "source": [
    "actual_silver_transaction_directory = \"datamart/silver/transaction/\""
   ]
  },
  {
   "cell_type": "code",
   "execution_count": 17,
   "id": "a08f776d-dabf-4e56-84c1-665277e2c607",
   "metadata": {
    "scrolled": true
   },
   "outputs": [
    {
     "name": "stdout",
     "output_type": "stream",
     "text": [
      "loaded from: gs://cs611_mle/datamart/bronze/transaction/bronze_transaction_2015_01_01.csv row count: 97582\n"
     ]
    },
    {
     "name": "stderr",
     "output_type": "stream",
     "text": [
      "                                                                                "
     ]
    },
    {
     "name": "stdout",
     "output_type": "stream",
     "text": [
      "saved to: gs://cs611_mle/datamart/silver/transaction//silver_transaction_2015_01_01.parquet\n",
      "loaded from: gs://cs611_mle/datamart/bronze/transaction/bronze_transaction_2015_02_01.csv row count: 88599\n"
     ]
    },
    {
     "name": "stderr",
     "output_type": "stream",
     "text": [
      "                                                                                "
     ]
    },
    {
     "name": "stdout",
     "output_type": "stream",
     "text": [
      "saved to: gs://cs611_mle/datamart/silver/transaction//silver_transaction_2015_02_01.parquet\n",
      "loaded from: gs://cs611_mle/datamart/bronze/transaction/bronze_transaction_2015_03_01.csv row count: 110650\n"
     ]
    },
    {
     "name": "stderr",
     "output_type": "stream",
     "text": [
      "                                                                                "
     ]
    },
    {
     "name": "stdout",
     "output_type": "stream",
     "text": [
      "saved to: gs://cs611_mle/datamart/silver/transaction//silver_transaction_2015_03_01.parquet\n",
      "loaded from: gs://cs611_mle/datamart/bronze/transaction/bronze_transaction_2015_04_01.csv row count: 90444\n"
     ]
    },
    {
     "name": "stderr",
     "output_type": "stream",
     "text": [
      "                                                                                "
     ]
    },
    {
     "name": "stdout",
     "output_type": "stream",
     "text": [
      "saved to: gs://cs611_mle/datamart/silver/transaction//silver_transaction_2015_04_01.parquet\n",
      "loaded from: gs://cs611_mle/datamart/bronze/transaction/bronze_transaction_2015_05_01.csv row count: 74016\n"
     ]
    },
    {
     "name": "stderr",
     "output_type": "stream",
     "text": [
      "                                                                                "
     ]
    },
    {
     "name": "stdout",
     "output_type": "stream",
     "text": [
      "saved to: gs://cs611_mle/datamart/silver/transaction//silver_transaction_2015_05_01.parquet\n",
      "loaded from: gs://cs611_mle/datamart/bronze/transaction/bronze_transaction_2015_06_01.csv row count: 159757\n"
     ]
    },
    {
     "name": "stderr",
     "output_type": "stream",
     "text": [
      "                                                                                "
     ]
    },
    {
     "name": "stdout",
     "output_type": "stream",
     "text": [
      "saved to: gs://cs611_mle/datamart/silver/transaction//silver_transaction_2015_06_01.parquet\n",
      "loaded from: gs://cs611_mle/datamart/bronze/transaction/bronze_transaction_2015_07_01.csv row count: 114653\n"
     ]
    },
    {
     "name": "stderr",
     "output_type": "stream",
     "text": [
      "                                                                                "
     ]
    },
    {
     "name": "stdout",
     "output_type": "stream",
     "text": [
      "saved to: gs://cs611_mle/datamart/silver/transaction//silver_transaction_2015_07_01.parquet\n",
      "loaded from: gs://cs611_mle/datamart/bronze/transaction/bronze_transaction_2015_08_01.csv row count: 120975\n"
     ]
    },
    {
     "name": "stderr",
     "output_type": "stream",
     "text": [
      "                                                                                "
     ]
    },
    {
     "name": "stdout",
     "output_type": "stream",
     "text": [
      "saved to: gs://cs611_mle/datamart/silver/transaction//silver_transaction_2015_08_01.parquet\n",
      "loaded from: gs://cs611_mle/datamart/bronze/transaction/bronze_transaction_2015_09_01.csv row count: 114040\n"
     ]
    },
    {
     "name": "stderr",
     "output_type": "stream",
     "text": [
      "                                                                                "
     ]
    },
    {
     "name": "stdout",
     "output_type": "stream",
     "text": [
      "saved to: gs://cs611_mle/datamart/silver/transaction//silver_transaction_2015_09_01.parquet\n",
      "loaded from: gs://cs611_mle/datamart/bronze/transaction/bronze_transaction_2015_10_01.csv row count: 122403\n"
     ]
    },
    {
     "name": "stderr",
     "output_type": "stream",
     "text": [
      "                                                                                "
     ]
    },
    {
     "name": "stdout",
     "output_type": "stream",
     "text": [
      "saved to: gs://cs611_mle/datamart/silver/transaction//silver_transaction_2015_10_01.parquet\n",
      "loaded from: gs://cs611_mle/datamart/bronze/transaction/bronze_transaction_2015_11_01.csv row count: 120900\n"
     ]
    },
    {
     "name": "stderr",
     "output_type": "stream",
     "text": [
      "                                                                                "
     ]
    },
    {
     "name": "stdout",
     "output_type": "stream",
     "text": [
      "saved to: gs://cs611_mle/datamart/silver/transaction//silver_transaction_2015_11_01.parquet\n",
      "loaded from: gs://cs611_mle/datamart/bronze/transaction/bronze_transaction_2015_12_01.csv row count: 127488\n"
     ]
    },
    {
     "name": "stderr",
     "output_type": "stream",
     "text": [
      "                                                                                "
     ]
    },
    {
     "name": "stdout",
     "output_type": "stream",
     "text": [
      "saved to: gs://cs611_mle/datamart/silver/transaction//silver_transaction_2015_12_01.parquet\n",
      "loaded from: gs://cs611_mle/datamart/bronze/transaction/bronze_transaction_2016_01_01.csv row count: 140191\n"
     ]
    },
    {
     "name": "stderr",
     "output_type": "stream",
     "text": [
      "                                                                                "
     ]
    },
    {
     "name": "stdout",
     "output_type": "stream",
     "text": [
      "saved to: gs://cs611_mle/datamart/silver/transaction//silver_transaction_2016_01_01.parquet\n",
      "loaded from: gs://cs611_mle/datamart/bronze/transaction/bronze_transaction_2016_02_01.csv row count: 113518\n"
     ]
    },
    {
     "name": "stderr",
     "output_type": "stream",
     "text": [
      "                                                                                "
     ]
    },
    {
     "name": "stdout",
     "output_type": "stream",
     "text": [
      "saved to: gs://cs611_mle/datamart/silver/transaction//silver_transaction_2016_02_01.parquet\n",
      "loaded from: gs://cs611_mle/datamart/bronze/transaction/bronze_transaction_2016_03_01.csv row count: 129277\n"
     ]
    },
    {
     "name": "stderr",
     "output_type": "stream",
     "text": [
      "                                                                                "
     ]
    },
    {
     "name": "stdout",
     "output_type": "stream",
     "text": [
      "saved to: gs://cs611_mle/datamart/silver/transaction//silver_transaction_2016_03_01.parquet\n",
      "loaded from: gs://cs611_mle/datamart/bronze/transaction/bronze_transaction_2016_04_01.csv row count: 111378\n"
     ]
    },
    {
     "name": "stderr",
     "output_type": "stream",
     "text": [
      "                                                                                "
     ]
    },
    {
     "name": "stdout",
     "output_type": "stream",
     "text": [
      "saved to: gs://cs611_mle/datamart/silver/transaction//silver_transaction_2016_04_01.parquet\n",
      "loaded from: gs://cs611_mle/datamart/bronze/transaction/bronze_transaction_2016_05_01.csv row count: 128071\n"
     ]
    },
    {
     "name": "stderr",
     "output_type": "stream",
     "text": [
      "                                                                                "
     ]
    },
    {
     "name": "stdout",
     "output_type": "stream",
     "text": [
      "saved to: gs://cs611_mle/datamart/silver/transaction//silver_transaction_2016_05_01.parquet\n",
      "loaded from: gs://cs611_mle/datamart/bronze/transaction/bronze_transaction_2016_06_01.csv row count: 113673\n"
     ]
    },
    {
     "name": "stderr",
     "output_type": "stream",
     "text": [
      "                                                                                "
     ]
    },
    {
     "name": "stdout",
     "output_type": "stream",
     "text": [
      "saved to: gs://cs611_mle/datamart/silver/transaction//silver_transaction_2016_06_01.parquet\n",
      "loaded from: gs://cs611_mle/datamart/bronze/transaction/bronze_transaction_2016_07_01.csv row count: 123913\n"
     ]
    },
    {
     "name": "stderr",
     "output_type": "stream",
     "text": [
      "                                                                                "
     ]
    },
    {
     "name": "stdout",
     "output_type": "stream",
     "text": [
      "saved to: gs://cs611_mle/datamart/silver/transaction//silver_transaction_2016_07_01.parquet\n",
      "loaded from: gs://cs611_mle/datamart/bronze/transaction/bronze_transaction_2016_08_01.csv row count: 150382\n"
     ]
    },
    {
     "name": "stderr",
     "output_type": "stream",
     "text": [
      "                                                                                "
     ]
    },
    {
     "name": "stdout",
     "output_type": "stream",
     "text": [
      "saved to: gs://cs611_mle/datamart/silver/transaction//silver_transaction_2016_08_01.parquet\n",
      "loaded from: gs://cs611_mle/datamart/bronze/transaction/bronze_transaction_2016_09_01.csv row count: 128303\n"
     ]
    },
    {
     "name": "stderr",
     "output_type": "stream",
     "text": [
      "                                                                                "
     ]
    },
    {
     "name": "stdout",
     "output_type": "stream",
     "text": [
      "saved to: gs://cs611_mle/datamart/silver/transaction//silver_transaction_2016_09_01.parquet\n",
      "loaded from: gs://cs611_mle/datamart/bronze/transaction/bronze_transaction_2016_10_01.csv row count: 152765\n"
     ]
    },
    {
     "name": "stderr",
     "output_type": "stream",
     "text": [
      "                                                                                "
     ]
    },
    {
     "name": "stdout",
     "output_type": "stream",
     "text": [
      "saved to: gs://cs611_mle/datamart/silver/transaction//silver_transaction_2016_10_01.parquet\n",
      "loaded from: gs://cs611_mle/datamart/bronze/transaction/bronze_transaction_2016_11_01.csv row count: 134110\n"
     ]
    },
    {
     "name": "stderr",
     "output_type": "stream",
     "text": [
      "                                                                                "
     ]
    },
    {
     "name": "stdout",
     "output_type": "stream",
     "text": [
      "saved to: gs://cs611_mle/datamart/silver/transaction//silver_transaction_2016_11_01.parquet\n",
      "loaded from: gs://cs611_mle/datamart/bronze/transaction/bronze_transaction_2016_12_01.csv row count: 138018\n"
     ]
    },
    {
     "name": "stderr",
     "output_type": "stream",
     "text": [
      "                                                                                "
     ]
    },
    {
     "name": "stdout",
     "output_type": "stream",
     "text": [
      "saved to: gs://cs611_mle/datamart/silver/transaction//silver_transaction_2016_12_01.parquet\n",
      "loaded from: gs://cs611_mle/datamart/bronze/transaction/bronze_transaction_2017_01_01.csv row count: 160929\n"
     ]
    },
    {
     "name": "stderr",
     "output_type": "stream",
     "text": [
      "                                                                                "
     ]
    },
    {
     "name": "stdout",
     "output_type": "stream",
     "text": [
      "saved to: gs://cs611_mle/datamart/silver/transaction//silver_transaction_2017_01_01.parquet\n",
      "loaded from: gs://cs611_mle/datamart/bronze/transaction/bronze_transaction_2017_02_01.csv row count: 116238\n"
     ]
    },
    {
     "name": "stderr",
     "output_type": "stream",
     "text": [
      "                                                                                "
     ]
    },
    {
     "name": "stdout",
     "output_type": "stream",
     "text": [
      "saved to: gs://cs611_mle/datamart/silver/transaction//silver_transaction_2017_02_01.parquet\n",
      "loaded from: gs://cs611_mle/datamart/bronze/transaction/bronze_transaction_2017_03_01.csv row count: 11247\n"
     ]
    },
    {
     "name": "stderr",
     "output_type": "stream",
     "text": [
      "                                                                                "
     ]
    },
    {
     "name": "stdout",
     "output_type": "stream",
     "text": [
      "saved to: gs://cs611_mle/datamart/silver/transaction//silver_transaction_2017_03_01.parquet\n"
     ]
    }
   ],
   "source": [
    "for date_str in dates_str_lst:\n",
    "    utils.silver.process_silver_table_transaction(date_str, bucket_name, bronze_transaction_directory, actual_silver_transaction_directory, spark)"
   ]
  },
  {
   "cell_type": "markdown",
   "id": "16553939-a3b0-4d81-894e-0ecdd6ce1142",
   "metadata": {},
   "source": [
    "### User Log ~ Bronze User Log to Silver User Log"
   ]
  },
  {
   "cell_type": "code",
   "execution_count": 9,
   "id": "a228b29e-1fe5-4a16-8106-3fa5b0c5bc35",
   "metadata": {},
   "outputs": [],
   "source": [
    "silver_userlog_directory = \"datamart/silver/userlog/\"\n",
    "\n",
    "\n",
    "bronze_userlog_directory = \"datamart/bronze/userlog\"\n",
    "actual_silver_transaction_directory = \"datamart/silver/transaction/\""
   ]
  },
  {
   "cell_type": "code",
   "execution_count": 10,
   "id": "c211c52e-10fc-486e-bbc8-fb221c67c076",
   "metadata": {
    "scrolled": true
   },
   "outputs": [
    {
     "name": "stderr",
     "output_type": "stream",
     "text": [
      "                                                                                "
     ]
    },
    {
     "name": "stdout",
     "output_type": "stream",
     "text": [
      "loaded from: gs://cs611_mle/datamart/bronze/userlog/bronze_userlog_2015_01_01.csv row count: 2032255\n"
     ]
    },
    {
     "name": "stderr",
     "output_type": "stream",
     "text": [
      "                                                                                "
     ]
    },
    {
     "name": "stdout",
     "output_type": "stream",
     "text": [
      "Also loaded from: gs://cs611_mle/datamart/bronze/userlog/bronze_userlog_2015_02_01.csv row count: 1812923\n"
     ]
    },
    {
     "name": "stderr",
     "output_type": "stream",
     "text": [
      "25/06/15 00:58:52 WARN MemoryManager: Total allocation exceeds 95.00% (1,020,054,720 bytes) of heap memory\n",
      "Scaling row group sizes to 95.00% for 8 writers\n",
      "                                                                                "
     ]
    },
    {
     "name": "stdout",
     "output_type": "stream",
     "text": [
      "saved to: gs://cs611_mle/datamart/silver/userlog//silver_userlog_2015_01_01.parquet\n"
     ]
    },
    {
     "name": "stderr",
     "output_type": "stream",
     "text": [
      "                                                                                "
     ]
    },
    {
     "name": "stdout",
     "output_type": "stream",
     "text": [
      "loaded from: gs://cs611_mle/datamart/bronze/userlog/bronze_userlog_2015_02_01.csv row count: 1812923\n"
     ]
    },
    {
     "name": "stderr",
     "output_type": "stream",
     "text": [
      "                                                                                "
     ]
    },
    {
     "name": "stdout",
     "output_type": "stream",
     "text": [
      "Also loaded from: gs://cs611_mle/datamart/bronze/userlog/bronze_userlog_2015_03_01.csv row count: 2093862\n"
     ]
    },
    {
     "name": "stderr",
     "output_type": "stream",
     "text": [
      "25/06/15 00:59:09 WARN MemoryManager: Total allocation exceeds 95.00% (1,020,054,720 bytes) of heap memory\n",
      "Scaling row group sizes to 95.00% for 8 writers\n",
      "                                                                                "
     ]
    },
    {
     "name": "stdout",
     "output_type": "stream",
     "text": [
      "saved to: gs://cs611_mle/datamart/silver/userlog//silver_userlog_2015_02_01.parquet\n"
     ]
    },
    {
     "name": "stderr",
     "output_type": "stream",
     "text": [
      "                                                                                "
     ]
    },
    {
     "name": "stdout",
     "output_type": "stream",
     "text": [
      "loaded from: gs://cs611_mle/datamart/bronze/userlog/bronze_userlog_2015_03_01.csv row count: 2093862\n"
     ]
    },
    {
     "name": "stderr",
     "output_type": "stream",
     "text": [
      "                                                                                "
     ]
    },
    {
     "name": "stdout",
     "output_type": "stream",
     "text": [
      "Also loaded from: gs://cs611_mle/datamart/bronze/userlog/bronze_userlog_2015_04_01.csv row count: 2073110\n"
     ]
    },
    {
     "name": "stderr",
     "output_type": "stream",
     "text": [
      "25/06/15 00:59:24 WARN MemoryManager: Total allocation exceeds 95.00% (1,020,054,720 bytes) of heap memory\n",
      "Scaling row group sizes to 95.00% for 8 writers\n",
      "                                                                                "
     ]
    },
    {
     "name": "stdout",
     "output_type": "stream",
     "text": [
      "saved to: gs://cs611_mle/datamart/silver/userlog//silver_userlog_2015_03_01.parquet\n"
     ]
    },
    {
     "name": "stderr",
     "output_type": "stream",
     "text": [
      "                                                                                "
     ]
    },
    {
     "name": "stdout",
     "output_type": "stream",
     "text": [
      "loaded from: gs://cs611_mle/datamart/bronze/userlog/bronze_userlog_2015_04_01.csv row count: 2073110\n"
     ]
    },
    {
     "name": "stderr",
     "output_type": "stream",
     "text": [
      "                                                                                "
     ]
    },
    {
     "name": "stdout",
     "output_type": "stream",
     "text": [
      "Also loaded from: gs://cs611_mle/datamart/bronze/userlog/bronze_userlog_2015_05_01.csv row count: 2132861\n"
     ]
    },
    {
     "name": "stderr",
     "output_type": "stream",
     "text": [
      "25/06/15 00:59:40 WARN MemoryManager: Total allocation exceeds 95.00% (1,020,054,720 bytes) of heap memory\n",
      "Scaling row group sizes to 95.00% for 8 writers\n",
      "                                                                                "
     ]
    },
    {
     "name": "stdout",
     "output_type": "stream",
     "text": [
      "saved to: gs://cs611_mle/datamart/silver/userlog//silver_userlog_2015_04_01.parquet\n"
     ]
    },
    {
     "name": "stderr",
     "output_type": "stream",
     "text": [
      "                                                                                "
     ]
    },
    {
     "name": "stdout",
     "output_type": "stream",
     "text": [
      "loaded from: gs://cs611_mle/datamart/bronze/userlog/bronze_userlog_2015_05_01.csv row count: 2132861\n"
     ]
    },
    {
     "name": "stderr",
     "output_type": "stream",
     "text": [
      "                                                                                "
     ]
    },
    {
     "name": "stdout",
     "output_type": "stream",
     "text": [
      "Also loaded from: gs://cs611_mle/datamart/bronze/userlog/bronze_userlog_2015_06_01.csv row count: 2057344\n"
     ]
    },
    {
     "name": "stderr",
     "output_type": "stream",
     "text": [
      "25/06/15 00:59:55 WARN MemoryManager: Total allocation exceeds 95.00% (1,020,054,720 bytes) of heap memory\n",
      "Scaling row group sizes to 95.00% for 8 writers\n",
      "                                                                                "
     ]
    },
    {
     "name": "stdout",
     "output_type": "stream",
     "text": [
      "saved to: gs://cs611_mle/datamart/silver/userlog//silver_userlog_2015_05_01.parquet\n"
     ]
    },
    {
     "name": "stderr",
     "output_type": "stream",
     "text": [
      "                                                                                "
     ]
    },
    {
     "name": "stdout",
     "output_type": "stream",
     "text": [
      "loaded from: gs://cs611_mle/datamart/bronze/userlog/bronze_userlog_2015_06_01.csv row count: 2057344\n"
     ]
    },
    {
     "name": "stderr",
     "output_type": "stream",
     "text": [
      "                                                                                "
     ]
    },
    {
     "name": "stdout",
     "output_type": "stream",
     "text": [
      "Also loaded from: gs://cs611_mle/datamart/bronze/userlog/bronze_userlog_2015_07_01.csv row count: 2101474\n"
     ]
    },
    {
     "name": "stderr",
     "output_type": "stream",
     "text": [
      "25/06/15 01:00:09 WARN MemoryManager: Total allocation exceeds 95.00% (1,020,054,720 bytes) of heap memory\n",
      "Scaling row group sizes to 95.00% for 8 writers\n",
      "                                                                                "
     ]
    },
    {
     "name": "stdout",
     "output_type": "stream",
     "text": [
      "saved to: gs://cs611_mle/datamart/silver/userlog//silver_userlog_2015_06_01.parquet\n"
     ]
    },
    {
     "name": "stderr",
     "output_type": "stream",
     "text": [
      "                                                                                "
     ]
    },
    {
     "name": "stdout",
     "output_type": "stream",
     "text": [
      "loaded from: gs://cs611_mle/datamart/bronze/userlog/bronze_userlog_2015_07_01.csv row count: 2101474\n"
     ]
    },
    {
     "name": "stderr",
     "output_type": "stream",
     "text": [
      "                                                                                "
     ]
    },
    {
     "name": "stdout",
     "output_type": "stream",
     "text": [
      "Also loaded from: gs://cs611_mle/datamart/bronze/userlog/bronze_userlog_2015_08_01.csv row count: 2114079\n"
     ]
    },
    {
     "name": "stderr",
     "output_type": "stream",
     "text": [
      "25/06/15 01:00:25 WARN MemoryManager: Total allocation exceeds 95.00% (1,020,054,720 bytes) of heap memory\n",
      "Scaling row group sizes to 95.00% for 8 writers\n",
      "                                                                                "
     ]
    },
    {
     "name": "stdout",
     "output_type": "stream",
     "text": [
      "saved to: gs://cs611_mle/datamart/silver/userlog//silver_userlog_2015_07_01.parquet\n"
     ]
    },
    {
     "name": "stderr",
     "output_type": "stream",
     "text": [
      "                                                                                "
     ]
    },
    {
     "name": "stdout",
     "output_type": "stream",
     "text": [
      "loaded from: gs://cs611_mle/datamart/bronze/userlog/bronze_userlog_2015_08_01.csv row count: 2114079\n"
     ]
    },
    {
     "name": "stderr",
     "output_type": "stream",
     "text": [
      "                                                                                "
     ]
    },
    {
     "name": "stdout",
     "output_type": "stream",
     "text": [
      "Also loaded from: gs://cs611_mle/datamart/bronze/userlog/bronze_userlog_2015_09_01.csv row count: 2114567\n"
     ]
    },
    {
     "name": "stderr",
     "output_type": "stream",
     "text": [
      "25/06/15 01:00:41 WARN MemoryManager: Total allocation exceeds 95.00% (1,020,054,720 bytes) of heap memory\n",
      "Scaling row group sizes to 95.00% for 8 writers\n",
      "                                                                                "
     ]
    },
    {
     "name": "stdout",
     "output_type": "stream",
     "text": [
      "saved to: gs://cs611_mle/datamart/silver/userlog//silver_userlog_2015_08_01.parquet\n"
     ]
    },
    {
     "name": "stderr",
     "output_type": "stream",
     "text": [
      "                                                                                "
     ]
    },
    {
     "name": "stdout",
     "output_type": "stream",
     "text": [
      "loaded from: gs://cs611_mle/datamart/bronze/userlog/bronze_userlog_2015_09_01.csv row count: 2114567\n"
     ]
    },
    {
     "name": "stderr",
     "output_type": "stream",
     "text": [
      "                                                                                "
     ]
    },
    {
     "name": "stdout",
     "output_type": "stream",
     "text": [
      "Also loaded from: gs://cs611_mle/datamart/bronze/userlog/bronze_userlog_2015_10_01.csv row count: 2208924\n"
     ]
    },
    {
     "name": "stderr",
     "output_type": "stream",
     "text": [
      "25/06/15 01:00:57 WARN MemoryManager: Total allocation exceeds 95.00% (1,020,054,720 bytes) of heap memory\n",
      "Scaling row group sizes to 95.00% for 8 writers\n",
      "                                                                                "
     ]
    },
    {
     "name": "stdout",
     "output_type": "stream",
     "text": [
      "saved to: gs://cs611_mle/datamart/silver/userlog//silver_userlog_2015_09_01.parquet\n"
     ]
    },
    {
     "name": "stderr",
     "output_type": "stream",
     "text": [
      "                                                                                "
     ]
    },
    {
     "name": "stdout",
     "output_type": "stream",
     "text": [
      "loaded from: gs://cs611_mle/datamart/bronze/userlog/bronze_userlog_2015_10_01.csv row count: 2208924\n"
     ]
    },
    {
     "name": "stderr",
     "output_type": "stream",
     "text": [
      "                                                                                "
     ]
    },
    {
     "name": "stdout",
     "output_type": "stream",
     "text": [
      "Also loaded from: gs://cs611_mle/datamart/bronze/userlog/bronze_userlog_2015_11_01.csv row count: 2193150\n"
     ]
    },
    {
     "name": "stderr",
     "output_type": "stream",
     "text": [
      "25/06/15 01:01:13 WARN MemoryManager: Total allocation exceeds 95.00% (1,020,054,720 bytes) of heap memory\n",
      "Scaling row group sizes to 95.00% for 8 writers\n",
      "                                                                                "
     ]
    },
    {
     "name": "stdout",
     "output_type": "stream",
     "text": [
      "saved to: gs://cs611_mle/datamart/silver/userlog//silver_userlog_2015_10_01.parquet\n"
     ]
    },
    {
     "name": "stderr",
     "output_type": "stream",
     "text": [
      "                                                                                "
     ]
    },
    {
     "name": "stdout",
     "output_type": "stream",
     "text": [
      "loaded from: gs://cs611_mle/datamart/bronze/userlog/bronze_userlog_2015_11_01.csv row count: 2193150\n"
     ]
    },
    {
     "name": "stderr",
     "output_type": "stream",
     "text": [
      "                                                                                "
     ]
    },
    {
     "name": "stdout",
     "output_type": "stream",
     "text": [
      "Also loaded from: gs://cs611_mle/datamart/bronze/userlog/bronze_userlog_2015_12_01.csv row count: 2286470\n"
     ]
    },
    {
     "name": "stderr",
     "output_type": "stream",
     "text": [
      "25/06/15 01:01:29 WARN MemoryManager: Total allocation exceeds 95.00% (1,020,054,720 bytes) of heap memory\n",
      "Scaling row group sizes to 95.00% for 8 writers\n",
      "                                                                                "
     ]
    },
    {
     "name": "stdout",
     "output_type": "stream",
     "text": [
      "saved to: gs://cs611_mle/datamart/silver/userlog//silver_userlog_2015_11_01.parquet\n"
     ]
    },
    {
     "name": "stderr",
     "output_type": "stream",
     "text": [
      "                                                                                "
     ]
    },
    {
     "name": "stdout",
     "output_type": "stream",
     "text": [
      "loaded from: gs://cs611_mle/datamart/bronze/userlog/bronze_userlog_2015_12_01.csv row count: 2286470\n"
     ]
    },
    {
     "name": "stderr",
     "output_type": "stream",
     "text": [
      "                                                                                "
     ]
    },
    {
     "name": "stdout",
     "output_type": "stream",
     "text": [
      "Also loaded from: gs://cs611_mle/datamart/bronze/userlog/bronze_userlog_2016_01_01.csv row count: 2266296\n"
     ]
    },
    {
     "name": "stderr",
     "output_type": "stream",
     "text": [
      "25/06/15 01:01:46 WARN MemoryManager: Total allocation exceeds 95.00% (1,020,054,720 bytes) of heap memory\n",
      "Scaling row group sizes to 95.00% for 8 writers\n",
      "                                                                                "
     ]
    },
    {
     "name": "stdout",
     "output_type": "stream",
     "text": [
      "saved to: gs://cs611_mle/datamart/silver/userlog//silver_userlog_2015_12_01.parquet\n"
     ]
    },
    {
     "name": "stderr",
     "output_type": "stream",
     "text": [
      "                                                                                "
     ]
    },
    {
     "name": "stdout",
     "output_type": "stream",
     "text": [
      "loaded from: gs://cs611_mle/datamart/bronze/userlog/bronze_userlog_2016_01_01.csv row count: 2266296\n"
     ]
    },
    {
     "name": "stderr",
     "output_type": "stream",
     "text": [
      "                                                                                "
     ]
    },
    {
     "name": "stdout",
     "output_type": "stream",
     "text": [
      "Also loaded from: gs://cs611_mle/datamart/bronze/userlog/bronze_userlog_2016_02_01.csv row count: 2084238\n"
     ]
    },
    {
     "name": "stderr",
     "output_type": "stream",
     "text": [
      "25/06/15 01:02:02 WARN MemoryManager: Total allocation exceeds 95.00% (1,020,054,720 bytes) of heap memory\n",
      "Scaling row group sizes to 95.00% for 8 writers\n",
      "                                                                                "
     ]
    },
    {
     "name": "stdout",
     "output_type": "stream",
     "text": [
      "saved to: gs://cs611_mle/datamart/silver/userlog//silver_userlog_2016_01_01.parquet\n"
     ]
    },
    {
     "name": "stderr",
     "output_type": "stream",
     "text": [
      "                                                                                "
     ]
    },
    {
     "name": "stdout",
     "output_type": "stream",
     "text": [
      "loaded from: gs://cs611_mle/datamart/bronze/userlog/bronze_userlog_2016_02_01.csv row count: 2084238\n"
     ]
    },
    {
     "name": "stderr",
     "output_type": "stream",
     "text": [
      "                                                                                "
     ]
    },
    {
     "name": "stdout",
     "output_type": "stream",
     "text": [
      "Also loaded from: gs://cs611_mle/datamart/bronze/userlog/bronze_userlog_2016_03_01.csv row count: 2372010\n"
     ]
    },
    {
     "name": "stderr",
     "output_type": "stream",
     "text": [
      "25/06/15 01:02:19 WARN MemoryManager: Total allocation exceeds 95.00% (1,020,054,720 bytes) of heap memory\n",
      "Scaling row group sizes to 95.00% for 8 writers\n",
      "                                                                                "
     ]
    },
    {
     "name": "stdout",
     "output_type": "stream",
     "text": [
      "saved to: gs://cs611_mle/datamart/silver/userlog//silver_userlog_2016_02_01.parquet\n"
     ]
    },
    {
     "name": "stderr",
     "output_type": "stream",
     "text": [
      "                                                                                "
     ]
    },
    {
     "name": "stdout",
     "output_type": "stream",
     "text": [
      "loaded from: gs://cs611_mle/datamart/bronze/userlog/bronze_userlog_2016_03_01.csv row count: 2372010\n"
     ]
    },
    {
     "name": "stderr",
     "output_type": "stream",
     "text": [
      "                                                                                "
     ]
    },
    {
     "name": "stdout",
     "output_type": "stream",
     "text": [
      "Also loaded from: gs://cs611_mle/datamart/bronze/userlog/bronze_userlog_2016_04_01.csv row count: 2346184\n"
     ]
    },
    {
     "name": "stderr",
     "output_type": "stream",
     "text": [
      "25/06/15 01:02:35 WARN MemoryManager: Total allocation exceeds 95.00% (1,020,054,720 bytes) of heap memory\n",
      "Scaling row group sizes to 95.00% for 8 writers\n",
      "                                                                                "
     ]
    },
    {
     "name": "stdout",
     "output_type": "stream",
     "text": [
      "saved to: gs://cs611_mle/datamart/silver/userlog//silver_userlog_2016_03_01.parquet\n"
     ]
    },
    {
     "name": "stderr",
     "output_type": "stream",
     "text": [
      "                                                                                "
     ]
    },
    {
     "name": "stdout",
     "output_type": "stream",
     "text": [
      "loaded from: gs://cs611_mle/datamart/bronze/userlog/bronze_userlog_2016_04_01.csv row count: 2346184\n"
     ]
    },
    {
     "name": "stderr",
     "output_type": "stream",
     "text": [
      "                                                                                "
     ]
    },
    {
     "name": "stdout",
     "output_type": "stream",
     "text": [
      "Also loaded from: gs://cs611_mle/datamart/bronze/userlog/bronze_userlog_2016_05_01.csv row count: 2445414\n"
     ]
    },
    {
     "name": "stderr",
     "output_type": "stream",
     "text": [
      "25/06/15 01:02:52 WARN MemoryManager: Total allocation exceeds 95.00% (1,020,054,720 bytes) of heap memory\n",
      "Scaling row group sizes to 95.00% for 8 writers\n",
      "                                                                                "
     ]
    },
    {
     "name": "stdout",
     "output_type": "stream",
     "text": [
      "saved to: gs://cs611_mle/datamart/silver/userlog//silver_userlog_2016_04_01.parquet\n"
     ]
    },
    {
     "name": "stderr",
     "output_type": "stream",
     "text": [
      "                                                                                "
     ]
    },
    {
     "name": "stdout",
     "output_type": "stream",
     "text": [
      "loaded from: gs://cs611_mle/datamart/bronze/userlog/bronze_userlog_2016_05_01.csv row count: 2445414\n"
     ]
    },
    {
     "name": "stderr",
     "output_type": "stream",
     "text": [
      "                                                                                "
     ]
    },
    {
     "name": "stdout",
     "output_type": "stream",
     "text": [
      "Also loaded from: gs://cs611_mle/datamart/bronze/userlog/bronze_userlog_2016_06_01.csv row count: 2374866\n"
     ]
    },
    {
     "name": "stderr",
     "output_type": "stream",
     "text": [
      "25/06/15 01:03:09 WARN MemoryManager: Total allocation exceeds 95.00% (1,020,054,720 bytes) of heap memory\n",
      "Scaling row group sizes to 95.00% for 8 writers\n",
      "                                                                                "
     ]
    },
    {
     "name": "stdout",
     "output_type": "stream",
     "text": [
      "saved to: gs://cs611_mle/datamart/silver/userlog//silver_userlog_2016_05_01.parquet\n"
     ]
    },
    {
     "name": "stderr",
     "output_type": "stream",
     "text": [
      "                                                                                "
     ]
    },
    {
     "name": "stdout",
     "output_type": "stream",
     "text": [
      "loaded from: gs://cs611_mle/datamart/bronze/userlog/bronze_userlog_2016_06_01.csv row count: 2374866\n"
     ]
    },
    {
     "name": "stderr",
     "output_type": "stream",
     "text": [
      "                                                                                "
     ]
    },
    {
     "name": "stdout",
     "output_type": "stream",
     "text": [
      "Also loaded from: gs://cs611_mle/datamart/bronze/userlog/bronze_userlog_2016_07_01.csv row count: 2444254\n"
     ]
    },
    {
     "name": "stderr",
     "output_type": "stream",
     "text": [
      "25/06/15 01:03:26 WARN MemoryManager: Total allocation exceeds 95.00% (1,020,054,720 bytes) of heap memory\n",
      "Scaling row group sizes to 95.00% for 8 writers\n",
      "                                                                                "
     ]
    },
    {
     "name": "stdout",
     "output_type": "stream",
     "text": [
      "saved to: gs://cs611_mle/datamart/silver/userlog//silver_userlog_2016_06_01.parquet\n"
     ]
    },
    {
     "name": "stderr",
     "output_type": "stream",
     "text": [
      "                                                                                "
     ]
    },
    {
     "name": "stdout",
     "output_type": "stream",
     "text": [
      "loaded from: gs://cs611_mle/datamart/bronze/userlog/bronze_userlog_2016_07_01.csv row count: 2444254\n"
     ]
    },
    {
     "name": "stderr",
     "output_type": "stream",
     "text": [
      "                                                                                "
     ]
    },
    {
     "name": "stdout",
     "output_type": "stream",
     "text": [
      "Also loaded from: gs://cs611_mle/datamart/bronze/userlog/bronze_userlog_2016_08_01.csv row count: 2451183\n"
     ]
    },
    {
     "name": "stderr",
     "output_type": "stream",
     "text": [
      "25/06/15 01:03:43 WARN MemoryManager: Total allocation exceeds 95.00% (1,020,054,720 bytes) of heap memory\n",
      "Scaling row group sizes to 95.00% for 8 writers\n",
      "                                                                                "
     ]
    },
    {
     "name": "stdout",
     "output_type": "stream",
     "text": [
      "saved to: gs://cs611_mle/datamart/silver/userlog//silver_userlog_2016_07_01.parquet\n"
     ]
    },
    {
     "name": "stderr",
     "output_type": "stream",
     "text": [
      "                                                                                "
     ]
    },
    {
     "name": "stdout",
     "output_type": "stream",
     "text": [
      "loaded from: gs://cs611_mle/datamart/bronze/userlog/bronze_userlog_2016_08_01.csv row count: 2451183\n"
     ]
    },
    {
     "name": "stderr",
     "output_type": "stream",
     "text": [
      "                                                                                "
     ]
    },
    {
     "name": "stdout",
     "output_type": "stream",
     "text": [
      "Also loaded from: gs://cs611_mle/datamart/bronze/userlog/bronze_userlog_2016_09_01.csv row count: 2376297\n"
     ]
    },
    {
     "name": "stderr",
     "output_type": "stream",
     "text": [
      "25/06/15 01:04:00 WARN MemoryManager: Total allocation exceeds 95.00% (1,020,054,720 bytes) of heap memory\n",
      "Scaling row group sizes to 95.00% for 8 writers\n",
      "                                                                                "
     ]
    },
    {
     "name": "stdout",
     "output_type": "stream",
     "text": [
      "saved to: gs://cs611_mle/datamart/silver/userlog//silver_userlog_2016_08_01.parquet\n"
     ]
    },
    {
     "name": "stderr",
     "output_type": "stream",
     "text": [
      "                                                                                "
     ]
    },
    {
     "name": "stdout",
     "output_type": "stream",
     "text": [
      "loaded from: gs://cs611_mle/datamart/bronze/userlog/bronze_userlog_2016_09_01.csv row count: 2376297\n"
     ]
    },
    {
     "name": "stderr",
     "output_type": "stream",
     "text": [
      "                                                                                "
     ]
    },
    {
     "name": "stdout",
     "output_type": "stream",
     "text": [
      "Also loaded from: gs://cs611_mle/datamart/bronze/userlog/bronze_userlog_2016_10_01.csv row count: 2516994\n"
     ]
    },
    {
     "name": "stderr",
     "output_type": "stream",
     "text": [
      "25/06/15 01:04:17 WARN MemoryManager: Total allocation exceeds 95.00% (1,020,054,720 bytes) of heap memory\n",
      "Scaling row group sizes to 95.00% for 8 writers\n",
      "                                                                                "
     ]
    },
    {
     "name": "stdout",
     "output_type": "stream",
     "text": [
      "saved to: gs://cs611_mle/datamart/silver/userlog//silver_userlog_2016_09_01.parquet\n"
     ]
    },
    {
     "name": "stderr",
     "output_type": "stream",
     "text": [
      "                                                                                "
     ]
    },
    {
     "name": "stdout",
     "output_type": "stream",
     "text": [
      "loaded from: gs://cs611_mle/datamart/bronze/userlog/bronze_userlog_2016_10_01.csv row count: 2516994\n"
     ]
    },
    {
     "name": "stderr",
     "output_type": "stream",
     "text": [
      "                                                                                "
     ]
    },
    {
     "name": "stdout",
     "output_type": "stream",
     "text": [
      "Also loaded from: gs://cs611_mle/datamart/bronze/userlog/bronze_userlog_2016_11_01.csv row count: 2466286\n"
     ]
    },
    {
     "name": "stderr",
     "output_type": "stream",
     "text": [
      "25/06/15 01:04:34 WARN MemoryManager: Total allocation exceeds 95.00% (1,020,054,720 bytes) of heap memory\n",
      "Scaling row group sizes to 95.00% for 8 writers\n",
      "                                                                                "
     ]
    },
    {
     "name": "stdout",
     "output_type": "stream",
     "text": [
      "saved to: gs://cs611_mle/datamart/silver/userlog//silver_userlog_2016_10_01.parquet\n"
     ]
    },
    {
     "name": "stderr",
     "output_type": "stream",
     "text": [
      "                                                                                "
     ]
    },
    {
     "name": "stdout",
     "output_type": "stream",
     "text": [
      "loaded from: gs://cs611_mle/datamart/bronze/userlog/bronze_userlog_2016_11_01.csv row count: 2466286\n"
     ]
    },
    {
     "name": "stderr",
     "output_type": "stream",
     "text": [
      "                                                                                "
     ]
    },
    {
     "name": "stdout",
     "output_type": "stream",
     "text": [
      "Also loaded from: gs://cs611_mle/datamart/bronze/userlog/bronze_userlog_2016_12_01.csv row count: 2565567\n"
     ]
    },
    {
     "name": "stderr",
     "output_type": "stream",
     "text": [
      "25/06/15 01:04:51 WARN MemoryManager: Total allocation exceeds 95.00% (1,020,054,720 bytes) of heap memory\n",
      "Scaling row group sizes to 95.00% for 8 writers\n",
      "                                                                                "
     ]
    },
    {
     "name": "stdout",
     "output_type": "stream",
     "text": [
      "saved to: gs://cs611_mle/datamart/silver/userlog//silver_userlog_2016_11_01.parquet\n"
     ]
    },
    {
     "name": "stderr",
     "output_type": "stream",
     "text": [
      "                                                                                "
     ]
    },
    {
     "name": "stdout",
     "output_type": "stream",
     "text": [
      "loaded from: gs://cs611_mle/datamart/bronze/userlog/bronze_userlog_2016_12_01.csv row count: 2565567\n"
     ]
    },
    {
     "name": "stderr",
     "output_type": "stream",
     "text": [
      "                                                                                "
     ]
    },
    {
     "name": "stdout",
     "output_type": "stream",
     "text": [
      "Also loaded from: gs://cs611_mle/datamart/bronze/userlog/bronze_userlog_2017_01_01.csv row count: 2536389\n"
     ]
    },
    {
     "name": "stderr",
     "output_type": "stream",
     "text": [
      "25/06/15 01:05:09 WARN MemoryManager: Total allocation exceeds 95.00% (1,020,054,720 bytes) of heap memory\n",
      "Scaling row group sizes to 95.00% for 8 writers\n",
      "                                                                                "
     ]
    },
    {
     "name": "stdout",
     "output_type": "stream",
     "text": [
      "saved to: gs://cs611_mle/datamart/silver/userlog//silver_userlog_2016_12_01.parquet\n"
     ]
    },
    {
     "name": "stderr",
     "output_type": "stream",
     "text": [
      "                                                                                "
     ]
    },
    {
     "name": "stdout",
     "output_type": "stream",
     "text": [
      "loaded from: gs://cs611_mle/datamart/bronze/userlog/bronze_userlog_2017_01_01.csv row count: 2536389\n"
     ]
    },
    {
     "name": "stderr",
     "output_type": "stream",
     "text": [
      "                                                                                "
     ]
    },
    {
     "name": "stdout",
     "output_type": "stream",
     "text": [
      "Also loaded from: gs://cs611_mle/datamart/bronze/userlog/bronze_userlog_2017_02_01.csv row count: 2270306\n"
     ]
    },
    {
     "name": "stderr",
     "output_type": "stream",
     "text": [
      "25/06/15 01:05:25 WARN MemoryManager: Total allocation exceeds 95.00% (1,020,054,720 bytes) of heap memory\n",
      "Scaling row group sizes to 95.00% for 8 writers\n",
      "                                                                                "
     ]
    },
    {
     "name": "stdout",
     "output_type": "stream",
     "text": [
      "saved to: gs://cs611_mle/datamart/silver/userlog//silver_userlog_2017_01_01.parquet\n"
     ]
    },
    {
     "name": "stderr",
     "output_type": "stream",
     "text": [
      "                                                                                "
     ]
    },
    {
     "name": "stdout",
     "output_type": "stream",
     "text": [
      "loaded from: gs://cs611_mle/datamart/bronze/userlog/bronze_userlog_2017_02_01.csv row count: 2270306\n"
     ]
    },
    {
     "name": "stderr",
     "output_type": "stream",
     "text": [
      "                                                                                "
     ]
    },
    {
     "name": "stdout",
     "output_type": "stream",
     "text": [
      "Also loaded from: gs://cs611_mle/datamart/bronze/userlog/bronze_userlog_2017_03_01.csv row count: 2587759\n"
     ]
    },
    {
     "name": "stderr",
     "output_type": "stream",
     "text": [
      "25/06/15 01:05:43 WARN MemoryManager: Total allocation exceeds 95.00% (1,020,054,720 bytes) of heap memory\n",
      "Scaling row group sizes to 95.00% for 8 writers\n",
      "                                                                                "
     ]
    },
    {
     "name": "stdout",
     "output_type": "stream",
     "text": [
      "saved to: gs://cs611_mle/datamart/silver/userlog//silver_userlog_2017_02_01.parquet\n"
     ]
    },
    {
     "name": "stderr",
     "output_type": "stream",
     "text": [
      "                                                                                "
     ]
    },
    {
     "name": "stdout",
     "output_type": "stream",
     "text": [
      "loaded from: gs://cs611_mle/datamart/bronze/userlog/bronze_userlog_2017_03_01.csv row count: 2587759\n",
      "File gs://cs611_mle/datamart/bronze/userlog/bronze_userlog_2017_04_01.csv does not exist. Proceeding with single snapshot.\n"
     ]
    },
    {
     "name": "stderr",
     "output_type": "stream",
     "text": [
      "                                                                                "
     ]
    },
    {
     "name": "stdout",
     "output_type": "stream",
     "text": [
      "saved to: gs://cs611_mle/datamart/silver/userlog//silver_userlog_2017_03_01.parquet\n"
     ]
    }
   ],
   "source": [
    "\n",
    "for date_str in dates_str_lst:\n",
    "    utils.silver.process_silver_table_userlog(date_str, bucket_name, bronze_userlog_directory, actual_silver_transaction_directory, silver_userlog_directory, spark)"
   ]
  },
  {
   "cell_type": "code",
   "execution_count": null,
   "id": "0fe87dd7-4ea8-42dc-943f-ad26dc711be8",
   "metadata": {},
   "outputs": [],
   "source": []
  },
  {
   "cell_type": "code",
   "execution_count": null,
   "id": "8bd5a10d-0a38-46fb-802f-7f64fcfb0fba",
   "metadata": {},
   "outputs": [],
   "source": []
  },
  {
   "cell_type": "code",
   "execution_count": null,
   "id": "4cff7579-baf6-4048-bce8-543a34d97863",
   "metadata": {},
   "outputs": [],
   "source": []
  },
  {
   "cell_type": "code",
   "execution_count": null,
   "id": "9648dbe8-b80f-42aa-b64e-ab749873ad8a",
   "metadata": {},
   "outputs": [],
   "source": []
  },
  {
   "cell_type": "code",
   "execution_count": null,
   "id": "d583dd40-2aed-4ce6-9a82-6f428ebc32c6",
   "metadata": {},
   "outputs": [],
   "source": []
  },
  {
   "cell_type": "code",
   "execution_count": null,
   "id": "4313441f-264a-4f39-9845-0230710de5fd",
   "metadata": {},
   "outputs": [],
   "source": []
  }
 ],
 "metadata": {
  "kernelspec": {
   "display_name": "Python 3 (ipykernel)",
   "language": "python",
   "name": "python3"
  },
  "language_info": {
   "codemirror_mode": {
    "name": "ipython",
    "version": 3
   },
   "file_extension": ".py",
   "mimetype": "text/x-python",
   "name": "python",
   "nbconvert_exporter": "python",
   "pygments_lexer": "ipython3",
   "version": "3.12.11"
  }
 },
 "nbformat": 4,
 "nbformat_minor": 5
}
