{
 "cells": [
  {
   "cell_type": "code",
   "execution_count": 1,
   "id": "fcfd64a6-342a-4f7f-9215-bb15e8879db7",
   "metadata": {},
   "outputs": [
    {
     "name": "stdout",
     "output_type": "stream",
     "text": [
      "Done Importing!\n"
     ]
    }
   ],
   "source": [
    "import pandas as pd\n",
    "import numpy as np\n",
    "import seaborn as sns\n",
    "import matplotlib.pyplot as plt\n",
    "import calendar\n",
    "from pyspark.sql import SparkSession\n",
    "from tqdm import tqdm\n",
    "import time  # to simulate loading for tqdm\n",
    "\n",
    "import os\n",
    "import glob\n",
    "import random\n",
    "from datetime import datetime, timedelta\n",
    "from dateutil.relativedelta import relativedelta\n",
    "import pprint\n",
    "import pyspark\n",
    "import pyspark.sql.functions as F\n",
    "\n",
    "from pyspark.sql.functions import col, to_date, count, min, max, lit\n",
    "from pyspark.sql.types import StringType, IntegerType, FloatType, DateType\n",
    "from pyspark.sql.functions import col, sum as spark_sum, when\n",
    "\n",
    "import utils.bronze\n",
    "import utils.silver\n",
    "import utils.gold\n",
    "\n",
    "print('Done Importing!')"
   ]
  },
  {
   "cell_type": "code",
   "execution_count": 2,
   "id": "57e43867-7336-4c85-9f58-f213f6f0ad7d",
   "metadata": {},
   "outputs": [],
   "source": [
    "# # Create gold table and store to Google Cloud Storage\n",
    "# gold_label_file_path = \"Gold Layer/labels.csv\"\n",
    "# gold_label_gcs_path = f\"gs://{bucket_name}/{gold_label_file_path}\"\n",
    "\n",
    "# try:\n",
    "#     df_labels.to_csv(gold_label_gcs_path, index=False)\n",
    "#     print(\"labels.csv Stored to Gold Layer Successfully! ✅\")\n",
    "# except Exception as e:\n",
    "#     print(f\"labels.csv Store Failed: {e}\")"
   ]
  },
  {
   "cell_type": "markdown",
   "id": "875478ff-a598-4c8b-a554-3339d7bbcd3e",
   "metadata": {},
   "source": [
    "# Setup Hadoop\n",
    "Go to your working directory: CS611_MLE_GROUP_PROJECT <br/>\n",
    "Then, run this command in your VM terminal:\n",
    "> wget https://repo1.maven.org/maven2/com/google/cloud/bigdataoss/gcs-connector/hadoop3-2.2.20/gcs-connector-hadoop3-2.2.20-shaded.jar -P jars/\n",
    "\n",
    "<br/><br/>\n",
    "Copy your google cloud application_default_credentials.json to this working directory, then can run the following commands:"
   ]
  },
  {
   "cell_type": "code",
   "execution_count": 2,
   "id": "9c8c23a9-e386-4fdd-9469-7deb322f36b3",
   "metadata": {},
   "outputs": [
    {
     "name": "stderr",
     "output_type": "stream",
     "text": [
      "25/06/15 15:30:59 WARN NativeCodeLoader: Unable to load native-hadoop library for your platform... using builtin-java classes where applicable\n",
      "Setting default log level to \"WARN\".\n",
      "To adjust logging level use sc.setLogLevel(newLevel). For SparkR, use setLogLevel(newLevel).\n",
      "25/06/15 15:31:00 WARN Utils: Service 'SparkUI' could not bind on port 4040. Attempting port 4041.\n"
     ]
    }
   ],
   "source": [
    "\n",
    "spark = SparkSession \\\n",
    "    .builder \\\n",
    "    .config(\"spark.jars\", \"jars/gcs-connector-hadoop3-2.2.20-shaded.jar\") \\\n",
    "    .config(\"spark.driver.memory\", \"4g\") \\\n",
    "    .getOrCreate()\n"
   ]
  },
  {
   "cell_type": "code",
   "execution_count": 3,
   "id": "5bfa7d2b-f59e-4382-85f7-238b9f1f9abd",
   "metadata": {},
   "outputs": [],
   "source": [
    "spark._jsc.hadoopConfiguration().set('fs.gs.impl', 'com.google.cloud.hadoop.fs.gcs.GoogleHadoopFileSystem')\n",
    "# This is required if you are using service account and set true, \n",
    "spark._jsc.hadoopConfiguration().set('fs.gs.auth.service.account.enable', 'true')\n",
    "spark._jsc.hadoopConfiguration().set('google.cloud.auth.service.account.json.keyfile', \"application_default_credentials.json\")\n",
    "# Following are required if you are using oAuth\n",
    "# spark._jsc.hadoopConfiguration().set('fs.gs.auth.client.id', 'YOUR_OAUTH_CLIENT_ID')\n",
    "# spark._jsc.hadoopConfiguration().set('fs.gs.auth.client.secret', 'OAUTH_SECRET')"
   ]
  },
  {
   "cell_type": "markdown",
   "id": "05687340-0d0b-4626-a6f2-cd88e395ab56",
   "metadata": {},
   "source": [
    "# Partition Existing Bronze"
   ]
  },
  {
   "cell_type": "code",
   "execution_count": 4,
   "id": "b3107dbf-0815-4115-8bb5-6deb5c65d493",
   "metadata": {},
   "outputs": [],
   "source": [
    "# Setup Config\n",
    "snapshot_date_str = \"2015-01-01\"\n",
    "\n",
    "start_date_str = \"2015-01-01\"\n",
    "end_date_str = \"2017-03-31\""
   ]
  },
  {
   "cell_type": "code",
   "execution_count": 5,
   "id": "92c3ad1c-639d-440c-968e-17883f05cdaa",
   "metadata": {},
   "outputs": [
    {
     "name": "stdout",
     "output_type": "stream",
     "text": [
      "Done generate list of dates!\n"
     ]
    }
   ],
   "source": [
    "# generate list of dates to process\n",
    "def generate_first_of_month_dates(start_date_str, end_date_str):\n",
    "    # Convert the date strings to datetime objects\n",
    "    start_date = datetime.strptime(start_date_str, \"%Y-%m-%d\")\n",
    "    end_date = datetime.strptime(end_date_str, \"%Y-%m-%d\")\n",
    "    \n",
    "    # List to store the first of month dates\n",
    "    first_of_month_dates = []\n",
    "\n",
    "    # Start from the first of the month of the start_date\n",
    "    current_date = datetime(start_date.year, start_date.month, 1)\n",
    "\n",
    "    while current_date <= end_date:\n",
    "        # Append the date in yyyy-mm-dd format\n",
    "        first_of_month_dates.append(current_date.strftime(\"%Y-%m-%d\"))\n",
    "        \n",
    "        # Move to the first of the next month\n",
    "        if current_date.month == 12:\n",
    "            current_date = datetime(current_date.year + 1, 1, 1)\n",
    "        else:\n",
    "            current_date = datetime(current_date.year, current_date.month + 1, 1)\n",
    "\n",
    "    return first_of_month_dates\n",
    "\n",
    "dates_str_lst = generate_first_of_month_dates(start_date_str, end_date_str)\n",
    "print(\"Done generate list of dates!\")"
   ]
  },
  {
   "cell_type": "code",
   "execution_count": 6,
   "id": "9d606561-b76b-48e0-8006-9332c6b1a45c",
   "metadata": {},
   "outputs": [
    {
     "data": {
      "text/plain": [
       "['2015-01-01',\n",
       " '2015-02-01',\n",
       " '2015-03-01',\n",
       " '2015-04-01',\n",
       " '2015-05-01',\n",
       " '2015-06-01',\n",
       " '2015-07-01',\n",
       " '2015-08-01',\n",
       " '2015-09-01',\n",
       " '2015-10-01',\n",
       " '2015-11-01',\n",
       " '2015-12-01',\n",
       " '2016-01-01',\n",
       " '2016-02-01',\n",
       " '2016-03-01',\n",
       " '2016-04-01',\n",
       " '2016-05-01',\n",
       " '2016-06-01',\n",
       " '2016-07-01',\n",
       " '2016-08-01',\n",
       " '2016-09-01',\n",
       " '2016-10-01',\n",
       " '2016-11-01',\n",
       " '2016-12-01',\n",
       " '2017-01-01',\n",
       " '2017-02-01',\n",
       " '2017-03-01']"
      ]
     },
     "execution_count": 6,
     "metadata": {},
     "output_type": "execute_result"
    }
   ],
   "source": [
    "dates_str_lst"
   ]
  },
  {
   "cell_type": "code",
   "execution_count": 7,
   "id": "a872c187-d5ca-43ce-9cd4-e6064534e903",
   "metadata": {},
   "outputs": [],
   "source": [
    "bucket_name = \"cs611_mle\""
   ]
  },
  {
   "cell_type": "markdown",
   "id": "d2584a1a-b3ae-47fc-9cf5-2bba0cbdde71",
   "metadata": {},
   "source": [
    "### Bronze Member"
   ]
  },
  {
   "cell_type": "code",
   "execution_count": 9,
   "id": "f4569354-114f-46ed-baae-981be7724e27",
   "metadata": {},
   "outputs": [],
   "source": [
    "### ~~~ Bronze Member ~~~\n",
    "# create bronze datalake\n",
    "bronze_member_directory = \"datamart/bronze/member\""
   ]
  },
  {
   "cell_type": "code",
   "execution_count": null,
   "id": "c46b9659-5321-4781-b8c9-a9a6374f97f7",
   "metadata": {},
   "outputs": [],
   "source": [
    "# No need to be partitioned\n",
    "utils.bronze.process_bronze_member(bucket_name, bronze_member_directory, spark)\n",
    "print('Done Build Bronze Table - Member!')"
   ]
  },
  {
   "cell_type": "markdown",
   "id": "e1322ed7-7e7b-417b-815b-c9e80f27df2d",
   "metadata": {},
   "source": [
    "### Bronze User Log"
   ]
  },
  {
   "cell_type": "code",
   "execution_count": 11,
   "id": "c8b6fba4-3256-4eb8-8c4e-4ae49e95df46",
   "metadata": {},
   "outputs": [],
   "source": [
    "### ~~~ User Log ~~~\n",
    "# create bronze datalake\n",
    "# create multiple csv files \n",
    "bronze_userlog_directory = \"datamart/bronze/userlog\""
   ]
  },
  {
   "cell_type": "code",
   "execution_count": 11,
   "id": "1a3bd6c3-4522-49df-9af1-a0acd396952c",
   "metadata": {
    "scrolled": true
   },
   "outputs": [
    {
     "name": "stderr",
     "output_type": "stream",
     "text": [
      "                                                                                "
     ]
    },
    {
     "name": "stdout",
     "output_type": "stream",
     "text": [
      "2015-01-01row count: 2032255\n"
     ]
    },
    {
     "name": "stderr",
     "output_type": "stream",
     "text": [
      "                                                                                "
     ]
    },
    {
     "name": "stdout",
     "output_type": "stream",
     "text": [
      "saved to: gs://cs611_mle/datamart/bronze/userlog/bronze_userlog_2015_01_01.csv\n"
     ]
    },
    {
     "name": "stderr",
     "output_type": "stream",
     "text": [
      "                                                                                "
     ]
    },
    {
     "name": "stdout",
     "output_type": "stream",
     "text": [
      "2015-02-01row count: 1812923\n"
     ]
    },
    {
     "name": "stderr",
     "output_type": "stream",
     "text": [
      "                                                                                "
     ]
    },
    {
     "name": "stdout",
     "output_type": "stream",
     "text": [
      "saved to: gs://cs611_mle/datamart/bronze/userlog/bronze_userlog_2015_02_01.csv\n"
     ]
    },
    {
     "name": "stderr",
     "output_type": "stream",
     "text": [
      "                                                                                "
     ]
    },
    {
     "name": "stdout",
     "output_type": "stream",
     "text": [
      "2015-03-01row count: 2093862\n"
     ]
    },
    {
     "name": "stderr",
     "output_type": "stream",
     "text": [
      "                                                                                "
     ]
    },
    {
     "name": "stdout",
     "output_type": "stream",
     "text": [
      "saved to: gs://cs611_mle/datamart/bronze/userlog/bronze_userlog_2015_03_01.csv\n"
     ]
    },
    {
     "name": "stderr",
     "output_type": "stream",
     "text": [
      "                                                                                "
     ]
    },
    {
     "name": "stdout",
     "output_type": "stream",
     "text": [
      "2015-04-01row count: 2073110\n"
     ]
    },
    {
     "name": "stderr",
     "output_type": "stream",
     "text": [
      "                                                                                "
     ]
    },
    {
     "name": "stdout",
     "output_type": "stream",
     "text": [
      "saved to: gs://cs611_mle/datamart/bronze/userlog/bronze_userlog_2015_04_01.csv\n"
     ]
    },
    {
     "name": "stderr",
     "output_type": "stream",
     "text": [
      "                                                                                "
     ]
    },
    {
     "name": "stdout",
     "output_type": "stream",
     "text": [
      "2015-05-01row count: 2132861\n"
     ]
    },
    {
     "name": "stderr",
     "output_type": "stream",
     "text": [
      "                                                                                "
     ]
    },
    {
     "name": "stdout",
     "output_type": "stream",
     "text": [
      "saved to: gs://cs611_mle/datamart/bronze/userlog/bronze_userlog_2015_05_01.csv\n"
     ]
    },
    {
     "name": "stderr",
     "output_type": "stream",
     "text": [
      "                                                                                "
     ]
    },
    {
     "name": "stdout",
     "output_type": "stream",
     "text": [
      "2015-06-01row count: 2057344\n"
     ]
    },
    {
     "name": "stderr",
     "output_type": "stream",
     "text": [
      "                                                                                "
     ]
    },
    {
     "name": "stdout",
     "output_type": "stream",
     "text": [
      "saved to: gs://cs611_mle/datamart/bronze/userlog/bronze_userlog_2015_06_01.csv\n"
     ]
    },
    {
     "name": "stderr",
     "output_type": "stream",
     "text": [
      "                                                                                "
     ]
    },
    {
     "name": "stdout",
     "output_type": "stream",
     "text": [
      "2015-07-01row count: 2101474\n"
     ]
    },
    {
     "name": "stderr",
     "output_type": "stream",
     "text": [
      "                                                                                "
     ]
    },
    {
     "name": "stdout",
     "output_type": "stream",
     "text": [
      "saved to: gs://cs611_mle/datamart/bronze/userlog/bronze_userlog_2015_07_01.csv\n"
     ]
    },
    {
     "name": "stderr",
     "output_type": "stream",
     "text": [
      "                                                                                "
     ]
    },
    {
     "name": "stdout",
     "output_type": "stream",
     "text": [
      "2015-08-01row count: 2114079\n"
     ]
    },
    {
     "name": "stderr",
     "output_type": "stream",
     "text": [
      "                                                                                "
     ]
    },
    {
     "name": "stdout",
     "output_type": "stream",
     "text": [
      "saved to: gs://cs611_mle/datamart/bronze/userlog/bronze_userlog_2015_08_01.csv\n"
     ]
    },
    {
     "name": "stderr",
     "output_type": "stream",
     "text": [
      "                                                                                "
     ]
    },
    {
     "name": "stdout",
     "output_type": "stream",
     "text": [
      "2015-09-01row count: 2114567\n"
     ]
    },
    {
     "name": "stderr",
     "output_type": "stream",
     "text": [
      "                                                                                "
     ]
    },
    {
     "name": "stdout",
     "output_type": "stream",
     "text": [
      "saved to: gs://cs611_mle/datamart/bronze/userlog/bronze_userlog_2015_09_01.csv\n"
     ]
    },
    {
     "name": "stderr",
     "output_type": "stream",
     "text": [
      "                                                                                "
     ]
    },
    {
     "name": "stdout",
     "output_type": "stream",
     "text": [
      "2015-10-01row count: 2208924\n"
     ]
    },
    {
     "name": "stderr",
     "output_type": "stream",
     "text": [
      "                                                                                "
     ]
    },
    {
     "name": "stdout",
     "output_type": "stream",
     "text": [
      "saved to: gs://cs611_mle/datamart/bronze/userlog/bronze_userlog_2015_10_01.csv\n"
     ]
    },
    {
     "name": "stderr",
     "output_type": "stream",
     "text": [
      "                                                                                "
     ]
    },
    {
     "name": "stdout",
     "output_type": "stream",
     "text": [
      "2015-11-01row count: 2193150\n"
     ]
    },
    {
     "name": "stderr",
     "output_type": "stream",
     "text": [
      "                                                                                "
     ]
    },
    {
     "name": "stdout",
     "output_type": "stream",
     "text": [
      "saved to: gs://cs611_mle/datamart/bronze/userlog/bronze_userlog_2015_11_01.csv\n"
     ]
    },
    {
     "name": "stderr",
     "output_type": "stream",
     "text": [
      "                                                                                "
     ]
    },
    {
     "name": "stdout",
     "output_type": "stream",
     "text": [
      "2015-12-01row count: 2286470\n"
     ]
    },
    {
     "name": "stderr",
     "output_type": "stream",
     "text": [
      "                                                                                "
     ]
    },
    {
     "name": "stdout",
     "output_type": "stream",
     "text": [
      "saved to: gs://cs611_mle/datamart/bronze/userlog/bronze_userlog_2015_12_01.csv\n"
     ]
    },
    {
     "name": "stderr",
     "output_type": "stream",
     "text": [
      "                                                                                "
     ]
    },
    {
     "name": "stdout",
     "output_type": "stream",
     "text": [
      "2016-01-01row count: 2266296\n"
     ]
    },
    {
     "name": "stderr",
     "output_type": "stream",
     "text": [
      "                                                                                "
     ]
    },
    {
     "name": "stdout",
     "output_type": "stream",
     "text": [
      "saved to: gs://cs611_mle/datamart/bronze/userlog/bronze_userlog_2016_01_01.csv\n"
     ]
    },
    {
     "name": "stderr",
     "output_type": "stream",
     "text": [
      "                                                                                "
     ]
    },
    {
     "name": "stdout",
     "output_type": "stream",
     "text": [
      "2016-02-01row count: 2084238\n"
     ]
    },
    {
     "name": "stderr",
     "output_type": "stream",
     "text": [
      "                                                                                "
     ]
    },
    {
     "name": "stdout",
     "output_type": "stream",
     "text": [
      "saved to: gs://cs611_mle/datamart/bronze/userlog/bronze_userlog_2016_02_01.csv\n"
     ]
    },
    {
     "name": "stderr",
     "output_type": "stream",
     "text": [
      "                                                                                "
     ]
    },
    {
     "name": "stdout",
     "output_type": "stream",
     "text": [
      "2016-03-01row count: 2372010\n"
     ]
    },
    {
     "name": "stderr",
     "output_type": "stream",
     "text": [
      "                                                                                "
     ]
    },
    {
     "name": "stdout",
     "output_type": "stream",
     "text": [
      "saved to: gs://cs611_mle/datamart/bronze/userlog/bronze_userlog_2016_03_01.csv\n"
     ]
    },
    {
     "name": "stderr",
     "output_type": "stream",
     "text": [
      "                                                                                "
     ]
    },
    {
     "name": "stdout",
     "output_type": "stream",
     "text": [
      "2016-04-01row count: 2346184\n"
     ]
    },
    {
     "name": "stderr",
     "output_type": "stream",
     "text": [
      "                                                                                "
     ]
    },
    {
     "name": "stdout",
     "output_type": "stream",
     "text": [
      "saved to: gs://cs611_mle/datamart/bronze/userlog/bronze_userlog_2016_04_01.csv\n"
     ]
    },
    {
     "name": "stderr",
     "output_type": "stream",
     "text": [
      "                                                                                "
     ]
    },
    {
     "name": "stdout",
     "output_type": "stream",
     "text": [
      "2016-05-01row count: 2445414\n"
     ]
    },
    {
     "name": "stderr",
     "output_type": "stream",
     "text": [
      "                                                                                "
     ]
    },
    {
     "name": "stdout",
     "output_type": "stream",
     "text": [
      "saved to: gs://cs611_mle/datamart/bronze/userlog/bronze_userlog_2016_05_01.csv\n"
     ]
    },
    {
     "name": "stderr",
     "output_type": "stream",
     "text": [
      "                                                                                "
     ]
    },
    {
     "name": "stdout",
     "output_type": "stream",
     "text": [
      "2016-06-01row count: 2374866\n"
     ]
    },
    {
     "name": "stderr",
     "output_type": "stream",
     "text": [
      "                                                                                "
     ]
    },
    {
     "name": "stdout",
     "output_type": "stream",
     "text": [
      "saved to: gs://cs611_mle/datamart/bronze/userlog/bronze_userlog_2016_06_01.csv\n"
     ]
    },
    {
     "name": "stderr",
     "output_type": "stream",
     "text": [
      "                                                                                "
     ]
    },
    {
     "name": "stdout",
     "output_type": "stream",
     "text": [
      "2016-07-01row count: 2444254\n"
     ]
    },
    {
     "name": "stderr",
     "output_type": "stream",
     "text": [
      "                                                                                "
     ]
    },
    {
     "name": "stdout",
     "output_type": "stream",
     "text": [
      "saved to: gs://cs611_mle/datamart/bronze/userlog/bronze_userlog_2016_07_01.csv\n"
     ]
    },
    {
     "name": "stderr",
     "output_type": "stream",
     "text": [
      "                                                                                "
     ]
    },
    {
     "name": "stdout",
     "output_type": "stream",
     "text": [
      "2016-08-01row count: 2451183\n"
     ]
    },
    {
     "name": "stderr",
     "output_type": "stream",
     "text": [
      "                                                                                "
     ]
    },
    {
     "name": "stdout",
     "output_type": "stream",
     "text": [
      "saved to: gs://cs611_mle/datamart/bronze/userlog/bronze_userlog_2016_08_01.csv\n"
     ]
    },
    {
     "name": "stderr",
     "output_type": "stream",
     "text": [
      "                                                                                "
     ]
    },
    {
     "name": "stdout",
     "output_type": "stream",
     "text": [
      "2016-09-01row count: 2376297\n"
     ]
    },
    {
     "name": "stderr",
     "output_type": "stream",
     "text": [
      "                                                                                "
     ]
    },
    {
     "name": "stdout",
     "output_type": "stream",
     "text": [
      "saved to: gs://cs611_mle/datamart/bronze/userlog/bronze_userlog_2016_09_01.csv\n"
     ]
    },
    {
     "name": "stderr",
     "output_type": "stream",
     "text": [
      "                                                                                "
     ]
    },
    {
     "name": "stdout",
     "output_type": "stream",
     "text": [
      "2016-10-01row count: 2516994\n"
     ]
    },
    {
     "name": "stderr",
     "output_type": "stream",
     "text": [
      "                                                                                "
     ]
    },
    {
     "name": "stdout",
     "output_type": "stream",
     "text": [
      "saved to: gs://cs611_mle/datamart/bronze/userlog/bronze_userlog_2016_10_01.csv\n"
     ]
    },
    {
     "name": "stderr",
     "output_type": "stream",
     "text": [
      "                                                                                "
     ]
    },
    {
     "name": "stdout",
     "output_type": "stream",
     "text": [
      "2016-11-01row count: 2466286\n"
     ]
    },
    {
     "name": "stderr",
     "output_type": "stream",
     "text": [
      "                                                                                "
     ]
    },
    {
     "name": "stdout",
     "output_type": "stream",
     "text": [
      "saved to: gs://cs611_mle/datamart/bronze/userlog/bronze_userlog_2016_11_01.csv\n"
     ]
    },
    {
     "name": "stderr",
     "output_type": "stream",
     "text": [
      "                                                                                "
     ]
    },
    {
     "name": "stdout",
     "output_type": "stream",
     "text": [
      "2016-12-01row count: 2565567\n"
     ]
    },
    {
     "name": "stderr",
     "output_type": "stream",
     "text": [
      "                                                                                "
     ]
    },
    {
     "name": "stdout",
     "output_type": "stream",
     "text": [
      "saved to: gs://cs611_mle/datamart/bronze/userlog/bronze_userlog_2016_12_01.csv\n"
     ]
    },
    {
     "name": "stderr",
     "output_type": "stream",
     "text": [
      "                                                                                "
     ]
    },
    {
     "name": "stdout",
     "output_type": "stream",
     "text": [
      "2017-01-01row count: 2536389\n"
     ]
    },
    {
     "name": "stderr",
     "output_type": "stream",
     "text": [
      "                                                                                "
     ]
    },
    {
     "name": "stdout",
     "output_type": "stream",
     "text": [
      "saved to: gs://cs611_mle/datamart/bronze/userlog/bronze_userlog_2017_01_01.csv\n"
     ]
    },
    {
     "name": "stderr",
     "output_type": "stream",
     "text": [
      "                                                                                "
     ]
    },
    {
     "name": "stdout",
     "output_type": "stream",
     "text": [
      "2017-02-01row count: 2270306\n"
     ]
    },
    {
     "name": "stderr",
     "output_type": "stream",
     "text": [
      "                                                                                "
     ]
    },
    {
     "name": "stdout",
     "output_type": "stream",
     "text": [
      "saved to: gs://cs611_mle/datamart/bronze/userlog/bronze_userlog_2017_02_01.csv\n"
     ]
    },
    {
     "name": "stderr",
     "output_type": "stream",
     "text": [
      "                                                                                "
     ]
    },
    {
     "name": "stdout",
     "output_type": "stream",
     "text": [
      "2017-03-01row count: 2587759\n"
     ]
    },
    {
     "name": "stderr",
     "output_type": "stream",
     "text": [
      "                                                                                "
     ]
    },
    {
     "name": "stdout",
     "output_type": "stream",
     "text": [
      "saved to: gs://cs611_mle/datamart/bronze/userlog/bronze_userlog_2017_03_01.csv\n",
      "Done Build Bronze Table - userlog!\n"
     ]
    }
   ],
   "source": [
    "\n",
    "# run bronze backfill\n",
    "for date_str in dates_str_lst:\n",
    "    utils.bronze.process_bronze_userlog(date_str, bucket_name, bronze_userlog_directory, spark)\n",
    "    \n",
    "print('Done Build Bronze Table - userlog!')"
   ]
  },
  {
   "cell_type": "markdown",
   "id": "c518d048-d945-4574-801a-6738c9fd077d",
   "metadata": {},
   "source": [
    "# Partition Existing Silver"
   ]
  },
  {
   "cell_type": "markdown",
   "id": "12563740-da19-4457-8c81-5ee89219d0a2",
   "metadata": {},
   "source": [
    "This should have been done in Bronze"
   ]
  },
  {
   "cell_type": "markdown",
   "id": "0ba4036e-5d5d-4c5e-a921-385ac07300a4",
   "metadata": {},
   "source": [
    "### Silver Transaction"
   ]
  },
  {
   "cell_type": "code",
   "execution_count": 14,
   "id": "4ad360dc-f179-4500-989b-9e41f0b24494",
   "metadata": {},
   "outputs": [],
   "source": [
    "### ~~~ Transaction ~~~\n",
    "# create silver datalake\n",
    "# create multiple csv files \n",
    "bronze_transaction_directory = \"datamart/bronze/transaction\""
   ]
  },
  {
   "cell_type": "code",
   "execution_count": 15,
   "id": "96bb98ad-85e8-49f2-b865-b72435c13564",
   "metadata": {
    "scrolled": true
   },
   "outputs": [
    {
     "name": "stderr",
     "output_type": "stream",
     "text": [
      "                                                                                "
     ]
    },
    {
     "name": "stdout",
     "output_type": "stream",
     "text": [
      "2015-01-01row count: 97582\n"
     ]
    },
    {
     "name": "stderr",
     "output_type": "stream",
     "text": [
      "                                                                                "
     ]
    },
    {
     "name": "stdout",
     "output_type": "stream",
     "text": [
      "saved to: gs://cs611_mle/datamart/bronze/transaction/bronze_transaction_2015_01_01.csv\n"
     ]
    },
    {
     "name": "stderr",
     "output_type": "stream",
     "text": [
      "                                                                                "
     ]
    },
    {
     "name": "stdout",
     "output_type": "stream",
     "text": [
      "2015-02-01row count: 88599\n"
     ]
    },
    {
     "name": "stderr",
     "output_type": "stream",
     "text": [
      "                                                                                "
     ]
    },
    {
     "name": "stdout",
     "output_type": "stream",
     "text": [
      "saved to: gs://cs611_mle/datamart/bronze/transaction/bronze_transaction_2015_02_01.csv\n"
     ]
    },
    {
     "name": "stderr",
     "output_type": "stream",
     "text": [
      "                                                                                "
     ]
    },
    {
     "name": "stdout",
     "output_type": "stream",
     "text": [
      "2015-03-01row count: 110650\n"
     ]
    },
    {
     "name": "stderr",
     "output_type": "stream",
     "text": [
      "                                                                                "
     ]
    },
    {
     "name": "stdout",
     "output_type": "stream",
     "text": [
      "saved to: gs://cs611_mle/datamart/bronze/transaction/bronze_transaction_2015_03_01.csv\n"
     ]
    },
    {
     "name": "stderr",
     "output_type": "stream",
     "text": [
      "                                                                                "
     ]
    },
    {
     "name": "stdout",
     "output_type": "stream",
     "text": [
      "2015-04-01row count: 90444\n"
     ]
    },
    {
     "name": "stderr",
     "output_type": "stream",
     "text": [
      "                                                                                "
     ]
    },
    {
     "name": "stdout",
     "output_type": "stream",
     "text": [
      "saved to: gs://cs611_mle/datamart/bronze/transaction/bronze_transaction_2015_04_01.csv\n"
     ]
    },
    {
     "name": "stderr",
     "output_type": "stream",
     "text": [
      "                                                                                "
     ]
    },
    {
     "name": "stdout",
     "output_type": "stream",
     "text": [
      "2015-05-01row count: 74016\n"
     ]
    },
    {
     "name": "stderr",
     "output_type": "stream",
     "text": [
      "                                                                                "
     ]
    },
    {
     "name": "stdout",
     "output_type": "stream",
     "text": [
      "saved to: gs://cs611_mle/datamart/bronze/transaction/bronze_transaction_2015_05_01.csv\n"
     ]
    },
    {
     "name": "stderr",
     "output_type": "stream",
     "text": [
      "                                                                                "
     ]
    },
    {
     "name": "stdout",
     "output_type": "stream",
     "text": [
      "2015-06-01row count: 159757\n"
     ]
    },
    {
     "name": "stderr",
     "output_type": "stream",
     "text": [
      "                                                                                "
     ]
    },
    {
     "name": "stdout",
     "output_type": "stream",
     "text": [
      "saved to: gs://cs611_mle/datamart/bronze/transaction/bronze_transaction_2015_06_01.csv\n"
     ]
    },
    {
     "name": "stderr",
     "output_type": "stream",
     "text": [
      "                                                                                "
     ]
    },
    {
     "name": "stdout",
     "output_type": "stream",
     "text": [
      "2015-07-01row count: 114653\n"
     ]
    },
    {
     "name": "stderr",
     "output_type": "stream",
     "text": [
      "                                                                                "
     ]
    },
    {
     "name": "stdout",
     "output_type": "stream",
     "text": [
      "saved to: gs://cs611_mle/datamart/bronze/transaction/bronze_transaction_2015_07_01.csv\n"
     ]
    },
    {
     "name": "stderr",
     "output_type": "stream",
     "text": [
      "                                                                                "
     ]
    },
    {
     "name": "stdout",
     "output_type": "stream",
     "text": [
      "2015-08-01row count: 120975\n"
     ]
    },
    {
     "name": "stderr",
     "output_type": "stream",
     "text": [
      "                                                                                "
     ]
    },
    {
     "name": "stdout",
     "output_type": "stream",
     "text": [
      "saved to: gs://cs611_mle/datamart/bronze/transaction/bronze_transaction_2015_08_01.csv\n"
     ]
    },
    {
     "name": "stderr",
     "output_type": "stream",
     "text": [
      "                                                                                "
     ]
    },
    {
     "name": "stdout",
     "output_type": "stream",
     "text": [
      "2015-09-01row count: 114040\n"
     ]
    },
    {
     "name": "stderr",
     "output_type": "stream",
     "text": [
      "                                                                                "
     ]
    },
    {
     "name": "stdout",
     "output_type": "stream",
     "text": [
      "saved to: gs://cs611_mle/datamart/bronze/transaction/bronze_transaction_2015_09_01.csv\n"
     ]
    },
    {
     "name": "stderr",
     "output_type": "stream",
     "text": [
      "                                                                                "
     ]
    },
    {
     "name": "stdout",
     "output_type": "stream",
     "text": [
      "2015-10-01row count: 122403\n"
     ]
    },
    {
     "name": "stderr",
     "output_type": "stream",
     "text": [
      "                                                                                "
     ]
    },
    {
     "name": "stdout",
     "output_type": "stream",
     "text": [
      "saved to: gs://cs611_mle/datamart/bronze/transaction/bronze_transaction_2015_10_01.csv\n"
     ]
    },
    {
     "name": "stderr",
     "output_type": "stream",
     "text": [
      "                                                                                "
     ]
    },
    {
     "name": "stdout",
     "output_type": "stream",
     "text": [
      "2015-11-01row count: 120900\n"
     ]
    },
    {
     "name": "stderr",
     "output_type": "stream",
     "text": [
      "                                                                                "
     ]
    },
    {
     "name": "stdout",
     "output_type": "stream",
     "text": [
      "saved to: gs://cs611_mle/datamart/bronze/transaction/bronze_transaction_2015_11_01.csv\n"
     ]
    },
    {
     "name": "stderr",
     "output_type": "stream",
     "text": [
      "                                                                                "
     ]
    },
    {
     "name": "stdout",
     "output_type": "stream",
     "text": [
      "2015-12-01row count: 127488\n"
     ]
    },
    {
     "name": "stderr",
     "output_type": "stream",
     "text": [
      "                                                                                "
     ]
    },
    {
     "name": "stdout",
     "output_type": "stream",
     "text": [
      "saved to: gs://cs611_mle/datamart/bronze/transaction/bronze_transaction_2015_12_01.csv\n"
     ]
    },
    {
     "name": "stderr",
     "output_type": "stream",
     "text": [
      "                                                                                "
     ]
    },
    {
     "name": "stdout",
     "output_type": "stream",
     "text": [
      "2016-01-01row count: 140191\n"
     ]
    },
    {
     "name": "stderr",
     "output_type": "stream",
     "text": [
      "                                                                                "
     ]
    },
    {
     "name": "stdout",
     "output_type": "stream",
     "text": [
      "saved to: gs://cs611_mle/datamart/bronze/transaction/bronze_transaction_2016_01_01.csv\n"
     ]
    },
    {
     "name": "stderr",
     "output_type": "stream",
     "text": [
      "                                                                                "
     ]
    },
    {
     "name": "stdout",
     "output_type": "stream",
     "text": [
      "2016-02-01row count: 113518\n"
     ]
    },
    {
     "name": "stderr",
     "output_type": "stream",
     "text": [
      "                                                                                "
     ]
    },
    {
     "name": "stdout",
     "output_type": "stream",
     "text": [
      "saved to: gs://cs611_mle/datamart/bronze/transaction/bronze_transaction_2016_02_01.csv\n"
     ]
    },
    {
     "name": "stderr",
     "output_type": "stream",
     "text": [
      "                                                                                "
     ]
    },
    {
     "name": "stdout",
     "output_type": "stream",
     "text": [
      "2016-03-01row count: 129277\n"
     ]
    },
    {
     "name": "stderr",
     "output_type": "stream",
     "text": [
      "                                                                                "
     ]
    },
    {
     "name": "stdout",
     "output_type": "stream",
     "text": [
      "saved to: gs://cs611_mle/datamart/bronze/transaction/bronze_transaction_2016_03_01.csv\n"
     ]
    },
    {
     "name": "stderr",
     "output_type": "stream",
     "text": [
      "                                                                                "
     ]
    },
    {
     "name": "stdout",
     "output_type": "stream",
     "text": [
      "2016-04-01row count: 111378\n"
     ]
    },
    {
     "name": "stderr",
     "output_type": "stream",
     "text": [
      "                                                                                "
     ]
    },
    {
     "name": "stdout",
     "output_type": "stream",
     "text": [
      "saved to: gs://cs611_mle/datamart/bronze/transaction/bronze_transaction_2016_04_01.csv\n"
     ]
    },
    {
     "name": "stderr",
     "output_type": "stream",
     "text": [
      "                                                                                "
     ]
    },
    {
     "name": "stdout",
     "output_type": "stream",
     "text": [
      "2016-05-01row count: 128071\n"
     ]
    },
    {
     "name": "stderr",
     "output_type": "stream",
     "text": [
      "                                                                                "
     ]
    },
    {
     "name": "stdout",
     "output_type": "stream",
     "text": [
      "saved to: gs://cs611_mle/datamart/bronze/transaction/bronze_transaction_2016_05_01.csv\n"
     ]
    },
    {
     "name": "stderr",
     "output_type": "stream",
     "text": [
      "                                                                                "
     ]
    },
    {
     "name": "stdout",
     "output_type": "stream",
     "text": [
      "2016-06-01row count: 113673\n"
     ]
    },
    {
     "name": "stderr",
     "output_type": "stream",
     "text": [
      "                                                                                "
     ]
    },
    {
     "name": "stdout",
     "output_type": "stream",
     "text": [
      "saved to: gs://cs611_mle/datamart/bronze/transaction/bronze_transaction_2016_06_01.csv\n"
     ]
    },
    {
     "name": "stderr",
     "output_type": "stream",
     "text": [
      "[Stage 110:============================>                            (4 + 4) / 8]"
     ]
    },
    {
     "name": "stdout",
     "output_type": "stream",
     "text": [
      "2016-07-01row count: 123913\n"
     ]
    },
    {
     "name": "stderr",
     "output_type": "stream",
     "text": [
      "                                                                                "
     ]
    },
    {
     "name": "stdout",
     "output_type": "stream",
     "text": [
      "saved to: gs://cs611_mle/datamart/bronze/transaction/bronze_transaction_2016_07_01.csv\n"
     ]
    },
    {
     "name": "stderr",
     "output_type": "stream",
     "text": [
      "                                                                                "
     ]
    },
    {
     "name": "stdout",
     "output_type": "stream",
     "text": [
      "2016-08-01row count: 150382\n"
     ]
    },
    {
     "name": "stderr",
     "output_type": "stream",
     "text": [
      "                                                                                "
     ]
    },
    {
     "name": "stdout",
     "output_type": "stream",
     "text": [
      "saved to: gs://cs611_mle/datamart/bronze/transaction/bronze_transaction_2016_08_01.csv\n"
     ]
    },
    {
     "name": "stderr",
     "output_type": "stream",
     "text": [
      "                                                                                "
     ]
    },
    {
     "name": "stdout",
     "output_type": "stream",
     "text": [
      "2016-09-01row count: 128303\n"
     ]
    },
    {
     "name": "stderr",
     "output_type": "stream",
     "text": [
      "                                                                                "
     ]
    },
    {
     "name": "stdout",
     "output_type": "stream",
     "text": [
      "saved to: gs://cs611_mle/datamart/bronze/transaction/bronze_transaction_2016_09_01.csv\n"
     ]
    },
    {
     "name": "stderr",
     "output_type": "stream",
     "text": [
      "                                                                                "
     ]
    },
    {
     "name": "stdout",
     "output_type": "stream",
     "text": [
      "2016-10-01row count: 152765\n"
     ]
    },
    {
     "name": "stderr",
     "output_type": "stream",
     "text": [
      "                                                                                "
     ]
    },
    {
     "name": "stdout",
     "output_type": "stream",
     "text": [
      "saved to: gs://cs611_mle/datamart/bronze/transaction/bronze_transaction_2016_10_01.csv\n"
     ]
    },
    {
     "name": "stderr",
     "output_type": "stream",
     "text": [
      "                                                                                "
     ]
    },
    {
     "name": "stdout",
     "output_type": "stream",
     "text": [
      "2016-11-01row count: 134110\n"
     ]
    },
    {
     "name": "stderr",
     "output_type": "stream",
     "text": [
      "                                                                                "
     ]
    },
    {
     "name": "stdout",
     "output_type": "stream",
     "text": [
      "saved to: gs://cs611_mle/datamart/bronze/transaction/bronze_transaction_2016_11_01.csv\n"
     ]
    },
    {
     "name": "stderr",
     "output_type": "stream",
     "text": [
      "                                                                                "
     ]
    },
    {
     "name": "stdout",
     "output_type": "stream",
     "text": [
      "2016-12-01row count: 138018\n"
     ]
    },
    {
     "name": "stderr",
     "output_type": "stream",
     "text": [
      "                                                                                "
     ]
    },
    {
     "name": "stdout",
     "output_type": "stream",
     "text": [
      "saved to: gs://cs611_mle/datamart/bronze/transaction/bronze_transaction_2016_12_01.csv\n"
     ]
    },
    {
     "name": "stderr",
     "output_type": "stream",
     "text": [
      "                                                                                "
     ]
    },
    {
     "name": "stdout",
     "output_type": "stream",
     "text": [
      "2017-01-01row count: 160929\n"
     ]
    },
    {
     "name": "stderr",
     "output_type": "stream",
     "text": [
      "                                                                                "
     ]
    },
    {
     "name": "stdout",
     "output_type": "stream",
     "text": [
      "saved to: gs://cs611_mle/datamart/bronze/transaction/bronze_transaction_2017_01_01.csv\n"
     ]
    },
    {
     "name": "stderr",
     "output_type": "stream",
     "text": [
      "                                                                                "
     ]
    },
    {
     "name": "stdout",
     "output_type": "stream",
     "text": [
      "2017-02-01row count: 116238\n"
     ]
    },
    {
     "name": "stderr",
     "output_type": "stream",
     "text": [
      "                                                                                "
     ]
    },
    {
     "name": "stdout",
     "output_type": "stream",
     "text": [
      "saved to: gs://cs611_mle/datamart/bronze/transaction/bronze_transaction_2017_02_01.csv\n"
     ]
    },
    {
     "name": "stderr",
     "output_type": "stream",
     "text": [
      "                                                                                "
     ]
    },
    {
     "name": "stdout",
     "output_type": "stream",
     "text": [
      "2017-03-01row count: 11247\n"
     ]
    },
    {
     "name": "stderr",
     "output_type": "stream",
     "text": [
      "                                                                                "
     ]
    },
    {
     "name": "stdout",
     "output_type": "stream",
     "text": [
      "saved to: gs://cs611_mle/datamart/bronze/transaction/bronze_transaction_2017_03_01.csv\n",
      "Done Partition Silver (Actually Bronze) Table - transaction!\n"
     ]
    }
   ],
   "source": [
    "\n",
    "# run bronze backfill\n",
    "for date_str in dates_str_lst:\n",
    "    utils.bronze.process_bronze_transaction_partition(date_str, bucket_name, bronze_transaction_directory, spark)\n",
    "print('Done Partition Silver (Actually Bronze) Table - transaction!')"
   ]
  },
  {
   "cell_type": "markdown",
   "id": "e001a817-b086-4117-9182-e1e0cf3338f4",
   "metadata": {},
   "source": [
    "# Process Feature Silver Table"
   ]
  },
  {
   "cell_type": "markdown",
   "id": "863a710f-b501-4308-b38d-2e8d1551ca9e",
   "metadata": {},
   "source": [
    "### Member ~ Bronze to Silver Table"
   ]
  },
  {
   "cell_type": "code",
   "execution_count": 10,
   "id": "a51d76b3-5599-40d2-9a38-2256ee10c0f7",
   "metadata": {},
   "outputs": [],
   "source": [
    "# create silver datalake\n",
    "silver_member_directory = \"datamart/silver/member/\""
   ]
  },
  {
   "cell_type": "code",
   "execution_count": 14,
   "id": "f1a9a1a4-c52e-4ea0-a85d-6e8ec3de45c0",
   "metadata": {},
   "outputs": [
    {
     "name": "stdout",
     "output_type": "stream",
     "text": [
      "loaded from: gs://cs611_mle/datamart/bronze/member/bronze_members.csv row count: 300000\n",
      "+------+------+\n",
      "|gender| count|\n",
      "+------+------+\n",
      "|  NULL|171532|\n",
      "|  male| 65635|\n",
      "|female| 62833|\n",
      "+------+------+\n",
      "\n"
     ]
    },
    {
     "name": "stderr",
     "output_type": "stream",
     "text": [
      "                                                                                "
     ]
    },
    {
     "name": "stdout",
     "output_type": "stream",
     "text": [
      "saved to: gs://cs611_mle/datamart/silver/member//silver_member.parquet\n"
     ]
    },
    {
     "data": {
      "text/html": [
       "<div>\n",
       "<style scoped>\n",
       "    .dataframe tbody tr th:only-of-type {\n",
       "        vertical-align: middle;\n",
       "    }\n",
       "\n",
       "    .dataframe tbody tr th {\n",
       "        vertical-align: top;\n",
       "    }\n",
       "\n",
       "    .dataframe thead th {\n",
       "        text-align: right;\n",
       "    }\n",
       "</style>\n",
       "<table border=\"1\" class=\"dataframe\">\n",
       "  <thead>\n",
       "    <tr style=\"text-align: right;\">\n",
       "      <th></th>\n",
       "      <th>msno</th>\n",
       "      <th>city</th>\n",
       "      <th>gender</th>\n",
       "      <th>registered_via</th>\n",
       "      <th>registration_init_time</th>\n",
       "    </tr>\n",
       "  </thead>\n",
       "  <tbody>\n",
       "    <tr>\n",
       "      <th>0</th>\n",
       "      <td>2dwuk0KQUnCnRvFnDGFyIslHLqG8lFHkyOvfRNwc5XI=</td>\n",
       "      <td>5</td>\n",
       "      <td>female</td>\n",
       "      <td>9</td>\n",
       "      <td>2012-03-09</td>\n",
       "    </tr>\n",
       "    <tr>\n",
       "      <th>1</th>\n",
       "      <td>Bx13MoR+nVJVVDsatg3fxInFupmO1jSzdkFKMA976t8=</td>\n",
       "      <td>13</td>\n",
       "      <td>female</td>\n",
       "      <td>7</td>\n",
       "      <td>2013-04-22</td>\n",
       "    </tr>\n",
       "    <tr>\n",
       "      <th>2</th>\n",
       "      <td>2ouWnOhbWxdFyjEy8qx/8lr15OzZ0PX9tr6xZP4Ihns=</td>\n",
       "      <td>1</td>\n",
       "      <td>na</td>\n",
       "      <td>7</td>\n",
       "      <td>2014-06-29</td>\n",
       "    </tr>\n",
       "    <tr>\n",
       "      <th>3</th>\n",
       "      <td>QvZtxnHz7yGh07QiFuq0RN1hL5WrzcbKlQTUiroEEyE=</td>\n",
       "      <td>13</td>\n",
       "      <td>na</td>\n",
       "      <td>9</td>\n",
       "      <td>2011-05-28</td>\n",
       "    </tr>\n",
       "    <tr>\n",
       "      <th>4</th>\n",
       "      <td>CUFR22oaKwIwzj4VMey3Mj76B5zawuo2PxsWheNfQ6Q=</td>\n",
       "      <td>5</td>\n",
       "      <td>male</td>\n",
       "      <td>9</td>\n",
       "      <td>2014-11-28</td>\n",
       "    </tr>\n",
       "  </tbody>\n",
       "</table>\n",
       "</div>"
      ],
      "text/plain": [
       "                                           msno city  gender registered_via  \\\n",
       "0  2dwuk0KQUnCnRvFnDGFyIslHLqG8lFHkyOvfRNwc5XI=    5  female              9   \n",
       "1  Bx13MoR+nVJVVDsatg3fxInFupmO1jSzdkFKMA976t8=   13  female              7   \n",
       "2  2ouWnOhbWxdFyjEy8qx/8lr15OzZ0PX9tr6xZP4Ihns=    1      na              7   \n",
       "3  QvZtxnHz7yGh07QiFuq0RN1hL5WrzcbKlQTUiroEEyE=   13      na              9   \n",
       "4  CUFR22oaKwIwzj4VMey3Mj76B5zawuo2PxsWheNfQ6Q=    5    male              9   \n",
       "\n",
       "  registration_init_time  \n",
       "0             2012-03-09  \n",
       "1             2013-04-22  \n",
       "2             2014-06-29  \n",
       "3             2011-05-28  \n",
       "4             2014-11-28  "
      ]
     },
     "execution_count": 14,
     "metadata": {},
     "output_type": "execute_result"
    }
   ],
   "source": [
    "utils.silver.process_silver_table_member(bucket_name, bronze_member_directory, silver_member_directory, spark).toPandas().head()"
   ]
  },
  {
   "cell_type": "markdown",
   "id": "dc8839f0-92f0-42df-9d3f-0e4fde00f993",
   "metadata": {},
   "source": [
    "### Transaction ~ Partitioned_Silver to Actual Silver (processed)"
   ]
  },
  {
   "cell_type": "code",
   "execution_count": 11,
   "id": "c3193914-f6f0-43cb-bfd6-2fdbc0c7402a",
   "metadata": {},
   "outputs": [],
   "source": [
    "actual_silver_transaction_directory = \"datamart/silver/transaction/\""
   ]
  },
  {
   "cell_type": "code",
   "execution_count": 17,
   "id": "a08f776d-dabf-4e56-84c1-665277e2c607",
   "metadata": {
    "scrolled": true
   },
   "outputs": [
    {
     "name": "stdout",
     "output_type": "stream",
     "text": [
      "loaded from: gs://cs611_mle/datamart/bronze/transaction/bronze_transaction_2015_01_01.csv row count: 97582\n"
     ]
    },
    {
     "name": "stderr",
     "output_type": "stream",
     "text": [
      "                                                                                "
     ]
    },
    {
     "name": "stdout",
     "output_type": "stream",
     "text": [
      "saved to: gs://cs611_mle/datamart/silver/transaction//silver_transaction_2015_01_01.parquet\n",
      "loaded from: gs://cs611_mle/datamart/bronze/transaction/bronze_transaction_2015_02_01.csv row count: 88599\n"
     ]
    },
    {
     "name": "stderr",
     "output_type": "stream",
     "text": [
      "                                                                                "
     ]
    },
    {
     "name": "stdout",
     "output_type": "stream",
     "text": [
      "saved to: gs://cs611_mle/datamart/silver/transaction//silver_transaction_2015_02_01.parquet\n",
      "loaded from: gs://cs611_mle/datamart/bronze/transaction/bronze_transaction_2015_03_01.csv row count: 110650\n"
     ]
    },
    {
     "name": "stderr",
     "output_type": "stream",
     "text": [
      "                                                                                "
     ]
    },
    {
     "name": "stdout",
     "output_type": "stream",
     "text": [
      "saved to: gs://cs611_mle/datamart/silver/transaction//silver_transaction_2015_03_01.parquet\n",
      "loaded from: gs://cs611_mle/datamart/bronze/transaction/bronze_transaction_2015_04_01.csv row count: 90444\n"
     ]
    },
    {
     "name": "stderr",
     "output_type": "stream",
     "text": [
      "                                                                                "
     ]
    },
    {
     "name": "stdout",
     "output_type": "stream",
     "text": [
      "saved to: gs://cs611_mle/datamart/silver/transaction//silver_transaction_2015_04_01.parquet\n",
      "loaded from: gs://cs611_mle/datamart/bronze/transaction/bronze_transaction_2015_05_01.csv row count: 74016\n"
     ]
    },
    {
     "name": "stderr",
     "output_type": "stream",
     "text": [
      "                                                                                "
     ]
    },
    {
     "name": "stdout",
     "output_type": "stream",
     "text": [
      "saved to: gs://cs611_mle/datamart/silver/transaction//silver_transaction_2015_05_01.parquet\n",
      "loaded from: gs://cs611_mle/datamart/bronze/transaction/bronze_transaction_2015_06_01.csv row count: 159757\n"
     ]
    },
    {
     "name": "stderr",
     "output_type": "stream",
     "text": [
      "                                                                                "
     ]
    },
    {
     "name": "stdout",
     "output_type": "stream",
     "text": [
      "saved to: gs://cs611_mle/datamart/silver/transaction//silver_transaction_2015_06_01.parquet\n",
      "loaded from: gs://cs611_mle/datamart/bronze/transaction/bronze_transaction_2015_07_01.csv row count: 114653\n"
     ]
    },
    {
     "name": "stderr",
     "output_type": "stream",
     "text": [
      "                                                                                "
     ]
    },
    {
     "name": "stdout",
     "output_type": "stream",
     "text": [
      "saved to: gs://cs611_mle/datamart/silver/transaction//silver_transaction_2015_07_01.parquet\n",
      "loaded from: gs://cs611_mle/datamart/bronze/transaction/bronze_transaction_2015_08_01.csv row count: 120975\n"
     ]
    },
    {
     "name": "stderr",
     "output_type": "stream",
     "text": [
      "                                                                                "
     ]
    },
    {
     "name": "stdout",
     "output_type": "stream",
     "text": [
      "saved to: gs://cs611_mle/datamart/silver/transaction//silver_transaction_2015_08_01.parquet\n",
      "loaded from: gs://cs611_mle/datamart/bronze/transaction/bronze_transaction_2015_09_01.csv row count: 114040\n"
     ]
    },
    {
     "name": "stderr",
     "output_type": "stream",
     "text": [
      "                                                                                "
     ]
    },
    {
     "name": "stdout",
     "output_type": "stream",
     "text": [
      "saved to: gs://cs611_mle/datamart/silver/transaction//silver_transaction_2015_09_01.parquet\n",
      "loaded from: gs://cs611_mle/datamart/bronze/transaction/bronze_transaction_2015_10_01.csv row count: 122403\n"
     ]
    },
    {
     "name": "stderr",
     "output_type": "stream",
     "text": [
      "                                                                                "
     ]
    },
    {
     "name": "stdout",
     "output_type": "stream",
     "text": [
      "saved to: gs://cs611_mle/datamart/silver/transaction//silver_transaction_2015_10_01.parquet\n",
      "loaded from: gs://cs611_mle/datamart/bronze/transaction/bronze_transaction_2015_11_01.csv row count: 120900\n"
     ]
    },
    {
     "name": "stderr",
     "output_type": "stream",
     "text": [
      "                                                                                "
     ]
    },
    {
     "name": "stdout",
     "output_type": "stream",
     "text": [
      "saved to: gs://cs611_mle/datamart/silver/transaction//silver_transaction_2015_11_01.parquet\n",
      "loaded from: gs://cs611_mle/datamart/bronze/transaction/bronze_transaction_2015_12_01.csv row count: 127488\n"
     ]
    },
    {
     "name": "stderr",
     "output_type": "stream",
     "text": [
      "                                                                                "
     ]
    },
    {
     "name": "stdout",
     "output_type": "stream",
     "text": [
      "saved to: gs://cs611_mle/datamart/silver/transaction//silver_transaction_2015_12_01.parquet\n",
      "loaded from: gs://cs611_mle/datamart/bronze/transaction/bronze_transaction_2016_01_01.csv row count: 140191\n"
     ]
    },
    {
     "name": "stderr",
     "output_type": "stream",
     "text": [
      "                                                                                "
     ]
    },
    {
     "name": "stdout",
     "output_type": "stream",
     "text": [
      "saved to: gs://cs611_mle/datamart/silver/transaction//silver_transaction_2016_01_01.parquet\n",
      "loaded from: gs://cs611_mle/datamart/bronze/transaction/bronze_transaction_2016_02_01.csv row count: 113518\n"
     ]
    },
    {
     "name": "stderr",
     "output_type": "stream",
     "text": [
      "                                                                                "
     ]
    },
    {
     "name": "stdout",
     "output_type": "stream",
     "text": [
      "saved to: gs://cs611_mle/datamart/silver/transaction//silver_transaction_2016_02_01.parquet\n",
      "loaded from: gs://cs611_mle/datamart/bronze/transaction/bronze_transaction_2016_03_01.csv row count: 129277\n"
     ]
    },
    {
     "name": "stderr",
     "output_type": "stream",
     "text": [
      "                                                                                "
     ]
    },
    {
     "name": "stdout",
     "output_type": "stream",
     "text": [
      "saved to: gs://cs611_mle/datamart/silver/transaction//silver_transaction_2016_03_01.parquet\n",
      "loaded from: gs://cs611_mle/datamart/bronze/transaction/bronze_transaction_2016_04_01.csv row count: 111378\n"
     ]
    },
    {
     "name": "stderr",
     "output_type": "stream",
     "text": [
      "                                                                                "
     ]
    },
    {
     "name": "stdout",
     "output_type": "stream",
     "text": [
      "saved to: gs://cs611_mle/datamart/silver/transaction//silver_transaction_2016_04_01.parquet\n",
      "loaded from: gs://cs611_mle/datamart/bronze/transaction/bronze_transaction_2016_05_01.csv row count: 128071\n"
     ]
    },
    {
     "name": "stderr",
     "output_type": "stream",
     "text": [
      "                                                                                "
     ]
    },
    {
     "name": "stdout",
     "output_type": "stream",
     "text": [
      "saved to: gs://cs611_mle/datamart/silver/transaction//silver_transaction_2016_05_01.parquet\n",
      "loaded from: gs://cs611_mle/datamart/bronze/transaction/bronze_transaction_2016_06_01.csv row count: 113673\n"
     ]
    },
    {
     "name": "stderr",
     "output_type": "stream",
     "text": [
      "                                                                                "
     ]
    },
    {
     "name": "stdout",
     "output_type": "stream",
     "text": [
      "saved to: gs://cs611_mle/datamart/silver/transaction//silver_transaction_2016_06_01.parquet\n",
      "loaded from: gs://cs611_mle/datamart/bronze/transaction/bronze_transaction_2016_07_01.csv row count: 123913\n"
     ]
    },
    {
     "name": "stderr",
     "output_type": "stream",
     "text": [
      "                                                                                "
     ]
    },
    {
     "name": "stdout",
     "output_type": "stream",
     "text": [
      "saved to: gs://cs611_mle/datamart/silver/transaction//silver_transaction_2016_07_01.parquet\n",
      "loaded from: gs://cs611_mle/datamart/bronze/transaction/bronze_transaction_2016_08_01.csv row count: 150382\n"
     ]
    },
    {
     "name": "stderr",
     "output_type": "stream",
     "text": [
      "                                                                                "
     ]
    },
    {
     "name": "stdout",
     "output_type": "stream",
     "text": [
      "saved to: gs://cs611_mle/datamart/silver/transaction//silver_transaction_2016_08_01.parquet\n",
      "loaded from: gs://cs611_mle/datamart/bronze/transaction/bronze_transaction_2016_09_01.csv row count: 128303\n"
     ]
    },
    {
     "name": "stderr",
     "output_type": "stream",
     "text": [
      "                                                                                "
     ]
    },
    {
     "name": "stdout",
     "output_type": "stream",
     "text": [
      "saved to: gs://cs611_mle/datamart/silver/transaction//silver_transaction_2016_09_01.parquet\n",
      "loaded from: gs://cs611_mle/datamart/bronze/transaction/bronze_transaction_2016_10_01.csv row count: 152765\n"
     ]
    },
    {
     "name": "stderr",
     "output_type": "stream",
     "text": [
      "                                                                                "
     ]
    },
    {
     "name": "stdout",
     "output_type": "stream",
     "text": [
      "saved to: gs://cs611_mle/datamart/silver/transaction//silver_transaction_2016_10_01.parquet\n",
      "loaded from: gs://cs611_mle/datamart/bronze/transaction/bronze_transaction_2016_11_01.csv row count: 134110\n"
     ]
    },
    {
     "name": "stderr",
     "output_type": "stream",
     "text": [
      "                                                                                "
     ]
    },
    {
     "name": "stdout",
     "output_type": "stream",
     "text": [
      "saved to: gs://cs611_mle/datamart/silver/transaction//silver_transaction_2016_11_01.parquet\n",
      "loaded from: gs://cs611_mle/datamart/bronze/transaction/bronze_transaction_2016_12_01.csv row count: 138018\n"
     ]
    },
    {
     "name": "stderr",
     "output_type": "stream",
     "text": [
      "                                                                                "
     ]
    },
    {
     "name": "stdout",
     "output_type": "stream",
     "text": [
      "saved to: gs://cs611_mle/datamart/silver/transaction//silver_transaction_2016_12_01.parquet\n",
      "loaded from: gs://cs611_mle/datamart/bronze/transaction/bronze_transaction_2017_01_01.csv row count: 160929\n"
     ]
    },
    {
     "name": "stderr",
     "output_type": "stream",
     "text": [
      "                                                                                "
     ]
    },
    {
     "name": "stdout",
     "output_type": "stream",
     "text": [
      "saved to: gs://cs611_mle/datamart/silver/transaction//silver_transaction_2017_01_01.parquet\n",
      "loaded from: gs://cs611_mle/datamart/bronze/transaction/bronze_transaction_2017_02_01.csv row count: 116238\n"
     ]
    },
    {
     "name": "stderr",
     "output_type": "stream",
     "text": [
      "                                                                                "
     ]
    },
    {
     "name": "stdout",
     "output_type": "stream",
     "text": [
      "saved to: gs://cs611_mle/datamart/silver/transaction//silver_transaction_2017_02_01.parquet\n",
      "loaded from: gs://cs611_mle/datamart/bronze/transaction/bronze_transaction_2017_03_01.csv row count: 11247\n"
     ]
    },
    {
     "name": "stderr",
     "output_type": "stream",
     "text": [
      "                                                                                "
     ]
    },
    {
     "name": "stdout",
     "output_type": "stream",
     "text": [
      "saved to: gs://cs611_mle/datamart/silver/transaction//silver_transaction_2017_03_01.parquet\n"
     ]
    }
   ],
   "source": [
    "for date_str in dates_str_lst:\n",
    "    utils.silver.process_silver_table_transaction(date_str, bucket_name, bronze_transaction_directory, actual_silver_transaction_directory, spark)"
   ]
  },
  {
   "cell_type": "markdown",
   "id": "16553939-a3b0-4d81-894e-0ecdd6ce1142",
   "metadata": {},
   "source": [
    "### User Log ~ Bronze User Log to Silver User Log"
   ]
  },
  {
   "cell_type": "code",
   "execution_count": 12,
   "id": "a228b29e-1fe5-4a16-8106-3fa5b0c5bc35",
   "metadata": {},
   "outputs": [],
   "source": [
    "silver_userlog_directory = \"datamart/silver/userlog/\"\n",
    "\n",
    "\n",
    "# bronze_userlog_directory = \"datamart/bronze/userlog\"\n",
    "# actual_silver_transaction_directory = \"datamart/silver/transaction/\""
   ]
  },
  {
   "cell_type": "code",
   "execution_count": 10,
   "id": "c211c52e-10fc-486e-bbc8-fb221c67c076",
   "metadata": {
    "scrolled": true
   },
   "outputs": [
    {
     "name": "stderr",
     "output_type": "stream",
     "text": [
      "                                                                                "
     ]
    },
    {
     "name": "stdout",
     "output_type": "stream",
     "text": [
      "loaded from: gs://cs611_mle/datamart/bronze/userlog/bronze_userlog_2015_01_01.csv row count: 2032255\n"
     ]
    },
    {
     "name": "stderr",
     "output_type": "stream",
     "text": [
      "                                                                                "
     ]
    },
    {
     "name": "stdout",
     "output_type": "stream",
     "text": [
      "Also loaded from: gs://cs611_mle/datamart/bronze/userlog/bronze_userlog_2015_02_01.csv row count: 1812923\n"
     ]
    },
    {
     "name": "stderr",
     "output_type": "stream",
     "text": [
      "25/06/15 00:58:52 WARN MemoryManager: Total allocation exceeds 95.00% (1,020,054,720 bytes) of heap memory\n",
      "Scaling row group sizes to 95.00% for 8 writers\n",
      "                                                                                "
     ]
    },
    {
     "name": "stdout",
     "output_type": "stream",
     "text": [
      "saved to: gs://cs611_mle/datamart/silver/userlog//silver_userlog_2015_01_01.parquet\n"
     ]
    },
    {
     "name": "stderr",
     "output_type": "stream",
     "text": [
      "                                                                                "
     ]
    },
    {
     "name": "stdout",
     "output_type": "stream",
     "text": [
      "loaded from: gs://cs611_mle/datamart/bronze/userlog/bronze_userlog_2015_02_01.csv row count: 1812923\n"
     ]
    },
    {
     "name": "stderr",
     "output_type": "stream",
     "text": [
      "                                                                                "
     ]
    },
    {
     "name": "stdout",
     "output_type": "stream",
     "text": [
      "Also loaded from: gs://cs611_mle/datamart/bronze/userlog/bronze_userlog_2015_03_01.csv row count: 2093862\n"
     ]
    },
    {
     "name": "stderr",
     "output_type": "stream",
     "text": [
      "25/06/15 00:59:09 WARN MemoryManager: Total allocation exceeds 95.00% (1,020,054,720 bytes) of heap memory\n",
      "Scaling row group sizes to 95.00% for 8 writers\n",
      "                                                                                "
     ]
    },
    {
     "name": "stdout",
     "output_type": "stream",
     "text": [
      "saved to: gs://cs611_mle/datamart/silver/userlog//silver_userlog_2015_02_01.parquet\n"
     ]
    },
    {
     "name": "stderr",
     "output_type": "stream",
     "text": [
      "                                                                                "
     ]
    },
    {
     "name": "stdout",
     "output_type": "stream",
     "text": [
      "loaded from: gs://cs611_mle/datamart/bronze/userlog/bronze_userlog_2015_03_01.csv row count: 2093862\n"
     ]
    },
    {
     "name": "stderr",
     "output_type": "stream",
     "text": [
      "                                                                                "
     ]
    },
    {
     "name": "stdout",
     "output_type": "stream",
     "text": [
      "Also loaded from: gs://cs611_mle/datamart/bronze/userlog/bronze_userlog_2015_04_01.csv row count: 2073110\n"
     ]
    },
    {
     "name": "stderr",
     "output_type": "stream",
     "text": [
      "25/06/15 00:59:24 WARN MemoryManager: Total allocation exceeds 95.00% (1,020,054,720 bytes) of heap memory\n",
      "Scaling row group sizes to 95.00% for 8 writers\n",
      "                                                                                "
     ]
    },
    {
     "name": "stdout",
     "output_type": "stream",
     "text": [
      "saved to: gs://cs611_mle/datamart/silver/userlog//silver_userlog_2015_03_01.parquet\n"
     ]
    },
    {
     "name": "stderr",
     "output_type": "stream",
     "text": [
      "                                                                                "
     ]
    },
    {
     "name": "stdout",
     "output_type": "stream",
     "text": [
      "loaded from: gs://cs611_mle/datamart/bronze/userlog/bronze_userlog_2015_04_01.csv row count: 2073110\n"
     ]
    },
    {
     "name": "stderr",
     "output_type": "stream",
     "text": [
      "                                                                                "
     ]
    },
    {
     "name": "stdout",
     "output_type": "stream",
     "text": [
      "Also loaded from: gs://cs611_mle/datamart/bronze/userlog/bronze_userlog_2015_05_01.csv row count: 2132861\n"
     ]
    },
    {
     "name": "stderr",
     "output_type": "stream",
     "text": [
      "25/06/15 00:59:40 WARN MemoryManager: Total allocation exceeds 95.00% (1,020,054,720 bytes) of heap memory\n",
      "Scaling row group sizes to 95.00% for 8 writers\n",
      "                                                                                "
     ]
    },
    {
     "name": "stdout",
     "output_type": "stream",
     "text": [
      "saved to: gs://cs611_mle/datamart/silver/userlog//silver_userlog_2015_04_01.parquet\n"
     ]
    },
    {
     "name": "stderr",
     "output_type": "stream",
     "text": [
      "                                                                                "
     ]
    },
    {
     "name": "stdout",
     "output_type": "stream",
     "text": [
      "loaded from: gs://cs611_mle/datamart/bronze/userlog/bronze_userlog_2015_05_01.csv row count: 2132861\n"
     ]
    },
    {
     "name": "stderr",
     "output_type": "stream",
     "text": [
      "                                                                                "
     ]
    },
    {
     "name": "stdout",
     "output_type": "stream",
     "text": [
      "Also loaded from: gs://cs611_mle/datamart/bronze/userlog/bronze_userlog_2015_06_01.csv row count: 2057344\n"
     ]
    },
    {
     "name": "stderr",
     "output_type": "stream",
     "text": [
      "25/06/15 00:59:55 WARN MemoryManager: Total allocation exceeds 95.00% (1,020,054,720 bytes) of heap memory\n",
      "Scaling row group sizes to 95.00% for 8 writers\n",
      "                                                                                "
     ]
    },
    {
     "name": "stdout",
     "output_type": "stream",
     "text": [
      "saved to: gs://cs611_mle/datamart/silver/userlog//silver_userlog_2015_05_01.parquet\n"
     ]
    },
    {
     "name": "stderr",
     "output_type": "stream",
     "text": [
      "                                                                                "
     ]
    },
    {
     "name": "stdout",
     "output_type": "stream",
     "text": [
      "loaded from: gs://cs611_mle/datamart/bronze/userlog/bronze_userlog_2015_06_01.csv row count: 2057344\n"
     ]
    },
    {
     "name": "stderr",
     "output_type": "stream",
     "text": [
      "                                                                                "
     ]
    },
    {
     "name": "stdout",
     "output_type": "stream",
     "text": [
      "Also loaded from: gs://cs611_mle/datamart/bronze/userlog/bronze_userlog_2015_07_01.csv row count: 2101474\n"
     ]
    },
    {
     "name": "stderr",
     "output_type": "stream",
     "text": [
      "25/06/15 01:00:09 WARN MemoryManager: Total allocation exceeds 95.00% (1,020,054,720 bytes) of heap memory\n",
      "Scaling row group sizes to 95.00% for 8 writers\n",
      "                                                                                "
     ]
    },
    {
     "name": "stdout",
     "output_type": "stream",
     "text": [
      "saved to: gs://cs611_mle/datamart/silver/userlog//silver_userlog_2015_06_01.parquet\n"
     ]
    },
    {
     "name": "stderr",
     "output_type": "stream",
     "text": [
      "                                                                                "
     ]
    },
    {
     "name": "stdout",
     "output_type": "stream",
     "text": [
      "loaded from: gs://cs611_mle/datamart/bronze/userlog/bronze_userlog_2015_07_01.csv row count: 2101474\n"
     ]
    },
    {
     "name": "stderr",
     "output_type": "stream",
     "text": [
      "                                                                                "
     ]
    },
    {
     "name": "stdout",
     "output_type": "stream",
     "text": [
      "Also loaded from: gs://cs611_mle/datamart/bronze/userlog/bronze_userlog_2015_08_01.csv row count: 2114079\n"
     ]
    },
    {
     "name": "stderr",
     "output_type": "stream",
     "text": [
      "25/06/15 01:00:25 WARN MemoryManager: Total allocation exceeds 95.00% (1,020,054,720 bytes) of heap memory\n",
      "Scaling row group sizes to 95.00% for 8 writers\n",
      "                                                                                "
     ]
    },
    {
     "name": "stdout",
     "output_type": "stream",
     "text": [
      "saved to: gs://cs611_mle/datamart/silver/userlog//silver_userlog_2015_07_01.parquet\n"
     ]
    },
    {
     "name": "stderr",
     "output_type": "stream",
     "text": [
      "                                                                                "
     ]
    },
    {
     "name": "stdout",
     "output_type": "stream",
     "text": [
      "loaded from: gs://cs611_mle/datamart/bronze/userlog/bronze_userlog_2015_08_01.csv row count: 2114079\n"
     ]
    },
    {
     "name": "stderr",
     "output_type": "stream",
     "text": [
      "                                                                                "
     ]
    },
    {
     "name": "stdout",
     "output_type": "stream",
     "text": [
      "Also loaded from: gs://cs611_mle/datamart/bronze/userlog/bronze_userlog_2015_09_01.csv row count: 2114567\n"
     ]
    },
    {
     "name": "stderr",
     "output_type": "stream",
     "text": [
      "25/06/15 01:00:41 WARN MemoryManager: Total allocation exceeds 95.00% (1,020,054,720 bytes) of heap memory\n",
      "Scaling row group sizes to 95.00% for 8 writers\n",
      "                                                                                "
     ]
    },
    {
     "name": "stdout",
     "output_type": "stream",
     "text": [
      "saved to: gs://cs611_mle/datamart/silver/userlog//silver_userlog_2015_08_01.parquet\n"
     ]
    },
    {
     "name": "stderr",
     "output_type": "stream",
     "text": [
      "                                                                                "
     ]
    },
    {
     "name": "stdout",
     "output_type": "stream",
     "text": [
      "loaded from: gs://cs611_mle/datamart/bronze/userlog/bronze_userlog_2015_09_01.csv row count: 2114567\n"
     ]
    },
    {
     "name": "stderr",
     "output_type": "stream",
     "text": [
      "                                                                                "
     ]
    },
    {
     "name": "stdout",
     "output_type": "stream",
     "text": [
      "Also loaded from: gs://cs611_mle/datamart/bronze/userlog/bronze_userlog_2015_10_01.csv row count: 2208924\n"
     ]
    },
    {
     "name": "stderr",
     "output_type": "stream",
     "text": [
      "25/06/15 01:00:57 WARN MemoryManager: Total allocation exceeds 95.00% (1,020,054,720 bytes) of heap memory\n",
      "Scaling row group sizes to 95.00% for 8 writers\n",
      "                                                                                "
     ]
    },
    {
     "name": "stdout",
     "output_type": "stream",
     "text": [
      "saved to: gs://cs611_mle/datamart/silver/userlog//silver_userlog_2015_09_01.parquet\n"
     ]
    },
    {
     "name": "stderr",
     "output_type": "stream",
     "text": [
      "                                                                                "
     ]
    },
    {
     "name": "stdout",
     "output_type": "stream",
     "text": [
      "loaded from: gs://cs611_mle/datamart/bronze/userlog/bronze_userlog_2015_10_01.csv row count: 2208924\n"
     ]
    },
    {
     "name": "stderr",
     "output_type": "stream",
     "text": [
      "                                                                                "
     ]
    },
    {
     "name": "stdout",
     "output_type": "stream",
     "text": [
      "Also loaded from: gs://cs611_mle/datamart/bronze/userlog/bronze_userlog_2015_11_01.csv row count: 2193150\n"
     ]
    },
    {
     "name": "stderr",
     "output_type": "stream",
     "text": [
      "25/06/15 01:01:13 WARN MemoryManager: Total allocation exceeds 95.00% (1,020,054,720 bytes) of heap memory\n",
      "Scaling row group sizes to 95.00% for 8 writers\n",
      "                                                                                "
     ]
    },
    {
     "name": "stdout",
     "output_type": "stream",
     "text": [
      "saved to: gs://cs611_mle/datamart/silver/userlog//silver_userlog_2015_10_01.parquet\n"
     ]
    },
    {
     "name": "stderr",
     "output_type": "stream",
     "text": [
      "                                                                                "
     ]
    },
    {
     "name": "stdout",
     "output_type": "stream",
     "text": [
      "loaded from: gs://cs611_mle/datamart/bronze/userlog/bronze_userlog_2015_11_01.csv row count: 2193150\n"
     ]
    },
    {
     "name": "stderr",
     "output_type": "stream",
     "text": [
      "                                                                                "
     ]
    },
    {
     "name": "stdout",
     "output_type": "stream",
     "text": [
      "Also loaded from: gs://cs611_mle/datamart/bronze/userlog/bronze_userlog_2015_12_01.csv row count: 2286470\n"
     ]
    },
    {
     "name": "stderr",
     "output_type": "stream",
     "text": [
      "25/06/15 01:01:29 WARN MemoryManager: Total allocation exceeds 95.00% (1,020,054,720 bytes) of heap memory\n",
      "Scaling row group sizes to 95.00% for 8 writers\n",
      "                                                                                "
     ]
    },
    {
     "name": "stdout",
     "output_type": "stream",
     "text": [
      "saved to: gs://cs611_mle/datamart/silver/userlog//silver_userlog_2015_11_01.parquet\n"
     ]
    },
    {
     "name": "stderr",
     "output_type": "stream",
     "text": [
      "                                                                                "
     ]
    },
    {
     "name": "stdout",
     "output_type": "stream",
     "text": [
      "loaded from: gs://cs611_mle/datamart/bronze/userlog/bronze_userlog_2015_12_01.csv row count: 2286470\n"
     ]
    },
    {
     "name": "stderr",
     "output_type": "stream",
     "text": [
      "                                                                                "
     ]
    },
    {
     "name": "stdout",
     "output_type": "stream",
     "text": [
      "Also loaded from: gs://cs611_mle/datamart/bronze/userlog/bronze_userlog_2016_01_01.csv row count: 2266296\n"
     ]
    },
    {
     "name": "stderr",
     "output_type": "stream",
     "text": [
      "25/06/15 01:01:46 WARN MemoryManager: Total allocation exceeds 95.00% (1,020,054,720 bytes) of heap memory\n",
      "Scaling row group sizes to 95.00% for 8 writers\n",
      "                                                                                "
     ]
    },
    {
     "name": "stdout",
     "output_type": "stream",
     "text": [
      "saved to: gs://cs611_mle/datamart/silver/userlog//silver_userlog_2015_12_01.parquet\n"
     ]
    },
    {
     "name": "stderr",
     "output_type": "stream",
     "text": [
      "                                                                                "
     ]
    },
    {
     "name": "stdout",
     "output_type": "stream",
     "text": [
      "loaded from: gs://cs611_mle/datamart/bronze/userlog/bronze_userlog_2016_01_01.csv row count: 2266296\n"
     ]
    },
    {
     "name": "stderr",
     "output_type": "stream",
     "text": [
      "                                                                                "
     ]
    },
    {
     "name": "stdout",
     "output_type": "stream",
     "text": [
      "Also loaded from: gs://cs611_mle/datamart/bronze/userlog/bronze_userlog_2016_02_01.csv row count: 2084238\n"
     ]
    },
    {
     "name": "stderr",
     "output_type": "stream",
     "text": [
      "25/06/15 01:02:02 WARN MemoryManager: Total allocation exceeds 95.00% (1,020,054,720 bytes) of heap memory\n",
      "Scaling row group sizes to 95.00% for 8 writers\n",
      "                                                                                "
     ]
    },
    {
     "name": "stdout",
     "output_type": "stream",
     "text": [
      "saved to: gs://cs611_mle/datamart/silver/userlog//silver_userlog_2016_01_01.parquet\n"
     ]
    },
    {
     "name": "stderr",
     "output_type": "stream",
     "text": [
      "                                                                                "
     ]
    },
    {
     "name": "stdout",
     "output_type": "stream",
     "text": [
      "loaded from: gs://cs611_mle/datamart/bronze/userlog/bronze_userlog_2016_02_01.csv row count: 2084238\n"
     ]
    },
    {
     "name": "stderr",
     "output_type": "stream",
     "text": [
      "                                                                                "
     ]
    },
    {
     "name": "stdout",
     "output_type": "stream",
     "text": [
      "Also loaded from: gs://cs611_mle/datamart/bronze/userlog/bronze_userlog_2016_03_01.csv row count: 2372010\n"
     ]
    },
    {
     "name": "stderr",
     "output_type": "stream",
     "text": [
      "25/06/15 01:02:19 WARN MemoryManager: Total allocation exceeds 95.00% (1,020,054,720 bytes) of heap memory\n",
      "Scaling row group sizes to 95.00% for 8 writers\n",
      "                                                                                "
     ]
    },
    {
     "name": "stdout",
     "output_type": "stream",
     "text": [
      "saved to: gs://cs611_mle/datamart/silver/userlog//silver_userlog_2016_02_01.parquet\n"
     ]
    },
    {
     "name": "stderr",
     "output_type": "stream",
     "text": [
      "                                                                                "
     ]
    },
    {
     "name": "stdout",
     "output_type": "stream",
     "text": [
      "loaded from: gs://cs611_mle/datamart/bronze/userlog/bronze_userlog_2016_03_01.csv row count: 2372010\n"
     ]
    },
    {
     "name": "stderr",
     "output_type": "stream",
     "text": [
      "                                                                                "
     ]
    },
    {
     "name": "stdout",
     "output_type": "stream",
     "text": [
      "Also loaded from: gs://cs611_mle/datamart/bronze/userlog/bronze_userlog_2016_04_01.csv row count: 2346184\n"
     ]
    },
    {
     "name": "stderr",
     "output_type": "stream",
     "text": [
      "25/06/15 01:02:35 WARN MemoryManager: Total allocation exceeds 95.00% (1,020,054,720 bytes) of heap memory\n",
      "Scaling row group sizes to 95.00% for 8 writers\n",
      "                                                                                "
     ]
    },
    {
     "name": "stdout",
     "output_type": "stream",
     "text": [
      "saved to: gs://cs611_mle/datamart/silver/userlog//silver_userlog_2016_03_01.parquet\n"
     ]
    },
    {
     "name": "stderr",
     "output_type": "stream",
     "text": [
      "                                                                                "
     ]
    },
    {
     "name": "stdout",
     "output_type": "stream",
     "text": [
      "loaded from: gs://cs611_mle/datamart/bronze/userlog/bronze_userlog_2016_04_01.csv row count: 2346184\n"
     ]
    },
    {
     "name": "stderr",
     "output_type": "stream",
     "text": [
      "                                                                                "
     ]
    },
    {
     "name": "stdout",
     "output_type": "stream",
     "text": [
      "Also loaded from: gs://cs611_mle/datamart/bronze/userlog/bronze_userlog_2016_05_01.csv row count: 2445414\n"
     ]
    },
    {
     "name": "stderr",
     "output_type": "stream",
     "text": [
      "25/06/15 01:02:52 WARN MemoryManager: Total allocation exceeds 95.00% (1,020,054,720 bytes) of heap memory\n",
      "Scaling row group sizes to 95.00% for 8 writers\n",
      "                                                                                "
     ]
    },
    {
     "name": "stdout",
     "output_type": "stream",
     "text": [
      "saved to: gs://cs611_mle/datamart/silver/userlog//silver_userlog_2016_04_01.parquet\n"
     ]
    },
    {
     "name": "stderr",
     "output_type": "stream",
     "text": [
      "                                                                                "
     ]
    },
    {
     "name": "stdout",
     "output_type": "stream",
     "text": [
      "loaded from: gs://cs611_mle/datamart/bronze/userlog/bronze_userlog_2016_05_01.csv row count: 2445414\n"
     ]
    },
    {
     "name": "stderr",
     "output_type": "stream",
     "text": [
      "                                                                                "
     ]
    },
    {
     "name": "stdout",
     "output_type": "stream",
     "text": [
      "Also loaded from: gs://cs611_mle/datamart/bronze/userlog/bronze_userlog_2016_06_01.csv row count: 2374866\n"
     ]
    },
    {
     "name": "stderr",
     "output_type": "stream",
     "text": [
      "25/06/15 01:03:09 WARN MemoryManager: Total allocation exceeds 95.00% (1,020,054,720 bytes) of heap memory\n",
      "Scaling row group sizes to 95.00% for 8 writers\n",
      "                                                                                "
     ]
    },
    {
     "name": "stdout",
     "output_type": "stream",
     "text": [
      "saved to: gs://cs611_mle/datamart/silver/userlog//silver_userlog_2016_05_01.parquet\n"
     ]
    },
    {
     "name": "stderr",
     "output_type": "stream",
     "text": [
      "                                                                                "
     ]
    },
    {
     "name": "stdout",
     "output_type": "stream",
     "text": [
      "loaded from: gs://cs611_mle/datamart/bronze/userlog/bronze_userlog_2016_06_01.csv row count: 2374866\n"
     ]
    },
    {
     "name": "stderr",
     "output_type": "stream",
     "text": [
      "                                                                                "
     ]
    },
    {
     "name": "stdout",
     "output_type": "stream",
     "text": [
      "Also loaded from: gs://cs611_mle/datamart/bronze/userlog/bronze_userlog_2016_07_01.csv row count: 2444254\n"
     ]
    },
    {
     "name": "stderr",
     "output_type": "stream",
     "text": [
      "25/06/15 01:03:26 WARN MemoryManager: Total allocation exceeds 95.00% (1,020,054,720 bytes) of heap memory\n",
      "Scaling row group sizes to 95.00% for 8 writers\n",
      "                                                                                "
     ]
    },
    {
     "name": "stdout",
     "output_type": "stream",
     "text": [
      "saved to: gs://cs611_mle/datamart/silver/userlog//silver_userlog_2016_06_01.parquet\n"
     ]
    },
    {
     "name": "stderr",
     "output_type": "stream",
     "text": [
      "                                                                                "
     ]
    },
    {
     "name": "stdout",
     "output_type": "stream",
     "text": [
      "loaded from: gs://cs611_mle/datamart/bronze/userlog/bronze_userlog_2016_07_01.csv row count: 2444254\n"
     ]
    },
    {
     "name": "stderr",
     "output_type": "stream",
     "text": [
      "                                                                                "
     ]
    },
    {
     "name": "stdout",
     "output_type": "stream",
     "text": [
      "Also loaded from: gs://cs611_mle/datamart/bronze/userlog/bronze_userlog_2016_08_01.csv row count: 2451183\n"
     ]
    },
    {
     "name": "stderr",
     "output_type": "stream",
     "text": [
      "25/06/15 01:03:43 WARN MemoryManager: Total allocation exceeds 95.00% (1,020,054,720 bytes) of heap memory\n",
      "Scaling row group sizes to 95.00% for 8 writers\n",
      "                                                                                "
     ]
    },
    {
     "name": "stdout",
     "output_type": "stream",
     "text": [
      "saved to: gs://cs611_mle/datamart/silver/userlog//silver_userlog_2016_07_01.parquet\n"
     ]
    },
    {
     "name": "stderr",
     "output_type": "stream",
     "text": [
      "                                                                                "
     ]
    },
    {
     "name": "stdout",
     "output_type": "stream",
     "text": [
      "loaded from: gs://cs611_mle/datamart/bronze/userlog/bronze_userlog_2016_08_01.csv row count: 2451183\n"
     ]
    },
    {
     "name": "stderr",
     "output_type": "stream",
     "text": [
      "                                                                                "
     ]
    },
    {
     "name": "stdout",
     "output_type": "stream",
     "text": [
      "Also loaded from: gs://cs611_mle/datamart/bronze/userlog/bronze_userlog_2016_09_01.csv row count: 2376297\n"
     ]
    },
    {
     "name": "stderr",
     "output_type": "stream",
     "text": [
      "25/06/15 01:04:00 WARN MemoryManager: Total allocation exceeds 95.00% (1,020,054,720 bytes) of heap memory\n",
      "Scaling row group sizes to 95.00% for 8 writers\n",
      "                                                                                "
     ]
    },
    {
     "name": "stdout",
     "output_type": "stream",
     "text": [
      "saved to: gs://cs611_mle/datamart/silver/userlog//silver_userlog_2016_08_01.parquet\n"
     ]
    },
    {
     "name": "stderr",
     "output_type": "stream",
     "text": [
      "                                                                                "
     ]
    },
    {
     "name": "stdout",
     "output_type": "stream",
     "text": [
      "loaded from: gs://cs611_mle/datamart/bronze/userlog/bronze_userlog_2016_09_01.csv row count: 2376297\n"
     ]
    },
    {
     "name": "stderr",
     "output_type": "stream",
     "text": [
      "                                                                                "
     ]
    },
    {
     "name": "stdout",
     "output_type": "stream",
     "text": [
      "Also loaded from: gs://cs611_mle/datamart/bronze/userlog/bronze_userlog_2016_10_01.csv row count: 2516994\n"
     ]
    },
    {
     "name": "stderr",
     "output_type": "stream",
     "text": [
      "25/06/15 01:04:17 WARN MemoryManager: Total allocation exceeds 95.00% (1,020,054,720 bytes) of heap memory\n",
      "Scaling row group sizes to 95.00% for 8 writers\n",
      "                                                                                "
     ]
    },
    {
     "name": "stdout",
     "output_type": "stream",
     "text": [
      "saved to: gs://cs611_mle/datamart/silver/userlog//silver_userlog_2016_09_01.parquet\n"
     ]
    },
    {
     "name": "stderr",
     "output_type": "stream",
     "text": [
      "                                                                                "
     ]
    },
    {
     "name": "stdout",
     "output_type": "stream",
     "text": [
      "loaded from: gs://cs611_mle/datamart/bronze/userlog/bronze_userlog_2016_10_01.csv row count: 2516994\n"
     ]
    },
    {
     "name": "stderr",
     "output_type": "stream",
     "text": [
      "                                                                                "
     ]
    },
    {
     "name": "stdout",
     "output_type": "stream",
     "text": [
      "Also loaded from: gs://cs611_mle/datamart/bronze/userlog/bronze_userlog_2016_11_01.csv row count: 2466286\n"
     ]
    },
    {
     "name": "stderr",
     "output_type": "stream",
     "text": [
      "25/06/15 01:04:34 WARN MemoryManager: Total allocation exceeds 95.00% (1,020,054,720 bytes) of heap memory\n",
      "Scaling row group sizes to 95.00% for 8 writers\n",
      "                                                                                "
     ]
    },
    {
     "name": "stdout",
     "output_type": "stream",
     "text": [
      "saved to: gs://cs611_mle/datamart/silver/userlog//silver_userlog_2016_10_01.parquet\n"
     ]
    },
    {
     "name": "stderr",
     "output_type": "stream",
     "text": [
      "                                                                                "
     ]
    },
    {
     "name": "stdout",
     "output_type": "stream",
     "text": [
      "loaded from: gs://cs611_mle/datamart/bronze/userlog/bronze_userlog_2016_11_01.csv row count: 2466286\n"
     ]
    },
    {
     "name": "stderr",
     "output_type": "stream",
     "text": [
      "                                                                                "
     ]
    },
    {
     "name": "stdout",
     "output_type": "stream",
     "text": [
      "Also loaded from: gs://cs611_mle/datamart/bronze/userlog/bronze_userlog_2016_12_01.csv row count: 2565567\n"
     ]
    },
    {
     "name": "stderr",
     "output_type": "stream",
     "text": [
      "25/06/15 01:04:51 WARN MemoryManager: Total allocation exceeds 95.00% (1,020,054,720 bytes) of heap memory\n",
      "Scaling row group sizes to 95.00% for 8 writers\n",
      "                                                                                "
     ]
    },
    {
     "name": "stdout",
     "output_type": "stream",
     "text": [
      "saved to: gs://cs611_mle/datamart/silver/userlog//silver_userlog_2016_11_01.parquet\n"
     ]
    },
    {
     "name": "stderr",
     "output_type": "stream",
     "text": [
      "                                                                                "
     ]
    },
    {
     "name": "stdout",
     "output_type": "stream",
     "text": [
      "loaded from: gs://cs611_mle/datamart/bronze/userlog/bronze_userlog_2016_12_01.csv row count: 2565567\n"
     ]
    },
    {
     "name": "stderr",
     "output_type": "stream",
     "text": [
      "                                                                                "
     ]
    },
    {
     "name": "stdout",
     "output_type": "stream",
     "text": [
      "Also loaded from: gs://cs611_mle/datamart/bronze/userlog/bronze_userlog_2017_01_01.csv row count: 2536389\n"
     ]
    },
    {
     "name": "stderr",
     "output_type": "stream",
     "text": [
      "25/06/15 01:05:09 WARN MemoryManager: Total allocation exceeds 95.00% (1,020,054,720 bytes) of heap memory\n",
      "Scaling row group sizes to 95.00% for 8 writers\n",
      "                                                                                "
     ]
    },
    {
     "name": "stdout",
     "output_type": "stream",
     "text": [
      "saved to: gs://cs611_mle/datamart/silver/userlog//silver_userlog_2016_12_01.parquet\n"
     ]
    },
    {
     "name": "stderr",
     "output_type": "stream",
     "text": [
      "                                                                                "
     ]
    },
    {
     "name": "stdout",
     "output_type": "stream",
     "text": [
      "loaded from: gs://cs611_mle/datamart/bronze/userlog/bronze_userlog_2017_01_01.csv row count: 2536389\n"
     ]
    },
    {
     "name": "stderr",
     "output_type": "stream",
     "text": [
      "                                                                                "
     ]
    },
    {
     "name": "stdout",
     "output_type": "stream",
     "text": [
      "Also loaded from: gs://cs611_mle/datamart/bronze/userlog/bronze_userlog_2017_02_01.csv row count: 2270306\n"
     ]
    },
    {
     "name": "stderr",
     "output_type": "stream",
     "text": [
      "25/06/15 01:05:25 WARN MemoryManager: Total allocation exceeds 95.00% (1,020,054,720 bytes) of heap memory\n",
      "Scaling row group sizes to 95.00% for 8 writers\n",
      "                                                                                "
     ]
    },
    {
     "name": "stdout",
     "output_type": "stream",
     "text": [
      "saved to: gs://cs611_mle/datamart/silver/userlog//silver_userlog_2017_01_01.parquet\n"
     ]
    },
    {
     "name": "stderr",
     "output_type": "stream",
     "text": [
      "                                                                                "
     ]
    },
    {
     "name": "stdout",
     "output_type": "stream",
     "text": [
      "loaded from: gs://cs611_mle/datamart/bronze/userlog/bronze_userlog_2017_02_01.csv row count: 2270306\n"
     ]
    },
    {
     "name": "stderr",
     "output_type": "stream",
     "text": [
      "                                                                                "
     ]
    },
    {
     "name": "stdout",
     "output_type": "stream",
     "text": [
      "Also loaded from: gs://cs611_mle/datamart/bronze/userlog/bronze_userlog_2017_03_01.csv row count: 2587759\n"
     ]
    },
    {
     "name": "stderr",
     "output_type": "stream",
     "text": [
      "25/06/15 01:05:43 WARN MemoryManager: Total allocation exceeds 95.00% (1,020,054,720 bytes) of heap memory\n",
      "Scaling row group sizes to 95.00% for 8 writers\n",
      "                                                                                "
     ]
    },
    {
     "name": "stdout",
     "output_type": "stream",
     "text": [
      "saved to: gs://cs611_mle/datamart/silver/userlog//silver_userlog_2017_02_01.parquet\n"
     ]
    },
    {
     "name": "stderr",
     "output_type": "stream",
     "text": [
      "                                                                                "
     ]
    },
    {
     "name": "stdout",
     "output_type": "stream",
     "text": [
      "loaded from: gs://cs611_mle/datamart/bronze/userlog/bronze_userlog_2017_03_01.csv row count: 2587759\n",
      "File gs://cs611_mle/datamart/bronze/userlog/bronze_userlog_2017_04_01.csv does not exist. Proceeding with single snapshot.\n"
     ]
    },
    {
     "name": "stderr",
     "output_type": "stream",
     "text": [
      "                                                                                "
     ]
    },
    {
     "name": "stdout",
     "output_type": "stream",
     "text": [
      "saved to: gs://cs611_mle/datamart/silver/userlog//silver_userlog_2017_03_01.parquet\n"
     ]
    }
   ],
   "source": [
    "\n",
    "for date_str in dates_str_lst:\n",
    "    utils.silver.process_silver_table_userlog(date_str, bucket_name, bronze_userlog_directory, actual_silver_transaction_directory, silver_userlog_directory, spark)"
   ]
  },
  {
   "cell_type": "code",
   "execution_count": null,
   "id": "0fe87dd7-4ea8-42dc-943f-ad26dc711be8",
   "metadata": {},
   "outputs": [],
   "source": []
  },
  {
   "cell_type": "code",
   "execution_count": null,
   "id": "8bd5a10d-0a38-46fb-802f-7f64fcfb0fba",
   "metadata": {},
   "outputs": [],
   "source": []
  },
  {
   "cell_type": "code",
   "execution_count": null,
   "id": "9648dbe8-b80f-42aa-b64e-ab749873ad8a",
   "metadata": {},
   "outputs": [],
   "source": []
  },
  {
   "cell_type": "markdown",
   "id": "183a09c6-20db-4250-972e-6522d18dd1a2",
   "metadata": {},
   "source": [
    "# Gold ~ Feature Store"
   ]
  },
  {
   "cell_type": "code",
   "execution_count": 8,
   "id": "e988bd0f-a8c5-41ac-83eb-f0b03640810f",
   "metadata": {},
   "outputs": [],
   "source": [
    "gold_feature_store_directory = \"datamart/gold/feature_store/\"\n",
    "\n",
    "silver_userlog_directory = \"datamart/silver/userlog/\"\n",
    "actual_silver_transaction_directory = \"datamart/silver/transaction/\"\n",
    "silver_member_directory = \"datamart/silver/member/\""
   ]
  },
  {
   "cell_type": "code",
   "execution_count": null,
   "id": "a64bd23e-086d-4421-a3e3-2cb9a25b4519",
   "metadata": {
    "scrolled": true
   },
   "outputs": [
    {
     "name": "stderr",
     "output_type": "stream",
     "text": [
      "                                                                                "
     ]
    },
    {
     "name": "stdout",
     "output_type": "stream",
     "text": [
      "loaded from: gs://cs611_mle/datamart/silver/transaction//silver_transaction_2015_01_01.parquet row count: 97582\n",
      "loaded from: gs://cs611_mle/datamart/silver/userlog//silver_userlog_2015_01_01.parquet row count: 90862\n",
      "loaded from: gs://cs611_mle/datamart/silver/member//silver_member.parquet row count: 300000\n"
     ]
    },
    {
     "name": "stderr",
     "output_type": "stream",
     "text": [
      "25/06/15 15:31:40 WARN SparkStringUtils: Truncated the string representation of a plan since it was too large. This behavior can be adjusted by setting 'spark.sql.debug.maxToStringFields'.\n",
      "                                                                                "
     ]
    },
    {
     "name": "stdout",
     "output_type": "stream",
     "text": [
      "saved to: gs://cs611_mle/datamart/gold/feature_store//gold_featurestore_2015_01_01.parquet\n",
      "loaded from: gs://cs611_mle/datamart/silver/transaction//silver_transaction_2015_02_01.parquet row count: 88599\n",
      "loaded from: gs://cs611_mle/datamart/silver/userlog//silver_userlog_2015_02_01.parquet row count: 83071\n",
      "loaded from: gs://cs611_mle/datamart/silver/member//silver_member.parquet row count: 300000\n"
     ]
    },
    {
     "name": "stderr",
     "output_type": "stream",
     "text": [
      "                                                                                "
     ]
    },
    {
     "name": "stdout",
     "output_type": "stream",
     "text": [
      "saved to: gs://cs611_mle/datamart/gold/feature_store//gold_featurestore_2015_02_01.parquet\n",
      "loaded from: gs://cs611_mle/datamart/silver/transaction//silver_transaction_2015_03_01.parquet row count: 110650\n",
      "loaded from: gs://cs611_mle/datamart/silver/userlog//silver_userlog_2015_03_01.parquet row count: 103407\n",
      "loaded from: gs://cs611_mle/datamart/silver/member//silver_member.parquet row count: 300000\n"
     ]
    },
    {
     "name": "stderr",
     "output_type": "stream",
     "text": [
      "                                                                                "
     ]
    },
    {
     "name": "stdout",
     "output_type": "stream",
     "text": [
      "saved to: gs://cs611_mle/datamart/gold/feature_store//gold_featurestore_2015_03_01.parquet\n",
      "loaded from: gs://cs611_mle/datamart/silver/transaction//silver_transaction_2015_04_01.parquet row count: 90444\n",
      "loaded from: gs://cs611_mle/datamart/silver/userlog//silver_userlog_2015_04_01.parquet row count: 82677\n",
      "loaded from: gs://cs611_mle/datamart/silver/member//silver_member.parquet row count: 300000\n"
     ]
    },
    {
     "name": "stderr",
     "output_type": "stream",
     "text": [
      "                                                                                "
     ]
    },
    {
     "name": "stdout",
     "output_type": "stream",
     "text": [
      "saved to: gs://cs611_mle/datamart/gold/feature_store//gold_featurestore_2015_04_01.parquet\n",
      "loaded from: gs://cs611_mle/datamart/silver/transaction//silver_transaction_2015_05_01.parquet row count: 74016\n",
      "loaded from: gs://cs611_mle/datamart/silver/userlog//silver_userlog_2015_05_01.parquet row count: 61191\n",
      "loaded from: gs://cs611_mle/datamart/silver/member//silver_member.parquet row count: 300000\n"
     ]
    },
    {
     "name": "stderr",
     "output_type": "stream",
     "text": [
      "                                                                                "
     ]
    },
    {
     "name": "stdout",
     "output_type": "stream",
     "text": [
      "saved to: gs://cs611_mle/datamart/gold/feature_store//gold_featurestore_2015_05_01.parquet\n",
      "loaded from: gs://cs611_mle/datamart/silver/transaction//silver_transaction_2015_06_01.parquet row count: 159757\n",
      "loaded from: gs://cs611_mle/datamart/silver/userlog//silver_userlog_2015_06_01.parquet row count: 127139\n",
      "loaded from: gs://cs611_mle/datamart/silver/member//silver_member.parquet row count: 300000\n"
     ]
    },
    {
     "name": "stderr",
     "output_type": "stream",
     "text": [
      "                                                                                "
     ]
    },
    {
     "name": "stdout",
     "output_type": "stream",
     "text": [
      "saved to: gs://cs611_mle/datamart/gold/feature_store//gold_featurestore_2015_06_01.parquet\n",
      "loaded from: gs://cs611_mle/datamart/silver/transaction//silver_transaction_2015_07_01.parquet row count: 114653\n",
      "loaded from: gs://cs611_mle/datamart/silver/userlog//silver_userlog_2015_07_01.parquet row count: 104777\n",
      "loaded from: gs://cs611_mle/datamart/silver/member//silver_member.parquet row count: 300000\n"
     ]
    },
    {
     "name": "stderr",
     "output_type": "stream",
     "text": [
      "                                                                                "
     ]
    },
    {
     "name": "stdout",
     "output_type": "stream",
     "text": [
      "saved to: gs://cs611_mle/datamart/gold/feature_store//gold_featurestore_2015_07_01.parquet\n",
      "loaded from: gs://cs611_mle/datamart/silver/transaction//silver_transaction_2015_08_01.parquet row count: 120975\n",
      "loaded from: gs://cs611_mle/datamart/silver/userlog//silver_userlog_2015_08_01.parquet row count: 110558\n",
      "loaded from: gs://cs611_mle/datamart/silver/member//silver_member.parquet row count: 300000\n"
     ]
    },
    {
     "name": "stderr",
     "output_type": "stream",
     "text": [
      "                                                                                "
     ]
    },
    {
     "name": "stdout",
     "output_type": "stream",
     "text": [
      "saved to: gs://cs611_mle/datamart/gold/feature_store//gold_featurestore_2015_08_01.parquet\n",
      "loaded from: gs://cs611_mle/datamart/silver/transaction//silver_transaction_2015_09_01.parquet row count: 114040\n",
      "loaded from: gs://cs611_mle/datamart/silver/userlog//silver_userlog_2015_09_01.parquet row count: 104240\n",
      "loaded from: gs://cs611_mle/datamart/silver/member//silver_member.parquet row count: 300000\n"
     ]
    },
    {
     "name": "stderr",
     "output_type": "stream",
     "text": [
      "                                                                                "
     ]
    },
    {
     "name": "stdout",
     "output_type": "stream",
     "text": [
      "saved to: gs://cs611_mle/datamart/gold/feature_store//gold_featurestore_2015_09_01.parquet\n",
      "loaded from: gs://cs611_mle/datamart/silver/transaction//silver_transaction_2015_10_01.parquet row count: 122403\n",
      "loaded from: gs://cs611_mle/datamart/silver/userlog//silver_userlog_2015_10_01.parquet row count: 111799\n",
      "loaded from: gs://cs611_mle/datamart/silver/member//silver_member.parquet row count: 300000\n"
     ]
    },
    {
     "name": "stderr",
     "output_type": "stream",
     "text": [
      "                                                                                "
     ]
    },
    {
     "name": "stdout",
     "output_type": "stream",
     "text": [
      "saved to: gs://cs611_mle/datamart/gold/feature_store//gold_featurestore_2015_10_01.parquet\n",
      "loaded from: gs://cs611_mle/datamart/silver/transaction//silver_transaction_2015_11_01.parquet row count: 120900\n",
      "loaded from: gs://cs611_mle/datamart/silver/userlog//silver_userlog_2015_11_01.parquet row count: 109746\n",
      "loaded from: gs://cs611_mle/datamart/silver/member//silver_member.parquet row count: 300000\n"
     ]
    },
    {
     "name": "stderr",
     "output_type": "stream",
     "text": [
      "                                                                                "
     ]
    },
    {
     "name": "stdout",
     "output_type": "stream",
     "text": [
      "saved to: gs://cs611_mle/datamart/gold/feature_store//gold_featurestore_2015_11_01.parquet\n",
      "loaded from: gs://cs611_mle/datamart/silver/transaction//silver_transaction_2015_12_01.parquet row count: 127488\n",
      "loaded from: gs://cs611_mle/datamart/silver/userlog//silver_userlog_2015_12_01.parquet row count: 117894\n",
      "loaded from: gs://cs611_mle/datamart/silver/member//silver_member.parquet row count: 300000\n"
     ]
    },
    {
     "name": "stderr",
     "output_type": "stream",
     "text": [
      "                                                                                "
     ]
    },
    {
     "name": "stdout",
     "output_type": "stream",
     "text": [
      "saved to: gs://cs611_mle/datamart/gold/feature_store//gold_featurestore_2015_12_01.parquet\n",
      "loaded from: gs://cs611_mle/datamart/silver/transaction//silver_transaction_2016_01_01.parquet row count: 140191\n",
      "loaded from: gs://cs611_mle/datamart/silver/userlog//silver_userlog_2016_01_01.parquet row count: 128060\n",
      "loaded from: gs://cs611_mle/datamart/silver/member//silver_member.parquet row count: 300000\n"
     ]
    },
    {
     "name": "stderr",
     "output_type": "stream",
     "text": [
      "                                                                                "
     ]
    },
    {
     "name": "stdout",
     "output_type": "stream",
     "text": [
      "saved to: gs://cs611_mle/datamart/gold/feature_store//gold_featurestore_2016_01_01.parquet\n",
      "loaded from: gs://cs611_mle/datamart/silver/transaction//silver_transaction_2016_02_01.parquet row count: 113518\n",
      "loaded from: gs://cs611_mle/datamart/silver/userlog//silver_userlog_2016_02_01.parquet row count: 105474\n",
      "loaded from: gs://cs611_mle/datamart/silver/member//silver_member.parquet row count: 300000\n"
     ]
    },
    {
     "name": "stderr",
     "output_type": "stream",
     "text": [
      "                                                                                "
     ]
    },
    {
     "name": "stdout",
     "output_type": "stream",
     "text": [
      "saved to: gs://cs611_mle/datamart/gold/feature_store//gold_featurestore_2016_02_01.parquet\n",
      "loaded from: gs://cs611_mle/datamart/silver/transaction//silver_transaction_2016_03_01.parquet row count: 129277\n",
      "loaded from: gs://cs611_mle/datamart/silver/userlog//silver_userlog_2016_03_01.parquet row count: 119061\n",
      "loaded from: gs://cs611_mle/datamart/silver/member//silver_member.parquet row count: 300000\n"
     ]
    },
    {
     "name": "stderr",
     "output_type": "stream",
     "text": [
      "                                                                                "
     ]
    },
    {
     "name": "stdout",
     "output_type": "stream",
     "text": [
      "saved to: gs://cs611_mle/datamart/gold/feature_store//gold_featurestore_2016_03_01.parquet\n",
      "loaded from: gs://cs611_mle/datamart/silver/transaction//silver_transaction_2016_04_01.parquet row count: 111378\n",
      "loaded from: gs://cs611_mle/datamart/silver/userlog//silver_userlog_2016_04_01.parquet row count: 103819\n",
      "loaded from: gs://cs611_mle/datamart/silver/member//silver_member.parquet row count: 300000\n"
     ]
    },
    {
     "name": "stderr",
     "output_type": "stream",
     "text": [
      "                                                                                "
     ]
    },
    {
     "name": "stdout",
     "output_type": "stream",
     "text": [
      "saved to: gs://cs611_mle/datamart/gold/feature_store//gold_featurestore_2016_04_01.parquet\n",
      "loaded from: gs://cs611_mle/datamart/silver/transaction//silver_transaction_2016_05_01.parquet row count: 128071\n",
      "loaded from: gs://cs611_mle/datamart/silver/userlog//silver_userlog_2016_05_01.parquet row count: 119217\n",
      "loaded from: gs://cs611_mle/datamart/silver/member//silver_member.parquet row count: 300000\n"
     ]
    },
    {
     "name": "stderr",
     "output_type": "stream",
     "text": [
      "                                                                                "
     ]
    },
    {
     "name": "stdout",
     "output_type": "stream",
     "text": [
      "saved to: gs://cs611_mle/datamart/gold/feature_store//gold_featurestore_2016_05_01.parquet\n",
      "loaded from: gs://cs611_mle/datamart/silver/transaction//silver_transaction_2016_06_01.parquet row count: 113673\n",
      "loaded from: gs://cs611_mle/datamart/silver/userlog//silver_userlog_2016_06_01.parquet row count: 105800\n",
      "loaded from: gs://cs611_mle/datamart/silver/member//silver_member.parquet row count: 300000\n"
     ]
    },
    {
     "name": "stderr",
     "output_type": "stream",
     "text": [
      "                                                                                "
     ]
    },
    {
     "name": "stdout",
     "output_type": "stream",
     "text": [
      "saved to: gs://cs611_mle/datamart/gold/feature_store//gold_featurestore_2016_06_01.parquet\n",
      "loaded from: gs://cs611_mle/datamart/silver/transaction//silver_transaction_2016_07_01.parquet row count: 123913\n",
      "loaded from: gs://cs611_mle/datamart/silver/userlog//silver_userlog_2016_07_01.parquet row count: 115141\n",
      "loaded from: gs://cs611_mle/datamart/silver/member//silver_member.parquet row count: 300000\n"
     ]
    },
    {
     "name": "stderr",
     "output_type": "stream",
     "text": [
      "                                                                                "
     ]
    },
    {
     "name": "stdout",
     "output_type": "stream",
     "text": [
      "saved to: gs://cs611_mle/datamart/gold/feature_store//gold_featurestore_2016_07_01.parquet\n",
      "loaded from: gs://cs611_mle/datamart/silver/transaction//silver_transaction_2016_08_01.parquet row count: 150382\n",
      "loaded from: gs://cs611_mle/datamart/silver/userlog//silver_userlog_2016_08_01.parquet row count: 139610\n",
      "loaded from: gs://cs611_mle/datamart/silver/member//silver_member.parquet row count: 300000\n"
     ]
    },
    {
     "name": "stderr",
     "output_type": "stream",
     "text": [
      "                                                                                "
     ]
    },
    {
     "name": "stdout",
     "output_type": "stream",
     "text": [
      "saved to: gs://cs611_mle/datamart/gold/feature_store//gold_featurestore_2016_08_01.parquet\n",
      "loaded from: gs://cs611_mle/datamart/silver/transaction//silver_transaction_2016_09_01.parquet row count: 128303\n",
      "loaded from: gs://cs611_mle/datamart/silver/userlog//silver_userlog_2016_09_01.parquet row count: 119499\n",
      "loaded from: gs://cs611_mle/datamart/silver/member//silver_member.parquet row count: 300000\n"
     ]
    },
    {
     "name": "stderr",
     "output_type": "stream",
     "text": [
      "                                                                                "
     ]
    },
    {
     "name": "stdout",
     "output_type": "stream",
     "text": [
      "saved to: gs://cs611_mle/datamart/gold/feature_store//gold_featurestore_2016_09_01.parquet\n",
      "loaded from: gs://cs611_mle/datamart/silver/transaction//silver_transaction_2016_10_01.parquet row count: 152765\n",
      "loaded from: gs://cs611_mle/datamart/silver/userlog//silver_userlog_2016_10_01.parquet row count: 140415\n",
      "loaded from: gs://cs611_mle/datamart/silver/member//silver_member.parquet row count: 300000\n"
     ]
    },
    {
     "name": "stderr",
     "output_type": "stream",
     "text": [
      "                                                                                "
     ]
    }
   ],
   "source": [
    "for date_str in dates_str_lst:\n",
    "    utils.gold.process_gold_featurestore(date_str, bucket_name, actual_silver_transaction_directory, silver_userlog_directory, silver_member_directory, gold_feature_store_directory, spark)"
   ]
  },
  {
   "cell_type": "code",
   "execution_count": 14,
   "id": "4313441f-264a-4f39-9845-0230710de5fd",
   "metadata": {},
   "outputs": [
    {
     "name": "stdout",
     "output_type": "stream",
     "text": [
      "=== Transaction Table Preview ===\n",
      "=== Userlog Table Preview ===\n"
     ]
    },
    {
     "name": "stderr",
     "output_type": "stream",
     "text": [
      "                                                                                "
     ]
    },
    {
     "name": "stdout",
     "output_type": "stream",
     "text": [
      "=== Member Table Preview ===\n"
     ]
    },
    {
     "data": {
      "text/html": [
       "<div>\n",
       "<style scoped>\n",
       "    .dataframe tbody tr th:only-of-type {\n",
       "        vertical-align: middle;\n",
       "    }\n",
       "\n",
       "    .dataframe tbody tr th {\n",
       "        vertical-align: top;\n",
       "    }\n",
       "\n",
       "    .dataframe thead th {\n",
       "        text-align: right;\n",
       "    }\n",
       "</style>\n",
       "<table border=\"1\" class=\"dataframe\">\n",
       "  <thead>\n",
       "    <tr style=\"text-align: right;\">\n",
       "      <th></th>\n",
       "      <th>msno</th>\n",
       "      <th>city</th>\n",
       "      <th>gender</th>\n",
       "      <th>registered_via</th>\n",
       "      <th>registration_init_time</th>\n",
       "    </tr>\n",
       "  </thead>\n",
       "  <tbody>\n",
       "    <tr>\n",
       "      <th>0</th>\n",
       "      <td>B5iaMV/EnzuN+YqGXvn0z8Vk3bj/VDGk6iJwjML3b28=</td>\n",
       "      <td>5</td>\n",
       "      <td>male</td>\n",
       "      <td>9</td>\n",
       "      <td>2004-07-24</td>\n",
       "    </tr>\n",
       "    <tr>\n",
       "      <th>1</th>\n",
       "      <td>46L2sK00j7owSpyqUExvgxiUs/cThzQS2f6VjUZN+Fs=</td>\n",
       "      <td>1</td>\n",
       "      <td>na</td>\n",
       "      <td>9</td>\n",
       "      <td>2015-07-28</td>\n",
       "    </tr>\n",
       "    <tr>\n",
       "      <th>2</th>\n",
       "      <td>JehndNgsKoc+qhGc6fJDKcHqvKQT4xM5jPzEaeUHE+4=</td>\n",
       "      <td>1</td>\n",
       "      <td>na</td>\n",
       "      <td>4</td>\n",
       "      <td>2016-04-09</td>\n",
       "    </tr>\n",
       "    <tr>\n",
       "      <th>3</th>\n",
       "      <td>RQ3eaqZn8iKvS9/qRQALXuo4LQabX5XxtrMgzMLXfK8=</td>\n",
       "      <td>1</td>\n",
       "      <td>na</td>\n",
       "      <td>9</td>\n",
       "      <td>2017-01-13</td>\n",
       "    </tr>\n",
       "    <tr>\n",
       "      <th>4</th>\n",
       "      <td>I2uQkLSFLjRL6ZPX5WBk/59Mpe0XSqfhBWS8sJ5oNyw=</td>\n",
       "      <td>1</td>\n",
       "      <td>na</td>\n",
       "      <td>7</td>\n",
       "      <td>2016-07-04</td>\n",
       "    </tr>\n",
       "  </tbody>\n",
       "</table>\n",
       "</div>"
      ],
      "text/plain": [
       "                                           msno city gender registered_via  \\\n",
       "0  B5iaMV/EnzuN+YqGXvn0z8Vk3bj/VDGk6iJwjML3b28=    5   male              9   \n",
       "1  46L2sK00j7owSpyqUExvgxiUs/cThzQS2f6VjUZN+Fs=    1     na              9   \n",
       "2  JehndNgsKoc+qhGc6fJDKcHqvKQT4xM5jPzEaeUHE+4=    1     na              4   \n",
       "3  RQ3eaqZn8iKvS9/qRQALXuo4LQabX5XxtrMgzMLXfK8=    1     na              9   \n",
       "4  I2uQkLSFLjRL6ZPX5WBk/59Mpe0XSqfhBWS8sJ5oNyw=    1     na              7   \n",
       "\n",
       "  registration_init_time  \n",
       "0             2004-07-24  \n",
       "1             2015-07-28  \n",
       "2             2016-04-09  \n",
       "3             2017-01-13  \n",
       "4             2016-07-04  "
      ]
     },
     "execution_count": 14,
     "metadata": {},
     "output_type": "execute_result"
    }
   ],
   "source": [
    "\n",
    "\n",
    "# # =========== 修改成你的 GCS 路径 ============\n",
    "\n",
    "# transaction_parquet_path = f\"gs://{bucket_name}/{actual_silver_transaction_directory}/silver_transaction_2015_01_01.parquet\"\n",
    "# userlog_parquet_path = f\"gs://{bucket_name}/{silver_userlog_directory}/silver_userlog_2015_01_01.parquet\"\n",
    "# member_parquet_path = f\"gs://{bucket_name}/{silver_member_directory}/silver_member.parquet\"\n",
    "\n",
    "\n",
    "# # ======== 读取 Parquet 文件为 DataFrame ========\n",
    "# df_transaction = spark.read.parquet(transaction_parquet_path)\n",
    "# df_userlog = spark.read.parquet(userlog_parquet_path)\n",
    "# df_member = spark.read.parquet(member_parquet_path)\n",
    "\n",
    "# # ======== 展示前 20 行 ========\n",
    "# print(\"=== Transaction Table Preview ===\")\n",
    "# # df_transaction.show(20, truncate=False)\n",
    "# df_transaction.toPandas().head()\n",
    "\n",
    "\n",
    "# print(\"=== Userlog Table Preview ===\")\n",
    "# # df_userlog.show(20, truncate=False)\n",
    "# df_userlog.toPandas().head()\n",
    "\n",
    "# print(\"=== Member Table Preview ===\")\n",
    "# # df_member.show(20, truncate=False)\n",
    "# df_member.toPandas().head()\n",
    "\n",
    "# # ======== 保存为 CSV 文件 ========\n",
    "# # df_transaction.write.mode(\"overwrite\").option(\"header\", \"true\").csv(transaction_csv_path)\n",
    "# # df_userlog.write.mode(\"overwrite\").option(\"header\", \"true\").csv(userlog_csv_path)\n",
    "# # df_member.write.mode(\"overwrite\").option(\"header\", \"true\").csv(member_csv_path)\n",
    "\n",
    "# # print(\"✅ Conversion complete. CSV files saved.\")"
   ]
  },
  {
   "cell_type": "code",
   "execution_count": 18,
   "id": "ab15dbd7-5ee7-4a07-8211-dc56df23ee76",
   "metadata": {},
   "outputs": [
    {
     "name": "stdout",
     "output_type": "stream",
     "text": [
      "=== Userlog Table Preview ===\n"
     ]
    },
    {
     "name": "stderr",
     "output_type": "stream",
     "text": [
      "                                                                                "
     ]
    },
    {
     "data": {
      "text/html": [
       "<div>\n",
       "<style scoped>\n",
       "    .dataframe tbody tr th:only-of-type {\n",
       "        vertical-align: middle;\n",
       "    }\n",
       "\n",
       "    .dataframe tbody tr th {\n",
       "        vertical-align: top;\n",
       "    }\n",
       "\n",
       "    .dataframe thead th {\n",
       "        text-align: right;\n",
       "    }\n",
       "</style>\n",
       "<table border=\"1\" class=\"dataframe\">\n",
       "  <thead>\n",
       "    <tr style=\"text-align: right;\">\n",
       "      <th></th>\n",
       "      <th>msno</th>\n",
       "      <th>membership_start_date</th>\n",
       "      <th>membership_expire_date</th>\n",
       "      <th>sum_completion_25</th>\n",
       "      <th>sum_completion_50</th>\n",
       "      <th>sum_completion_75</th>\n",
       "      <th>sum_completion_985</th>\n",
       "      <th>sum_completion_100</th>\n",
       "      <th>sum_songs</th>\n",
       "      <th>sum_total_secs</th>\n",
       "      <th>...</th>\n",
       "      <th>total_secs_first_7_days</th>\n",
       "      <th>total_secs_last_7_days</th>\n",
       "      <th>avg_seconds_per_songs</th>\n",
       "      <th>skip_ratio</th>\n",
       "      <th>songs_played_25_ratio</th>\n",
       "      <th>songs_played_50_ratio</th>\n",
       "      <th>songs_played_75_ratio</th>\n",
       "      <th>songs_played_985_ratio</th>\n",
       "      <th>songs_completion_ratio</th>\n",
       "      <th>last_first_7_days_total_secs_ratio</th>\n",
       "    </tr>\n",
       "  </thead>\n",
       "  <tbody>\n",
       "    <tr>\n",
       "      <th>0</th>\n",
       "      <td>6tDJRqi0YnQSj5ZYBSVMSKnKJLnIxFUyU+weV0Rd5eY=</td>\n",
       "      <td>2015-01-18</td>\n",
       "      <td>2015-02-18</td>\n",
       "      <td>89</td>\n",
       "      <td>13</td>\n",
       "      <td>17</td>\n",
       "      <td>7</td>\n",
       "      <td>756</td>\n",
       "      <td>882</td>\n",
       "      <td>189953.270905</td>\n",
       "      <td>...</td>\n",
       "      <td>36205.222290</td>\n",
       "      <td>51777.932251</td>\n",
       "      <td>215.366520</td>\n",
       "      <td>0.115646</td>\n",
       "      <td>0.100907</td>\n",
       "      <td>0.014739</td>\n",
       "      <td>0.019274</td>\n",
       "      <td>0.007937</td>\n",
       "      <td>0.857143</td>\n",
       "      <td>1.430123</td>\n",
       "    </tr>\n",
       "    <tr>\n",
       "      <th>1</th>\n",
       "      <td>8UHoh579EZsyPDhyrHYiEEgdDuCUMG6BOwBXylccf9g=</td>\n",
       "      <td>2015-01-10</td>\n",
       "      <td>2015-02-10</td>\n",
       "      <td>48</td>\n",
       "      <td>59</td>\n",
       "      <td>26</td>\n",
       "      <td>7</td>\n",
       "      <td>225</td>\n",
       "      <td>365</td>\n",
       "      <td>61201.093079</td>\n",
       "      <td>...</td>\n",
       "      <td>15777.631958</td>\n",
       "      <td>2942.003052</td>\n",
       "      <td>167.674228</td>\n",
       "      <td>0.293151</td>\n",
       "      <td>0.131507</td>\n",
       "      <td>0.161644</td>\n",
       "      <td>0.071233</td>\n",
       "      <td>0.019178</td>\n",
       "      <td>0.616438</td>\n",
       "      <td>0.186467</td>\n",
       "    </tr>\n",
       "    <tr>\n",
       "      <th>2</th>\n",
       "      <td>daMHKj2zH4B9kxuxlj8xFAaHd7sKug1TAF2DAVBC+E4=</td>\n",
       "      <td>2015-01-12</td>\n",
       "      <td>2015-02-12</td>\n",
       "      <td>7</td>\n",
       "      <td>3</td>\n",
       "      <td>3</td>\n",
       "      <td>4</td>\n",
       "      <td>326</td>\n",
       "      <td>343</td>\n",
       "      <td>85284.844574</td>\n",
       "      <td>...</td>\n",
       "      <td>39731.336914</td>\n",
       "      <td>1469.901031</td>\n",
       "      <td>248.643862</td>\n",
       "      <td>0.029155</td>\n",
       "      <td>0.020408</td>\n",
       "      <td>0.008746</td>\n",
       "      <td>0.008746</td>\n",
       "      <td>0.011662</td>\n",
       "      <td>0.950437</td>\n",
       "      <td>0.036996</td>\n",
       "    </tr>\n",
       "    <tr>\n",
       "      <th>3</th>\n",
       "      <td>yCrji8OTMzuu0Dx9sOqx2cmG1TXipChAMGTG/5+EU7s=</td>\n",
       "      <td>2015-01-16</td>\n",
       "      <td>2015-02-16</td>\n",
       "      <td>64</td>\n",
       "      <td>36</td>\n",
       "      <td>41</td>\n",
       "      <td>26</td>\n",
       "      <td>62</td>\n",
       "      <td>229</td>\n",
       "      <td>31074.318115</td>\n",
       "      <td>...</td>\n",
       "      <td>6582.186096</td>\n",
       "      <td>5040.774094</td>\n",
       "      <td>135.695712</td>\n",
       "      <td>0.436681</td>\n",
       "      <td>0.279476</td>\n",
       "      <td>0.157205</td>\n",
       "      <td>0.179039</td>\n",
       "      <td>0.113537</td>\n",
       "      <td>0.270742</td>\n",
       "      <td>0.765821</td>\n",
       "    </tr>\n",
       "    <tr>\n",
       "      <th>4</th>\n",
       "      <td>FoTdaG+giNMhn7icv4qUiYiuK7+ysxcZXSRfYsyg9Dc=</td>\n",
       "      <td>2015-01-04</td>\n",
       "      <td>2015-02-03</td>\n",
       "      <td>64</td>\n",
       "      <td>20</td>\n",
       "      <td>19</td>\n",
       "      <td>13</td>\n",
       "      <td>716</td>\n",
       "      <td>832</td>\n",
       "      <td>194388.747314</td>\n",
       "      <td>...</td>\n",
       "      <td>36482.972717</td>\n",
       "      <td>73684.392273</td>\n",
       "      <td>233.640321</td>\n",
       "      <td>0.100962</td>\n",
       "      <td>0.076923</td>\n",
       "      <td>0.024038</td>\n",
       "      <td>0.022837</td>\n",
       "      <td>0.015625</td>\n",
       "      <td>0.860577</td>\n",
       "      <td>2.019692</td>\n",
       "    </tr>\n",
       "    <tr>\n",
       "      <th>5</th>\n",
       "      <td>Rz6VfCpaEiy/0BO3YosgzeuPHorGqJgv6ql8P6oE57o=</td>\n",
       "      <td>2015-01-05</td>\n",
       "      <td>2015-02-04</td>\n",
       "      <td>534</td>\n",
       "      <td>224</td>\n",
       "      <td>174</td>\n",
       "      <td>185</td>\n",
       "      <td>1164</td>\n",
       "      <td>2281</td>\n",
       "      <td>374239.449707</td>\n",
       "      <td>...</td>\n",
       "      <td>79158.923340</td>\n",
       "      <td>87792.549072</td>\n",
       "      <td>164.068150</td>\n",
       "      <td>0.332310</td>\n",
       "      <td>0.234108</td>\n",
       "      <td>0.098203</td>\n",
       "      <td>0.076282</td>\n",
       "      <td>0.081105</td>\n",
       "      <td>0.510302</td>\n",
       "      <td>1.109067</td>\n",
       "    </tr>\n",
       "    <tr>\n",
       "      <th>6</th>\n",
       "      <td>HT+2ile+EngqX3IO8TPL2Jzf/bcswhSFsQfttMlm/J4=</td>\n",
       "      <td>2015-01-09</td>\n",
       "      <td>2015-02-08</td>\n",
       "      <td>178</td>\n",
       "      <td>15</td>\n",
       "      <td>4</td>\n",
       "      <td>5</td>\n",
       "      <td>475</td>\n",
       "      <td>677</td>\n",
       "      <td>118273.041901</td>\n",
       "      <td>...</td>\n",
       "      <td>30222.870117</td>\n",
       "      <td>23116.510895</td>\n",
       "      <td>174.701687</td>\n",
       "      <td>0.285081</td>\n",
       "      <td>0.262925</td>\n",
       "      <td>0.022157</td>\n",
       "      <td>0.005908</td>\n",
       "      <td>0.007386</td>\n",
       "      <td>0.701625</td>\n",
       "      <td>0.764868</td>\n",
       "    </tr>\n",
       "    <tr>\n",
       "      <th>7</th>\n",
       "      <td>R94Rn++ZyYTWpKulrcE/C/lCUlN80qVR3fWrkkdM/Uk=</td>\n",
       "      <td>2015-01-03</td>\n",
       "      <td>2015-02-02</td>\n",
       "      <td>18</td>\n",
       "      <td>5</td>\n",
       "      <td>1</td>\n",
       "      <td>4</td>\n",
       "      <td>720</td>\n",
       "      <td>748</td>\n",
       "      <td>184328.976776</td>\n",
       "      <td>...</td>\n",
       "      <td>52496.966644</td>\n",
       "      <td>14459.742676</td>\n",
       "      <td>246.429113</td>\n",
       "      <td>0.030749</td>\n",
       "      <td>0.024064</td>\n",
       "      <td>0.006684</td>\n",
       "      <td>0.001337</td>\n",
       "      <td>0.005348</td>\n",
       "      <td>0.962567</td>\n",
       "      <td>0.275440</td>\n",
       "    </tr>\n",
       "    <tr>\n",
       "      <th>8</th>\n",
       "      <td>0hMhhZmpHYlk18IQj8Nx+QA9Zwe1/bGC3RvSML3qv8M=</td>\n",
       "      <td>2015-01-04</td>\n",
       "      <td>2015-02-04</td>\n",
       "      <td>28</td>\n",
       "      <td>2</td>\n",
       "      <td>2</td>\n",
       "      <td>5</td>\n",
       "      <td>333</td>\n",
       "      <td>370</td>\n",
       "      <td>80468.070480</td>\n",
       "      <td>...</td>\n",
       "      <td>0.000000</td>\n",
       "      <td>203.759995</td>\n",
       "      <td>217.481272</td>\n",
       "      <td>0.081081</td>\n",
       "      <td>0.075676</td>\n",
       "      <td>0.005405</td>\n",
       "      <td>0.005405</td>\n",
       "      <td>0.013514</td>\n",
       "      <td>0.900000</td>\n",
       "      <td>20376.999451</td>\n",
       "    </tr>\n",
       "    <tr>\n",
       "      <th>9</th>\n",
       "      <td>jl1a1KTvoQLfjHBX9vVNCpdNVT4ba0zkKwLv149zWgc=</td>\n",
       "      <td>2015-01-13</td>\n",
       "      <td>2015-02-12</td>\n",
       "      <td>128</td>\n",
       "      <td>41</td>\n",
       "      <td>36</td>\n",
       "      <td>37</td>\n",
       "      <td>365</td>\n",
       "      <td>607</td>\n",
       "      <td>100571.548218</td>\n",
       "      <td>...</td>\n",
       "      <td>34729.021484</td>\n",
       "      <td>32512.581909</td>\n",
       "      <td>165.686241</td>\n",
       "      <td>0.278418</td>\n",
       "      <td>0.210873</td>\n",
       "      <td>0.067545</td>\n",
       "      <td>0.059308</td>\n",
       "      <td>0.060956</td>\n",
       "      <td>0.601318</td>\n",
       "      <td>0.936179</td>\n",
       "    </tr>\n",
       "    <tr>\n",
       "      <th>10</th>\n",
       "      <td>EuyimEVWxJBuWR+8XjbopkDC4EQc1rI8f2V1VqZeYy4=</td>\n",
       "      <td>2015-01-13</td>\n",
       "      <td>2015-02-12</td>\n",
       "      <td>104</td>\n",
       "      <td>30</td>\n",
       "      <td>26</td>\n",
       "      <td>15</td>\n",
       "      <td>203</td>\n",
       "      <td>378</td>\n",
       "      <td>62434.948181</td>\n",
       "      <td>...</td>\n",
       "      <td>15057.370300</td>\n",
       "      <td>0.000000</td>\n",
       "      <td>165.171821</td>\n",
       "      <td>0.354497</td>\n",
       "      <td>0.275132</td>\n",
       "      <td>0.079365</td>\n",
       "      <td>0.068783</td>\n",
       "      <td>0.039683</td>\n",
       "      <td>0.537037</td>\n",
       "      <td>0.000000</td>\n",
       "    </tr>\n",
       "    <tr>\n",
       "      <th>11</th>\n",
       "      <td>nNNESS3F5c09kMCU4sKo9BYSYgW/r/BUf59f/2qcYfI=</td>\n",
       "      <td>2015-01-17</td>\n",
       "      <td>2015-02-16</td>\n",
       "      <td>62</td>\n",
       "      <td>21</td>\n",
       "      <td>11</td>\n",
       "      <td>5</td>\n",
       "      <td>276</td>\n",
       "      <td>375</td>\n",
       "      <td>67393.611923</td>\n",
       "      <td>...</td>\n",
       "      <td>3390.955994</td>\n",
       "      <td>24356.312958</td>\n",
       "      <td>179.716298</td>\n",
       "      <td>0.221333</td>\n",
       "      <td>0.165333</td>\n",
       "      <td>0.056000</td>\n",
       "      <td>0.029333</td>\n",
       "      <td>0.013333</td>\n",
       "      <td>0.736000</td>\n",
       "      <td>7.182709</td>\n",
       "    </tr>\n",
       "    <tr>\n",
       "      <th>12</th>\n",
       "      <td>J2y8bBhyJdXv/r5u30pN2IodYqCMUZFT0tPA8uoHR54=</td>\n",
       "      <td>2015-01-03</td>\n",
       "      <td>2015-02-02</td>\n",
       "      <td>78</td>\n",
       "      <td>47</td>\n",
       "      <td>55</td>\n",
       "      <td>41</td>\n",
       "      <td>1308</td>\n",
       "      <td>1529</td>\n",
       "      <td>330792.134583</td>\n",
       "      <td>...</td>\n",
       "      <td>75320.757324</td>\n",
       "      <td>62067.050598</td>\n",
       "      <td>216.345412</td>\n",
       "      <td>0.081753</td>\n",
       "      <td>0.051014</td>\n",
       "      <td>0.030739</td>\n",
       "      <td>0.035971</td>\n",
       "      <td>0.026815</td>\n",
       "      <td>0.855461</td>\n",
       "      <td>0.824036</td>\n",
       "    </tr>\n",
       "    <tr>\n",
       "      <th>13</th>\n",
       "      <td>B3yJw83yrPfzIRSCP2eGCBmmLJIlWZDn7XG4pw4IRoA=</td>\n",
       "      <td>2015-01-24</td>\n",
       "      <td>2015-02-24</td>\n",
       "      <td>35</td>\n",
       "      <td>5</td>\n",
       "      <td>2</td>\n",
       "      <td>4</td>\n",
       "      <td>198</td>\n",
       "      <td>244</td>\n",
       "      <td>51144.693024</td>\n",
       "      <td>...</td>\n",
       "      <td>11688.096191</td>\n",
       "      <td>9399.815918</td>\n",
       "      <td>209.609398</td>\n",
       "      <td>0.163934</td>\n",
       "      <td>0.143443</td>\n",
       "      <td>0.020492</td>\n",
       "      <td>0.008197</td>\n",
       "      <td>0.016393</td>\n",
       "      <td>0.811475</td>\n",
       "      <td>0.804221</td>\n",
       "    </tr>\n",
       "    <tr>\n",
       "      <th>14</th>\n",
       "      <td>Tgn3DVa+quNXaqr3oPVgJ4cFX9FCSOy7/niaVpTWia0=</td>\n",
       "      <td>2015-01-26</td>\n",
       "      <td>2015-02-26</td>\n",
       "      <td>125</td>\n",
       "      <td>26</td>\n",
       "      <td>16</td>\n",
       "      <td>5</td>\n",
       "      <td>295</td>\n",
       "      <td>467</td>\n",
       "      <td>79082.218567</td>\n",
       "      <td>...</td>\n",
       "      <td>19237.462097</td>\n",
       "      <td>10510.062195</td>\n",
       "      <td>169.340939</td>\n",
       "      <td>0.323340</td>\n",
       "      <td>0.267666</td>\n",
       "      <td>0.055675</td>\n",
       "      <td>0.034261</td>\n",
       "      <td>0.010707</td>\n",
       "      <td>0.631692</td>\n",
       "      <td>0.546333</td>\n",
       "    </tr>\n",
       "    <tr>\n",
       "      <th>15</th>\n",
       "      <td>Qucq6F/IBlORn+hw2L2ys3lVFnNgWbz3C3TWHr6oEvQ=</td>\n",
       "      <td>2015-01-03</td>\n",
       "      <td>2015-02-03</td>\n",
       "      <td>128</td>\n",
       "      <td>17</td>\n",
       "      <td>16</td>\n",
       "      <td>16</td>\n",
       "      <td>721</td>\n",
       "      <td>898</td>\n",
       "      <td>183160.650949</td>\n",
       "      <td>...</td>\n",
       "      <td>18927.682032</td>\n",
       "      <td>54346.602844</td>\n",
       "      <td>203.965090</td>\n",
       "      <td>0.161470</td>\n",
       "      <td>0.142539</td>\n",
       "      <td>0.018931</td>\n",
       "      <td>0.017817</td>\n",
       "      <td>0.017817</td>\n",
       "      <td>0.802895</td>\n",
       "      <td>2.871275</td>\n",
       "    </tr>\n",
       "    <tr>\n",
       "      <th>16</th>\n",
       "      <td>LlZUTNz7zT5foxe1E61KwGn85ZoZ3QD45ntaXajyP5w=</td>\n",
       "      <td>2015-01-29</td>\n",
       "      <td>2015-02-28</td>\n",
       "      <td>0</td>\n",
       "      <td>0</td>\n",
       "      <td>0</td>\n",
       "      <td>1</td>\n",
       "      <td>8</td>\n",
       "      <td>9</td>\n",
       "      <td>2252.525879</td>\n",
       "      <td>...</td>\n",
       "      <td>2252.525879</td>\n",
       "      <td>0.000000</td>\n",
       "      <td>250.280653</td>\n",
       "      <td>0.000000</td>\n",
       "      <td>0.000000</td>\n",
       "      <td>0.000000</td>\n",
       "      <td>0.000000</td>\n",
       "      <td>0.111111</td>\n",
       "      <td>0.888889</td>\n",
       "      <td>0.000000</td>\n",
       "    </tr>\n",
       "    <tr>\n",
       "      <th>17</th>\n",
       "      <td>r0a0Nr5PVbH+LK7MDIQJDRny+IjDrE4B6zgnWyvaqUU=</td>\n",
       "      <td>2015-01-10</td>\n",
       "      <td>2015-02-09</td>\n",
       "      <td>194</td>\n",
       "      <td>68</td>\n",
       "      <td>24</td>\n",
       "      <td>51</td>\n",
       "      <td>398</td>\n",
       "      <td>735</td>\n",
       "      <td>124891.564453</td>\n",
       "      <td>...</td>\n",
       "      <td>45424.982178</td>\n",
       "      <td>19907.382812</td>\n",
       "      <td>169.920496</td>\n",
       "      <td>0.356463</td>\n",
       "      <td>0.263946</td>\n",
       "      <td>0.092517</td>\n",
       "      <td>0.032653</td>\n",
       "      <td>0.069388</td>\n",
       "      <td>0.541497</td>\n",
       "      <td>0.438248</td>\n",
       "    </tr>\n",
       "    <tr>\n",
       "      <th>18</th>\n",
       "      <td>sW3mRQN16o+YRFgmehkMbNJ+tGOLqohrPs57yGAViMM=</td>\n",
       "      <td>2015-01-04</td>\n",
       "      <td>2015-02-04</td>\n",
       "      <td>107</td>\n",
       "      <td>22</td>\n",
       "      <td>24</td>\n",
       "      <td>19</td>\n",
       "      <td>1589</td>\n",
       "      <td>1761</td>\n",
       "      <td>415287.028564</td>\n",
       "      <td>...</td>\n",
       "      <td>72560.104004</td>\n",
       "      <td>139052.914185</td>\n",
       "      <td>235.824548</td>\n",
       "      <td>0.073254</td>\n",
       "      <td>0.060761</td>\n",
       "      <td>0.012493</td>\n",
       "      <td>0.013629</td>\n",
       "      <td>0.010789</td>\n",
       "      <td>0.902328</td>\n",
       "      <td>1.916382</td>\n",
       "    </tr>\n",
       "    <tr>\n",
       "      <th>19</th>\n",
       "      <td>ib+c0HY1mapsDg8mIA02346V2T4iJ8dSevVGV/uwFlc=</td>\n",
       "      <td>2015-01-11</td>\n",
       "      <td>2015-02-10</td>\n",
       "      <td>90</td>\n",
       "      <td>66</td>\n",
       "      <td>23</td>\n",
       "      <td>13</td>\n",
       "      <td>114</td>\n",
       "      <td>306</td>\n",
       "      <td>41341.489670</td>\n",
       "      <td>...</td>\n",
       "      <td>7788.861877</td>\n",
       "      <td>10562.768204</td>\n",
       "      <td>135.102907</td>\n",
       "      <td>0.509804</td>\n",
       "      <td>0.294118</td>\n",
       "      <td>0.215686</td>\n",
       "      <td>0.075163</td>\n",
       "      <td>0.042484</td>\n",
       "      <td>0.372549</td>\n",
       "      <td>1.356137</td>\n",
       "    </tr>\n",
       "  </tbody>\n",
       "</table>\n",
       "<p>20 rows × 21 columns</p>\n",
       "</div>"
      ],
      "text/plain": [
       "                                            msno membership_start_date  \\\n",
       "0   6tDJRqi0YnQSj5ZYBSVMSKnKJLnIxFUyU+weV0Rd5eY=            2015-01-18   \n",
       "1   8UHoh579EZsyPDhyrHYiEEgdDuCUMG6BOwBXylccf9g=            2015-01-10   \n",
       "2   daMHKj2zH4B9kxuxlj8xFAaHd7sKug1TAF2DAVBC+E4=            2015-01-12   \n",
       "3   yCrji8OTMzuu0Dx9sOqx2cmG1TXipChAMGTG/5+EU7s=            2015-01-16   \n",
       "4   FoTdaG+giNMhn7icv4qUiYiuK7+ysxcZXSRfYsyg9Dc=            2015-01-04   \n",
       "5   Rz6VfCpaEiy/0BO3YosgzeuPHorGqJgv6ql8P6oE57o=            2015-01-05   \n",
       "6   HT+2ile+EngqX3IO8TPL2Jzf/bcswhSFsQfttMlm/J4=            2015-01-09   \n",
       "7   R94Rn++ZyYTWpKulrcE/C/lCUlN80qVR3fWrkkdM/Uk=            2015-01-03   \n",
       "8   0hMhhZmpHYlk18IQj8Nx+QA9Zwe1/bGC3RvSML3qv8M=            2015-01-04   \n",
       "9   jl1a1KTvoQLfjHBX9vVNCpdNVT4ba0zkKwLv149zWgc=            2015-01-13   \n",
       "10  EuyimEVWxJBuWR+8XjbopkDC4EQc1rI8f2V1VqZeYy4=            2015-01-13   \n",
       "11  nNNESS3F5c09kMCU4sKo9BYSYgW/r/BUf59f/2qcYfI=            2015-01-17   \n",
       "12  J2y8bBhyJdXv/r5u30pN2IodYqCMUZFT0tPA8uoHR54=            2015-01-03   \n",
       "13  B3yJw83yrPfzIRSCP2eGCBmmLJIlWZDn7XG4pw4IRoA=            2015-01-24   \n",
       "14  Tgn3DVa+quNXaqr3oPVgJ4cFX9FCSOy7/niaVpTWia0=            2015-01-26   \n",
       "15  Qucq6F/IBlORn+hw2L2ys3lVFnNgWbz3C3TWHr6oEvQ=            2015-01-03   \n",
       "16  LlZUTNz7zT5foxe1E61KwGn85ZoZ3QD45ntaXajyP5w=            2015-01-29   \n",
       "17  r0a0Nr5PVbH+LK7MDIQJDRny+IjDrE4B6zgnWyvaqUU=            2015-01-10   \n",
       "18  sW3mRQN16o+YRFgmehkMbNJ+tGOLqohrPs57yGAViMM=            2015-01-04   \n",
       "19  ib+c0HY1mapsDg8mIA02346V2T4iJ8dSevVGV/uwFlc=            2015-01-11   \n",
       "\n",
       "   membership_expire_date  sum_completion_25  sum_completion_50  \\\n",
       "0              2015-02-18                 89                 13   \n",
       "1              2015-02-10                 48                 59   \n",
       "2              2015-02-12                  7                  3   \n",
       "3              2015-02-16                 64                 36   \n",
       "4              2015-02-03                 64                 20   \n",
       "5              2015-02-04                534                224   \n",
       "6              2015-02-08                178                 15   \n",
       "7              2015-02-02                 18                  5   \n",
       "8              2015-02-04                 28                  2   \n",
       "9              2015-02-12                128                 41   \n",
       "10             2015-02-12                104                 30   \n",
       "11             2015-02-16                 62                 21   \n",
       "12             2015-02-02                 78                 47   \n",
       "13             2015-02-24                 35                  5   \n",
       "14             2015-02-26                125                 26   \n",
       "15             2015-02-03                128                 17   \n",
       "16             2015-02-28                  0                  0   \n",
       "17             2015-02-09                194                 68   \n",
       "18             2015-02-04                107                 22   \n",
       "19             2015-02-10                 90                 66   \n",
       "\n",
       "    sum_completion_75  sum_completion_985  sum_completion_100  sum_songs  \\\n",
       "0                  17                   7                 756        882   \n",
       "1                  26                   7                 225        365   \n",
       "2                   3                   4                 326        343   \n",
       "3                  41                  26                  62        229   \n",
       "4                  19                  13                 716        832   \n",
       "5                 174                 185                1164       2281   \n",
       "6                   4                   5                 475        677   \n",
       "7                   1                   4                 720        748   \n",
       "8                   2                   5                 333        370   \n",
       "9                  36                  37                 365        607   \n",
       "10                 26                  15                 203        378   \n",
       "11                 11                   5                 276        375   \n",
       "12                 55                  41                1308       1529   \n",
       "13                  2                   4                 198        244   \n",
       "14                 16                   5                 295        467   \n",
       "15                 16                  16                 721        898   \n",
       "16                  0                   1                   8          9   \n",
       "17                 24                  51                 398        735   \n",
       "18                 24                  19                1589       1761   \n",
       "19                 23                  13                 114        306   \n",
       "\n",
       "    sum_total_secs  ...  total_secs_first_7_days  total_secs_last_7_days  \\\n",
       "0    189953.270905  ...             36205.222290            51777.932251   \n",
       "1     61201.093079  ...             15777.631958             2942.003052   \n",
       "2     85284.844574  ...             39731.336914             1469.901031   \n",
       "3     31074.318115  ...              6582.186096             5040.774094   \n",
       "4    194388.747314  ...             36482.972717            73684.392273   \n",
       "5    374239.449707  ...             79158.923340            87792.549072   \n",
       "6    118273.041901  ...             30222.870117            23116.510895   \n",
       "7    184328.976776  ...             52496.966644            14459.742676   \n",
       "8     80468.070480  ...                 0.000000              203.759995   \n",
       "9    100571.548218  ...             34729.021484            32512.581909   \n",
       "10    62434.948181  ...             15057.370300                0.000000   \n",
       "11    67393.611923  ...              3390.955994            24356.312958   \n",
       "12   330792.134583  ...             75320.757324            62067.050598   \n",
       "13    51144.693024  ...             11688.096191             9399.815918   \n",
       "14    79082.218567  ...             19237.462097            10510.062195   \n",
       "15   183160.650949  ...             18927.682032            54346.602844   \n",
       "16     2252.525879  ...              2252.525879                0.000000   \n",
       "17   124891.564453  ...             45424.982178            19907.382812   \n",
       "18   415287.028564  ...             72560.104004           139052.914185   \n",
       "19    41341.489670  ...              7788.861877            10562.768204   \n",
       "\n",
       "    avg_seconds_per_songs  skip_ratio  songs_played_25_ratio  \\\n",
       "0              215.366520    0.115646               0.100907   \n",
       "1              167.674228    0.293151               0.131507   \n",
       "2              248.643862    0.029155               0.020408   \n",
       "3              135.695712    0.436681               0.279476   \n",
       "4              233.640321    0.100962               0.076923   \n",
       "5              164.068150    0.332310               0.234108   \n",
       "6              174.701687    0.285081               0.262925   \n",
       "7              246.429113    0.030749               0.024064   \n",
       "8              217.481272    0.081081               0.075676   \n",
       "9              165.686241    0.278418               0.210873   \n",
       "10             165.171821    0.354497               0.275132   \n",
       "11             179.716298    0.221333               0.165333   \n",
       "12             216.345412    0.081753               0.051014   \n",
       "13             209.609398    0.163934               0.143443   \n",
       "14             169.340939    0.323340               0.267666   \n",
       "15             203.965090    0.161470               0.142539   \n",
       "16             250.280653    0.000000               0.000000   \n",
       "17             169.920496    0.356463               0.263946   \n",
       "18             235.824548    0.073254               0.060761   \n",
       "19             135.102907    0.509804               0.294118   \n",
       "\n",
       "    songs_played_50_ratio  songs_played_75_ratio  songs_played_985_ratio  \\\n",
       "0                0.014739               0.019274                0.007937   \n",
       "1                0.161644               0.071233                0.019178   \n",
       "2                0.008746               0.008746                0.011662   \n",
       "3                0.157205               0.179039                0.113537   \n",
       "4                0.024038               0.022837                0.015625   \n",
       "5                0.098203               0.076282                0.081105   \n",
       "6                0.022157               0.005908                0.007386   \n",
       "7                0.006684               0.001337                0.005348   \n",
       "8                0.005405               0.005405                0.013514   \n",
       "9                0.067545               0.059308                0.060956   \n",
       "10               0.079365               0.068783                0.039683   \n",
       "11               0.056000               0.029333                0.013333   \n",
       "12               0.030739               0.035971                0.026815   \n",
       "13               0.020492               0.008197                0.016393   \n",
       "14               0.055675               0.034261                0.010707   \n",
       "15               0.018931               0.017817                0.017817   \n",
       "16               0.000000               0.000000                0.111111   \n",
       "17               0.092517               0.032653                0.069388   \n",
       "18               0.012493               0.013629                0.010789   \n",
       "19               0.215686               0.075163                0.042484   \n",
       "\n",
       "    songs_completion_ratio  last_first_7_days_total_secs_ratio  \n",
       "0                 0.857143                            1.430123  \n",
       "1                 0.616438                            0.186467  \n",
       "2                 0.950437                            0.036996  \n",
       "3                 0.270742                            0.765821  \n",
       "4                 0.860577                            2.019692  \n",
       "5                 0.510302                            1.109067  \n",
       "6                 0.701625                            0.764868  \n",
       "7                 0.962567                            0.275440  \n",
       "8                 0.900000                        20376.999451  \n",
       "9                 0.601318                            0.936179  \n",
       "10                0.537037                            0.000000  \n",
       "11                0.736000                            7.182709  \n",
       "12                0.855461                            0.824036  \n",
       "13                0.811475                            0.804221  \n",
       "14                0.631692                            0.546333  \n",
       "15                0.802895                            2.871275  \n",
       "16                0.888889                            0.000000  \n",
       "17                0.541497                            0.438248  \n",
       "18                0.902328                            1.916382  \n",
       "19                0.372549                            1.356137  \n",
       "\n",
       "[20 rows x 21 columns]"
      ]
     },
     "execution_count": 18,
     "metadata": {},
     "output_type": "execute_result"
    }
   ],
   "source": [
    "print(\"=== Userlog Table Preview ===\")\n",
    "# df_userlog.show(20, truncate=False)\n",
    "df_userlog.toPandas().head(20)"
   ]
  },
  {
   "cell_type": "code",
   "execution_count": 17,
   "id": "387d186a-04b8-4db7-b641-293a9323112e",
   "metadata": {},
   "outputs": [
    {
     "name": "stdout",
     "output_type": "stream",
     "text": [
      "=== Transaction Table Preview ===\n"
     ]
    },
    {
     "data": {
      "text/html": [
       "<div>\n",
       "<style scoped>\n",
       "    .dataframe tbody tr th:only-of-type {\n",
       "        vertical-align: middle;\n",
       "    }\n",
       "\n",
       "    .dataframe tbody tr th {\n",
       "        vertical-align: top;\n",
       "    }\n",
       "\n",
       "    .dataframe thead th {\n",
       "        text-align: right;\n",
       "    }\n",
       "</style>\n",
       "<table border=\"1\" class=\"dataframe\">\n",
       "  <thead>\n",
       "    <tr style=\"text-align: right;\">\n",
       "      <th></th>\n",
       "      <th>msno</th>\n",
       "      <th>payment_method_id</th>\n",
       "      <th>payment_plan_days</th>\n",
       "      <th>plan_list_price</th>\n",
       "      <th>actual_amount_paid</th>\n",
       "      <th>is_auto_renew</th>\n",
       "      <th>transaction_date</th>\n",
       "      <th>membership_expire_date</th>\n",
       "      <th>is_cancel</th>\n",
       "      <th>membership_start_date</th>\n",
       "      <th>discount_ratio</th>\n",
       "    </tr>\n",
       "  </thead>\n",
       "  <tbody>\n",
       "    <tr>\n",
       "      <th>0</th>\n",
       "      <td>++3Z+W8OPnpbHYfrKwqRKN1bF83XEbxjdYUolhGdHZg=</td>\n",
       "      <td>41</td>\n",
       "      <td>30</td>\n",
       "      <td>149.0</td>\n",
       "      <td>149.0</td>\n",
       "      <td>1</td>\n",
       "      <td>2015-01-08</td>\n",
       "      <td>2015-02-09</td>\n",
       "      <td>0</td>\n",
       "      <td>2015-01-10</td>\n",
       "      <td>0.000000</td>\n",
       "    </tr>\n",
       "    <tr>\n",
       "      <th>1</th>\n",
       "      <td>++E1waHrjSGFrLK4FgYHlaQgZ22Fn2fuoc929CTPtlA=</td>\n",
       "      <td>40</td>\n",
       "      <td>31</td>\n",
       "      <td>149.0</td>\n",
       "      <td>149.0</td>\n",
       "      <td>1</td>\n",
       "      <td>2015-01-08</td>\n",
       "      <td>2015-02-07</td>\n",
       "      <td>0</td>\n",
       "      <td>2015-01-07</td>\n",
       "      <td>0.000000</td>\n",
       "    </tr>\n",
       "    <tr>\n",
       "      <th>2</th>\n",
       "      <td>++E1waHrjSGFrLK4FgYHlaQgZ22Fn2fuoc929CTPtlA=</td>\n",
       "      <td>40</td>\n",
       "      <td>31</td>\n",
       "      <td>149.0</td>\n",
       "      <td>149.0</td>\n",
       "      <td>1</td>\n",
       "      <td>2015-01-11</td>\n",
       "      <td>2015-02-07</td>\n",
       "      <td>1</td>\n",
       "      <td>2015-01-07</td>\n",
       "      <td>0.000000</td>\n",
       "    </tr>\n",
       "    <tr>\n",
       "      <th>3</th>\n",
       "      <td>++FojTWzKjhz7uxsZXEN3KBpxSmSvPr2j9KEuLzVAm4=</td>\n",
       "      <td>39</td>\n",
       "      <td>31</td>\n",
       "      <td>149.0</td>\n",
       "      <td>149.0</td>\n",
       "      <td>1</td>\n",
       "      <td>2015-01-31</td>\n",
       "      <td>2015-03-02</td>\n",
       "      <td>0</td>\n",
       "      <td>2015-01-30</td>\n",
       "      <td>0.000000</td>\n",
       "    </tr>\n",
       "    <tr>\n",
       "      <th>4</th>\n",
       "      <td>++GVWCJ/8c4RVSUmn5mrt3VFGLUfmYIGVJ/SHLWPACw=</td>\n",
       "      <td>41</td>\n",
       "      <td>30</td>\n",
       "      <td>149.0</td>\n",
       "      <td>119.0</td>\n",
       "      <td>1</td>\n",
       "      <td>2015-01-25</td>\n",
       "      <td>2015-02-26</td>\n",
       "      <td>0</td>\n",
       "      <td>2015-01-27</td>\n",
       "      <td>0.201342</td>\n",
       "    </tr>\n",
       "    <tr>\n",
       "      <th>5</th>\n",
       "      <td>++IU7zZpfAGO1qdHBDkHlI+6UzjMMpd/JiaY87ykRyo=</td>\n",
       "      <td>41</td>\n",
       "      <td>30</td>\n",
       "      <td>149.0</td>\n",
       "      <td>119.0</td>\n",
       "      <td>1</td>\n",
       "      <td>2015-01-20</td>\n",
       "      <td>2015-02-21</td>\n",
       "      <td>0</td>\n",
       "      <td>2015-01-22</td>\n",
       "      <td>0.201342</td>\n",
       "    </tr>\n",
       "    <tr>\n",
       "      <th>6</th>\n",
       "      <td>++KbErD/TJoTzWzoMQzvaHHnRPE5GZLjXR2YbfbJ+ow=</td>\n",
       "      <td>41</td>\n",
       "      <td>30</td>\n",
       "      <td>149.0</td>\n",
       "      <td>119.0</td>\n",
       "      <td>1</td>\n",
       "      <td>2015-01-01</td>\n",
       "      <td>2015-02-01</td>\n",
       "      <td>0</td>\n",
       "      <td>2015-01-02</td>\n",
       "      <td>0.201342</td>\n",
       "    </tr>\n",
       "    <tr>\n",
       "      <th>7</th>\n",
       "      <td>++KbErD/TJoTzWzoMQzvaHHnRPE5GZLjXR2YbfbJ+ow=</td>\n",
       "      <td>41</td>\n",
       "      <td>30</td>\n",
       "      <td>149.0</td>\n",
       "      <td>119.0</td>\n",
       "      <td>1</td>\n",
       "      <td>2015-02-01</td>\n",
       "      <td>2015-03-01</td>\n",
       "      <td>0</td>\n",
       "      <td>2015-01-30</td>\n",
       "      <td>0.201342</td>\n",
       "    </tr>\n",
       "    <tr>\n",
       "      <th>8</th>\n",
       "      <td>++VNRMQoGY6E5ontEaWuAPUqVk/W1vbSDMzRfc3TQbM=</td>\n",
       "      <td>41</td>\n",
       "      <td>30</td>\n",
       "      <td>149.0</td>\n",
       "      <td>119.0</td>\n",
       "      <td>1</td>\n",
       "      <td>2015-01-17</td>\n",
       "      <td>2015-02-17</td>\n",
       "      <td>0</td>\n",
       "      <td>2015-01-18</td>\n",
       "      <td>0.201342</td>\n",
       "    </tr>\n",
       "    <tr>\n",
       "      <th>9</th>\n",
       "      <td>++ctvOaat5GA9vNamCSPGS2NtyaKjQWF1qjpBBq/nI8=</td>\n",
       "      <td>37</td>\n",
       "      <td>31</td>\n",
       "      <td>149.0</td>\n",
       "      <td>149.0</td>\n",
       "      <td>1</td>\n",
       "      <td>2015-01-13</td>\n",
       "      <td>2015-02-13</td>\n",
       "      <td>0</td>\n",
       "      <td>2015-01-13</td>\n",
       "      <td>0.000000</td>\n",
       "    </tr>\n",
       "    <tr>\n",
       "      <th>10</th>\n",
       "      <td>++dN6aEG6ImOgW2uV8UGK2nfrnbZ0nYTcVgtt+nmKQg=</td>\n",
       "      <td>41</td>\n",
       "      <td>30</td>\n",
       "      <td>149.0</td>\n",
       "      <td>149.0</td>\n",
       "      <td>1</td>\n",
       "      <td>2015-01-03</td>\n",
       "      <td>2015-02-03</td>\n",
       "      <td>0</td>\n",
       "      <td>2015-01-04</td>\n",
       "      <td>0.000000</td>\n",
       "    </tr>\n",
       "    <tr>\n",
       "      <th>11</th>\n",
       "      <td>++eWyD5lL+5DUiN4GBqwP2WGiUV/CraqBZNNGg1LPUs=</td>\n",
       "      <td>41</td>\n",
       "      <td>30</td>\n",
       "      <td>149.0</td>\n",
       "      <td>149.0</td>\n",
       "      <td>1</td>\n",
       "      <td>2015-01-09</td>\n",
       "      <td>2015-02-09</td>\n",
       "      <td>0</td>\n",
       "      <td>2015-01-10</td>\n",
       "      <td>0.000000</td>\n",
       "    </tr>\n",
       "    <tr>\n",
       "      <th>12</th>\n",
       "      <td>++jmANUQSjTA+JUn8nI5hZjXpYcg13vVjpY2UeMaxSk=</td>\n",
       "      <td>39</td>\n",
       "      <td>31</td>\n",
       "      <td>149.0</td>\n",
       "      <td>149.0</td>\n",
       "      <td>1</td>\n",
       "      <td>2015-01-31</td>\n",
       "      <td>2015-03-03</td>\n",
       "      <td>0</td>\n",
       "      <td>2015-01-31</td>\n",
       "      <td>0.000000</td>\n",
       "    </tr>\n",
       "    <tr>\n",
       "      <th>13</th>\n",
       "      <td>++oxbM4d4U0UmUUUpYD6nMkLv5dvpb6yOGdL7dIQ3No=</td>\n",
       "      <td>41</td>\n",
       "      <td>30</td>\n",
       "      <td>149.0</td>\n",
       "      <td>119.0</td>\n",
       "      <td>1</td>\n",
       "      <td>2015-01-31</td>\n",
       "      <td>2015-02-28</td>\n",
       "      <td>0</td>\n",
       "      <td>2015-01-29</td>\n",
       "      <td>0.201342</td>\n",
       "    </tr>\n",
       "    <tr>\n",
       "      <th>14</th>\n",
       "      <td>++pCffaply7OuAlbcK4QgrwyNAbxYgoL+0gXW/XjIIo=</td>\n",
       "      <td>40</td>\n",
       "      <td>31</td>\n",
       "      <td>149.0</td>\n",
       "      <td>149.0</td>\n",
       "      <td>1</td>\n",
       "      <td>2015-01-16</td>\n",
       "      <td>2015-02-15</td>\n",
       "      <td>0</td>\n",
       "      <td>2015-01-15</td>\n",
       "      <td>0.000000</td>\n",
       "    </tr>\n",
       "    <tr>\n",
       "      <th>15</th>\n",
       "      <td>++pHzikrMihp0WXxxVIRtPA3rxbaqUqSqaPckVq13sA=</td>\n",
       "      <td>39</td>\n",
       "      <td>31</td>\n",
       "      <td>149.0</td>\n",
       "      <td>149.0</td>\n",
       "      <td>1</td>\n",
       "      <td>2015-01-25</td>\n",
       "      <td>2015-02-26</td>\n",
       "      <td>1</td>\n",
       "      <td>2015-01-26</td>\n",
       "      <td>0.000000</td>\n",
       "    </tr>\n",
       "    <tr>\n",
       "      <th>16</th>\n",
       "      <td>++pKvncSjIOexwelYzBoXC+ZiHBar9vuFqFKNPvvbRc=</td>\n",
       "      <td>40</td>\n",
       "      <td>31</td>\n",
       "      <td>149.0</td>\n",
       "      <td>149.0</td>\n",
       "      <td>1</td>\n",
       "      <td>2015-01-17</td>\n",
       "      <td>2015-02-17</td>\n",
       "      <td>0</td>\n",
       "      <td>2015-01-17</td>\n",
       "      <td>0.000000</td>\n",
       "    </tr>\n",
       "    <tr>\n",
       "      <th>17</th>\n",
       "      <td>++pSqgOqSB8laOm+RTW6NLTqsMVQ0egh4Rs5+GOSJrQ=</td>\n",
       "      <td>41</td>\n",
       "      <td>30</td>\n",
       "      <td>149.0</td>\n",
       "      <td>119.0</td>\n",
       "      <td>1</td>\n",
       "      <td>2015-01-05</td>\n",
       "      <td>2015-02-05</td>\n",
       "      <td>0</td>\n",
       "      <td>2015-01-06</td>\n",
       "      <td>0.201342</td>\n",
       "    </tr>\n",
       "    <tr>\n",
       "      <th>18</th>\n",
       "      <td>++rFX3KrIVKN7HjJ6/VMlUOIlGKLjUauLT6OKwytaH0=</td>\n",
       "      <td>41</td>\n",
       "      <td>30</td>\n",
       "      <td>149.0</td>\n",
       "      <td>119.0</td>\n",
       "      <td>1</td>\n",
       "      <td>2015-01-08</td>\n",
       "      <td>2015-02-08</td>\n",
       "      <td>0</td>\n",
       "      <td>2015-01-09</td>\n",
       "      <td>0.201342</td>\n",
       "    </tr>\n",
       "    <tr>\n",
       "      <th>19</th>\n",
       "      <td>++wntHbZrJ7xowShtDJobYMbCKlx8QkBHlKB9pK+T6w=</td>\n",
       "      <td>41</td>\n",
       "      <td>30</td>\n",
       "      <td>149.0</td>\n",
       "      <td>149.0</td>\n",
       "      <td>1</td>\n",
       "      <td>2015-01-31</td>\n",
       "      <td>2015-03-01</td>\n",
       "      <td>0</td>\n",
       "      <td>2015-01-30</td>\n",
       "      <td>0.000000</td>\n",
       "    </tr>\n",
       "  </tbody>\n",
       "</table>\n",
       "</div>"
      ],
      "text/plain": [
       "                                            msno payment_method_id  \\\n",
       "0   ++3Z+W8OPnpbHYfrKwqRKN1bF83XEbxjdYUolhGdHZg=                41   \n",
       "1   ++E1waHrjSGFrLK4FgYHlaQgZ22Fn2fuoc929CTPtlA=                40   \n",
       "2   ++E1waHrjSGFrLK4FgYHlaQgZ22Fn2fuoc929CTPtlA=                40   \n",
       "3   ++FojTWzKjhz7uxsZXEN3KBpxSmSvPr2j9KEuLzVAm4=                39   \n",
       "4   ++GVWCJ/8c4RVSUmn5mrt3VFGLUfmYIGVJ/SHLWPACw=                41   \n",
       "5   ++IU7zZpfAGO1qdHBDkHlI+6UzjMMpd/JiaY87ykRyo=                41   \n",
       "6   ++KbErD/TJoTzWzoMQzvaHHnRPE5GZLjXR2YbfbJ+ow=                41   \n",
       "7   ++KbErD/TJoTzWzoMQzvaHHnRPE5GZLjXR2YbfbJ+ow=                41   \n",
       "8   ++VNRMQoGY6E5ontEaWuAPUqVk/W1vbSDMzRfc3TQbM=                41   \n",
       "9   ++ctvOaat5GA9vNamCSPGS2NtyaKjQWF1qjpBBq/nI8=                37   \n",
       "10  ++dN6aEG6ImOgW2uV8UGK2nfrnbZ0nYTcVgtt+nmKQg=                41   \n",
       "11  ++eWyD5lL+5DUiN4GBqwP2WGiUV/CraqBZNNGg1LPUs=                41   \n",
       "12  ++jmANUQSjTA+JUn8nI5hZjXpYcg13vVjpY2UeMaxSk=                39   \n",
       "13  ++oxbM4d4U0UmUUUpYD6nMkLv5dvpb6yOGdL7dIQ3No=                41   \n",
       "14  ++pCffaply7OuAlbcK4QgrwyNAbxYgoL+0gXW/XjIIo=                40   \n",
       "15  ++pHzikrMihp0WXxxVIRtPA3rxbaqUqSqaPckVq13sA=                39   \n",
       "16  ++pKvncSjIOexwelYzBoXC+ZiHBar9vuFqFKNPvvbRc=                40   \n",
       "17  ++pSqgOqSB8laOm+RTW6NLTqsMVQ0egh4Rs5+GOSJrQ=                41   \n",
       "18  ++rFX3KrIVKN7HjJ6/VMlUOIlGKLjUauLT6OKwytaH0=                41   \n",
       "19  ++wntHbZrJ7xowShtDJobYMbCKlx8QkBHlKB9pK+T6w=                41   \n",
       "\n",
       "    payment_plan_days  plan_list_price  actual_amount_paid  is_auto_renew  \\\n",
       "0                  30            149.0               149.0              1   \n",
       "1                  31            149.0               149.0              1   \n",
       "2                  31            149.0               149.0              1   \n",
       "3                  31            149.0               149.0              1   \n",
       "4                  30            149.0               119.0              1   \n",
       "5                  30            149.0               119.0              1   \n",
       "6                  30            149.0               119.0              1   \n",
       "7                  30            149.0               119.0              1   \n",
       "8                  30            149.0               119.0              1   \n",
       "9                  31            149.0               149.0              1   \n",
       "10                 30            149.0               149.0              1   \n",
       "11                 30            149.0               149.0              1   \n",
       "12                 31            149.0               149.0              1   \n",
       "13                 30            149.0               119.0              1   \n",
       "14                 31            149.0               149.0              1   \n",
       "15                 31            149.0               149.0              1   \n",
       "16                 31            149.0               149.0              1   \n",
       "17                 30            149.0               119.0              1   \n",
       "18                 30            149.0               119.0              1   \n",
       "19                 30            149.0               149.0              1   \n",
       "\n",
       "   transaction_date membership_expire_date  is_cancel membership_start_date  \\\n",
       "0        2015-01-08             2015-02-09          0            2015-01-10   \n",
       "1        2015-01-08             2015-02-07          0            2015-01-07   \n",
       "2        2015-01-11             2015-02-07          1            2015-01-07   \n",
       "3        2015-01-31             2015-03-02          0            2015-01-30   \n",
       "4        2015-01-25             2015-02-26          0            2015-01-27   \n",
       "5        2015-01-20             2015-02-21          0            2015-01-22   \n",
       "6        2015-01-01             2015-02-01          0            2015-01-02   \n",
       "7        2015-02-01             2015-03-01          0            2015-01-30   \n",
       "8        2015-01-17             2015-02-17          0            2015-01-18   \n",
       "9        2015-01-13             2015-02-13          0            2015-01-13   \n",
       "10       2015-01-03             2015-02-03          0            2015-01-04   \n",
       "11       2015-01-09             2015-02-09          0            2015-01-10   \n",
       "12       2015-01-31             2015-03-03          0            2015-01-31   \n",
       "13       2015-01-31             2015-02-28          0            2015-01-29   \n",
       "14       2015-01-16             2015-02-15          0            2015-01-15   \n",
       "15       2015-01-25             2015-02-26          1            2015-01-26   \n",
       "16       2015-01-17             2015-02-17          0            2015-01-17   \n",
       "17       2015-01-05             2015-02-05          0            2015-01-06   \n",
       "18       2015-01-08             2015-02-08          0            2015-01-09   \n",
       "19       2015-01-31             2015-03-01          0            2015-01-30   \n",
       "\n",
       "    discount_ratio  \n",
       "0         0.000000  \n",
       "1         0.000000  \n",
       "2         0.000000  \n",
       "3         0.000000  \n",
       "4         0.201342  \n",
       "5         0.201342  \n",
       "6         0.201342  \n",
       "7         0.201342  \n",
       "8         0.201342  \n",
       "9         0.000000  \n",
       "10        0.000000  \n",
       "11        0.000000  \n",
       "12        0.000000  \n",
       "13        0.201342  \n",
       "14        0.000000  \n",
       "15        0.000000  \n",
       "16        0.000000  \n",
       "17        0.201342  \n",
       "18        0.201342  \n",
       "19        0.000000  "
      ]
     },
     "execution_count": 17,
     "metadata": {},
     "output_type": "execute_result"
    }
   ],
   "source": [
    "print(\"=== Transaction Table Preview ===\")\n",
    "# df_transaction.show(20, truncate=False)\n",
    "df_transaction.toPandas().head(20)"
   ]
  },
  {
   "cell_type": "code",
   "execution_count": null,
   "id": "0b774166-5f76-44b2-9f0d-909151822306",
   "metadata": {},
   "outputs": [],
   "source": []
  }
 ],
 "metadata": {
  "kernelspec": {
   "display_name": "Python 3 (ipykernel)",
   "language": "python",
   "name": "python3"
  },
  "language_info": {
   "codemirror_mode": {
    "name": "ipython",
    "version": 3
   },
   "file_extension": ".py",
   "mimetype": "text/x-python",
   "name": "python",
   "nbconvert_exporter": "python",
   "pygments_lexer": "ipython3",
   "version": "3.12.11"
  }
 },
 "nbformat": 4,
 "nbformat_minor": 5
}
