{
 "cells": [
  {
   "cell_type": "code",
   "execution_count": 3,
   "id": "fcfd64a6-342a-4f7f-9215-bb15e8879db7",
   "metadata": {},
   "outputs": [
    {
     "name": "stdout",
     "output_type": "stream",
     "text": [
      "Done Importing!\n"
     ]
    }
   ],
   "source": [
    "import pandas as pd\n",
    "import numpy as np\n",
    "import seaborn as sns\n",
    "import matplotlib.pyplot as plt\n",
    "import calendar\n",
    "from pyspark.sql import SparkSession\n",
    "from tqdm import tqdm\n",
    "import time  # to simulate loading for tqdm\n",
    "import sys\n",
    "import os\n",
    "import glob\n",
    "import random\n",
    "from datetime import datetime, timedelta\n",
    "from dateutil.relativedelta import relativedelta\n",
    "import pprint\n",
    "import pyspark\n",
    "import pyspark.sql.functions as F\n",
    "\n",
    "from pyspark.sql.functions import col, to_date, count, min, max, lit\n",
    "from pyspark.sql.types import StringType, IntegerType, FloatType, DateType\n",
    "from pyspark.sql.functions import col, sum as spark_sum, when\n",
    "\n",
    "project_root = os.path.abspath('..')\n",
    "if project_root not in sys.path:\n",
    "    sys.path.insert(0, project_root)\n",
    "    \n",
    "import src.utils.bronze\n",
    "import src.utils.silver\n",
    "import src.utils.gold\n",
    "\n",
    "\n",
    "print('Done Importing!')"
   ]
  },
  {
   "cell_type": "code",
   "execution_count": 2,
   "id": "57e43867-7336-4c85-9f58-f213f6f0ad7d",
   "metadata": {},
   "outputs": [],
   "source": [
    "# # Create gold table and store to Google Cloud Storage\n",
    "# gold_label_file_path = \"Gold Layer/labels.csv\"\n",
    "# gold_label_gcs_path = f\"gs://{bucket_name}/{gold_label_file_path}\"\n",
    "\n",
    "# try:\n",
    "#     df_labels.to_csv(gold_label_gcs_path, index=False)\n",
    "#     print(\"labels.csv Stored to Gold Layer Successfully! ✅\")\n",
    "# except Exception as e:\n",
    "#     print(f\"labels.csv Store Failed: {e}\")"
   ]
  },
  {
   "cell_type": "markdown",
   "id": "875478ff-a598-4c8b-a554-3339d7bbcd3e",
   "metadata": {},
   "source": [
    "# Setup Hadoop\n",
    "Go to your working directory: CS611_MLE_GROUP_PROJECT <br/>\n",
    "Then, run this command in your VM terminal:\n",
    "> wget https://repo1.maven.org/maven2/com/google/cloud/bigdataoss/gcs-connector/hadoop3-2.2.20/gcs-connector-hadoop3-2.2.20-shaded.jar -P jars/\n",
    "\n",
    "<br/><br/>\n",
    "Copy your google cloud application_default_credentials.json to this working directory, then can run the following commands:"
   ]
  },
  {
   "cell_type": "code",
   "execution_count": 3,
   "id": "9c8c23a9-e386-4fdd-9469-7deb322f36b3",
   "metadata": {},
   "outputs": [
    {
     "name": "stderr",
     "output_type": "stream",
     "text": [
      "25/06/18 07:22:37 WARN NativeCodeLoader: Unable to load native-hadoop library for your platform... using builtin-java classes where applicable\n",
      "Setting default log level to \"WARN\".\n",
      "To adjust logging level use sc.setLogLevel(newLevel). For SparkR, use setLogLevel(newLevel).\n"
     ]
    }
   ],
   "source": [
    "\n",
    "spark = SparkSession \\\n",
    "    .builder \\\n",
    "    .config(\"spark.jars\", \"jars/gcs-connector-hadoop3-2.2.20-shaded.jar\") \\\n",
    "    .config(\"spark.driver.memory\", \"4g\") \\\n",
    "    .getOrCreate()\n"
   ]
  },
  {
   "cell_type": "code",
   "execution_count": 4,
   "id": "5bfa7d2b-f59e-4382-85f7-238b9f1f9abd",
   "metadata": {},
   "outputs": [],
   "source": [
    "spark._jsc.hadoopConfiguration().set('fs.gs.impl', 'com.google.cloud.hadoop.fs.gcs.GoogleHadoopFileSystem')\n",
    "# This is required if you are using service account and set true, \n",
    "spark._jsc.hadoopConfiguration().set('fs.gs.auth.service.account.enable', 'true')\n",
    "spark._jsc.hadoopConfiguration().set('google.cloud.auth.service.account.json.keyfile', \"application_default_credentials.json\")\n",
    "# Following are required if you are using oAuth\n",
    "# spark._jsc.hadoopConfiguration().set('fs.gs.auth.client.id', 'YOUR_OAUTH_CLIENT_ID')\n",
    "# spark._jsc.hadoopConfiguration().set('fs.gs.auth.client.secret', 'OAUTH_SECRET')"
   ]
  },
  {
   "cell_type": "markdown",
   "id": "05687340-0d0b-4626-a6f2-cd88e395ab56",
   "metadata": {},
   "source": [
    "# Partition Existing Bronze"
   ]
  },
  {
   "cell_type": "code",
   "execution_count": 5,
   "id": "b3107dbf-0815-4115-8bb5-6deb5c65d493",
   "metadata": {},
   "outputs": [],
   "source": [
    "# Setup Config\n",
    "snapshot_date_str = \"2015-01-01\"\n",
    "\n",
    "start_date_str = \"2015-01-01\"\n",
    "end_date_str = \"2017-03-31\""
   ]
  },
  {
   "cell_type": "code",
   "execution_count": 6,
   "id": "92c3ad1c-639d-440c-968e-17883f05cdaa",
   "metadata": {},
   "outputs": [
    {
     "name": "stdout",
     "output_type": "stream",
     "text": [
      "Done generate list of dates!\n"
     ]
    }
   ],
   "source": [
    "# generate list of dates to process\n",
    "def generate_first_of_month_dates(start_date_str, end_date_str):\n",
    "    # Convert the date strings to datetime objects\n",
    "    start_date = datetime.strptime(start_date_str, \"%Y-%m-%d\")\n",
    "    end_date = datetime.strptime(end_date_str, \"%Y-%m-%d\")\n",
    "    \n",
    "    # List to store the first of month dates\n",
    "    first_of_month_dates = []\n",
    "\n",
    "    # Start from the first of the month of the start_date\n",
    "    current_date = datetime(start_date.year, start_date.month, 1)\n",
    "\n",
    "    while current_date <= end_date:\n",
    "        # Append the date in yyyy-mm-dd format\n",
    "        first_of_month_dates.append(current_date.strftime(\"%Y-%m-%d\"))\n",
    "        \n",
    "        # Move to the first of the next month\n",
    "        if current_date.month == 12:\n",
    "            current_date = datetime(current_date.year + 1, 1, 1)\n",
    "        else:\n",
    "            current_date = datetime(current_date.year, current_date.month + 1, 1)\n",
    "\n",
    "    return first_of_month_dates\n",
    "\n",
    "dates_str_lst = generate_first_of_month_dates(start_date_str, end_date_str)\n",
    "print(\"Done generate list of dates!\")"
   ]
  },
  {
   "cell_type": "code",
   "execution_count": 7,
   "id": "9d606561-b76b-48e0-8006-9332c6b1a45c",
   "metadata": {},
   "outputs": [
    {
     "data": {
      "text/plain": [
       "['2015-01-01',\n",
       " '2015-02-01',\n",
       " '2015-03-01',\n",
       " '2015-04-01',\n",
       " '2015-05-01',\n",
       " '2015-06-01',\n",
       " '2015-07-01',\n",
       " '2015-08-01',\n",
       " '2015-09-01',\n",
       " '2015-10-01',\n",
       " '2015-11-01',\n",
       " '2015-12-01',\n",
       " '2016-01-01',\n",
       " '2016-02-01',\n",
       " '2016-03-01',\n",
       " '2016-04-01',\n",
       " '2016-05-01',\n",
       " '2016-06-01',\n",
       " '2016-07-01',\n",
       " '2016-08-01',\n",
       " '2016-09-01',\n",
       " '2016-10-01',\n",
       " '2016-11-01',\n",
       " '2016-12-01',\n",
       " '2017-01-01',\n",
       " '2017-02-01',\n",
       " '2017-03-01']"
      ]
     },
     "execution_count": 7,
     "metadata": {},
     "output_type": "execute_result"
    }
   ],
   "source": [
    "dates_str_lst"
   ]
  },
  {
   "cell_type": "code",
   "execution_count": 8,
   "id": "a872c187-d5ca-43ce-9cd4-e6064534e903",
   "metadata": {},
   "outputs": [],
   "source": [
    "bucket_name = \"cs611_mle\""
   ]
  },
  {
   "cell_type": "markdown",
   "id": "d2584a1a-b3ae-47fc-9cf5-2bba0cbdde71",
   "metadata": {},
   "source": [
    "### Bronze Member"
   ]
  },
  {
   "cell_type": "code",
   "execution_count": 9,
   "id": "f4569354-114f-46ed-baae-981be7724e27",
   "metadata": {},
   "outputs": [],
   "source": [
    "### ~~~ Bronze Member ~~~\n",
    "# create bronze datalake\n",
    "bronze_member_directory = \"datamart/bronze/member\""
   ]
  },
  {
   "cell_type": "code",
   "execution_count": 10,
   "id": "c46b9659-5321-4781-b8c9-a9a6374f97f7",
   "metadata": {},
   "outputs": [
    {
     "name": "stderr",
     "output_type": "stream",
     "text": [
      "                                                                                "
     ]
    },
    {
     "name": "stdout",
     "output_type": "stream",
     "text": [
      "row count: 50000\n"
     ]
    },
    {
     "name": "stderr",
     "output_type": "stream",
     "text": [
      "25/06/18 07:22:47 WARN CSVHeaderChecker: CSV header does not conform to the schema.\n",
      " Header: , Unnamed: 0, msno, city, bd, gender, registered_via, registration_init_time\n",
      " Schema: _c0, Unnamed: 0, msno, city, bd, gender, registered_via, registration_init_time\n",
      "Expected: _c0 but found: \n",
      "CSV file: gs://cs611_mle/Bronze%20Layer/members_50k.csv\n"
     ]
    },
    {
     "name": "stdout",
     "output_type": "stream",
     "text": [
      "saved to: gs://cs611_mle/datamart/bronze/member/bronze_members.csv\n",
      "Done Build Bronze Table - Member!\n"
     ]
    }
   ],
   "source": [
    "# No need to be partitioned\n",
    "utils.bronze.process_bronze_member(bucket_name, bronze_member_directory, spark)\n",
    "print('Done Build Bronze Table - Member!')"
   ]
  },
  {
   "cell_type": "markdown",
   "id": "e1322ed7-7e7b-417b-815b-c9e80f27df2d",
   "metadata": {},
   "source": [
    "### Bronze User Log"
   ]
  },
  {
   "cell_type": "code",
   "execution_count": 11,
   "id": "c8b6fba4-3256-4eb8-8c4e-4ae49e95df46",
   "metadata": {},
   "outputs": [],
   "source": [
    "### ~~~ User Log ~~~\n",
    "# create bronze datalake\n",
    "# create multiple csv files \n",
    "bronze_userlog_directory = \"datamart/bronze/userlog\""
   ]
  },
  {
   "cell_type": "code",
   "execution_count": 12,
   "id": "1a3bd6c3-4522-49df-9af1-a0acd396952c",
   "metadata": {
    "scrolled": true
   },
   "outputs": [
    {
     "name": "stderr",
     "output_type": "stream",
     "text": [
      "                                                                                "
     ]
    },
    {
     "name": "stdout",
     "output_type": "stream",
     "text": [
      "2015-01-01row count: 337141\n"
     ]
    },
    {
     "name": "stderr",
     "output_type": "stream",
     "text": [
      "25/06/18 07:23:08 WARN CSVHeaderChecker: CSV header does not conform to the schema.\n",
      " Header: , Unnamed: 0, msno, date, num_25, num_50, num_75, num_985, num_100, num_unq, total_secs\n",
      " Schema: _c0, Unnamed: 0, msno, date, num_25, num_50, num_75, num_985, num_100, num_unq, total_secs\n",
      "Expected: _c0 but found: \n",
      "CSV file: gs://cs611_mle/Bronze%20Layer/user_logs_50k.csv\n",
      "                                                                                "
     ]
    },
    {
     "name": "stdout",
     "output_type": "stream",
     "text": [
      "saved to: gs://cs611_mle/datamart/bronze/userlog/bronze_userlog_2015_01_01.csv\n"
     ]
    },
    {
     "name": "stderr",
     "output_type": "stream",
     "text": [
      "                                                                                "
     ]
    },
    {
     "name": "stdout",
     "output_type": "stream",
     "text": [
      "2015-02-01row count: 301479\n"
     ]
    },
    {
     "name": "stderr",
     "output_type": "stream",
     "text": [
      "25/06/18 07:23:44 WARN CSVHeaderChecker: CSV header does not conform to the schema.\n",
      " Header: , Unnamed: 0, msno, date, num_25, num_50, num_75, num_985, num_100, num_unq, total_secs\n",
      " Schema: _c0, Unnamed: 0, msno, date, num_25, num_50, num_75, num_985, num_100, num_unq, total_secs\n",
      "Expected: _c0 but found: \n",
      "CSV file: gs://cs611_mle/Bronze%20Layer/user_logs_50k.csv\n",
      "                                                                                "
     ]
    },
    {
     "name": "stdout",
     "output_type": "stream",
     "text": [
      "saved to: gs://cs611_mle/datamart/bronze/userlog/bronze_userlog_2015_02_01.csv\n"
     ]
    },
    {
     "name": "stderr",
     "output_type": "stream",
     "text": [
      "                                                                                "
     ]
    },
    {
     "name": "stdout",
     "output_type": "stream",
     "text": [
      "2015-03-01row count: 348811\n"
     ]
    },
    {
     "name": "stderr",
     "output_type": "stream",
     "text": [
      "25/06/18 07:24:18 WARN CSVHeaderChecker: CSV header does not conform to the schema.\n",
      " Header: , Unnamed: 0, msno, date, num_25, num_50, num_75, num_985, num_100, num_unq, total_secs\n",
      " Schema: _c0, Unnamed: 0, msno, date, num_25, num_50, num_75, num_985, num_100, num_unq, total_secs\n",
      "Expected: _c0 but found: \n",
      "CSV file: gs://cs611_mle/Bronze%20Layer/user_logs_50k.csv\n",
      "                                                                                "
     ]
    },
    {
     "name": "stdout",
     "output_type": "stream",
     "text": [
      "saved to: gs://cs611_mle/datamart/bronze/userlog/bronze_userlog_2015_03_01.csv\n"
     ]
    },
    {
     "name": "stderr",
     "output_type": "stream",
     "text": [
      "                                                                                "
     ]
    },
    {
     "name": "stdout",
     "output_type": "stream",
     "text": [
      "2015-04-01row count: 345465\n"
     ]
    },
    {
     "name": "stderr",
     "output_type": "stream",
     "text": [
      "25/06/18 07:24:54 WARN CSVHeaderChecker: CSV header does not conform to the schema.\n",
      " Header: , Unnamed: 0, msno, date, num_25, num_50, num_75, num_985, num_100, num_unq, total_secs\n",
      " Schema: _c0, Unnamed: 0, msno, date, num_25, num_50, num_75, num_985, num_100, num_unq, total_secs\n",
      "Expected: _c0 but found: \n",
      "CSV file: gs://cs611_mle/Bronze%20Layer/user_logs_50k.csv\n",
      "                                                                                "
     ]
    },
    {
     "name": "stdout",
     "output_type": "stream",
     "text": [
      "saved to: gs://cs611_mle/datamart/bronze/userlog/bronze_userlog_2015_04_01.csv\n"
     ]
    },
    {
     "name": "stderr",
     "output_type": "stream",
     "text": [
      "                                                                                "
     ]
    },
    {
     "name": "stdout",
     "output_type": "stream",
     "text": [
      "2015-05-01row count: 354404\n"
     ]
    },
    {
     "name": "stderr",
     "output_type": "stream",
     "text": [
      "25/06/18 07:25:29 WARN CSVHeaderChecker: CSV header does not conform to the schema.\n",
      " Header: , Unnamed: 0, msno, date, num_25, num_50, num_75, num_985, num_100, num_unq, total_secs\n",
      " Schema: _c0, Unnamed: 0, msno, date, num_25, num_50, num_75, num_985, num_100, num_unq, total_secs\n",
      "Expected: _c0 but found: \n",
      "CSV file: gs://cs611_mle/Bronze%20Layer/user_logs_50k.csv\n",
      "                                                                                "
     ]
    },
    {
     "name": "stdout",
     "output_type": "stream",
     "text": [
      "saved to: gs://cs611_mle/datamart/bronze/userlog/bronze_userlog_2015_05_01.csv\n"
     ]
    },
    {
     "name": "stderr",
     "output_type": "stream",
     "text": [
      "25/06/18 07:26:04 WARN CSVHeaderChecker: CSV header does not conform to the schema.\n",
      " Header: , Unnamed: 0, msno, date, num_25, num_50, num_75, num_985, num_100, num_unq, total_secs\n",
      " Schema: _c0, Unnamed: 0, msno, date, num_25, num_50, num_75, num_985, num_100, num_unq, total_secs\n",
      "Expected: _c0 but found: \n",
      "CSV file: gs://cs611_mle/Bronze%20Layer/user_logs_50k.csv\n"
     ]
    },
    {
     "name": "stdout",
     "output_type": "stream",
     "text": [
      "2015-06-01row count: 342663\n"
     ]
    },
    {
     "name": "stderr",
     "output_type": "stream",
     "text": [
      "                                                                                "
     ]
    },
    {
     "name": "stdout",
     "output_type": "stream",
     "text": [
      "saved to: gs://cs611_mle/datamart/bronze/userlog/bronze_userlog_2015_06_01.csv\n"
     ]
    },
    {
     "name": "stderr",
     "output_type": "stream",
     "text": [
      "                                                                                "
     ]
    },
    {
     "name": "stdout",
     "output_type": "stream",
     "text": [
      "2015-07-01row count: 347901\n"
     ]
    },
    {
     "name": "stderr",
     "output_type": "stream",
     "text": [
      "25/06/18 07:26:39 WARN CSVHeaderChecker: CSV header does not conform to the schema.\n",
      " Header: , Unnamed: 0, msno, date, num_25, num_50, num_75, num_985, num_100, num_unq, total_secs\n",
      " Schema: _c0, Unnamed: 0, msno, date, num_25, num_50, num_75, num_985, num_100, num_unq, total_secs\n",
      "Expected: _c0 but found: \n",
      "CSV file: gs://cs611_mle/Bronze%20Layer/user_logs_50k.csv\n",
      "                                                                                "
     ]
    },
    {
     "name": "stdout",
     "output_type": "stream",
     "text": [
      "saved to: gs://cs611_mle/datamart/bronze/userlog/bronze_userlog_2015_07_01.csv\n"
     ]
    },
    {
     "name": "stderr",
     "output_type": "stream",
     "text": [
      "                                                                                "
     ]
    },
    {
     "name": "stdout",
     "output_type": "stream",
     "text": [
      "2015-08-01row count: 350740\n"
     ]
    },
    {
     "name": "stderr",
     "output_type": "stream",
     "text": [
      "25/06/18 07:27:14 WARN CSVHeaderChecker: CSV header does not conform to the schema.\n",
      " Header: , Unnamed: 0, msno, date, num_25, num_50, num_75, num_985, num_100, num_unq, total_secs\n",
      " Schema: _c0, Unnamed: 0, msno, date, num_25, num_50, num_75, num_985, num_100, num_unq, total_secs\n",
      "Expected: _c0 but found: \n",
      "CSV file: gs://cs611_mle/Bronze%20Layer/user_logs_50k.csv\n",
      "                                                                                "
     ]
    },
    {
     "name": "stdout",
     "output_type": "stream",
     "text": [
      "saved to: gs://cs611_mle/datamart/bronze/userlog/bronze_userlog_2015_08_01.csv\n"
     ]
    },
    {
     "name": "stderr",
     "output_type": "stream",
     "text": [
      "                                                                                "
     ]
    },
    {
     "name": "stdout",
     "output_type": "stream",
     "text": [
      "2015-09-01row count: 350873\n"
     ]
    },
    {
     "name": "stderr",
     "output_type": "stream",
     "text": [
      "25/06/18 07:27:49 WARN CSVHeaderChecker: CSV header does not conform to the schema.\n",
      " Header: , Unnamed: 0, msno, date, num_25, num_50, num_75, num_985, num_100, num_unq, total_secs\n",
      " Schema: _c0, Unnamed: 0, msno, date, num_25, num_50, num_75, num_985, num_100, num_unq, total_secs\n",
      "Expected: _c0 but found: \n",
      "CSV file: gs://cs611_mle/Bronze%20Layer/user_logs_50k.csv\n",
      "                                                                                "
     ]
    },
    {
     "name": "stdout",
     "output_type": "stream",
     "text": [
      "saved to: gs://cs611_mle/datamart/bronze/userlog/bronze_userlog_2015_09_01.csv\n"
     ]
    },
    {
     "name": "stderr",
     "output_type": "stream",
     "text": [
      "25/06/18 07:28:23 WARN CSVHeaderChecker: CSV header does not conform to the schema.\n",
      " Header: , Unnamed: 0, msno, date, num_25, num_50, num_75, num_985, num_100, num_unq, total_secs\n",
      " Schema: _c0, Unnamed: 0, msno, date, num_25, num_50, num_75, num_985, num_100, num_unq, total_secs\n",
      "Expected: _c0 but found: \n",
      "CSV file: gs://cs611_mle/Bronze%20Layer/user_logs_50k.csv\n"
     ]
    },
    {
     "name": "stdout",
     "output_type": "stream",
     "text": [
      "2015-10-01row count: 365641\n"
     ]
    },
    {
     "name": "stderr",
     "output_type": "stream",
     "text": [
      "                                                                                "
     ]
    },
    {
     "name": "stdout",
     "output_type": "stream",
     "text": [
      "saved to: gs://cs611_mle/datamart/bronze/userlog/bronze_userlog_2015_10_01.csv\n"
     ]
    },
    {
     "name": "stderr",
     "output_type": "stream",
     "text": [
      "25/06/18 07:28:57 WARN CSVHeaderChecker: CSV header does not conform to the schema.\n",
      " Header: , Unnamed: 0, msno, date, num_25, num_50, num_75, num_985, num_100, num_unq, total_secs\n",
      " Schema: _c0, Unnamed: 0, msno, date, num_25, num_50, num_75, num_985, num_100, num_unq, total_secs\n",
      "Expected: _c0 but found: \n",
      "CSV file: gs://cs611_mle/Bronze%20Layer/user_logs_50k.csv\n"
     ]
    },
    {
     "name": "stdout",
     "output_type": "stream",
     "text": [
      "2015-11-01row count: 364956\n"
     ]
    },
    {
     "name": "stderr",
     "output_type": "stream",
     "text": [
      "                                                                                "
     ]
    },
    {
     "name": "stdout",
     "output_type": "stream",
     "text": [
      "saved to: gs://cs611_mle/datamart/bronze/userlog/bronze_userlog_2015_11_01.csv\n"
     ]
    },
    {
     "name": "stderr",
     "output_type": "stream",
     "text": [
      "                                                                                "
     ]
    },
    {
     "name": "stdout",
     "output_type": "stream",
     "text": [
      "2015-12-01row count: 379723\n"
     ]
    },
    {
     "name": "stderr",
     "output_type": "stream",
     "text": [
      "25/06/18 07:29:31 WARN CSVHeaderChecker: CSV header does not conform to the schema.\n",
      " Header: , Unnamed: 0, msno, date, num_25, num_50, num_75, num_985, num_100, num_unq, total_secs\n",
      " Schema: _c0, Unnamed: 0, msno, date, num_25, num_50, num_75, num_985, num_100, num_unq, total_secs\n",
      "Expected: _c0 but found: \n",
      "CSV file: gs://cs611_mle/Bronze%20Layer/user_logs_50k.csv\n",
      "                                                                                "
     ]
    },
    {
     "name": "stdout",
     "output_type": "stream",
     "text": [
      "saved to: gs://cs611_mle/datamart/bronze/userlog/bronze_userlog_2015_12_01.csv\n"
     ]
    },
    {
     "name": "stderr",
     "output_type": "stream",
     "text": [
      "                                                                                "
     ]
    },
    {
     "name": "stdout",
     "output_type": "stream",
     "text": [
      "2016-01-01row count: 376708\n"
     ]
    },
    {
     "name": "stderr",
     "output_type": "stream",
     "text": [
      "25/06/18 07:30:05 WARN CSVHeaderChecker: CSV header does not conform to the schema.\n",
      " Header: , Unnamed: 0, msno, date, num_25, num_50, num_75, num_985, num_100, num_unq, total_secs\n",
      " Schema: _c0, Unnamed: 0, msno, date, num_25, num_50, num_75, num_985, num_100, num_unq, total_secs\n",
      "Expected: _c0 but found: \n",
      "CSV file: gs://cs611_mle/Bronze%20Layer/user_logs_50k.csv\n",
      "                                                                                "
     ]
    },
    {
     "name": "stdout",
     "output_type": "stream",
     "text": [
      "saved to: gs://cs611_mle/datamart/bronze/userlog/bronze_userlog_2016_01_01.csv\n"
     ]
    },
    {
     "name": "stderr",
     "output_type": "stream",
     "text": [
      "25/06/18 07:30:40 WARN CSVHeaderChecker: CSV header does not conform to the schema.\n",
      " Header: , Unnamed: 0, msno, date, num_25, num_50, num_75, num_985, num_100, num_unq, total_secs\n",
      " Schema: _c0, Unnamed: 0, msno, date, num_25, num_50, num_75, num_985, num_100, num_unq, total_secs\n",
      "Expected: _c0 but found: \n",
      "CSV file: gs://cs611_mle/Bronze%20Layer/user_logs_50k.csv\n"
     ]
    },
    {
     "name": "stdout",
     "output_type": "stream",
     "text": [
      "2016-02-01row count: 346369\n"
     ]
    },
    {
     "name": "stderr",
     "output_type": "stream",
     "text": [
      "                                                                                "
     ]
    },
    {
     "name": "stdout",
     "output_type": "stream",
     "text": [
      "saved to: gs://cs611_mle/datamart/bronze/userlog/bronze_userlog_2016_02_01.csv\n"
     ]
    },
    {
     "name": "stderr",
     "output_type": "stream",
     "text": [
      "                                                                                "
     ]
    },
    {
     "name": "stdout",
     "output_type": "stream",
     "text": [
      "2016-03-01row count: 394080\n"
     ]
    },
    {
     "name": "stderr",
     "output_type": "stream",
     "text": [
      "25/06/18 07:31:14 WARN CSVHeaderChecker: CSV header does not conform to the schema.\n",
      " Header: , Unnamed: 0, msno, date, num_25, num_50, num_75, num_985, num_100, num_unq, total_secs\n",
      " Schema: _c0, Unnamed: 0, msno, date, num_25, num_50, num_75, num_985, num_100, num_unq, total_secs\n",
      "Expected: _c0 but found: \n",
      "CSV file: gs://cs611_mle/Bronze%20Layer/user_logs_50k.csv\n",
      "                                                                                "
     ]
    },
    {
     "name": "stdout",
     "output_type": "stream",
     "text": [
      "saved to: gs://cs611_mle/datamart/bronze/userlog/bronze_userlog_2016_03_01.csv\n"
     ]
    },
    {
     "name": "stderr",
     "output_type": "stream",
     "text": [
      "                                                                                "
     ]
    },
    {
     "name": "stdout",
     "output_type": "stream",
     "text": [
      "2016-04-01row count: 390308\n"
     ]
    },
    {
     "name": "stderr",
     "output_type": "stream",
     "text": [
      "25/06/18 07:31:48 WARN CSVHeaderChecker: CSV header does not conform to the schema.\n",
      " Header: , Unnamed: 0, msno, date, num_25, num_50, num_75, num_985, num_100, num_unq, total_secs\n",
      " Schema: _c0, Unnamed: 0, msno, date, num_25, num_50, num_75, num_985, num_100, num_unq, total_secs\n",
      "Expected: _c0 but found: \n",
      "CSV file: gs://cs611_mle/Bronze%20Layer/user_logs_50k.csv\n",
      "                                                                                "
     ]
    },
    {
     "name": "stdout",
     "output_type": "stream",
     "text": [
      "saved to: gs://cs611_mle/datamart/bronze/userlog/bronze_userlog_2016_04_01.csv\n"
     ]
    },
    {
     "name": "stderr",
     "output_type": "stream",
     "text": [
      "                                                                                "
     ]
    },
    {
     "name": "stdout",
     "output_type": "stream",
     "text": [
      "2016-05-01row count: 406219\n"
     ]
    },
    {
     "name": "stderr",
     "output_type": "stream",
     "text": [
      "25/06/18 07:32:22 WARN CSVHeaderChecker: CSV header does not conform to the schema.\n",
      " Header: , Unnamed: 0, msno, date, num_25, num_50, num_75, num_985, num_100, num_unq, total_secs\n",
      " Schema: _c0, Unnamed: 0, msno, date, num_25, num_50, num_75, num_985, num_100, num_unq, total_secs\n",
      "Expected: _c0 but found: \n",
      "CSV file: gs://cs611_mle/Bronze%20Layer/user_logs_50k.csv\n",
      "                                                                                "
     ]
    },
    {
     "name": "stdout",
     "output_type": "stream",
     "text": [
      "saved to: gs://cs611_mle/datamart/bronze/userlog/bronze_userlog_2016_05_01.csv\n"
     ]
    },
    {
     "name": "stderr",
     "output_type": "stream",
     "text": [
      "                                                                                "
     ]
    },
    {
     "name": "stdout",
     "output_type": "stream",
     "text": [
      "2016-06-01row count: 394332\n"
     ]
    },
    {
     "name": "stderr",
     "output_type": "stream",
     "text": [
      "25/06/18 07:32:56 WARN CSVHeaderChecker: CSV header does not conform to the schema.\n",
      " Header: , Unnamed: 0, msno, date, num_25, num_50, num_75, num_985, num_100, num_unq, total_secs\n",
      " Schema: _c0, Unnamed: 0, msno, date, num_25, num_50, num_75, num_985, num_100, num_unq, total_secs\n",
      "Expected: _c0 but found: \n",
      "CSV file: gs://cs611_mle/Bronze%20Layer/user_logs_50k.csv\n",
      "                                                                                "
     ]
    },
    {
     "name": "stdout",
     "output_type": "stream",
     "text": [
      "saved to: gs://cs611_mle/datamart/bronze/userlog/bronze_userlog_2016_06_01.csv\n"
     ]
    },
    {
     "name": "stderr",
     "output_type": "stream",
     "text": [
      "                                                                                "
     ]
    },
    {
     "name": "stdout",
     "output_type": "stream",
     "text": [
      "2016-07-01row count: 407012\n"
     ]
    },
    {
     "name": "stderr",
     "output_type": "stream",
     "text": [
      "25/06/18 07:33:30 WARN CSVHeaderChecker: CSV header does not conform to the schema.\n",
      " Header: , Unnamed: 0, msno, date, num_25, num_50, num_75, num_985, num_100, num_unq, total_secs\n",
      " Schema: _c0, Unnamed: 0, msno, date, num_25, num_50, num_75, num_985, num_100, num_unq, total_secs\n",
      "Expected: _c0 but found: \n",
      "CSV file: gs://cs611_mle/Bronze%20Layer/user_logs_50k.csv\n",
      "                                                                                "
     ]
    },
    {
     "name": "stdout",
     "output_type": "stream",
     "text": [
      "saved to: gs://cs611_mle/datamart/bronze/userlog/bronze_userlog_2016_07_01.csv\n"
     ]
    },
    {
     "name": "stderr",
     "output_type": "stream",
     "text": [
      "                                                                                "
     ]
    },
    {
     "name": "stdout",
     "output_type": "stream",
     "text": [
      "2016-08-01row count: 409750\n"
     ]
    },
    {
     "name": "stderr",
     "output_type": "stream",
     "text": [
      "25/06/18 07:34:04 WARN CSVHeaderChecker: CSV header does not conform to the schema.\n",
      " Header: , Unnamed: 0, msno, date, num_25, num_50, num_75, num_985, num_100, num_unq, total_secs\n",
      " Schema: _c0, Unnamed: 0, msno, date, num_25, num_50, num_75, num_985, num_100, num_unq, total_secs\n",
      "Expected: _c0 but found: \n",
      "CSV file: gs://cs611_mle/Bronze%20Layer/user_logs_50k.csv\n",
      "                                                                                "
     ]
    },
    {
     "name": "stdout",
     "output_type": "stream",
     "text": [
      "saved to: gs://cs611_mle/datamart/bronze/userlog/bronze_userlog_2016_08_01.csv\n"
     ]
    },
    {
     "name": "stderr",
     "output_type": "stream",
     "text": [
      "25/06/18 07:34:37 WARN CSVHeaderChecker: CSV header does not conform to the schema.\n",
      " Header: , Unnamed: 0, msno, date, num_25, num_50, num_75, num_985, num_100, num_unq, total_secs\n",
      " Schema: _c0, Unnamed: 0, msno, date, num_25, num_50, num_75, num_985, num_100, num_unq, total_secs\n",
      "Expected: _c0 but found: \n",
      "CSV file: gs://cs611_mle/Bronze%20Layer/user_logs_50k.csv\n"
     ]
    },
    {
     "name": "stdout",
     "output_type": "stream",
     "text": [
      "2016-09-01row count: 396242\n"
     ]
    },
    {
     "name": "stderr",
     "output_type": "stream",
     "text": [
      "                                                                                "
     ]
    },
    {
     "name": "stdout",
     "output_type": "stream",
     "text": [
      "saved to: gs://cs611_mle/datamart/bronze/userlog/bronze_userlog_2016_09_01.csv\n"
     ]
    },
    {
     "name": "stderr",
     "output_type": "stream",
     "text": [
      "25/06/18 07:35:10 WARN CSVHeaderChecker: CSV header does not conform to the schema.\n",
      " Header: , Unnamed: 0, msno, date, num_25, num_50, num_75, num_985, num_100, num_unq, total_secs\n",
      " Schema: _c0, Unnamed: 0, msno, date, num_25, num_50, num_75, num_985, num_100, num_unq, total_secs\n",
      "Expected: _c0 but found: \n",
      "CSV file: gs://cs611_mle/Bronze%20Layer/user_logs_50k.csv\n"
     ]
    },
    {
     "name": "stdout",
     "output_type": "stream",
     "text": [
      "2016-10-01row count: 418575\n"
     ]
    },
    {
     "name": "stderr",
     "output_type": "stream",
     "text": [
      "                                                                                "
     ]
    },
    {
     "name": "stdout",
     "output_type": "stream",
     "text": [
      "saved to: gs://cs611_mle/datamart/bronze/userlog/bronze_userlog_2016_10_01.csv\n"
     ]
    },
    {
     "name": "stderr",
     "output_type": "stream",
     "text": [
      "25/06/18 07:35:44 WARN CSVHeaderChecker: CSV header does not conform to the schema.\n",
      " Header: , Unnamed: 0, msno, date, num_25, num_50, num_75, num_985, num_100, num_unq, total_secs\n",
      " Schema: _c0, Unnamed: 0, msno, date, num_25, num_50, num_75, num_985, num_100, num_unq, total_secs\n",
      "Expected: _c0 but found: \n",
      "CSV file: gs://cs611_mle/Bronze%20Layer/user_logs_50k.csv\n"
     ]
    },
    {
     "name": "stdout",
     "output_type": "stream",
     "text": [
      "2016-11-01row count: 409545\n"
     ]
    },
    {
     "name": "stderr",
     "output_type": "stream",
     "text": [
      "                                                                                "
     ]
    },
    {
     "name": "stdout",
     "output_type": "stream",
     "text": [
      "saved to: gs://cs611_mle/datamart/bronze/userlog/bronze_userlog_2016_11_01.csv\n"
     ]
    },
    {
     "name": "stderr",
     "output_type": "stream",
     "text": [
      "25/06/18 07:36:18 WARN CSVHeaderChecker: CSV header does not conform to the schema.\n",
      " Header: , Unnamed: 0, msno, date, num_25, num_50, num_75, num_985, num_100, num_unq, total_secs\n",
      " Schema: _c0, Unnamed: 0, msno, date, num_25, num_50, num_75, num_985, num_100, num_unq, total_secs\n",
      "Expected: _c0 but found: \n",
      "CSV file: gs://cs611_mle/Bronze%20Layer/user_logs_50k.csv\n"
     ]
    },
    {
     "name": "stdout",
     "output_type": "stream",
     "text": [
      "2016-12-01row count: 425937\n"
     ]
    },
    {
     "name": "stderr",
     "output_type": "stream",
     "text": [
      "                                                                                "
     ]
    },
    {
     "name": "stdout",
     "output_type": "stream",
     "text": [
      "saved to: gs://cs611_mle/datamart/bronze/userlog/bronze_userlog_2016_12_01.csv\n"
     ]
    },
    {
     "name": "stderr",
     "output_type": "stream",
     "text": [
      "25/06/18 07:36:52 WARN CSVHeaderChecker: CSV header does not conform to the schema.\n",
      " Header: , Unnamed: 0, msno, date, num_25, num_50, num_75, num_985, num_100, num_unq, total_secs\n",
      " Schema: _c0, Unnamed: 0, msno, date, num_25, num_50, num_75, num_985, num_100, num_unq, total_secs\n",
      "Expected: _c0 but found: \n",
      "CSV file: gs://cs611_mle/Bronze%20Layer/user_logs_50k.csv\n"
     ]
    },
    {
     "name": "stdout",
     "output_type": "stream",
     "text": [
      "2017-01-01row count: 421450\n"
     ]
    },
    {
     "name": "stderr",
     "output_type": "stream",
     "text": [
      "                                                                                "
     ]
    },
    {
     "name": "stdout",
     "output_type": "stream",
     "text": [
      "saved to: gs://cs611_mle/datamart/bronze/userlog/bronze_userlog_2017_01_01.csv\n"
     ]
    },
    {
     "name": "stderr",
     "output_type": "stream",
     "text": [
      "25/06/18 07:37:25 WARN CSVHeaderChecker: CSV header does not conform to the schema.\n",
      " Header: , Unnamed: 0, msno, date, num_25, num_50, num_75, num_985, num_100, num_unq, total_secs\n",
      " Schema: _c0, Unnamed: 0, msno, date, num_25, num_50, num_75, num_985, num_100, num_unq, total_secs\n",
      "Expected: _c0 but found: \n",
      "CSV file: gs://cs611_mle/Bronze%20Layer/user_logs_50k.csv\n"
     ]
    },
    {
     "name": "stdout",
     "output_type": "stream",
     "text": [
      "2017-02-01row count: 377934\n"
     ]
    },
    {
     "name": "stderr",
     "output_type": "stream",
     "text": [
      "                                                                                "
     ]
    },
    {
     "name": "stdout",
     "output_type": "stream",
     "text": [
      "saved to: gs://cs611_mle/datamart/bronze/userlog/bronze_userlog_2017_02_01.csv\n"
     ]
    },
    {
     "name": "stderr",
     "output_type": "stream",
     "text": [
      "                                                                                "
     ]
    },
    {
     "name": "stdout",
     "output_type": "stream",
     "text": [
      "2017-03-01row count: 432095\n"
     ]
    },
    {
     "name": "stderr",
     "output_type": "stream",
     "text": [
      "25/06/18 07:37:59 WARN CSVHeaderChecker: CSV header does not conform to the schema.\n",
      " Header: , Unnamed: 0, msno, date, num_25, num_50, num_75, num_985, num_100, num_unq, total_secs\n",
      " Schema: _c0, Unnamed: 0, msno, date, num_25, num_50, num_75, num_985, num_100, num_unq, total_secs\n",
      "Expected: _c0 but found: \n",
      "CSV file: gs://cs611_mle/Bronze%20Layer/user_logs_50k.csv\n",
      "                                                                                "
     ]
    },
    {
     "name": "stdout",
     "output_type": "stream",
     "text": [
      "saved to: gs://cs611_mle/datamart/bronze/userlog/bronze_userlog_2017_03_01.csv\n",
      "Done Build Bronze Table - userlog!\n"
     ]
    }
   ],
   "source": [
    "\n",
    "# run bronze backfill\n",
    "for date_str in dates_str_lst:\n",
    "    utils.bronze.process_bronze_userlog(date_str, bucket_name, bronze_userlog_directory, spark)\n",
    "    \n",
    "print('Done Build Bronze Table - userlog!')"
   ]
  },
  {
   "cell_type": "markdown",
   "id": "c518d048-d945-4574-801a-6738c9fd077d",
   "metadata": {},
   "source": [
    "# Partition Existing Silver"
   ]
  },
  {
   "cell_type": "markdown",
   "id": "12563740-da19-4457-8c81-5ee89219d0a2",
   "metadata": {},
   "source": [
    "This should have been done in Bronze"
   ]
  },
  {
   "cell_type": "markdown",
   "id": "0ba4036e-5d5d-4c5e-a921-385ac07300a4",
   "metadata": {},
   "source": [
    "### Silver Transaction"
   ]
  },
  {
   "cell_type": "code",
   "execution_count": 13,
   "id": "4ad360dc-f179-4500-989b-9e41f0b24494",
   "metadata": {},
   "outputs": [],
   "source": [
    "### ~~~ Transaction ~~~\n",
    "# create silver datalake\n",
    "# create multiple csv files \n",
    "bronze_transaction_directory = \"datamart/bronze/transaction\""
   ]
  },
  {
   "cell_type": "code",
   "execution_count": 14,
   "id": "96bb98ad-85e8-49f2-b865-b72435c13564",
   "metadata": {
    "scrolled": true
   },
   "outputs": [
    {
     "name": "stderr",
     "output_type": "stream",
     "text": [
      "                                                                                "
     ]
    },
    {
     "name": "stdout",
     "output_type": "stream",
     "text": [
      "2015-01-01row count: 16177\n"
     ]
    },
    {
     "name": "stderr",
     "output_type": "stream",
     "text": [
      "                                                                                "
     ]
    },
    {
     "name": "stdout",
     "output_type": "stream",
     "text": [
      "saved to: gs://cs611_mle/datamart/bronze/transaction/bronze_transaction_2015_01_01.csv\n"
     ]
    },
    {
     "name": "stderr",
     "output_type": "stream",
     "text": [
      "                                                                                "
     ]
    },
    {
     "name": "stdout",
     "output_type": "stream",
     "text": [
      "2015-02-01row count: 14710\n"
     ]
    },
    {
     "name": "stderr",
     "output_type": "stream",
     "text": [
      "                                                                                "
     ]
    },
    {
     "name": "stdout",
     "output_type": "stream",
     "text": [
      "saved to: gs://cs611_mle/datamart/bronze/transaction/bronze_transaction_2015_02_01.csv\n"
     ]
    },
    {
     "name": "stderr",
     "output_type": "stream",
     "text": [
      "                                                                                "
     ]
    },
    {
     "name": "stdout",
     "output_type": "stream",
     "text": [
      "2015-03-01row count: 18392\n"
     ]
    },
    {
     "name": "stderr",
     "output_type": "stream",
     "text": [
      "                                                                                "
     ]
    },
    {
     "name": "stdout",
     "output_type": "stream",
     "text": [
      "saved to: gs://cs611_mle/datamart/bronze/transaction/bronze_transaction_2015_03_01.csv\n"
     ]
    },
    {
     "name": "stderr",
     "output_type": "stream",
     "text": [
      "                                                                                "
     ]
    },
    {
     "name": "stdout",
     "output_type": "stream",
     "text": [
      "2015-04-01row count: 15061\n"
     ]
    },
    {
     "name": "stderr",
     "output_type": "stream",
     "text": [
      "                                                                                "
     ]
    },
    {
     "name": "stdout",
     "output_type": "stream",
     "text": [
      "saved to: gs://cs611_mle/datamart/bronze/transaction/bronze_transaction_2015_04_01.csv\n"
     ]
    },
    {
     "name": "stderr",
     "output_type": "stream",
     "text": [
      "                                                                                "
     ]
    },
    {
     "name": "stdout",
     "output_type": "stream",
     "text": [
      "2015-05-01row count: 12194\n"
     ]
    },
    {
     "name": "stderr",
     "output_type": "stream",
     "text": [
      "                                                                                "
     ]
    },
    {
     "name": "stdout",
     "output_type": "stream",
     "text": [
      "saved to: gs://cs611_mle/datamart/bronze/transaction/bronze_transaction_2015_05_01.csv\n"
     ]
    },
    {
     "name": "stderr",
     "output_type": "stream",
     "text": [
      "                                                                                "
     ]
    },
    {
     "name": "stdout",
     "output_type": "stream",
     "text": [
      "2015-06-01row count: 26607\n"
     ]
    },
    {
     "name": "stderr",
     "output_type": "stream",
     "text": [
      "                                                                                "
     ]
    },
    {
     "name": "stdout",
     "output_type": "stream",
     "text": [
      "saved to: gs://cs611_mle/datamart/bronze/transaction/bronze_transaction_2015_06_01.csv\n"
     ]
    },
    {
     "name": "stderr",
     "output_type": "stream",
     "text": [
      "                                                                                "
     ]
    },
    {
     "name": "stdout",
     "output_type": "stream",
     "text": [
      "2015-07-01row count: 19046\n"
     ]
    },
    {
     "name": "stderr",
     "output_type": "stream",
     "text": [
      "                                                                                "
     ]
    },
    {
     "name": "stdout",
     "output_type": "stream",
     "text": [
      "saved to: gs://cs611_mle/datamart/bronze/transaction/bronze_transaction_2015_07_01.csv\n"
     ]
    },
    {
     "name": "stderr",
     "output_type": "stream",
     "text": [
      "                                                                                "
     ]
    },
    {
     "name": "stdout",
     "output_type": "stream",
     "text": [
      "2015-08-01row count: 20122\n"
     ]
    },
    {
     "name": "stderr",
     "output_type": "stream",
     "text": [
      "                                                                                "
     ]
    },
    {
     "name": "stdout",
     "output_type": "stream",
     "text": [
      "saved to: gs://cs611_mle/datamart/bronze/transaction/bronze_transaction_2015_08_01.csv\n"
     ]
    },
    {
     "name": "stderr",
     "output_type": "stream",
     "text": [
      "                                                                                "
     ]
    },
    {
     "name": "stdout",
     "output_type": "stream",
     "text": [
      "2015-09-01row count: 18999\n"
     ]
    },
    {
     "name": "stderr",
     "output_type": "stream",
     "text": [
      "                                                                                "
     ]
    },
    {
     "name": "stdout",
     "output_type": "stream",
     "text": [
      "saved to: gs://cs611_mle/datamart/bronze/transaction/bronze_transaction_2015_09_01.csv\n"
     ]
    },
    {
     "name": "stderr",
     "output_type": "stream",
     "text": [
      "                                                                                "
     ]
    },
    {
     "name": "stdout",
     "output_type": "stream",
     "text": [
      "2015-10-01row count: 20457\n"
     ]
    },
    {
     "name": "stderr",
     "output_type": "stream",
     "text": [
      "                                                                                "
     ]
    },
    {
     "name": "stdout",
     "output_type": "stream",
     "text": [
      "saved to: gs://cs611_mle/datamart/bronze/transaction/bronze_transaction_2015_10_01.csv\n"
     ]
    },
    {
     "name": "stderr",
     "output_type": "stream",
     "text": [
      "                                                                                "
     ]
    },
    {
     "name": "stdout",
     "output_type": "stream",
     "text": [
      "2015-11-01row count: 20264\n"
     ]
    },
    {
     "name": "stderr",
     "output_type": "stream",
     "text": [
      "                                                                                "
     ]
    },
    {
     "name": "stdout",
     "output_type": "stream",
     "text": [
      "saved to: gs://cs611_mle/datamart/bronze/transaction/bronze_transaction_2015_11_01.csv\n"
     ]
    },
    {
     "name": "stderr",
     "output_type": "stream",
     "text": [
      "                                                                                "
     ]
    },
    {
     "name": "stdout",
     "output_type": "stream",
     "text": [
      "2015-12-01row count: 21106\n"
     ]
    },
    {
     "name": "stderr",
     "output_type": "stream",
     "text": [
      "                                                                                "
     ]
    },
    {
     "name": "stdout",
     "output_type": "stream",
     "text": [
      "saved to: gs://cs611_mle/datamart/bronze/transaction/bronze_transaction_2015_12_01.csv\n"
     ]
    },
    {
     "name": "stderr",
     "output_type": "stream",
     "text": [
      "                                                                                "
     ]
    },
    {
     "name": "stdout",
     "output_type": "stream",
     "text": [
      "2016-01-01row count: 23378\n"
     ]
    },
    {
     "name": "stderr",
     "output_type": "stream",
     "text": [
      "                                                                                "
     ]
    },
    {
     "name": "stdout",
     "output_type": "stream",
     "text": [
      "saved to: gs://cs611_mle/datamart/bronze/transaction/bronze_transaction_2016_01_01.csv\n"
     ]
    },
    {
     "name": "stderr",
     "output_type": "stream",
     "text": [
      "                                                                                "
     ]
    },
    {
     "name": "stdout",
     "output_type": "stream",
     "text": [
      "2016-02-01row count: 18909\n"
     ]
    },
    {
     "name": "stderr",
     "output_type": "stream",
     "text": [
      "                                                                                "
     ]
    },
    {
     "name": "stdout",
     "output_type": "stream",
     "text": [
      "saved to: gs://cs611_mle/datamart/bronze/transaction/bronze_transaction_2016_02_01.csv\n"
     ]
    },
    {
     "name": "stderr",
     "output_type": "stream",
     "text": [
      "                                                                                "
     ]
    },
    {
     "name": "stdout",
     "output_type": "stream",
     "text": [
      "2016-03-01row count: 21537\n"
     ]
    },
    {
     "name": "stderr",
     "output_type": "stream",
     "text": [
      "                                                                                "
     ]
    },
    {
     "name": "stdout",
     "output_type": "stream",
     "text": [
      "saved to: gs://cs611_mle/datamart/bronze/transaction/bronze_transaction_2016_03_01.csv\n"
     ]
    },
    {
     "name": "stderr",
     "output_type": "stream",
     "text": [
      "                                                                                "
     ]
    },
    {
     "name": "stdout",
     "output_type": "stream",
     "text": [
      "2016-04-01row count: 18550\n"
     ]
    },
    {
     "name": "stderr",
     "output_type": "stream",
     "text": [
      "                                                                                "
     ]
    },
    {
     "name": "stdout",
     "output_type": "stream",
     "text": [
      "saved to: gs://cs611_mle/datamart/bronze/transaction/bronze_transaction_2016_04_01.csv\n"
     ]
    },
    {
     "name": "stderr",
     "output_type": "stream",
     "text": [
      "                                                                                "
     ]
    },
    {
     "name": "stdout",
     "output_type": "stream",
     "text": [
      "2016-05-01row count: 21343\n"
     ]
    },
    {
     "name": "stderr",
     "output_type": "stream",
     "text": [
      "                                                                                "
     ]
    },
    {
     "name": "stdout",
     "output_type": "stream",
     "text": [
      "saved to: gs://cs611_mle/datamart/bronze/transaction/bronze_transaction_2016_05_01.csv\n"
     ]
    },
    {
     "name": "stderr",
     "output_type": "stream",
     "text": [
      "                                                                                "
     ]
    },
    {
     "name": "stdout",
     "output_type": "stream",
     "text": [
      "2016-06-01row count: 18962\n"
     ]
    },
    {
     "name": "stderr",
     "output_type": "stream",
     "text": [
      "                                                                                "
     ]
    },
    {
     "name": "stdout",
     "output_type": "stream",
     "text": [
      "saved to: gs://cs611_mle/datamart/bronze/transaction/bronze_transaction_2016_06_01.csv\n"
     ]
    },
    {
     "name": "stderr",
     "output_type": "stream",
     "text": [
      "                                                                                "
     ]
    },
    {
     "name": "stdout",
     "output_type": "stream",
     "text": [
      "2016-07-01row count: 20692\n"
     ]
    },
    {
     "name": "stderr",
     "output_type": "stream",
     "text": [
      "                                                                                "
     ]
    },
    {
     "name": "stdout",
     "output_type": "stream",
     "text": [
      "saved to: gs://cs611_mle/datamart/bronze/transaction/bronze_transaction_2016_07_01.csv\n"
     ]
    },
    {
     "name": "stderr",
     "output_type": "stream",
     "text": [
      "                                                                                "
     ]
    },
    {
     "name": "stdout",
     "output_type": "stream",
     "text": [
      "2016-08-01row count: 25028\n"
     ]
    },
    {
     "name": "stderr",
     "output_type": "stream",
     "text": [
      "                                                                                "
     ]
    },
    {
     "name": "stdout",
     "output_type": "stream",
     "text": [
      "saved to: gs://cs611_mle/datamart/bronze/transaction/bronze_transaction_2016_08_01.csv\n"
     ]
    },
    {
     "name": "stderr",
     "output_type": "stream",
     "text": [
      "                                                                                "
     ]
    },
    {
     "name": "stdout",
     "output_type": "stream",
     "text": [
      "2016-09-01row count: 21389\n"
     ]
    },
    {
     "name": "stderr",
     "output_type": "stream",
     "text": [
      "                                                                                "
     ]
    },
    {
     "name": "stdout",
     "output_type": "stream",
     "text": [
      "saved to: gs://cs611_mle/datamart/bronze/transaction/bronze_transaction_2016_09_01.csv\n"
     ]
    },
    {
     "name": "stderr",
     "output_type": "stream",
     "text": [
      "                                                                                "
     ]
    },
    {
     "name": "stdout",
     "output_type": "stream",
     "text": [
      "2016-10-01row count: 25381\n"
     ]
    },
    {
     "name": "stderr",
     "output_type": "stream",
     "text": [
      "                                                                                "
     ]
    },
    {
     "name": "stdout",
     "output_type": "stream",
     "text": [
      "saved to: gs://cs611_mle/datamart/bronze/transaction/bronze_transaction_2016_10_01.csv\n"
     ]
    },
    {
     "name": "stderr",
     "output_type": "stream",
     "text": [
      "                                                                                "
     ]
    },
    {
     "name": "stdout",
     "output_type": "stream",
     "text": [
      "2016-11-01row count: 22375\n"
     ]
    },
    {
     "name": "stderr",
     "output_type": "stream",
     "text": [
      "                                                                                "
     ]
    },
    {
     "name": "stdout",
     "output_type": "stream",
     "text": [
      "saved to: gs://cs611_mle/datamart/bronze/transaction/bronze_transaction_2016_11_01.csv\n"
     ]
    },
    {
     "name": "stderr",
     "output_type": "stream",
     "text": [
      "                                                                                "
     ]
    },
    {
     "name": "stdout",
     "output_type": "stream",
     "text": [
      "2016-12-01row count: 22969\n"
     ]
    },
    {
     "name": "stderr",
     "output_type": "stream",
     "text": [
      "                                                                                "
     ]
    },
    {
     "name": "stdout",
     "output_type": "stream",
     "text": [
      "saved to: gs://cs611_mle/datamart/bronze/transaction/bronze_transaction_2016_12_01.csv\n"
     ]
    },
    {
     "name": "stderr",
     "output_type": "stream",
     "text": [
      "                                                                                "
     ]
    },
    {
     "name": "stdout",
     "output_type": "stream",
     "text": [
      "2017-01-01row count: 26778\n"
     ]
    },
    {
     "name": "stderr",
     "output_type": "stream",
     "text": [
      "                                                                                "
     ]
    },
    {
     "name": "stdout",
     "output_type": "stream",
     "text": [
      "saved to: gs://cs611_mle/datamart/bronze/transaction/bronze_transaction_2017_01_01.csv\n"
     ]
    },
    {
     "name": "stderr",
     "output_type": "stream",
     "text": [
      "                                                                                "
     ]
    },
    {
     "name": "stdout",
     "output_type": "stream",
     "text": [
      "2017-02-01row count: 19328\n"
     ]
    },
    {
     "name": "stderr",
     "output_type": "stream",
     "text": [
      "                                                                                "
     ]
    },
    {
     "name": "stdout",
     "output_type": "stream",
     "text": [
      "saved to: gs://cs611_mle/datamart/bronze/transaction/bronze_transaction_2017_02_01.csv\n"
     ]
    },
    {
     "name": "stderr",
     "output_type": "stream",
     "text": [
      "                                                                                "
     ]
    },
    {
     "name": "stdout",
     "output_type": "stream",
     "text": [
      "2017-03-01row count: 1823\n"
     ]
    },
    {
     "name": "stderr",
     "output_type": "stream",
     "text": [
      "[Stage 329:=====================>                                   (3 + 5) / 8]"
     ]
    },
    {
     "name": "stdout",
     "output_type": "stream",
     "text": [
      "saved to: gs://cs611_mle/datamart/bronze/transaction/bronze_transaction_2017_03_01.csv\n",
      "Done Partition Silver (Actually Bronze) Table - transaction!\n"
     ]
    },
    {
     "name": "stderr",
     "output_type": "stream",
     "text": [
      "                                                                                "
     ]
    }
   ],
   "source": [
    "\n",
    "# run bronze backfill\n",
    "for date_str in dates_str_lst:\n",
    "    utils.bronze.process_bronze_transaction_partition(date_str, bucket_name, bronze_transaction_directory, spark)\n",
    "print('Done Partition Silver (Actually Bronze) Table - transaction!')"
   ]
  },
  {
   "cell_type": "markdown",
   "id": "e001a817-b086-4117-9182-e1e0cf3338f4",
   "metadata": {},
   "source": [
    "# Process Feature Silver Table"
   ]
  },
  {
   "cell_type": "markdown",
   "id": "863a710f-b501-4308-b38d-2e8d1551ca9e",
   "metadata": {},
   "source": [
    "### Member ~ Bronze to Silver Table"
   ]
  },
  {
   "cell_type": "code",
   "execution_count": 15,
   "id": "a51d76b3-5599-40d2-9a38-2256ee10c0f7",
   "metadata": {},
   "outputs": [],
   "source": [
    "# create silver datalake\n",
    "silver_member_directory = \"datamart/silver/member/\""
   ]
  },
  {
   "cell_type": "code",
   "execution_count": 16,
   "id": "f1a9a1a4-c52e-4ea0-a85d-6e8ec3de45c0",
   "metadata": {},
   "outputs": [
    {
     "name": "stdout",
     "output_type": "stream",
     "text": [
      "loaded from: gs://cs611_mle/datamart/bronze/member/bronze_members.csv row count: 50000\n",
      "+------+-----+\n",
      "|gender|count|\n",
      "+------+-----+\n",
      "|  NULL|28551|\n",
      "|  male|10973|\n",
      "|female|10476|\n",
      "+------+-----+\n",
      "\n"
     ]
    },
    {
     "name": "stderr",
     "output_type": "stream",
     "text": [
      "                                                                                "
     ]
    },
    {
     "name": "stdout",
     "output_type": "stream",
     "text": [
      "saved to: gs://cs611_mle/datamart/silver/member//silver_member.parquet\n"
     ]
    },
    {
     "data": {
      "text/html": [
       "<div>\n",
       "<style scoped>\n",
       "    .dataframe tbody tr th:only-of-type {\n",
       "        vertical-align: middle;\n",
       "    }\n",
       "\n",
       "    .dataframe tbody tr th {\n",
       "        vertical-align: top;\n",
       "    }\n",
       "\n",
       "    .dataframe thead th {\n",
       "        text-align: right;\n",
       "    }\n",
       "</style>\n",
       "<table border=\"1\" class=\"dataframe\">\n",
       "  <thead>\n",
       "    <tr style=\"text-align: right;\">\n",
       "      <th></th>\n",
       "      <th>msno</th>\n",
       "      <th>city</th>\n",
       "      <th>gender</th>\n",
       "      <th>registered_via</th>\n",
       "      <th>registration_init_time</th>\n",
       "    </tr>\n",
       "  </thead>\n",
       "  <tbody>\n",
       "    <tr>\n",
       "      <th>0</th>\n",
       "      <td>/wRzURqhsFLj3mGJjHDE4g4VWpbw8A0vQa8WzivhA1o=</td>\n",
       "      <td>5</td>\n",
       "      <td>male</td>\n",
       "      <td>9</td>\n",
       "      <td>2006-09-13</td>\n",
       "    </tr>\n",
       "    <tr>\n",
       "      <th>1</th>\n",
       "      <td>S0x/syLRR27zhm5XkwLyOhKQZ5ZuAlPXLsvn+2zdKxo=</td>\n",
       "      <td>5</td>\n",
       "      <td>na</td>\n",
       "      <td>3</td>\n",
       "      <td>2014-07-11</td>\n",
       "    </tr>\n",
       "    <tr>\n",
       "      <th>2</th>\n",
       "      <td>c5uGl34Ab67ZhsRrU1gp7eH8mu3reHiWCoFSFe1GojI=</td>\n",
       "      <td>1</td>\n",
       "      <td>na</td>\n",
       "      <td>7</td>\n",
       "      <td>2013-01-23</td>\n",
       "    </tr>\n",
       "    <tr>\n",
       "      <th>3</th>\n",
       "      <td>5O3N5NsNwxiNFjs0CoIWq2nYXq1+qzb2xnebJx7abEA=</td>\n",
       "      <td>1</td>\n",
       "      <td>na</td>\n",
       "      <td>7</td>\n",
       "      <td>2011-02-06</td>\n",
       "    </tr>\n",
       "    <tr>\n",
       "      <th>4</th>\n",
       "      <td>N+/46c7mwmuHkCGg1RQAmzL1RD66isaYBMmJglPgy7I=</td>\n",
       "      <td>1</td>\n",
       "      <td>na</td>\n",
       "      <td>7</td>\n",
       "      <td>2016-01-16</td>\n",
       "    </tr>\n",
       "  </tbody>\n",
       "</table>\n",
       "</div>"
      ],
      "text/plain": [
       "                                           msno city gender registered_via  \\\n",
       "0  /wRzURqhsFLj3mGJjHDE4g4VWpbw8A0vQa8WzivhA1o=    5   male              9   \n",
       "1  S0x/syLRR27zhm5XkwLyOhKQZ5ZuAlPXLsvn+2zdKxo=    5     na              3   \n",
       "2  c5uGl34Ab67ZhsRrU1gp7eH8mu3reHiWCoFSFe1GojI=    1     na              7   \n",
       "3  5O3N5NsNwxiNFjs0CoIWq2nYXq1+qzb2xnebJx7abEA=    1     na              7   \n",
       "4  N+/46c7mwmuHkCGg1RQAmzL1RD66isaYBMmJglPgy7I=    1     na              7   \n",
       "\n",
       "  registration_init_time  \n",
       "0             2006-09-13  \n",
       "1             2014-07-11  \n",
       "2             2013-01-23  \n",
       "3             2011-02-06  \n",
       "4             2016-01-16  "
      ]
     },
     "execution_count": 16,
     "metadata": {},
     "output_type": "execute_result"
    }
   ],
   "source": [
    "utils.silver.process_silver_table_member(bucket_name, bronze_member_directory, silver_member_directory, spark).toPandas().head()"
   ]
  },
  {
   "cell_type": "markdown",
   "id": "dc8839f0-92f0-42df-9d3f-0e4fde00f993",
   "metadata": {},
   "source": [
    "### Transaction ~ Partitioned_Silver to Actual Silver (processed)"
   ]
  },
  {
   "cell_type": "code",
   "execution_count": 17,
   "id": "c3193914-f6f0-43cb-bfd6-2fdbc0c7402a",
   "metadata": {},
   "outputs": [],
   "source": [
    "actual_silver_transaction_directory = \"datamart/silver/transaction/\""
   ]
  },
  {
   "cell_type": "code",
   "execution_count": 18,
   "id": "a08f776d-dabf-4e56-84c1-665277e2c607",
   "metadata": {
    "scrolled": true
   },
   "outputs": [
    {
     "name": "stdout",
     "output_type": "stream",
     "text": [
      "loaded from: gs://cs611_mle/datamart/bronze/transaction/bronze_transaction_2015_01_01.csv row count: 16177\n"
     ]
    },
    {
     "name": "stderr",
     "output_type": "stream",
     "text": [
      "                                                                                "
     ]
    },
    {
     "name": "stdout",
     "output_type": "stream",
     "text": [
      "saved to: gs://cs611_mle/datamart/silver/transaction//silver_transaction_2015_01_01.parquet\n"
     ]
    },
    {
     "name": "stderr",
     "output_type": "stream",
     "text": [
      "                                                                                "
     ]
    },
    {
     "name": "stdout",
     "output_type": "stream",
     "text": [
      "loaded from: gs://cs611_mle/datamart/bronze/transaction/bronze_transaction_2015_02_01.csv row count: 14710\n"
     ]
    },
    {
     "name": "stderr",
     "output_type": "stream",
     "text": [
      "                                                                                "
     ]
    },
    {
     "name": "stdout",
     "output_type": "stream",
     "text": [
      "saved to: gs://cs611_mle/datamart/silver/transaction//silver_transaction_2015_02_01.parquet\n",
      "loaded from: gs://cs611_mle/datamart/bronze/transaction/bronze_transaction_2015_03_01.csv row count: 18392\n"
     ]
    },
    {
     "name": "stderr",
     "output_type": "stream",
     "text": [
      "                                                                                "
     ]
    },
    {
     "name": "stdout",
     "output_type": "stream",
     "text": [
      "saved to: gs://cs611_mle/datamart/silver/transaction//silver_transaction_2015_03_01.parquet\n"
     ]
    },
    {
     "name": "stderr",
     "output_type": "stream",
     "text": [
      "                                                                                "
     ]
    },
    {
     "name": "stdout",
     "output_type": "stream",
     "text": [
      "loaded from: gs://cs611_mle/datamart/bronze/transaction/bronze_transaction_2015_04_01.csv row count: 15061\n"
     ]
    },
    {
     "name": "stderr",
     "output_type": "stream",
     "text": [
      "                                                                                "
     ]
    },
    {
     "name": "stdout",
     "output_type": "stream",
     "text": [
      "saved to: gs://cs611_mle/datamart/silver/transaction//silver_transaction_2015_04_01.parquet\n",
      "loaded from: gs://cs611_mle/datamart/bronze/transaction/bronze_transaction_2015_05_01.csv row count: 12194\n"
     ]
    },
    {
     "name": "stderr",
     "output_type": "stream",
     "text": [
      "                                                                                "
     ]
    },
    {
     "name": "stdout",
     "output_type": "stream",
     "text": [
      "saved to: gs://cs611_mle/datamart/silver/transaction//silver_transaction_2015_05_01.parquet\n",
      "loaded from: gs://cs611_mle/datamart/bronze/transaction/bronze_transaction_2015_06_01.csv row count: 26607\n"
     ]
    },
    {
     "name": "stderr",
     "output_type": "stream",
     "text": [
      "                                                                                "
     ]
    },
    {
     "name": "stdout",
     "output_type": "stream",
     "text": [
      "saved to: gs://cs611_mle/datamart/silver/transaction//silver_transaction_2015_06_01.parquet\n",
      "loaded from: gs://cs611_mle/datamart/bronze/transaction/bronze_transaction_2015_07_01.csv row count: 19046\n"
     ]
    },
    {
     "name": "stderr",
     "output_type": "stream",
     "text": [
      "                                                                                "
     ]
    },
    {
     "name": "stdout",
     "output_type": "stream",
     "text": [
      "saved to: gs://cs611_mle/datamart/silver/transaction//silver_transaction_2015_07_01.parquet\n",
      "loaded from: gs://cs611_mle/datamart/bronze/transaction/bronze_transaction_2015_08_01.csv row count: 20122\n"
     ]
    },
    {
     "name": "stderr",
     "output_type": "stream",
     "text": [
      "                                                                                "
     ]
    },
    {
     "name": "stdout",
     "output_type": "stream",
     "text": [
      "saved to: gs://cs611_mle/datamart/silver/transaction//silver_transaction_2015_08_01.parquet\n",
      "loaded from: gs://cs611_mle/datamart/bronze/transaction/bronze_transaction_2015_09_01.csv row count: 18999\n"
     ]
    },
    {
     "name": "stderr",
     "output_type": "stream",
     "text": [
      "                                                                                "
     ]
    },
    {
     "name": "stdout",
     "output_type": "stream",
     "text": [
      "saved to: gs://cs611_mle/datamart/silver/transaction//silver_transaction_2015_09_01.parquet\n",
      "loaded from: gs://cs611_mle/datamart/bronze/transaction/bronze_transaction_2015_10_01.csv row count: 20457\n"
     ]
    },
    {
     "name": "stderr",
     "output_type": "stream",
     "text": [
      "                                                                                "
     ]
    },
    {
     "name": "stdout",
     "output_type": "stream",
     "text": [
      "saved to: gs://cs611_mle/datamart/silver/transaction//silver_transaction_2015_10_01.parquet\n",
      "loaded from: gs://cs611_mle/datamart/bronze/transaction/bronze_transaction_2015_11_01.csv row count: 20264\n"
     ]
    },
    {
     "name": "stderr",
     "output_type": "stream",
     "text": [
      "                                                                                "
     ]
    },
    {
     "name": "stdout",
     "output_type": "stream",
     "text": [
      "saved to: gs://cs611_mle/datamart/silver/transaction//silver_transaction_2015_11_01.parquet\n",
      "loaded from: gs://cs611_mle/datamart/bronze/transaction/bronze_transaction_2015_12_01.csv row count: 21106\n"
     ]
    },
    {
     "name": "stderr",
     "output_type": "stream",
     "text": [
      "                                                                                "
     ]
    },
    {
     "name": "stdout",
     "output_type": "stream",
     "text": [
      "saved to: gs://cs611_mle/datamart/silver/transaction//silver_transaction_2015_12_01.parquet\n",
      "loaded from: gs://cs611_mle/datamart/bronze/transaction/bronze_transaction_2016_01_01.csv row count: 23378\n"
     ]
    },
    {
     "name": "stderr",
     "output_type": "stream",
     "text": [
      "                                                                                "
     ]
    },
    {
     "name": "stdout",
     "output_type": "stream",
     "text": [
      "saved to: gs://cs611_mle/datamart/silver/transaction//silver_transaction_2016_01_01.parquet\n",
      "loaded from: gs://cs611_mle/datamart/bronze/transaction/bronze_transaction_2016_02_01.csv row count: 18909\n"
     ]
    },
    {
     "name": "stderr",
     "output_type": "stream",
     "text": [
      "                                                                                "
     ]
    },
    {
     "name": "stdout",
     "output_type": "stream",
     "text": [
      "saved to: gs://cs611_mle/datamart/silver/transaction//silver_transaction_2016_02_01.parquet\n",
      "loaded from: gs://cs611_mle/datamart/bronze/transaction/bronze_transaction_2016_03_01.csv row count: 21537\n"
     ]
    },
    {
     "name": "stderr",
     "output_type": "stream",
     "text": [
      "                                                                                "
     ]
    },
    {
     "name": "stdout",
     "output_type": "stream",
     "text": [
      "saved to: gs://cs611_mle/datamart/silver/transaction//silver_transaction_2016_03_01.parquet\n",
      "loaded from: gs://cs611_mle/datamart/bronze/transaction/bronze_transaction_2016_04_01.csv row count: 18550\n"
     ]
    },
    {
     "name": "stderr",
     "output_type": "stream",
     "text": [
      "                                                                                "
     ]
    },
    {
     "name": "stdout",
     "output_type": "stream",
     "text": [
      "saved to: gs://cs611_mle/datamart/silver/transaction//silver_transaction_2016_04_01.parquet\n",
      "loaded from: gs://cs611_mle/datamart/bronze/transaction/bronze_transaction_2016_05_01.csv row count: 21343\n"
     ]
    },
    {
     "name": "stderr",
     "output_type": "stream",
     "text": [
      "                                                                                "
     ]
    },
    {
     "name": "stdout",
     "output_type": "stream",
     "text": [
      "saved to: gs://cs611_mle/datamart/silver/transaction//silver_transaction_2016_05_01.parquet\n",
      "loaded from: gs://cs611_mle/datamart/bronze/transaction/bronze_transaction_2016_06_01.csv row count: 18962\n"
     ]
    },
    {
     "name": "stderr",
     "output_type": "stream",
     "text": [
      "                                                                                "
     ]
    },
    {
     "name": "stdout",
     "output_type": "stream",
     "text": [
      "saved to: gs://cs611_mle/datamart/silver/transaction//silver_transaction_2016_06_01.parquet\n",
      "loaded from: gs://cs611_mle/datamart/bronze/transaction/bronze_transaction_2016_07_01.csv row count: 20692\n"
     ]
    },
    {
     "name": "stderr",
     "output_type": "stream",
     "text": [
      "                                                                                "
     ]
    },
    {
     "name": "stdout",
     "output_type": "stream",
     "text": [
      "saved to: gs://cs611_mle/datamart/silver/transaction//silver_transaction_2016_07_01.parquet\n",
      "loaded from: gs://cs611_mle/datamart/bronze/transaction/bronze_transaction_2016_08_01.csv row count: 25028\n"
     ]
    },
    {
     "name": "stderr",
     "output_type": "stream",
     "text": [
      "                                                                                "
     ]
    },
    {
     "name": "stdout",
     "output_type": "stream",
     "text": [
      "saved to: gs://cs611_mle/datamart/silver/transaction//silver_transaction_2016_08_01.parquet\n",
      "loaded from: gs://cs611_mle/datamart/bronze/transaction/bronze_transaction_2016_09_01.csv row count: 21389\n"
     ]
    },
    {
     "name": "stderr",
     "output_type": "stream",
     "text": [
      "                                                                                "
     ]
    },
    {
     "name": "stdout",
     "output_type": "stream",
     "text": [
      "saved to: gs://cs611_mle/datamart/silver/transaction//silver_transaction_2016_09_01.parquet\n",
      "loaded from: gs://cs611_mle/datamart/bronze/transaction/bronze_transaction_2016_10_01.csv row count: 25381\n"
     ]
    },
    {
     "name": "stderr",
     "output_type": "stream",
     "text": [
      "                                                                                "
     ]
    },
    {
     "name": "stdout",
     "output_type": "stream",
     "text": [
      "saved to: gs://cs611_mle/datamart/silver/transaction//silver_transaction_2016_10_01.parquet\n",
      "loaded from: gs://cs611_mle/datamart/bronze/transaction/bronze_transaction_2016_11_01.csv row count: 22375\n"
     ]
    },
    {
     "name": "stderr",
     "output_type": "stream",
     "text": [
      "                                                                                "
     ]
    },
    {
     "name": "stdout",
     "output_type": "stream",
     "text": [
      "saved to: gs://cs611_mle/datamart/silver/transaction//silver_transaction_2016_11_01.parquet\n",
      "loaded from: gs://cs611_mle/datamart/bronze/transaction/bronze_transaction_2016_12_01.csv row count: 22969\n"
     ]
    },
    {
     "name": "stderr",
     "output_type": "stream",
     "text": [
      "                                                                                "
     ]
    },
    {
     "name": "stdout",
     "output_type": "stream",
     "text": [
      "saved to: gs://cs611_mle/datamart/silver/transaction//silver_transaction_2016_12_01.parquet\n",
      "loaded from: gs://cs611_mle/datamart/bronze/transaction/bronze_transaction_2017_01_01.csv row count: 26778\n"
     ]
    },
    {
     "name": "stderr",
     "output_type": "stream",
     "text": [
      "                                                                                "
     ]
    },
    {
     "name": "stdout",
     "output_type": "stream",
     "text": [
      "saved to: gs://cs611_mle/datamart/silver/transaction//silver_transaction_2017_01_01.parquet\n",
      "loaded from: gs://cs611_mle/datamart/bronze/transaction/bronze_transaction_2017_02_01.csv row count: 19328\n"
     ]
    },
    {
     "name": "stderr",
     "output_type": "stream",
     "text": [
      "                                                                                "
     ]
    },
    {
     "name": "stdout",
     "output_type": "stream",
     "text": [
      "saved to: gs://cs611_mle/datamart/silver/transaction//silver_transaction_2017_02_01.parquet\n",
      "loaded from: gs://cs611_mle/datamart/bronze/transaction/bronze_transaction_2017_03_01.csv row count: 1823\n"
     ]
    },
    {
     "name": "stderr",
     "output_type": "stream",
     "text": [
      "                                                                                "
     ]
    },
    {
     "name": "stdout",
     "output_type": "stream",
     "text": [
      "saved to: gs://cs611_mle/datamart/silver/transaction//silver_transaction_2017_03_01.parquet\n"
     ]
    }
   ],
   "source": [
    "for date_str in dates_str_lst:\n",
    "    utils.silver.process_silver_table_transaction(date_str, bucket_name, bronze_transaction_directory, actual_silver_transaction_directory, spark)"
   ]
  },
  {
   "cell_type": "markdown",
   "id": "16553939-a3b0-4d81-894e-0ecdd6ce1142",
   "metadata": {},
   "source": [
    "### User Log ~ Bronze User Log to Silver User Log"
   ]
  },
  {
   "cell_type": "code",
   "execution_count": 19,
   "id": "a228b29e-1fe5-4a16-8106-3fa5b0c5bc35",
   "metadata": {},
   "outputs": [],
   "source": [
    "silver_userlog_directory = \"datamart/silver/userlog/\"\n",
    "\n",
    "\n",
    "# bronze_userlog_directory = \"datamart/bronze/userlog\"\n",
    "# actual_silver_transaction_directory = \"datamart/silver/transaction/\""
   ]
  },
  {
   "cell_type": "code",
   "execution_count": 20,
   "id": "c211c52e-10fc-486e-bbc8-fb221c67c076",
   "metadata": {
    "scrolled": true
   },
   "outputs": [
    {
     "name": "stderr",
     "output_type": "stream",
     "text": [
      "                                                                                "
     ]
    },
    {
     "name": "stdout",
     "output_type": "stream",
     "text": [
      "loaded from: gs://cs611_mle/datamart/bronze/userlog/bronze_userlog_2015_01_01.csv row count: 337141\n",
      "Also loaded from: gs://cs611_mle/datamart/bronze/userlog/bronze_userlog_2015_02_01.csv row count: 301479\n"
     ]
    },
    {
     "name": "stderr",
     "output_type": "stream",
     "text": [
      "                                                                                "
     ]
    },
    {
     "name": "stdout",
     "output_type": "stream",
     "text": [
      "saved to: gs://cs611_mle/datamart/silver/userlog//silver_userlog_2015_01_01.parquet\n",
      "loaded from: gs://cs611_mle/datamart/bronze/userlog/bronze_userlog_2015_02_01.csv row count: 301479\n"
     ]
    },
    {
     "name": "stderr",
     "output_type": "stream",
     "text": [
      "                                                                                "
     ]
    },
    {
     "name": "stdout",
     "output_type": "stream",
     "text": [
      "Also loaded from: gs://cs611_mle/datamart/bronze/userlog/bronze_userlog_2015_03_01.csv row count: 348811\n"
     ]
    },
    {
     "name": "stderr",
     "output_type": "stream",
     "text": [
      "                                                                                "
     ]
    },
    {
     "name": "stdout",
     "output_type": "stream",
     "text": [
      "saved to: gs://cs611_mle/datamart/silver/userlog//silver_userlog_2015_02_01.parquet\n",
      "loaded from: gs://cs611_mle/datamart/bronze/userlog/bronze_userlog_2015_03_01.csv row count: 348811\n"
     ]
    },
    {
     "name": "stderr",
     "output_type": "stream",
     "text": [
      "                                                                                "
     ]
    },
    {
     "name": "stdout",
     "output_type": "stream",
     "text": [
      "Also loaded from: gs://cs611_mle/datamart/bronze/userlog/bronze_userlog_2015_04_01.csv row count: 345465\n"
     ]
    },
    {
     "name": "stderr",
     "output_type": "stream",
     "text": [
      "                                                                                "
     ]
    },
    {
     "name": "stdout",
     "output_type": "stream",
     "text": [
      "saved to: gs://cs611_mle/datamart/silver/userlog//silver_userlog_2015_03_01.parquet\n",
      "loaded from: gs://cs611_mle/datamart/bronze/userlog/bronze_userlog_2015_04_01.csv row count: 345465\n",
      "Also loaded from: gs://cs611_mle/datamart/bronze/userlog/bronze_userlog_2015_05_01.csv row count: 354404\n"
     ]
    },
    {
     "name": "stderr",
     "output_type": "stream",
     "text": [
      "                                                                                "
     ]
    },
    {
     "name": "stdout",
     "output_type": "stream",
     "text": [
      "saved to: gs://cs611_mle/datamart/silver/userlog//silver_userlog_2015_04_01.parquet\n",
      "loaded from: gs://cs611_mle/datamart/bronze/userlog/bronze_userlog_2015_05_01.csv row count: 354404\n",
      "Also loaded from: gs://cs611_mle/datamart/bronze/userlog/bronze_userlog_2015_06_01.csv row count: 342663\n"
     ]
    },
    {
     "name": "stderr",
     "output_type": "stream",
     "text": [
      "                                                                                "
     ]
    },
    {
     "name": "stdout",
     "output_type": "stream",
     "text": [
      "saved to: gs://cs611_mle/datamart/silver/userlog//silver_userlog_2015_05_01.parquet\n",
      "loaded from: gs://cs611_mle/datamart/bronze/userlog/bronze_userlog_2015_06_01.csv row count: 342663\n",
      "Also loaded from: gs://cs611_mle/datamart/bronze/userlog/bronze_userlog_2015_07_01.csv row count: 347901\n"
     ]
    },
    {
     "name": "stderr",
     "output_type": "stream",
     "text": [
      "                                                                                "
     ]
    },
    {
     "name": "stdout",
     "output_type": "stream",
     "text": [
      "saved to: gs://cs611_mle/datamart/silver/userlog//silver_userlog_2015_06_01.parquet\n",
      "loaded from: gs://cs611_mle/datamart/bronze/userlog/bronze_userlog_2015_07_01.csv row count: 347901\n",
      "Also loaded from: gs://cs611_mle/datamart/bronze/userlog/bronze_userlog_2015_08_01.csv row count: 350740\n"
     ]
    },
    {
     "name": "stderr",
     "output_type": "stream",
     "text": [
      "                                                                                "
     ]
    },
    {
     "name": "stdout",
     "output_type": "stream",
     "text": [
      "saved to: gs://cs611_mle/datamart/silver/userlog//silver_userlog_2015_07_01.parquet\n",
      "loaded from: gs://cs611_mle/datamart/bronze/userlog/bronze_userlog_2015_08_01.csv row count: 350740\n",
      "Also loaded from: gs://cs611_mle/datamart/bronze/userlog/bronze_userlog_2015_09_01.csv row count: 350873\n"
     ]
    },
    {
     "name": "stderr",
     "output_type": "stream",
     "text": [
      "                                                                                "
     ]
    },
    {
     "name": "stdout",
     "output_type": "stream",
     "text": [
      "saved to: gs://cs611_mle/datamart/silver/userlog//silver_userlog_2015_08_01.parquet\n",
      "loaded from: gs://cs611_mle/datamart/bronze/userlog/bronze_userlog_2015_09_01.csv row count: 350873\n",
      "Also loaded from: gs://cs611_mle/datamart/bronze/userlog/bronze_userlog_2015_10_01.csv row count: 365641\n"
     ]
    },
    {
     "name": "stderr",
     "output_type": "stream",
     "text": [
      "                                                                                "
     ]
    },
    {
     "name": "stdout",
     "output_type": "stream",
     "text": [
      "saved to: gs://cs611_mle/datamart/silver/userlog//silver_userlog_2015_09_01.parquet\n"
     ]
    },
    {
     "name": "stderr",
     "output_type": "stream",
     "text": [
      "                                                                                "
     ]
    },
    {
     "name": "stdout",
     "output_type": "stream",
     "text": [
      "loaded from: gs://cs611_mle/datamart/bronze/userlog/bronze_userlog_2015_10_01.csv row count: 365641\n"
     ]
    },
    {
     "name": "stderr",
     "output_type": "stream",
     "text": [
      "                                                                                "
     ]
    },
    {
     "name": "stdout",
     "output_type": "stream",
     "text": [
      "Also loaded from: gs://cs611_mle/datamart/bronze/userlog/bronze_userlog_2015_11_01.csv row count: 364956\n"
     ]
    },
    {
     "name": "stderr",
     "output_type": "stream",
     "text": [
      "                                                                                "
     ]
    },
    {
     "name": "stdout",
     "output_type": "stream",
     "text": [
      "saved to: gs://cs611_mle/datamart/silver/userlog//silver_userlog_2015_10_01.parquet\n",
      "loaded from: gs://cs611_mle/datamart/bronze/userlog/bronze_userlog_2015_11_01.csv row count: 364956\n"
     ]
    },
    {
     "name": "stderr",
     "output_type": "stream",
     "text": [
      "                                                                                "
     ]
    },
    {
     "name": "stdout",
     "output_type": "stream",
     "text": [
      "Also loaded from: gs://cs611_mle/datamart/bronze/userlog/bronze_userlog_2015_12_01.csv row count: 379723\n"
     ]
    },
    {
     "name": "stderr",
     "output_type": "stream",
     "text": [
      "                                                                                "
     ]
    },
    {
     "name": "stdout",
     "output_type": "stream",
     "text": [
      "saved to: gs://cs611_mle/datamart/silver/userlog//silver_userlog_2015_11_01.parquet\n",
      "loaded from: gs://cs611_mle/datamart/bronze/userlog/bronze_userlog_2015_12_01.csv row count: 379723\n",
      "Also loaded from: gs://cs611_mle/datamart/bronze/userlog/bronze_userlog_2016_01_01.csv row count: 376708\n"
     ]
    },
    {
     "name": "stderr",
     "output_type": "stream",
     "text": [
      "                                                                                "
     ]
    },
    {
     "name": "stdout",
     "output_type": "stream",
     "text": [
      "saved to: gs://cs611_mle/datamart/silver/userlog//silver_userlog_2015_12_01.parquet\n",
      "loaded from: gs://cs611_mle/datamart/bronze/userlog/bronze_userlog_2016_01_01.csv row count: 376708\n",
      "Also loaded from: gs://cs611_mle/datamart/bronze/userlog/bronze_userlog_2016_02_01.csv row count: 346369\n"
     ]
    },
    {
     "name": "stderr",
     "output_type": "stream",
     "text": [
      "                                                                                "
     ]
    },
    {
     "name": "stdout",
     "output_type": "stream",
     "text": [
      "saved to: gs://cs611_mle/datamart/silver/userlog//silver_userlog_2016_01_01.parquet\n",
      "loaded from: gs://cs611_mle/datamart/bronze/userlog/bronze_userlog_2016_02_01.csv row count: 346369\n",
      "Also loaded from: gs://cs611_mle/datamart/bronze/userlog/bronze_userlog_2016_03_01.csv row count: 394080\n"
     ]
    },
    {
     "name": "stderr",
     "output_type": "stream",
     "text": [
      "                                                                                "
     ]
    },
    {
     "name": "stdout",
     "output_type": "stream",
     "text": [
      "saved to: gs://cs611_mle/datamart/silver/userlog//silver_userlog_2016_02_01.parquet\n",
      "loaded from: gs://cs611_mle/datamart/bronze/userlog/bronze_userlog_2016_03_01.csv row count: 394080\n"
     ]
    },
    {
     "name": "stderr",
     "output_type": "stream",
     "text": [
      "                                                                                "
     ]
    },
    {
     "name": "stdout",
     "output_type": "stream",
     "text": [
      "Also loaded from: gs://cs611_mle/datamart/bronze/userlog/bronze_userlog_2016_04_01.csv row count: 390308\n"
     ]
    },
    {
     "name": "stderr",
     "output_type": "stream",
     "text": [
      "                                                                                "
     ]
    },
    {
     "name": "stdout",
     "output_type": "stream",
     "text": [
      "saved to: gs://cs611_mle/datamart/silver/userlog//silver_userlog_2016_03_01.parquet\n",
      "loaded from: gs://cs611_mle/datamart/bronze/userlog/bronze_userlog_2016_04_01.csv row count: 390308\n",
      "Also loaded from: gs://cs611_mle/datamart/bronze/userlog/bronze_userlog_2016_05_01.csv row count: 406219\n"
     ]
    },
    {
     "name": "stderr",
     "output_type": "stream",
     "text": [
      "                                                                                "
     ]
    },
    {
     "name": "stdout",
     "output_type": "stream",
     "text": [
      "saved to: gs://cs611_mle/datamart/silver/userlog//silver_userlog_2016_04_01.parquet\n",
      "loaded from: gs://cs611_mle/datamart/bronze/userlog/bronze_userlog_2016_05_01.csv row count: 406219\n",
      "Also loaded from: gs://cs611_mle/datamart/bronze/userlog/bronze_userlog_2016_06_01.csv row count: 394332\n"
     ]
    },
    {
     "name": "stderr",
     "output_type": "stream",
     "text": [
      "                                                                                "
     ]
    },
    {
     "name": "stdout",
     "output_type": "stream",
     "text": [
      "saved to: gs://cs611_mle/datamart/silver/userlog//silver_userlog_2016_05_01.parquet\n"
     ]
    },
    {
     "name": "stderr",
     "output_type": "stream",
     "text": [
      "                                                                                "
     ]
    },
    {
     "name": "stdout",
     "output_type": "stream",
     "text": [
      "loaded from: gs://cs611_mle/datamart/bronze/userlog/bronze_userlog_2016_06_01.csv row count: 394332\n"
     ]
    },
    {
     "name": "stderr",
     "output_type": "stream",
     "text": [
      "                                                                                "
     ]
    },
    {
     "name": "stdout",
     "output_type": "stream",
     "text": [
      "Also loaded from: gs://cs611_mle/datamart/bronze/userlog/bronze_userlog_2016_07_01.csv row count: 407012\n"
     ]
    },
    {
     "name": "stderr",
     "output_type": "stream",
     "text": [
      "                                                                                "
     ]
    },
    {
     "name": "stdout",
     "output_type": "stream",
     "text": [
      "saved to: gs://cs611_mle/datamart/silver/userlog//silver_userlog_2016_06_01.parquet\n"
     ]
    },
    {
     "name": "stderr",
     "output_type": "stream",
     "text": [
      "                                                                                "
     ]
    },
    {
     "name": "stdout",
     "output_type": "stream",
     "text": [
      "loaded from: gs://cs611_mle/datamart/bronze/userlog/bronze_userlog_2016_07_01.csv row count: 407012\n"
     ]
    },
    {
     "name": "stderr",
     "output_type": "stream",
     "text": [
      "                                                                                "
     ]
    },
    {
     "name": "stdout",
     "output_type": "stream",
     "text": [
      "Also loaded from: gs://cs611_mle/datamart/bronze/userlog/bronze_userlog_2016_08_01.csv row count: 409750\n"
     ]
    },
    {
     "name": "stderr",
     "output_type": "stream",
     "text": [
      "                                                                                "
     ]
    },
    {
     "name": "stdout",
     "output_type": "stream",
     "text": [
      "saved to: gs://cs611_mle/datamart/silver/userlog//silver_userlog_2016_07_01.parquet\n",
      "loaded from: gs://cs611_mle/datamart/bronze/userlog/bronze_userlog_2016_08_01.csv row count: 409750\n",
      "Also loaded from: gs://cs611_mle/datamart/bronze/userlog/bronze_userlog_2016_09_01.csv row count: 396242\n"
     ]
    },
    {
     "name": "stderr",
     "output_type": "stream",
     "text": [
      "                                                                                "
     ]
    },
    {
     "name": "stdout",
     "output_type": "stream",
     "text": [
      "saved to: gs://cs611_mle/datamart/silver/userlog//silver_userlog_2016_08_01.parquet\n",
      "loaded from: gs://cs611_mle/datamart/bronze/userlog/bronze_userlog_2016_09_01.csv row count: 396242\n",
      "Also loaded from: gs://cs611_mle/datamart/bronze/userlog/bronze_userlog_2016_10_01.csv row count: 418575\n"
     ]
    },
    {
     "name": "stderr",
     "output_type": "stream",
     "text": [
      "                                                                                "
     ]
    },
    {
     "name": "stdout",
     "output_type": "stream",
     "text": [
      "saved to: gs://cs611_mle/datamart/silver/userlog//silver_userlog_2016_09_01.parquet\n",
      "loaded from: gs://cs611_mle/datamart/bronze/userlog/bronze_userlog_2016_10_01.csv row count: 418575\n"
     ]
    },
    {
     "name": "stderr",
     "output_type": "stream",
     "text": [
      "                                                                                "
     ]
    },
    {
     "name": "stdout",
     "output_type": "stream",
     "text": [
      "Also loaded from: gs://cs611_mle/datamart/bronze/userlog/bronze_userlog_2016_11_01.csv row count: 409545\n"
     ]
    },
    {
     "name": "stderr",
     "output_type": "stream",
     "text": [
      "                                                                                "
     ]
    },
    {
     "name": "stdout",
     "output_type": "stream",
     "text": [
      "saved to: gs://cs611_mle/datamart/silver/userlog//silver_userlog_2016_10_01.parquet\n"
     ]
    },
    {
     "name": "stderr",
     "output_type": "stream",
     "text": [
      "                                                                                "
     ]
    },
    {
     "name": "stdout",
     "output_type": "stream",
     "text": [
      "loaded from: gs://cs611_mle/datamart/bronze/userlog/bronze_userlog_2016_11_01.csv row count: 409545\n"
     ]
    },
    {
     "name": "stderr",
     "output_type": "stream",
     "text": [
      "                                                                                "
     ]
    },
    {
     "name": "stdout",
     "output_type": "stream",
     "text": [
      "Also loaded from: gs://cs611_mle/datamart/bronze/userlog/bronze_userlog_2016_12_01.csv row count: 425937\n"
     ]
    },
    {
     "name": "stderr",
     "output_type": "stream",
     "text": [
      "                                                                                "
     ]
    },
    {
     "name": "stdout",
     "output_type": "stream",
     "text": [
      "saved to: gs://cs611_mle/datamart/silver/userlog//silver_userlog_2016_11_01.parquet\n"
     ]
    },
    {
     "name": "stderr",
     "output_type": "stream",
     "text": [
      "                                                                                "
     ]
    },
    {
     "name": "stdout",
     "output_type": "stream",
     "text": [
      "loaded from: gs://cs611_mle/datamart/bronze/userlog/bronze_userlog_2016_12_01.csv row count: 425937\n",
      "Also loaded from: gs://cs611_mle/datamart/bronze/userlog/bronze_userlog_2017_01_01.csv row count: 421450\n"
     ]
    },
    {
     "name": "stderr",
     "output_type": "stream",
     "text": [
      "                                                                                "
     ]
    },
    {
     "name": "stdout",
     "output_type": "stream",
     "text": [
      "saved to: gs://cs611_mle/datamart/silver/userlog//silver_userlog_2016_12_01.parquet\n"
     ]
    },
    {
     "name": "stderr",
     "output_type": "stream",
     "text": [
      "                                                                                "
     ]
    },
    {
     "name": "stdout",
     "output_type": "stream",
     "text": [
      "loaded from: gs://cs611_mle/datamart/bronze/userlog/bronze_userlog_2017_01_01.csv row count: 421450\n",
      "Also loaded from: gs://cs611_mle/datamart/bronze/userlog/bronze_userlog_2017_02_01.csv row count: 377934\n"
     ]
    },
    {
     "name": "stderr",
     "output_type": "stream",
     "text": [
      "                                                                                "
     ]
    },
    {
     "name": "stdout",
     "output_type": "stream",
     "text": [
      "saved to: gs://cs611_mle/datamart/silver/userlog//silver_userlog_2017_01_01.parquet\n"
     ]
    },
    {
     "name": "stderr",
     "output_type": "stream",
     "text": [
      "                                                                                "
     ]
    },
    {
     "name": "stdout",
     "output_type": "stream",
     "text": [
      "loaded from: gs://cs611_mle/datamart/bronze/userlog/bronze_userlog_2017_02_01.csv row count: 377934\n"
     ]
    },
    {
     "name": "stderr",
     "output_type": "stream",
     "text": [
      "                                                                                "
     ]
    },
    {
     "name": "stdout",
     "output_type": "stream",
     "text": [
      "Also loaded from: gs://cs611_mle/datamart/bronze/userlog/bronze_userlog_2017_03_01.csv row count: 432095\n"
     ]
    },
    {
     "name": "stderr",
     "output_type": "stream",
     "text": [
      "                                                                                "
     ]
    },
    {
     "name": "stdout",
     "output_type": "stream",
     "text": [
      "saved to: gs://cs611_mle/datamart/silver/userlog//silver_userlog_2017_02_01.parquet\n"
     ]
    },
    {
     "name": "stderr",
     "output_type": "stream",
     "text": [
      "                                                                                "
     ]
    },
    {
     "name": "stdout",
     "output_type": "stream",
     "text": [
      "loaded from: gs://cs611_mle/datamart/bronze/userlog/bronze_userlog_2017_03_01.csv row count: 432095\n",
      "File gs://cs611_mle/datamart/bronze/userlog/bronze_userlog_2017_04_01.csv does not exist. Proceeding with single snapshot.\n"
     ]
    },
    {
     "name": "stderr",
     "output_type": "stream",
     "text": [
      "                                                                                "
     ]
    },
    {
     "name": "stdout",
     "output_type": "stream",
     "text": [
      "saved to: gs://cs611_mle/datamart/silver/userlog//silver_userlog_2017_03_01.parquet\n"
     ]
    }
   ],
   "source": [
    "\n",
    "for date_str in dates_str_lst:\n",
    "    utils.silver.process_silver_table_userlog(date_str, bucket_name, bronze_userlog_directory, actual_silver_transaction_directory, silver_userlog_directory, spark)"
   ]
  },
  {
   "cell_type": "code",
   "execution_count": null,
   "id": "0fe87dd7-4ea8-42dc-943f-ad26dc711be8",
   "metadata": {},
   "outputs": [],
   "source": []
  },
  {
   "cell_type": "code",
   "execution_count": null,
   "id": "8bd5a10d-0a38-46fb-802f-7f64fcfb0fba",
   "metadata": {},
   "outputs": [],
   "source": []
  },
  {
   "cell_type": "code",
   "execution_count": null,
   "id": "9648dbe8-b80f-42aa-b64e-ab749873ad8a",
   "metadata": {},
   "outputs": [],
   "source": []
  },
  {
   "cell_type": "markdown",
   "id": "183a09c6-20db-4250-972e-6522d18dd1a2",
   "metadata": {},
   "source": [
    "# Gold ~ Feature Store"
   ]
  },
  {
   "cell_type": "code",
   "execution_count": 21,
   "id": "e988bd0f-a8c5-41ac-83eb-f0b03640810f",
   "metadata": {},
   "outputs": [],
   "source": [
    "gold_feature_store_directory = \"datamart/gold/feature_store/\"\n",
    "\n",
    "silver_userlog_directory = \"datamart/silver/userlog/\"\n",
    "actual_silver_transaction_directory = \"datamart/silver/transaction/\"\n",
    "silver_member_directory = \"datamart/silver/member/\""
   ]
  },
  {
   "cell_type": "code",
   "execution_count": 22,
   "id": "a64bd23e-086d-4421-a3e3-2cb9a25b4519",
   "metadata": {
    "scrolled": true
   },
   "outputs": [
    {
     "name": "stdout",
     "output_type": "stream",
     "text": [
      "loaded from: gs://cs611_mle/datamart/silver/transaction//silver_transaction_2015_01_01.parquet row count: 16177\n",
      "loaded from: gs://cs611_mle/datamart/silver/userlog//silver_userlog_2015_01_01.parquet row count: 15059\n",
      "loaded from: gs://cs611_mle/datamart/silver/member//silver_member.parquet row count: 50000\n",
      "+--------------------+-----------------+-----------------+---------------+------------------+-------------+----------------+----------------------+---------+---------------------+-------------------+\n",
      "|                msno|payment_method_id|payment_plan_days|plan_list_price|actual_amount_paid|is_auto_renew|transaction_date|membership_expire_date|is_cancel|membership_start_date|     discount_ratio|\n",
      "+--------------------+-----------------+-----------------+---------------+------------------+-------------+----------------+----------------------+---------+---------------------+-------------------+\n",
      "|++IU7zZpfAGO1qdHB...|               41|               30|          149.0|             119.0|            1|      2015-01-20|            2015-02-21|        0|           2015-01-22|0.20134228187919462|\n",
      "|++eWyD5lL+5DUiN4G...|               41|               30|          149.0|             149.0|            1|      2015-01-09|            2015-02-09|        0|           2015-01-10|                0.0|\n",
      "|++jmANUQSjTA+JUn8...|               39|               31|          149.0|             149.0|            1|      2015-01-31|            2015-03-03|        0|           2015-01-31|                0.0|\n",
      "|++rFX3KrIVKN7HjJ6...|               41|               30|          149.0|             119.0|            1|      2015-01-08|            2015-02-08|        0|           2015-01-09|0.20134228187919462|\n",
      "|+04qZA5u8aUoPZ+f5...|               40|               31|          149.0|             149.0|            1|      2015-01-24|            2015-02-23|        0|           2015-01-23|                0.0|\n",
      "+--------------------+-----------------+-----------------+---------------+------------------+-------------+----------------+----------------------+---------+---------------------+-------------------+\n",
      "only showing top 5 rows\n",
      "\n"
     ]
    },
    {
     "name": "stderr",
     "output_type": "stream",
     "text": [
      "25/06/18 07:44:56 WARN SparkStringUtils: Truncated the string representation of a plan since it was too large. This behavior can be adjusted by setting 'spark.sql.debug.maxToStringFields'.\n",
      "                                                                                "
     ]
    },
    {
     "name": "stdout",
     "output_type": "stream",
     "text": [
      "saved to: gs://cs611_mle/datamart/gold/feature_store//gold_featurestore_2015_01_01.parquet\n",
      "loaded from: gs://cs611_mle/datamart/silver/transaction//silver_transaction_2015_02_01.parquet row count: 14710\n",
      "loaded from: gs://cs611_mle/datamart/silver/userlog//silver_userlog_2015_02_01.parquet row count: 13810\n",
      "loaded from: gs://cs611_mle/datamart/silver/member//silver_member.parquet row count: 50000\n",
      "+--------------------+-----------------+-----------------+---------------+------------------+-------------+----------------+----------------------+---------+---------------------+-------------------+\n",
      "|                msno|payment_method_id|payment_plan_days|plan_list_price|actual_amount_paid|is_auto_renew|transaction_date|membership_expire_date|is_cancel|membership_start_date|     discount_ratio|\n",
      "+--------------------+-----------------+-----------------+---------------+------------------+-------------+----------------+----------------------+---------+---------------------+-------------------+\n",
      "|++5wYjoMgQHoRuD3G...|               39|               31|          149.0|             149.0|            1|      2015-01-31|            2015-03-14|        0|           2015-02-11|                0.0|\n",
      "|++IU7zZpfAGO1qdHB...|               41|               30|          149.0|             119.0|            1|      2015-02-20|            2015-03-21|        0|           2015-02-19|0.20134228187919462|\n",
      "|++eWyD5lL+5DUiN4G...|               41|               30|          149.0|             149.0|            1|      2015-02-09|            2015-03-09|        0|           2015-02-07|                0.0|\n",
      "|++rFX3KrIVKN7HjJ6...|               41|               30|          149.0|             119.0|            1|      2015-02-08|            2015-03-08|        0|           2015-02-06|0.20134228187919462|\n",
      "|+04qZA5u8aUoPZ+f5...|               40|               31|          149.0|             149.0|            1|      2015-02-24|            2015-03-23|        0|           2015-02-20|                0.0|\n",
      "+--------------------+-----------------+-----------------+---------------+------------------+-------------+----------------+----------------------+---------+---------------------+-------------------+\n",
      "only showing top 5 rows\n",
      "\n"
     ]
    },
    {
     "name": "stderr",
     "output_type": "stream",
     "text": [
      "                                                                                "
     ]
    },
    {
     "name": "stdout",
     "output_type": "stream",
     "text": [
      "saved to: gs://cs611_mle/datamart/gold/feature_store//gold_featurestore_2015_02_01.parquet\n",
      "loaded from: gs://cs611_mle/datamart/silver/transaction//silver_transaction_2015_03_01.parquet row count: 18392\n",
      "loaded from: gs://cs611_mle/datamart/silver/userlog//silver_userlog_2015_03_01.parquet row count: 17194\n",
      "loaded from: gs://cs611_mle/datamart/silver/member//silver_member.parquet row count: 50000\n",
      "+--------------------+-----------------+-----------------+---------------+------------------+-------------+----------------+----------------------+---------+---------------------+-------------------+\n",
      "|                msno|payment_method_id|payment_plan_days|plan_list_price|actual_amount_paid|is_auto_renew|transaction_date|membership_expire_date|is_cancel|membership_start_date|     discount_ratio|\n",
      "+--------------------+-----------------+-----------------+---------------+------------------+-------------+----------------+----------------------+---------+---------------------+-------------------+\n",
      "|++5wYjoMgQHoRuD3G...|               39|               31|          149.0|             149.0|            1|      2015-02-28|            2015-04-14|        0|           2015-03-14|                0.0|\n",
      "|++IU7zZpfAGO1qdHB...|               41|               30|          149.0|             149.0|            1|      2015-03-20|            2015-04-21|        0|           2015-03-22|                0.0|\n",
      "|++eWyD5lL+5DUiN4G...|               41|               30|          149.0|             149.0|            1|      2015-03-09|            2015-04-09|        0|           2015-03-10|                0.0|\n",
      "|++jmANUQSjTA+JUn8...|               39|               31|          149.0|             149.0|            1|      2015-02-28|            2015-04-03|        0|           2015-03-03|                0.0|\n",
      "|++rFX3KrIVKN7HjJ6...|               41|               30|          149.0|             119.0|            1|      2015-03-08|            2015-04-08|        0|           2015-03-09|0.20134228187919462|\n",
      "+--------------------+-----------------+-----------------+---------------+------------------+-------------+----------------+----------------------+---------+---------------------+-------------------+\n",
      "only showing top 5 rows\n",
      "\n"
     ]
    },
    {
     "name": "stderr",
     "output_type": "stream",
     "text": [
      "                                                                                "
     ]
    },
    {
     "name": "stdout",
     "output_type": "stream",
     "text": [
      "saved to: gs://cs611_mle/datamart/gold/feature_store//gold_featurestore_2015_03_01.parquet\n",
      "loaded from: gs://cs611_mle/datamart/silver/transaction//silver_transaction_2015_04_01.parquet row count: 15061\n",
      "loaded from: gs://cs611_mle/datamart/silver/userlog//silver_userlog_2015_04_01.parquet row count: 13808\n",
      "loaded from: gs://cs611_mle/datamart/silver/member//silver_member.parquet row count: 50000\n",
      "+--------------------+-----------------+-----------------+---------------+------------------+-------------+----------------+----------------------+---------+---------------------+--------------+\n",
      "|                msno|payment_method_id|payment_plan_days|plan_list_price|actual_amount_paid|is_auto_renew|transaction_date|membership_expire_date|is_cancel|membership_start_date|discount_ratio|\n",
      "+--------------------+-----------------+-----------------+---------------+------------------+-------------+----------------+----------------------+---------+---------------------+--------------+\n",
      "|++5nB0VuUuyj9xlng...|               41|               30|          129.0|             129.0|            1|      2015-01-11|            2015-05-08|        0|           2015-04-08|           0.0|\n",
      "|++5wYjoMgQHoRuD3G...|               39|               31|          149.0|             149.0|            1|      2015-03-31|            2015-05-14|        0|           2015-04-13|           0.0|\n",
      "|++IU7zZpfAGO1qdHB...|               41|               30|          149.0|             149.0|            1|      2015-04-20|            2015-05-21|        0|           2015-04-21|           0.0|\n",
      "|++eWyD5lL+5DUiN4G...|               41|               30|          149.0|             149.0|            1|      2015-04-09|            2015-05-09|        0|           2015-04-09|           0.0|\n",
      "|++jbV49/2rayAbDFc...|               41|               30|          149.0|             149.0|            1|      2015-01-17|            2015-05-21|        0|           2015-04-21|           0.0|\n",
      "+--------------------+-----------------+-----------------+---------------+------------------+-------------+----------------+----------------------+---------+---------------------+--------------+\n",
      "only showing top 5 rows\n",
      "\n"
     ]
    },
    {
     "name": "stderr",
     "output_type": "stream",
     "text": [
      "                                                                                "
     ]
    },
    {
     "name": "stdout",
     "output_type": "stream",
     "text": [
      "saved to: gs://cs611_mle/datamart/gold/feature_store//gold_featurestore_2015_04_01.parquet\n",
      "loaded from: gs://cs611_mle/datamart/silver/transaction//silver_transaction_2015_05_01.parquet row count: 12194\n",
      "loaded from: gs://cs611_mle/datamart/silver/userlog//silver_userlog_2015_05_01.parquet row count: 10141\n",
      "loaded from: gs://cs611_mle/datamart/silver/member//silver_member.parquet row count: 50000\n",
      "+--------------------+-----------------+-----------------+---------------+------------------+-------------+----------------+----------------------+---------+---------------------+-------------------+\n",
      "|                msno|payment_method_id|payment_plan_days|plan_list_price|actual_amount_paid|is_auto_renew|transaction_date|membership_expire_date|is_cancel|membership_start_date|     discount_ratio|\n",
      "+--------------------+-----------------+-----------------+---------------+------------------+-------------+----------------+----------------------+---------+---------------------+-------------------+\n",
      "|++5nB0VuUuyj9xlng...|               41|               30|          129.0|             129.0|            1|      2015-02-11|            2015-06-05|        0|           2015-05-06|                0.0|\n",
      "|++IU7zZpfAGO1qdHB...|               41|               30|          149.0|             149.0|            1|      2015-05-20|            2015-06-21|        0|           2015-05-22|                0.0|\n",
      "|++jbV49/2rayAbDFc...|               41|               30|          149.0|             119.0|            1|      2015-01-24|            2015-06-21|        0|           2015-05-22|0.20134228187919462|\n",
      "|+/P2V43Gh9AsxTJWo...|               40|                0|            0.0|             149.0|            1|      2015-04-26|            2015-05-25|        0|           2015-05-25|                0.0|\n",
      "|+/P2V43Gh9AsxTJWo...|               40|               30|          149.0|             149.0|            1|      2015-05-26|            2015-06-25|        0|           2015-05-26|                0.0|\n",
      "+--------------------+-----------------+-----------------+---------------+------------------+-------------+----------------+----------------------+---------+---------------------+-------------------+\n",
      "only showing top 5 rows\n",
      "\n"
     ]
    },
    {
     "name": "stderr",
     "output_type": "stream",
     "text": [
      "                                                                                "
     ]
    },
    {
     "name": "stdout",
     "output_type": "stream",
     "text": [
      "saved to: gs://cs611_mle/datamart/gold/feature_store//gold_featurestore_2015_05_01.parquet\n",
      "loaded from: gs://cs611_mle/datamart/silver/transaction//silver_transaction_2015_06_01.parquet row count: 26607\n",
      "loaded from: gs://cs611_mle/datamart/silver/userlog//silver_userlog_2015_06_01.parquet row count: 21287\n",
      "loaded from: gs://cs611_mle/datamart/silver/member//silver_member.parquet row count: 50000\n",
      "+--------------------+-----------------+-----------------+---------------+------------------+-------------+----------------+----------------------+---------+---------------------+--------------+\n",
      "|                msno|payment_method_id|payment_plan_days|plan_list_price|actual_amount_paid|is_auto_renew|transaction_date|membership_expire_date|is_cancel|membership_start_date|discount_ratio|\n",
      "+--------------------+-----------------+-----------------+---------------+------------------+-------------+----------------+----------------------+---------+---------------------+--------------+\n",
      "|++5nB0VuUuyj9xlng...|               41|               30|          129.0|             129.0|            1|      2015-03-11|            2015-07-06|        0|           2015-06-06|           0.0|\n",
      "|++5wYjoMgQHoRuD3G...|               39|                0|            0.0|             149.0|            1|      2015-04-30|            2015-06-14|        0|           2015-06-14|           0.0|\n",
      "|++5wYjoMgQHoRuD3G...|               39|                0|            0.0|             149.0|            1|      2015-05-12|            2015-06-14|        1|           2015-06-14|           0.0|\n",
      "|++5wYjoMgQHoRuD3G...|               39|               30|          149.0|             149.0|            1|      2015-06-22|            2015-07-21|        0|           2015-06-21|           0.0|\n",
      "|++IU7zZpfAGO1qdHB...|               41|               30|          149.0|             149.0|            1|      2015-06-20|            2015-07-21|        0|           2015-06-21|           0.0|\n",
      "+--------------------+-----------------+-----------------+---------------+------------------+-------------+----------------+----------------------+---------+---------------------+--------------+\n",
      "only showing top 5 rows\n",
      "\n"
     ]
    },
    {
     "name": "stderr",
     "output_type": "stream",
     "text": [
      "                                                                                "
     ]
    },
    {
     "name": "stdout",
     "output_type": "stream",
     "text": [
      "saved to: gs://cs611_mle/datamart/gold/feature_store//gold_featurestore_2015_06_01.parquet\n",
      "loaded from: gs://cs611_mle/datamart/silver/transaction//silver_transaction_2015_07_01.parquet row count: 19046\n",
      "loaded from: gs://cs611_mle/datamart/silver/userlog//silver_userlog_2015_07_01.parquet row count: 17412\n",
      "loaded from: gs://cs611_mle/datamart/silver/member//silver_member.parquet row count: 50000\n",
      "+--------------------+-----------------+-----------------+---------------+------------------+-------------+----------------+----------------------+---------+---------------------+--------------+\n",
      "|                msno|payment_method_id|payment_plan_days|plan_list_price|actual_amount_paid|is_auto_renew|transaction_date|membership_expire_date|is_cancel|membership_start_date|discount_ratio|\n",
      "+--------------------+-----------------+-----------------+---------------+------------------+-------------+----------------+----------------------+---------+---------------------+--------------+\n",
      "|++5nB0VuUuyj9xlng...|               41|               30|          129.0|             129.0|            1|      2015-04-11|            2015-08-05|        0|           2015-07-06|           0.0|\n",
      "|++5wYjoMgQHoRuD3G...|               39|               30|          149.0|             149.0|            1|      2015-06-30|            2015-08-21|        0|           2015-07-22|           0.0|\n",
      "|++IU7zZpfAGO1qdHB...|               41|               30|          149.0|             149.0|            1|      2015-07-20|            2015-08-21|        0|           2015-07-22|           0.0|\n",
      "|++IU7zZpfAGO1qdHB...|               41|               30|          149.0|             149.0|            1|      2015-08-10|            2015-08-10|        1|           2015-07-11|           0.0|\n",
      "|++eWyD5lL+5DUiN4G...|               41|               30|          149.0|             149.0|            1|      2015-07-09|            2015-08-09|        0|           2015-07-10|           0.0|\n",
      "+--------------------+-----------------+-----------------+---------------+------------------+-------------+----------------+----------------------+---------+---------------------+--------------+\n",
      "only showing top 5 rows\n",
      "\n"
     ]
    },
    {
     "name": "stderr",
     "output_type": "stream",
     "text": [
      "                                                                                "
     ]
    },
    {
     "name": "stdout",
     "output_type": "stream",
     "text": [
      "saved to: gs://cs611_mle/datamart/gold/feature_store//gold_featurestore_2015_07_01.parquet\n",
      "loaded from: gs://cs611_mle/datamart/silver/transaction//silver_transaction_2015_08_01.parquet row count: 20122\n",
      "loaded from: gs://cs611_mle/datamart/silver/userlog//silver_userlog_2015_08_01.parquet row count: 18399\n",
      "loaded from: gs://cs611_mle/datamart/silver/member//silver_member.parquet row count: 50000\n",
      "+--------------------+-----------------+-----------------+---------------+------------------+-------------+----------------+----------------------+---------+---------------------+--------------+\n",
      "|                msno|payment_method_id|payment_plan_days|plan_list_price|actual_amount_paid|is_auto_renew|transaction_date|membership_expire_date|is_cancel|membership_start_date|discount_ratio|\n",
      "+--------------------+-----------------+-----------------+---------------+------------------+-------------+----------------+----------------------+---------+---------------------+--------------+\n",
      "|++5wYjoMgQHoRuD3G...|               39|               30|          149.0|             149.0|            1|      2015-07-31|            2015-09-21|        0|           2015-08-22|           0.0|\n",
      "|++IU7zZpfAGO1qdHB...|               41|               30|           99.0|              99.0|            1|      2015-08-10|            2015-09-10|        0|           2015-08-11|           0.0|\n",
      "|++RiX9CkiWQALlzU/...|               41|               30|          149.0|               0.0|            1|      2015-08-25|            2015-09-25|        0|           2015-08-26|           1.0|\n",
      "|++RiX9CkiWQALlzU/...|               41|               30|          149.0|               0.0|            1|      2015-08-26|            2015-09-25|        1|           2015-08-26|           1.0|\n",
      "|++eWyD5lL+5DUiN4G...|               41|               30|          149.0|             149.0|            1|      2015-08-09|            2015-09-09|        0|           2015-08-10|           0.0|\n",
      "+--------------------+-----------------+-----------------+---------------+------------------+-------------+----------------+----------------------+---------+---------------------+--------------+\n",
      "only showing top 5 rows\n",
      "\n"
     ]
    },
    {
     "name": "stderr",
     "output_type": "stream",
     "text": [
      "                                                                                "
     ]
    },
    {
     "name": "stdout",
     "output_type": "stream",
     "text": [
      "saved to: gs://cs611_mle/datamart/gold/feature_store//gold_featurestore_2015_08_01.parquet\n",
      "loaded from: gs://cs611_mle/datamart/silver/transaction//silver_transaction_2015_09_01.parquet row count: 18999\n",
      "loaded from: gs://cs611_mle/datamart/silver/userlog//silver_userlog_2015_09_01.parquet row count: 17375\n",
      "loaded from: gs://cs611_mle/datamart/silver/member//silver_member.parquet row count: 50000\n",
      "+--------------------+-----------------+-----------------+---------------+------------------+-------------+----------------+----------------------+---------+---------------------+--------------+\n",
      "|                msno|payment_method_id|payment_plan_days|plan_list_price|actual_amount_paid|is_auto_renew|transaction_date|membership_expire_date|is_cancel|membership_start_date|discount_ratio|\n",
      "+--------------------+-----------------+-----------------+---------------+------------------+-------------+----------------+----------------------+---------+---------------------+--------------+\n",
      "|++5nB0VuUuyj9xlng...|               41|                0|            0.0|             129.0|            1|      2015-05-11|            2015-09-05|        0|           2015-09-05|           0.0|\n",
      "|++5nB0VuUuyj9xlng...|               41|               30|          129.0|             129.0|            1|      2015-06-11|            2015-10-05|        0|           2015-09-05|           0.0|\n",
      "|++5wYjoMgQHoRuD3G...|               39|               30|          149.0|             149.0|            1|      2015-08-31|            2015-10-21|        0|           2015-09-21|           0.0|\n",
      "|++IU7zZpfAGO1qdHB...|               41|               30|           99.0|              99.0|            1|      2015-09-10|            2015-10-10|        0|           2015-09-10|           0.0|\n",
      "|++eWyD5lL+5DUiN4G...|               41|               30|          149.0|             149.0|            1|      2015-09-09|            2015-10-09|        0|           2015-09-09|           0.0|\n",
      "+--------------------+-----------------+-----------------+---------------+------------------+-------------+----------------+----------------------+---------+---------------------+--------------+\n",
      "only showing top 5 rows\n",
      "\n"
     ]
    },
    {
     "name": "stderr",
     "output_type": "stream",
     "text": [
      "                                                                                "
     ]
    },
    {
     "name": "stdout",
     "output_type": "stream",
     "text": [
      "saved to: gs://cs611_mle/datamart/gold/feature_store//gold_featurestore_2015_09_01.parquet\n",
      "loaded from: gs://cs611_mle/datamart/silver/transaction//silver_transaction_2015_10_01.parquet row count: 20457\n",
      "loaded from: gs://cs611_mle/datamart/silver/userlog//silver_userlog_2015_10_01.parquet row count: 18714\n",
      "loaded from: gs://cs611_mle/datamart/silver/member//silver_member.parquet row count: 50000\n",
      "+--------------------+-----------------+-----------------+---------------+------------------+-------------+----------------+----------------------+---------+---------------------+--------------+\n",
      "|                msno|payment_method_id|payment_plan_days|plan_list_price|actual_amount_paid|is_auto_renew|transaction_date|membership_expire_date|is_cancel|membership_start_date|discount_ratio|\n",
      "+--------------------+-----------------+-----------------+---------------+------------------+-------------+----------------+----------------------+---------+---------------------+--------------+\n",
      "|++5nB0VuUuyj9xlng...|               41|               30|          129.0|             129.0|            1|      2015-07-11|            2015-11-05|        0|           2015-10-06|           0.0|\n",
      "|++5wYjoMgQHoRuD3G...|               39|               30|          149.0|             149.0|            1|      2015-09-30|            2015-11-21|        0|           2015-10-22|           0.0|\n",
      "|++IU7zZpfAGO1qdHB...|               41|               30|           99.0|              99.0|            1|      2015-10-10|            2015-11-10|        0|           2015-10-11|           0.0|\n",
      "|++eWyD5lL+5DUiN4G...|               41|               30|          149.0|             149.0|            1|      2015-10-09|            2015-11-09|        0|           2015-10-10|           0.0|\n",
      "|++jbV49/2rayAbDFc...|               41|               30|          149.0|             149.0|            1|      2015-04-17|            2015-11-16|        0|           2015-10-17|           0.0|\n",
      "+--------------------+-----------------+-----------------+---------------+------------------+-------------+----------------+----------------------+---------+---------------------+--------------+\n",
      "only showing top 5 rows\n",
      "\n"
     ]
    },
    {
     "name": "stderr",
     "output_type": "stream",
     "text": [
      "                                                                                "
     ]
    },
    {
     "name": "stdout",
     "output_type": "stream",
     "text": [
      "saved to: gs://cs611_mle/datamart/gold/feature_store//gold_featurestore_2015_10_01.parquet\n",
      "loaded from: gs://cs611_mle/datamart/silver/transaction//silver_transaction_2015_11_01.parquet row count: 20264\n",
      "loaded from: gs://cs611_mle/datamart/silver/userlog//silver_userlog_2015_11_01.parquet row count: 18370\n",
      "loaded from: gs://cs611_mle/datamart/silver/member//silver_member.parquet row count: 50000\n",
      "+--------------------+-----------------+-----------------+---------------+------------------+-------------+----------------+----------------------+---------+---------------------+--------------+\n",
      "|                msno|payment_method_id|payment_plan_days|plan_list_price|actual_amount_paid|is_auto_renew|transaction_date|membership_expire_date|is_cancel|membership_start_date|discount_ratio|\n",
      "+--------------------+-----------------+-----------------+---------------+------------------+-------------+----------------+----------------------+---------+---------------------+--------------+\n",
      "|++5nB0VuUuyj9xlng...|               41|               30|          129.0|             129.0|            1|      2015-08-11|            2015-12-06|        0|           2015-11-06|           0.0|\n",
      "|++5wYjoMgQHoRuD3G...|               39|               30|          149.0|             149.0|            1|      2015-11-02|            2015-12-21|        0|           2015-11-21|           0.0|\n",
      "|++IU7zZpfAGO1qdHB...|               41|               30|           99.0|              99.0|            1|      2015-11-10|            2015-12-10|        0|           2015-11-10|           0.0|\n",
      "|++eWyD5lL+5DUiN4G...|               41|               30|          149.0|             149.0|            1|      2015-11-09|            2015-12-09|        0|           2015-11-09|           0.0|\n",
      "|++jmANUQSjTA+JUn8...|               39|               30|          149.0|             149.0|            1|      2015-11-02|            2015-12-03|        0|           2015-11-03|           0.0|\n",
      "+--------------------+-----------------+-----------------+---------------+------------------+-------------+----------------+----------------------+---------+---------------------+--------------+\n",
      "only showing top 5 rows\n",
      "\n"
     ]
    },
    {
     "name": "stderr",
     "output_type": "stream",
     "text": [
      "                                                                                "
     ]
    },
    {
     "name": "stdout",
     "output_type": "stream",
     "text": [
      "saved to: gs://cs611_mle/datamart/gold/feature_store//gold_featurestore_2015_11_01.parquet\n",
      "loaded from: gs://cs611_mle/datamart/silver/transaction//silver_transaction_2015_12_01.parquet row count: 21106\n",
      "loaded from: gs://cs611_mle/datamart/silver/userlog//silver_userlog_2015_12_01.parquet row count: 19518\n",
      "loaded from: gs://cs611_mle/datamart/silver/member//silver_member.parquet row count: 50000\n",
      "+--------------------+-----------------+-----------------+---------------+------------------+-------------+----------------+----------------------+---------+---------------------+--------------+\n",
      "|                msno|payment_method_id|payment_plan_days|plan_list_price|actual_amount_paid|is_auto_renew|transaction_date|membership_expire_date|is_cancel|membership_start_date|discount_ratio|\n",
      "+--------------------+-----------------+-----------------+---------------+------------------+-------------+----------------+----------------------+---------+---------------------+--------------+\n",
      "|++5nB0VuUuyj9xlng...|               41|               30|          129.0|             129.0|            1|      2015-09-11|            2016-01-05|        0|           2015-12-06|           0.0|\n",
      "|++5wYjoMgQHoRuD3G...|               39|               30|          149.0|             149.0|            1|      2015-12-02|            2016-01-21|        0|           2015-12-22|           0.0|\n",
      "|++IU7zZpfAGO1qdHB...|               41|               30|           99.0|              99.0|            1|      2015-12-10|            2016-01-10|        0|           2015-12-11|           0.0|\n",
      "|++eWyD5lL+5DUiN4G...|               41|               30|          149.0|             149.0|            1|      2015-12-09|            2016-01-09|        0|           2015-12-10|           0.0|\n",
      "|++jbV49/2rayAbDFc...|               41|                0|            0.0|             119.0|            1|      2015-04-24|            2015-12-16|        0|           2015-12-16|           0.0|\n",
      "+--------------------+-----------------+-----------------+---------------+------------------+-------------+----------------+----------------------+---------+---------------------+--------------+\n",
      "only showing top 5 rows\n",
      "\n"
     ]
    },
    {
     "name": "stderr",
     "output_type": "stream",
     "text": [
      "                                                                                "
     ]
    },
    {
     "name": "stdout",
     "output_type": "stream",
     "text": [
      "saved to: gs://cs611_mle/datamart/gold/feature_store//gold_featurestore_2015_12_01.parquet\n",
      "loaded from: gs://cs611_mle/datamart/silver/transaction//silver_transaction_2016_01_01.parquet row count: 23378\n",
      "loaded from: gs://cs611_mle/datamart/silver/userlog//silver_userlog_2016_01_01.parquet row count: 21380\n",
      "loaded from: gs://cs611_mle/datamart/silver/member//silver_member.parquet row count: 50000\n",
      "+--------------------+-----------------+-----------------+---------------+------------------+-------------+----------------+----------------------+---------+---------------------+-------------------+\n",
      "|                msno|payment_method_id|payment_plan_days|plan_list_price|actual_amount_paid|is_auto_renew|transaction_date|membership_expire_date|is_cancel|membership_start_date|     discount_ratio|\n",
      "+--------------------+-----------------+-----------------+---------------+------------------+-------------+----------------+----------------------+---------+---------------------+-------------------+\n",
      "|++5nB0VuUuyj9xlng...|               41|               30|          129.0|             129.0|            1|      2015-10-11|            2016-02-05|        0|           2016-01-06|                0.0|\n",
      "|++IU7zZpfAGO1qdHB...|               41|               30|           99.0|              99.0|            1|      2016-01-10|            2016-02-10|        0|           2016-01-11|                0.0|\n",
      "|++OtuWs8cKG2710CC...|               38|               10|            0.0|               0.0|            0|      2016-01-02|            2016-02-02|        0|           2016-01-23|                0.0|\n",
      "|++eWyD5lL+5DUiN4G...|               41|               30|          149.0|             149.0|            1|      2016-01-09|            2016-02-09|        0|           2016-01-10|                0.0|\n",
      "|++jbV49/2rayAbDFc...|               41|               30|          149.0|             119.0|            1|      2015-05-24|            2016-02-16|        0|           2016-01-17|0.20134228187919462|\n",
      "+--------------------+-----------------+-----------------+---------------+------------------+-------------+----------------+----------------------+---------+---------------------+-------------------+\n",
      "only showing top 5 rows\n",
      "\n"
     ]
    },
    {
     "name": "stderr",
     "output_type": "stream",
     "text": [
      "                                                                                "
     ]
    },
    {
     "name": "stdout",
     "output_type": "stream",
     "text": [
      "saved to: gs://cs611_mle/datamart/gold/feature_store//gold_featurestore_2016_01_01.parquet\n",
      "loaded from: gs://cs611_mle/datamart/silver/transaction//silver_transaction_2016_02_01.parquet row count: 18909\n",
      "loaded from: gs://cs611_mle/datamart/silver/userlog//silver_userlog_2016_02_01.parquet row count: 17532\n",
      "loaded from: gs://cs611_mle/datamart/silver/member//silver_member.parquet row count: 50000\n",
      "+--------------------+-----------------+-----------------+---------------+------------------+-------------+----------------+----------------------+---------+---------------------+--------------+\n",
      "|                msno|payment_method_id|payment_plan_days|plan_list_price|actual_amount_paid|is_auto_renew|transaction_date|membership_expire_date|is_cancel|membership_start_date|discount_ratio|\n",
      "+--------------------+-----------------+-----------------+---------------+------------------+-------------+----------------+----------------------+---------+---------------------+--------------+\n",
      "|++5nB0VuUuyj9xlng...|               41|               30|          129.0|             129.0|            1|      2015-11-11|            2016-03-06|        0|           2016-02-05|           0.0|\n",
      "|++5nB0VuUuyj9xlng...|               41|               30|          129.0|             129.0|            1|      2015-12-10|            2016-03-04|        1|           2016-02-03|           0.0|\n",
      "|++5wYjoMgQHoRuD3G...|               39|               30|          149.0|             149.0|            1|      2016-01-31|            2016-03-21|        0|           2016-02-20|           0.0|\n",
      "|++IU7zZpfAGO1qdHB...|               41|               30|           99.0|              99.0|            1|      2016-02-10|            2016-03-10|        0|           2016-02-09|           0.0|\n",
      "|++OtuWs8cKG2710CC...|               38|               10|            0.0|               0.0|            0|      2016-02-04|            2016-02-14|        0|           2016-02-04|           0.0|\n",
      "+--------------------+-----------------+-----------------+---------------+------------------+-------------+----------------+----------------------+---------+---------------------+--------------+\n",
      "only showing top 5 rows\n",
      "\n"
     ]
    },
    {
     "name": "stderr",
     "output_type": "stream",
     "text": [
      "                                                                                "
     ]
    },
    {
     "name": "stdout",
     "output_type": "stream",
     "text": [
      "saved to: gs://cs611_mle/datamart/gold/feature_store//gold_featurestore_2016_02_01.parquet\n",
      "loaded from: gs://cs611_mle/datamart/silver/transaction//silver_transaction_2016_03_01.parquet row count: 21537\n",
      "loaded from: gs://cs611_mle/datamart/silver/userlog//silver_userlog_2016_03_01.parquet row count: 19844\n",
      "loaded from: gs://cs611_mle/datamart/silver/member//silver_member.parquet row count: 50000\n",
      "+--------------------+-----------------+-----------------+---------------+------------------+-------------+----------------+----------------------+---------+---------------------+-------------------+\n",
      "|                msno|payment_method_id|payment_plan_days|plan_list_price|actual_amount_paid|is_auto_renew|transaction_date|membership_expire_date|is_cancel|membership_start_date|     discount_ratio|\n",
      "+--------------------+-----------------+-----------------+---------------+------------------+-------------+----------------+----------------------+---------+---------------------+-------------------+\n",
      "|++5nB0VuUuyj9xlng...|               36|               30|          150.0|             150.0|            0|      2016-03-12|            2016-04-11|        0|           2016-03-12|                0.0|\n",
      "|++IU7zZpfAGO1qdHB...|               41|               30|           99.0|              99.0|            1|      2016-03-10|            2016-04-10|        0|           2016-03-11|                0.0|\n",
      "|++eWyD5lL+5DUiN4G...|               41|               30|          149.0|             149.0|            1|      2016-03-09|            2016-04-09|        0|           2016-03-10|                0.0|\n",
      "|++jbV49/2rayAbDFc...|               41|               30|          149.0|             119.0|            1|      2015-06-24|            2016-04-16|        0|           2016-03-17|0.20134228187919462|\n",
      "|++jbV49/2rayAbDFc...|               41|               30|           99.0|              99.0|            1|      2016-03-10|            2016-04-11|        0|           2016-03-12|                0.0|\n",
      "+--------------------+-----------------+-----------------+---------------+------------------+-------------+----------------+----------------------+---------+---------------------+-------------------+\n",
      "only showing top 5 rows\n",
      "\n"
     ]
    },
    {
     "name": "stderr",
     "output_type": "stream",
     "text": [
      "                                                                                "
     ]
    },
    {
     "name": "stdout",
     "output_type": "stream",
     "text": [
      "saved to: gs://cs611_mle/datamart/gold/feature_store//gold_featurestore_2016_03_01.parquet\n",
      "loaded from: gs://cs611_mle/datamart/silver/transaction//silver_transaction_2016_04_01.parquet row count: 18550\n",
      "loaded from: gs://cs611_mle/datamart/silver/userlog//silver_userlog_2016_04_01.parquet row count: 17318\n",
      "loaded from: gs://cs611_mle/datamart/silver/member//silver_member.parquet row count: 50000\n",
      "+--------------------+-----------------+-----------------+---------------+------------------+-------------+----------------+----------------------+---------+---------------------+--------------+\n",
      "|                msno|payment_method_id|payment_plan_days|plan_list_price|actual_amount_paid|is_auto_renew|transaction_date|membership_expire_date|is_cancel|membership_start_date|discount_ratio|\n",
      "+--------------------+-----------------+-----------------+---------------+------------------+-------------+----------------+----------------------+---------+---------------------+--------------+\n",
      "|++5nB0VuUuyj9xlng...|               36|               30|          180.0|             180.0|            0|      2016-04-12|            2016-05-12|        0|           2016-04-12|           0.0|\n",
      "|++IU7zZpfAGO1qdHB...|               41|               30|           99.0|              99.0|            1|      2016-04-10|            2016-05-10|        0|           2016-04-10|           0.0|\n",
      "|++eWyD5lL+5DUiN4G...|               41|               30|          149.0|             149.0|            1|      2016-04-09|            2016-05-09|        0|           2016-04-09|           0.0|\n",
      "|++eWyD5lL+5DUiN4G...|               41|               30|          149.0|             149.0|            1|      2016-05-07|            2016-05-07|        1|           2016-04-07|           0.0|\n",
      "|++jbV49/2rayAbDFc...|               41|               30|          149.0|             149.0|            1|      2015-07-17|            2016-05-17|        0|           2016-04-17|           0.0|\n",
      "+--------------------+-----------------+-----------------+---------------+------------------+-------------+----------------+----------------------+---------+---------------------+--------------+\n",
      "only showing top 5 rows\n",
      "\n"
     ]
    },
    {
     "name": "stderr",
     "output_type": "stream",
     "text": [
      "                                                                                "
     ]
    },
    {
     "name": "stdout",
     "output_type": "stream",
     "text": [
      "saved to: gs://cs611_mle/datamart/gold/feature_store//gold_featurestore_2016_04_01.parquet\n",
      "loaded from: gs://cs611_mle/datamart/silver/transaction//silver_transaction_2016_05_01.parquet row count: 21343\n",
      "loaded from: gs://cs611_mle/datamart/silver/userlog//silver_userlog_2016_05_01.parquet row count: 19879\n",
      "loaded from: gs://cs611_mle/datamart/silver/member//silver_member.parquet row count: 50000\n",
      "+--------------------+-----------------+-----------------+---------------+------------------+-------------+----------------+----------------------+---------+---------------------+-------------------+\n",
      "|                msno|payment_method_id|payment_plan_days|plan_list_price|actual_amount_paid|is_auto_renew|transaction_date|membership_expire_date|is_cancel|membership_start_date|     discount_ratio|\n",
      "+--------------------+-----------------+-----------------+---------------+------------------+-------------+----------------+----------------------+---------+---------------------+-------------------+\n",
      "|++IU7zZpfAGO1qdHB...|               41|               30|           99.0|              99.0|            1|      2016-05-10|            2016-06-10|        0|           2016-05-11|                0.0|\n",
      "|++eWyD5lL+5DUiN4G...|               41|               30|           99.0|              99.0|            1|      2016-05-07|            2016-06-07|        0|           2016-05-08|                0.0|\n",
      "|++jbV49/2rayAbDFc...|               41|               30|          149.0|             119.0|            1|      2015-07-24|            2016-06-17|        0|           2016-05-18|0.20134228187919462|\n",
      "|++jbV49/2rayAbDFc...|               41|               30|           99.0|              99.0|            1|      2016-05-10|            2016-06-11|        0|           2016-05-12|                0.0|\n",
      "|++rFX3KrIVKN7HjJ6...|               41|               30|          129.0|             129.0|            1|      2016-05-20|            2016-06-20|        0|           2016-05-21|                0.0|\n",
      "+--------------------+-----------------+-----------------+---------------+------------------+-------------+----------------+----------------------+---------+---------------------+-------------------+\n",
      "only showing top 5 rows\n",
      "\n"
     ]
    },
    {
     "name": "stderr",
     "output_type": "stream",
     "text": [
      "                                                                                "
     ]
    },
    {
     "name": "stdout",
     "output_type": "stream",
     "text": [
      "saved to: gs://cs611_mle/datamart/gold/feature_store//gold_featurestore_2016_05_01.parquet\n",
      "loaded from: gs://cs611_mle/datamart/silver/transaction//silver_transaction_2016_06_01.parquet row count: 18962\n",
      "loaded from: gs://cs611_mle/datamart/silver/userlog//silver_userlog_2016_06_01.parquet row count: 17590\n",
      "loaded from: gs://cs611_mle/datamart/silver/member//silver_member.parquet row count: 50000\n",
      "+--------------------+-----------------+-----------------+---------------+------------------+-------------+----------------+----------------------+---------+---------------------+--------------+\n",
      "|                msno|payment_method_id|payment_plan_days|plan_list_price|actual_amount_paid|is_auto_renew|transaction_date|membership_expire_date|is_cancel|membership_start_date|discount_ratio|\n",
      "+--------------------+-----------------+-----------------+---------------+------------------+-------------+----------------+----------------------+---------+---------------------+--------------+\n",
      "|++IU7zZpfAGO1qdHB...|               41|               30|           99.0|              99.0|            1|      2016-06-10|            2016-07-10|        0|           2016-06-10|           0.0|\n",
      "|++eWyD5lL+5DUiN4G...|               41|               30|           99.0|              99.0|            1|      2016-06-07|            2016-07-07|        0|           2016-06-07|           0.0|\n",
      "|++jbV49/2rayAbDFc...|               41|               30|          149.0|             149.0|            1|      2015-08-17|            2016-07-18|        0|           2016-06-18|           0.0|\n",
      "|++jbV49/2rayAbDFc...|               41|               30|           99.0|              99.0|            1|      2016-06-10|            2016-07-11|        0|           2016-06-11|           0.0|\n",
      "|++rFX3KrIVKN7HjJ6...|               41|               30|          129.0|             129.0|            1|      2016-06-20|            2016-07-20|        0|           2016-06-20|           0.0|\n",
      "+--------------------+-----------------+-----------------+---------------+------------------+-------------+----------------+----------------------+---------+---------------------+--------------+\n",
      "only showing top 5 rows\n",
      "\n"
     ]
    },
    {
     "name": "stderr",
     "output_type": "stream",
     "text": [
      "                                                                                "
     ]
    },
    {
     "name": "stdout",
     "output_type": "stream",
     "text": [
      "saved to: gs://cs611_mle/datamart/gold/feature_store//gold_featurestore_2016_06_01.parquet\n",
      "loaded from: gs://cs611_mle/datamart/silver/transaction//silver_transaction_2016_07_01.parquet row count: 20692\n",
      "loaded from: gs://cs611_mle/datamart/silver/userlog//silver_userlog_2016_07_01.parquet row count: 19221\n",
      "loaded from: gs://cs611_mle/datamart/silver/member//silver_member.parquet row count: 50000\n",
      "+--------------------+-----------------+-----------------+---------------+------------------+-------------+----------------+----------------------+---------+---------------------+-------------------+\n",
      "|                msno|payment_method_id|payment_plan_days|plan_list_price|actual_amount_paid|is_auto_renew|transaction_date|membership_expire_date|is_cancel|membership_start_date|     discount_ratio|\n",
      "+--------------------+-----------------+-----------------+---------------+------------------+-------------+----------------+----------------------+---------+---------------------+-------------------+\n",
      "|++IU7zZpfAGO1qdHB...|               41|               30|           99.0|              99.0|            1|      2016-07-10|            2016-08-10|        0|           2016-07-11|                0.0|\n",
      "|++eWyD5lL+5DUiN4G...|               41|               30|           99.0|              99.0|            1|      2016-07-07|            2016-08-07|        0|           2016-07-08|                0.0|\n",
      "|++jbV49/2rayAbDFc...|               41|               30|          149.0|             119.0|            1|      2015-08-24|            2016-08-18|        0|           2016-07-19|0.20134228187919462|\n",
      "|++jbV49/2rayAbDFc...|               41|               30|           99.0|              99.0|            1|      2016-07-10|            2016-08-11|        0|           2016-07-12|                0.0|\n",
      "|++rFX3KrIVKN7HjJ6...|               41|               30|          129.0|             129.0|            1|      2016-07-20|            2016-08-20|        0|           2016-07-21|                0.0|\n",
      "+--------------------+-----------------+-----------------+---------------+------------------+-------------+----------------+----------------------+---------+---------------------+-------------------+\n",
      "only showing top 5 rows\n",
      "\n"
     ]
    },
    {
     "name": "stderr",
     "output_type": "stream",
     "text": [
      "                                                                                "
     ]
    },
    {
     "name": "stdout",
     "output_type": "stream",
     "text": [
      "saved to: gs://cs611_mle/datamart/gold/feature_store//gold_featurestore_2016_07_01.parquet\n",
      "loaded from: gs://cs611_mle/datamart/silver/transaction//silver_transaction_2016_08_01.parquet row count: 25028\n",
      "loaded from: gs://cs611_mle/datamart/silver/userlog//silver_userlog_2016_08_01.parquet row count: 23217\n",
      "loaded from: gs://cs611_mle/datamart/silver/member//silver_member.parquet row count: 50000\n",
      "+--------------------+-----------------+-----------------+---------------+------------------+-------------+----------------+----------------------+---------+---------------------+--------------+\n",
      "|                msno|payment_method_id|payment_plan_days|plan_list_price|actual_amount_paid|is_auto_renew|transaction_date|membership_expire_date|is_cancel|membership_start_date|discount_ratio|\n",
      "+--------------------+-----------------+-----------------+---------------+------------------+-------------+----------------+----------------------+---------+---------------------+--------------+\n",
      "|++5wYjoMgQHoRuD3G...|               39|               30|          149.0|             149.0|            1|      2016-07-31|            2016-09-21|        0|           2016-08-22|           0.0|\n",
      "|++IU7zZpfAGO1qdHB...|               41|               30|           99.0|              99.0|            1|      2016-08-10|            2016-09-10|        0|           2016-08-11|           0.0|\n",
      "|++eWyD5lL+5DUiN4G...|               41|               30|           99.0|              99.0|            1|      2016-08-07|            2016-09-07|        0|           2016-08-08|           0.0|\n",
      "|++jbV49/2rayAbDFc...|               41|               30|          149.0|             149.0|            1|      2015-09-17|            2016-09-17|        0|           2016-08-18|           0.0|\n",
      "|++jbV49/2rayAbDFc...|               41|               30|           99.0|              99.0|            1|      2016-08-10|            2016-09-11|        0|           2016-08-12|           0.0|\n",
      "+--------------------+-----------------+-----------------+---------------+------------------+-------------+----------------+----------------------+---------+---------------------+--------------+\n",
      "only showing top 5 rows\n",
      "\n"
     ]
    },
    {
     "name": "stderr",
     "output_type": "stream",
     "text": [
      "                                                                                "
     ]
    },
    {
     "name": "stdout",
     "output_type": "stream",
     "text": [
      "saved to: gs://cs611_mle/datamart/gold/feature_store//gold_featurestore_2016_08_01.parquet\n",
      "loaded from: gs://cs611_mle/datamart/silver/transaction//silver_transaction_2016_09_01.parquet row count: 21389\n",
      "loaded from: gs://cs611_mle/datamart/silver/userlog//silver_userlog_2016_09_01.parquet row count: 19907\n",
      "loaded from: gs://cs611_mle/datamart/silver/member//silver_member.parquet row count: 50000\n",
      "+--------------------+-----------------+-----------------+---------------+------------------+-------------+----------------+----------------------+---------+---------------------+-------------------+\n",
      "|                msno|payment_method_id|payment_plan_days|plan_list_price|actual_amount_paid|is_auto_renew|transaction_date|membership_expire_date|is_cancel|membership_start_date|     discount_ratio|\n",
      "+--------------------+-----------------+-----------------+---------------+------------------+-------------+----------------+----------------------+---------+---------------------+-------------------+\n",
      "|++5wYjoMgQHoRuD3G...|               39|               30|          149.0|             149.0|            1|      2016-08-31|            2016-10-21|        0|           2016-09-21|                0.0|\n",
      "|++IU7zZpfAGO1qdHB...|               41|               30|           99.0|              99.0|            1|      2016-09-10|            2016-10-10|        0|           2016-09-10|                0.0|\n",
      "|++RiX9CkiWQALlzU/...|               41|               30|           99.0|              99.0|            1|      2016-09-02|            2016-10-01|        0|           2016-09-01|                0.0|\n",
      "|++eWyD5lL+5DUiN4G...|               41|               30|           99.0|              99.0|            1|      2016-09-07|            2016-10-07|        0|           2016-09-07|                0.0|\n",
      "|++jbV49/2rayAbDFc...|               41|               30|          149.0|             119.0|            1|      2015-09-24|            2016-10-17|        0|           2016-09-17|0.20134228187919462|\n",
      "+--------------------+-----------------+-----------------+---------------+------------------+-------------+----------------+----------------------+---------+---------------------+-------------------+\n",
      "only showing top 5 rows\n",
      "\n"
     ]
    },
    {
     "name": "stderr",
     "output_type": "stream",
     "text": [
      "                                                                                "
     ]
    },
    {
     "name": "stdout",
     "output_type": "stream",
     "text": [
      "saved to: gs://cs611_mle/datamart/gold/feature_store//gold_featurestore_2016_09_01.parquet\n",
      "loaded from: gs://cs611_mle/datamart/silver/transaction//silver_transaction_2016_10_01.parquet row count: 25381\n",
      "loaded from: gs://cs611_mle/datamart/silver/userlog//silver_userlog_2016_10_01.parquet row count: 23313\n",
      "loaded from: gs://cs611_mle/datamart/silver/member//silver_member.parquet row count: 50000\n",
      "+--------------------+-----------------+-----------------+---------------+------------------+-------------+----------------+----------------------+---------+---------------------+--------------+\n",
      "|                msno|payment_method_id|payment_plan_days|plan_list_price|actual_amount_paid|is_auto_renew|transaction_date|membership_expire_date|is_cancel|membership_start_date|discount_ratio|\n",
      "+--------------------+-----------------+-----------------+---------------+------------------+-------------+----------------+----------------------+---------+---------------------+--------------+\n",
      "|++5wYjoMgQHoRuD3G...|               39|               30|          149.0|             149.0|            1|      2016-09-30|            2016-11-21|        0|           2016-10-22|           0.0|\n",
      "|++IU7zZpfAGO1qdHB...|               41|               30|           99.0|              99.0|            1|      2016-10-10|            2016-11-10|        0|           2016-10-11|           0.0|\n",
      "|++RiX9CkiWQALlzU/...|               41|               30|           99.0|              99.0|            1|      2016-10-01|            2016-11-01|        0|           2016-10-02|           0.0|\n",
      "|++eWyD5lL+5DUiN4G...|               41|               30|           99.0|              99.0|            1|      2016-10-07|            2016-11-07|        0|           2016-10-08|           0.0|\n",
      "|++jbV49/2rayAbDFc...|               41|               30|          149.0|             149.0|            1|      2015-10-17|            2016-11-17|        0|           2016-10-18|           0.0|\n",
      "+--------------------+-----------------+-----------------+---------------+------------------+-------------+----------------+----------------------+---------+---------------------+--------------+\n",
      "only showing top 5 rows\n",
      "\n"
     ]
    },
    {
     "name": "stderr",
     "output_type": "stream",
     "text": [
      "                                                                                "
     ]
    },
    {
     "name": "stdout",
     "output_type": "stream",
     "text": [
      "saved to: gs://cs611_mle/datamart/gold/feature_store//gold_featurestore_2016_10_01.parquet\n",
      "loaded from: gs://cs611_mle/datamart/silver/transaction//silver_transaction_2016_11_01.parquet row count: 22375\n",
      "loaded from: gs://cs611_mle/datamart/silver/userlog//silver_userlog_2016_11_01.parquet row count: 20383\n",
      "loaded from: gs://cs611_mle/datamart/silver/member//silver_member.parquet row count: 50000\n",
      "+--------------------+-----------------+-----------------+---------------+------------------+-------------+----------------+----------------------+---------+---------------------+--------------+\n",
      "|                msno|payment_method_id|payment_plan_days|plan_list_price|actual_amount_paid|is_auto_renew|transaction_date|membership_expire_date|is_cancel|membership_start_date|discount_ratio|\n",
      "+--------------------+-----------------+-----------------+---------------+------------------+-------------+----------------+----------------------+---------+---------------------+--------------+\n",
      "|++4qZOZ7rISM4nY9x...|               35|                7|            0.0|               0.0|            0|      2016-11-07|            2016-11-14|        0|           2016-11-07|           0.0|\n",
      "|++5wYjoMgQHoRuD3G...|               39|               30|          149.0|             149.0|            1|      2016-10-31|            2016-12-21|        0|           2016-11-21|           0.0|\n",
      "|++IU7zZpfAGO1qdHB...|               41|               30|           99.0|              99.0|            1|      2016-11-10|            2016-12-10|        0|           2016-11-10|           0.0|\n",
      "|++RiX9CkiWQALlzU/...|               41|               30|           99.0|              99.0|            1|      2016-11-01|            2016-12-01|        0|           2016-11-01|           0.0|\n",
      "|++eWyD5lL+5DUiN4G...|               41|               30|           99.0|              99.0|            1|      2016-11-07|            2016-12-07|        0|           2016-11-07|           0.0|\n",
      "+--------------------+-----------------+-----------------+---------------+------------------+-------------+----------------+----------------------+---------+---------------------+--------------+\n",
      "only showing top 5 rows\n",
      "\n"
     ]
    },
    {
     "name": "stderr",
     "output_type": "stream",
     "text": [
      "                                                                                "
     ]
    },
    {
     "name": "stdout",
     "output_type": "stream",
     "text": [
      "saved to: gs://cs611_mle/datamart/gold/feature_store//gold_featurestore_2016_11_01.parquet\n",
      "loaded from: gs://cs611_mle/datamart/silver/transaction//silver_transaction_2016_12_01.parquet row count: 22969\n",
      "loaded from: gs://cs611_mle/datamart/silver/userlog//silver_userlog_2016_12_01.parquet row count: 21491\n",
      "loaded from: gs://cs611_mle/datamart/silver/member//silver_member.parquet row count: 50000\n",
      "+--------------------+-----------------+-----------------+---------------+------------------+-------------+----------------+----------------------+---------+---------------------+--------------+\n",
      "|                msno|payment_method_id|payment_plan_days|plan_list_price|actual_amount_paid|is_auto_renew|transaction_date|membership_expire_date|is_cancel|membership_start_date|discount_ratio|\n",
      "+--------------------+-----------------+-----------------+---------------+------------------+-------------+----------------+----------------------+---------+---------------------+--------------+\n",
      "|++5wYjoMgQHoRuD3G...|               39|               30|          149.0|             149.0|            1|      2016-11-30|            2017-01-21|        0|           2016-12-22|           0.0|\n",
      "|++IU7zZpfAGO1qdHB...|               41|               30|           99.0|              99.0|            1|      2016-12-10|            2017-01-10|        0|           2016-12-11|           0.0|\n",
      "|++RiX9CkiWQALlzU/...|               41|               30|           99.0|              99.0|            1|      2016-12-01|            2017-01-01|        0|           2016-12-02|           0.0|\n",
      "|++eWyD5lL+5DUiN4G...|               41|               30|           99.0|              99.0|            1|      2016-12-07|            2017-01-07|        0|           2016-12-08|           0.0|\n",
      "|++jbV49/2rayAbDFc...|               41|               30|          149.0|             149.0|            1|      2015-11-17|            2017-01-17|        0|           2016-12-18|           0.0|\n",
      "+--------------------+-----------------+-----------------+---------------+------------------+-------------+----------------+----------------------+---------+---------------------+--------------+\n",
      "only showing top 5 rows\n",
      "\n"
     ]
    },
    {
     "name": "stderr",
     "output_type": "stream",
     "text": [
      "                                                                                "
     ]
    },
    {
     "name": "stdout",
     "output_type": "stream",
     "text": [
      "saved to: gs://cs611_mle/datamart/gold/feature_store//gold_featurestore_2016_12_01.parquet\n",
      "loaded from: gs://cs611_mle/datamart/silver/transaction//silver_transaction_2017_01_01.parquet row count: 26778\n",
      "loaded from: gs://cs611_mle/datamart/silver/userlog//silver_userlog_2017_01_01.parquet row count: 24947\n",
      "loaded from: gs://cs611_mle/datamart/silver/member//silver_member.parquet row count: 50000\n",
      "+--------------------+-----------------+-----------------+---------------+------------------+-------------+----------------+----------------------+---------+---------------------+--------------+\n",
      "|                msno|payment_method_id|payment_plan_days|plan_list_price|actual_amount_paid|is_auto_renew|transaction_date|membership_expire_date|is_cancel|membership_start_date|discount_ratio|\n",
      "+--------------------+-----------------+-----------------+---------------+------------------+-------------+----------------+----------------------+---------+---------------------+--------------+\n",
      "|++5wYjoMgQHoRuD3G...|               39|               30|          149.0|             149.0|            1|      2016-12-31|            2017-02-21|        0|           2017-01-22|           0.0|\n",
      "|++IU7zZpfAGO1qdHB...|               41|               30|           99.0|              99.0|            1|      2017-01-10|            2017-02-10|        0|           2017-01-11|           0.0|\n",
      "|++RiX9CkiWQALlzU/...|               41|               30|           99.0|              99.0|            1|      2017-01-01|            2017-02-01|        0|           2017-01-02|           0.0|\n",
      "|++RiX9CkiWQALlzU/...|               41|               30|           99.0|              99.0|            1|      2017-02-01|            2017-03-01|        0|           2017-01-30|           0.0|\n",
      "|++eWyD5lL+5DUiN4G...|               41|               30|           99.0|              99.0|            1|      2017-01-07|            2017-02-07|        0|           2017-01-08|           0.0|\n",
      "+--------------------+-----------------+-----------------+---------------+------------------+-------------+----------------+----------------------+---------+---------------------+--------------+\n",
      "only showing top 5 rows\n",
      "\n"
     ]
    },
    {
     "name": "stderr",
     "output_type": "stream",
     "text": [
      "                                                                                "
     ]
    },
    {
     "name": "stdout",
     "output_type": "stream",
     "text": [
      "saved to: gs://cs611_mle/datamart/gold/feature_store//gold_featurestore_2017_01_01.parquet\n",
      "loaded from: gs://cs611_mle/datamart/silver/transaction//silver_transaction_2017_02_01.parquet row count: 19328\n",
      "loaded from: gs://cs611_mle/datamart/silver/userlog//silver_userlog_2017_02_01.parquet row count: 18106\n",
      "loaded from: gs://cs611_mle/datamart/silver/member//silver_member.parquet row count: 50000\n",
      "+--------------------+-----------------+-----------------+---------------+------------------+-------------+----------------+----------------------+---------+---------------------+--------------+\n",
      "|                msno|payment_method_id|payment_plan_days|plan_list_price|actual_amount_paid|is_auto_renew|transaction_date|membership_expire_date|is_cancel|membership_start_date|discount_ratio|\n",
      "+--------------------+-----------------+-----------------+---------------+------------------+-------------+----------------+----------------------+---------+---------------------+--------------+\n",
      "|++5wYjoMgQHoRuD3G...|               39|               30|          149.0|             149.0|            1|      2017-01-31|            2017-03-21|        0|           2017-02-19|           0.0|\n",
      "|++IU7zZpfAGO1qdHB...|               41|               30|           99.0|              99.0|            1|      2017-02-10|            2017-03-10|        0|           2017-02-08|           0.0|\n",
      "|++eWyD5lL+5DUiN4G...|               41|               30|           99.0|              99.0|            1|      2017-02-07|            2017-03-07|        0|           2017-02-05|           0.0|\n",
      "|++jbV49/2rayAbDFc...|               41|               30|           99.0|              99.0|            1|      2016-01-10|            2017-03-29|        0|           2017-02-27|           0.0|\n",
      "|++jbV49/2rayAbDFc...|               41|               30|           99.0|              99.0|            1|      2017-02-10|            2017-03-11|        0|           2017-02-09|           0.0|\n",
      "+--------------------+-----------------+-----------------+---------------+------------------+-------------+----------------+----------------------+---------+---------------------+--------------+\n",
      "only showing top 5 rows\n",
      "\n"
     ]
    },
    {
     "name": "stderr",
     "output_type": "stream",
     "text": [
      "                                                                                "
     ]
    },
    {
     "name": "stdout",
     "output_type": "stream",
     "text": [
      "saved to: gs://cs611_mle/datamart/gold/feature_store//gold_featurestore_2017_02_01.parquet\n",
      "loaded from: gs://cs611_mle/datamart/silver/transaction//silver_transaction_2017_03_01.parquet row count: 1823\n",
      "loaded from: gs://cs611_mle/datamart/silver/userlog//silver_userlog_2017_03_01.parquet row count: 1647\n",
      "loaded from: gs://cs611_mle/datamart/silver/member//silver_member.parquet row count: 50000\n",
      "+--------------------+-----------------+-----------------+---------------+------------------+-------------+----------------+----------------------+---------+---------------------+--------------+\n",
      "|                msno|payment_method_id|payment_plan_days|plan_list_price|actual_amount_paid|is_auto_renew|transaction_date|membership_expire_date|is_cancel|membership_start_date|discount_ratio|\n",
      "+--------------------+-----------------+-----------------+---------------+------------------+-------------+----------------+----------------------+---------+---------------------+--------------+\n",
      "|+3gBpPePZrN6rcFLh...|               33|               30|          149.0|             149.0|            1|      2017-02-28|            2017-03-31|        0|           2017-03-01|           0.0|\n",
      "|+4B6l6r0PhMTYZROR...|               31|               30|          149.0|             149.0|            1|      2017-02-28|            2017-03-31|        0|           2017-03-01|           0.0|\n",
      "|+4Q2mV/JrvxS7dNKQ...|               40|               30|          149.0|             149.0|            1|      2017-03-01|            2017-03-31|        0|           2017-03-01|           0.0|\n",
      "|+5mp+K4DJMn3wQFFc...|               31|               30|          149.0|             149.0|            1|      2017-02-28|            2017-03-31|        0|           2017-03-01|           0.0|\n",
      "|+6MmKI57a/OaoSfFw...|               30|               30|          129.0|             129.0|            1|      2017-03-01|            2017-03-31|        0|           2017-03-01|           0.0|\n",
      "+--------------------+-----------------+-----------------+---------------+------------------+-------------+----------------+----------------------+---------+---------------------+--------------+\n",
      "only showing top 5 rows\n",
      "\n"
     ]
    },
    {
     "name": "stderr",
     "output_type": "stream",
     "text": [
      "                                                                                "
     ]
    },
    {
     "name": "stdout",
     "output_type": "stream",
     "text": [
      "saved to: gs://cs611_mle/datamart/gold/feature_store//gold_featurestore_2017_03_01.parquet\n"
     ]
    }
   ],
   "source": [
    "for date_str in dates_str_lst:\n",
    "    utils.gold.process_gold_featurestore(date_str, bucket_name, actual_silver_transaction_directory, silver_userlog_directory, silver_member_directory, gold_feature_store_directory, spark)"
   ]
  },
  {
   "cell_type": "code",
   "execution_count": 23,
   "id": "4313441f-264a-4f39-9845-0230710de5fd",
   "metadata": {},
   "outputs": [],
   "source": [
    "\n",
    "\n",
    "# # =========== 修改成你的 GCS 路径 ============\n",
    "\n",
    "# transaction_parquet_path = f\"gs://{bucket_name}/{actual_silver_transaction_directory}/silver_transaction_2015_01_01.parquet\"\n",
    "# userlog_parquet_path = f\"gs://{bucket_name}/{silver_userlog_directory}/silver_userlog_2015_01_01.parquet\"\n",
    "# member_parquet_path = f\"gs://{bucket_name}/{silver_member_directory}/silver_member.parquet\"\n",
    "\n",
    "\n",
    "# # ======== 读取 Parquet 文件为 DataFrame ========\n",
    "# df_transaction = spark.read.parquet(transaction_parquet_path)\n",
    "# df_userlog = spark.read.parquet(userlog_parquet_path)\n",
    "# df_member = spark.read.parquet(member_parquet_path)\n",
    "\n",
    "# # ======== 展示前 20 行 ========\n",
    "# print(\"=== Transaction Table Preview ===\")\n",
    "# # df_transaction.show(20, truncate=False)\n",
    "# df_transaction.toPandas().head()\n",
    "\n",
    "\n",
    "# print(\"=== Userlog Table Preview ===\")\n",
    "# # df_userlog.show(20, truncate=False)\n",
    "# df_userlog.toPandas().head()\n",
    "\n",
    "# print(\"=== Member Table Preview ===\")\n",
    "# # df_member.show(20, truncate=False)\n",
    "# df_member.toPandas().head()\n",
    "\n",
    "# # ======== 保存为 CSV 文件 ========\n",
    "# # df_transaction.write.mode(\"overwrite\").option(\"header\", \"true\").csv(transaction_csv_path)\n",
    "# # df_userlog.write.mode(\"overwrite\").option(\"header\", \"true\").csv(userlog_csv_path)\n",
    "# # df_member.write.mode(\"overwrite\").option(\"header\", \"true\").csv(member_csv_path)\n",
    "\n",
    "# # print(\"✅ Conversion complete. CSV files saved.\")"
   ]
  },
  {
   "cell_type": "code",
   "execution_count": 25,
   "id": "ab15dbd7-5ee7-4a07-8211-dc56df23ee76",
   "metadata": {},
   "outputs": [],
   "source": [
    "# print(\"=== Userlog Table Preview ===\")\n",
    "# # df_userlog.show(20, truncate=False)\n",
    "# df_userlog.toPandas().head(20)"
   ]
  },
  {
   "cell_type": "code",
   "execution_count": 26,
   "id": "387d186a-04b8-4db7-b641-293a9323112e",
   "metadata": {},
   "outputs": [],
   "source": [
    "# print(\"=== Transaction Table Preview ===\")\n",
    "# # df_transaction.show(20, truncate=False)\n",
    "# df_transaction.toPandas().head(20)"
   ]
  },
  {
   "cell_type": "code",
   "execution_count": null,
   "id": "0b774166-5f76-44b2-9f0d-909151822306",
   "metadata": {},
   "outputs": [],
   "source": []
  }
 ],
 "metadata": {
  "kernelspec": {
   "display_name": "base",
   "language": "python",
   "name": "python3"
  },
  "language_info": {
   "codemirror_mode": {
    "name": "ipython",
    "version": 3
   },
   "file_extension": ".py",
   "mimetype": "text/x-python",
   "name": "python",
   "nbconvert_exporter": "python",
   "pygments_lexer": "ipython3",
   "version": "3.11.7"
  }
 },
 "nbformat": 4,
 "nbformat_minor": 5
}
