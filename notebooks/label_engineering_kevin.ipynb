{
  "cells": [
    {
      "cell_type": "code",
      "execution_count": 1,
      "id": "9f5a220f",
      "metadata": {
        "id": "9f5a220f"
      },
      "outputs": [],
      "source": [
        "import os\n",
        "import numpy as np\n",
        "import pandas as pd\n",
        "import matplotlib.pyplot as plt\n",
        "import seaborn as sns\n",
        "from tqdm import tqdm\n",
        "\n",
        "from matplotlib.ticker import PercentFormatter\n",
        "import matplotlib.ticker as mtick\n",
        "\n",
        "bucket_name = \"cs611_mle\""
      ]
    },
    {
      "cell_type": "markdown",
      "id": "fK1Tmx0AEtIf",
      "metadata": {
        "id": "fK1Tmx0AEtIf"
      },
      "source": [
        "## Connect to GCP"
      ]
    },
    {
      "cell_type": "code",
      "execution_count": 2,
      "id": "bHonG5OJFPxM",
      "metadata": {
        "id": "bHonG5OJFPxM"
      },
      "outputs": [],
      "source": [
        "try:\n",
        "    import google.colab\n",
        "    from google.colab import auth\n",
        "    auth.authenticate_user()\n",
        "    project_id = \"sound-memory-457612-b8\"\n",
        "    os.environ['GOOGLE_CLOUD_PROJECT'] = project_id\n",
        "except:\n",
        "    pass"
      ]
    },
    {
      "cell_type": "markdown",
      "id": "4d9e798c-e389-480a-869b-c0270be09855",
      "metadata": {
        "id": "4d9e798c-e389-480a-869b-c0270be09855"
      },
      "source": [
        "## Bronze Layer"
      ]
    },
    {
      "cell_type": "markdown",
      "id": "3ndwaT2nuWlm",
      "metadata": {
        "id": "3ndwaT2nuWlm"
      },
      "source": [
        "To determine whether a user churns in a certain membership plan or not, only the transactions dataset will be used. Therefore, in the label engineering part, only transactions.csv will be processed to follow the medallion architecture. Other tables will be processed in the feature engineering part."
      ]
    },
    {
      "cell_type": "code",
      "execution_count": 5,
      "id": "4f60b7bc-17c6-4b03-995f-a5b93574a7da",
      "metadata": {
        "id": "4f60b7bc-17c6-4b03-995f-a5b93574a7da"
      },
      "outputs": [],
      "source": [
        "### Ingesting data from Google Cloud Storage\n",
        "transactions_file_path = \"Data Source/transactions_50k.csv\"\n",
        "transactions_gcs_path = f\"gs://{bucket_name}/{transactions_file_path}\"\n",
        "\n",
        "df_transactions = pd.read_csv(transactions_gcs_path)"
      ]
    },
    {
      "cell_type": "code",
      "execution_count": 29,
      "id": "552f776a-90ca-4971-b132-5df0b8a56d97",
      "metadata": {
        "colab": {
          "base_uri": "https://localhost:8080/"
        },
        "id": "552f776a-90ca-4971-b132-5df0b8a56d97",
        "outputId": "2cbfb6f2-bb0d-489c-e436-ee8de2c86054"
      },
      "outputs": [
        {
          "name": "stdout",
          "output_type": "stream",
          "text": [
            "transactions.shape: (567004, 11)\n"
          ]
        }
      ],
      "source": [
        "print(f\"transactions.shape: {df_transactions.shape}\")"
      ]
    },
    {
      "cell_type": "code",
      "execution_count": 30,
      "id": "2cd556b1-8c93-41ea-b71f-88d0355ca48e",
      "metadata": {
        "colab": {
          "base_uri": "https://localhost:8080/"
        },
        "id": "2cd556b1-8c93-41ea-b71f-88d0355ca48e",
        "outputId": "9f3538f6-6c52-4ee0-9a70-a1d6da23163f"
      },
      "outputs": [
        {
          "name": "stdout",
          "output_type": "stream",
          "text": [
            "---------------transactions.information---------------\n",
            "<class 'pandas.core.frame.DataFrame'>\n",
            "RangeIndex: 567004 entries, 0 to 567003\n",
            "Data columns (total 11 columns):\n",
            " #   Column                  Non-Null Count   Dtype \n",
            "---  ------                  --------------   ----- \n",
            " 0   Unnamed: 0.1            567004 non-null  int64 \n",
            " 1   Unnamed: 0              567004 non-null  int64 \n",
            " 2   msno                    567004 non-null  object\n",
            " 3   payment_method_id       567004 non-null  int64 \n",
            " 4   payment_plan_days       567004 non-null  int64 \n",
            " 5   plan_list_price         567004 non-null  int64 \n",
            " 6   actual_amount_paid      567004 non-null  int64 \n",
            " 7   is_auto_renew           567004 non-null  int64 \n",
            " 8   transaction_date        567004 non-null  int64 \n",
            " 9   membership_expire_date  567004 non-null  int64 \n",
            " 10  is_cancel               567004 non-null  int64 \n",
            "dtypes: int64(10), object(1)\n",
            "memory usage: 47.6+ MB\n",
            "None\n"
          ]
        }
      ],
      "source": [
        "print(\"---------------transactions.information---------------\")\n",
        "print(df_transactions.info())"
      ]
    },
    {
      "cell_type": "code",
      "execution_count": 31,
      "id": "a549643d-6bb7-4a88-a877-f635033f7d49",
      "metadata": {
        "colab": {
          "base_uri": "https://localhost:8080/"
        },
        "id": "a549643d-6bb7-4a88-a877-f635033f7d49",
        "outputId": "034b8b48-26bb-4516-bd24-491bb5f8dfcd"
      },
      "outputs": [
        {
          "name": "stdout",
          "output_type": "stream",
          "text": [
            "bronze_transactions.csv Stored to Bronze Layer Successfully! ✅\n"
          ]
        }
      ],
      "source": [
        "# Create bronze tables and store to Google Cloud Storage\n",
        "bronze_transactions_file_path = \"Bronze Layer/bronze_transactions.csv\"\n",
        "bronze_transactions_gcs_path = f\"gs://{bucket_name}/{bronze_transactions_file_path}\"\n",
        "\n",
        "try:\n",
        "    df_transactions.to_csv(bronze_transactions_gcs_path, index=False)\n",
        "    print(\"bronze_transactions.csv Stored to Bronze Layer Successfully! ✅\")\n",
        "except Exception as e:\n",
        "    print(f\"bronze_transactions.csv Store Failed: {e}\")"
      ]
    },
    {
      "cell_type": "markdown",
      "id": "8f324639-9857-40a0-9764-0a32967dd8d1",
      "metadata": {
        "id": "8f324639-9857-40a0-9764-0a32967dd8d1"
      },
      "source": [
        "## Silver Layer"
      ]
    },
    {
      "cell_type": "code",
      "execution_count": 28,
      "id": "Z4ec9y26gaS4",
      "metadata": {
        "id": "Z4ec9y26gaS4"
      },
      "outputs": [],
      "source": [
        "### Ingesting data from Google Cloud Storage\n",
        "bronze_transactions_file_path = \"Bronze Layer/bronze_transactions.csv\"\n",
        "bronze_transactions_gcs_path = f\"gs://{bucket_name}/{bronze_transactions_file_path}\"\n",
        "\n",
        "df_transactions = pd.read_csv(bronze_transactions_gcs_path)"
      ]
    },
    {
      "cell_type": "code",
      "execution_count": 32,
      "id": "ca9d0c67-e107-4397-a7cc-7f6acc7bec5b",
      "metadata": {
        "id": "ca9d0c67-e107-4397-a7cc-7f6acc7bec5b"
      },
      "outputs": [],
      "source": [
        "df_transactions = df_transactions.drop(columns=['Unnamed: 0'])\n",
        "df_transactions['transaction_date'] = pd.to_datetime(df_transactions['transaction_date'], format='%Y%m%d')\n",
        "df_transactions['membership_expire_date'] = pd.to_datetime(df_transactions['membership_expire_date'], format='%Y%m%d')\n",
        "df_transactions['membership_start_date'] = (\n",
        "    df_transactions['membership_expire_date'] -\n",
        "    pd.to_timedelta(df_transactions['payment_plan_days'], unit='D')\n",
        ")\n",
        "# df_transactions = df_transactions.sort_values(by=['msno', 'membership_expire_date', 'transaction_date'])\n",
        "df_transactions = df_transactions.sort_values(by=['msno', 'transaction_date', 'membership_expire_date'])"
      ]
    },
    {
      "cell_type": "code",
      "execution_count": 33,
      "id": "5f595875-de3c-4288-9cc4-454cb2b35fae",
      "metadata": {
        "colab": {
          "base_uri": "https://localhost:8080/",
          "height": 397
        },
        "id": "5f595875-de3c-4288-9cc4-454cb2b35fae",
        "outputId": "8b7d2789-1a7f-4d89-86b4-e9488254c5fd"
      },
      "outputs": [
        {
          "data": {
            "text/plain": [
              "Unnamed: 0.1              0\n",
              "msno                      0\n",
              "payment_method_id         0\n",
              "payment_plan_days         0\n",
              "plan_list_price           0\n",
              "actual_amount_paid        0\n",
              "is_auto_renew             0\n",
              "transaction_date          0\n",
              "membership_expire_date    0\n",
              "is_cancel                 0\n",
              "membership_start_date     0\n",
              "dtype: int64"
            ]
          },
          "execution_count": 33,
          "metadata": {},
          "output_type": "execute_result"
        }
      ],
      "source": [
        "df_transactions.isna().sum()"
      ]
    },
    {
      "cell_type": "code",
      "execution_count": 34,
      "id": "0975776d-f8d4-4614-9a31-0f52362cbfe1",
      "metadata": {
        "colab": {
          "base_uri": "https://localhost:8080/",
          "height": 317
        },
        "id": "0975776d-f8d4-4614-9a31-0f52362cbfe1",
        "outputId": "67d55ca7-44b7-4755-af34-a6d3b4dcc4db"
      },
      "outputs": [
        {
          "data": {
            "text/html": [
              "<div>\n",
              "<style scoped>\n",
              "    .dataframe tbody tr th:only-of-type {\n",
              "        vertical-align: middle;\n",
              "    }\n",
              "\n",
              "    .dataframe tbody tr th {\n",
              "        vertical-align: top;\n",
              "    }\n",
              "\n",
              "    .dataframe thead th {\n",
              "        text-align: right;\n",
              "    }\n",
              "</style>\n",
              "<table border=\"1\" class=\"dataframe\">\n",
              "  <thead>\n",
              "    <tr style=\"text-align: right;\">\n",
              "      <th></th>\n",
              "      <th>Unnamed: 0.1</th>\n",
              "      <th>payment_method_id</th>\n",
              "      <th>payment_plan_days</th>\n",
              "      <th>plan_list_price</th>\n",
              "      <th>actual_amount_paid</th>\n",
              "      <th>is_auto_renew</th>\n",
              "      <th>transaction_date</th>\n",
              "      <th>membership_expire_date</th>\n",
              "      <th>is_cancel</th>\n",
              "      <th>membership_start_date</th>\n",
              "    </tr>\n",
              "  </thead>\n",
              "  <tbody>\n",
              "    <tr>\n",
              "      <th>count</th>\n",
              "      <td>5.670040e+05</td>\n",
              "      <td>567004.000000</td>\n",
              "      <td>567004.000000</td>\n",
              "      <td>567004.000000</td>\n",
              "      <td>567004.000000</td>\n",
              "      <td>567004.000000</td>\n",
              "      <td>567004</td>\n",
              "      <td>567004</td>\n",
              "      <td>567004.000000</td>\n",
              "      <td>567004</td>\n",
              "    </tr>\n",
              "    <tr>\n",
              "      <th>mean</th>\n",
              "      <td>1.702152e+06</td>\n",
              "      <td>39.431768</td>\n",
              "      <td>31.613620</td>\n",
              "      <td>144.962940</td>\n",
              "      <td>147.481616</td>\n",
              "      <td>0.920752</td>\n",
              "      <td>2016-02-27 16:04:52.924918016</td>\n",
              "      <td>2016-04-16 21:28:14.235666944</td>\n",
              "      <td>0.055910</td>\n",
              "      <td>2016-03-16 06:44:37.466825472</td>\n",
              "    </tr>\n",
              "    <tr>\n",
              "      <th>min</th>\n",
              "      <td>1.000000e+01</td>\n",
              "      <td>2.000000</td>\n",
              "      <td>0.000000</td>\n",
              "      <td>0.000000</td>\n",
              "      <td>0.000000</td>\n",
              "      <td>0.000000</td>\n",
              "      <td>2015-01-01 00:00:00</td>\n",
              "      <td>1970-01-01 00:00:00</td>\n",
              "      <td>0.000000</td>\n",
              "      <td>1969-05-06 00:00:00</td>\n",
              "    </tr>\n",
              "    <tr>\n",
              "      <th>25%</th>\n",
              "      <td>8.506078e+05</td>\n",
              "      <td>39.000000</td>\n",
              "      <td>30.000000</td>\n",
              "      <td>129.000000</td>\n",
              "      <td>129.000000</td>\n",
              "      <td>1.000000</td>\n",
              "      <td>2015-08-06 00:00:00</td>\n",
              "      <td>2015-09-27 00:00:00</td>\n",
              "      <td>0.000000</td>\n",
              "      <td>2015-08-28 00:00:00</td>\n",
              "    </tr>\n",
              "    <tr>\n",
              "      <th>50%</th>\n",
              "      <td>1.701320e+06</td>\n",
              "      <td>41.000000</td>\n",
              "      <td>30.000000</td>\n",
              "      <td>149.000000</td>\n",
              "      <td>149.000000</td>\n",
              "      <td>1.000000</td>\n",
              "      <td>2016-02-27 00:00:00</td>\n",
              "      <td>2016-04-23 00:00:00</td>\n",
              "      <td>0.000000</td>\n",
              "      <td>2016-03-22 00:00:00</td>\n",
              "    </tr>\n",
              "    <tr>\n",
              "      <th>75%</th>\n",
              "      <td>2.554220e+06</td>\n",
              "      <td>41.000000</td>\n",
              "      <td>30.000000</td>\n",
              "      <td>149.000000</td>\n",
              "      <td>149.000000</td>\n",
              "      <td>1.000000</td>\n",
              "      <td>2016-09-27 00:00:00</td>\n",
              "      <td>2016-11-10 00:00:00</td>\n",
              "      <td>0.000000</td>\n",
              "      <td>2016-10-09 00:00:00</td>\n",
              "    </tr>\n",
              "    <tr>\n",
              "      <th>max</th>\n",
              "      <td>3.406372e+06</td>\n",
              "      <td>41.000000</td>\n",
              "      <td>450.000000</td>\n",
              "      <td>2000.000000</td>\n",
              "      <td>2000.000000</td>\n",
              "      <td>1.000000</td>\n",
              "      <td>2017-03-31 00:00:00</td>\n",
              "      <td>2022-08-12 00:00:00</td>\n",
              "      <td>1.000000</td>\n",
              "      <td>2022-07-13 00:00:00</td>\n",
              "    </tr>\n",
              "    <tr>\n",
              "      <th>std</th>\n",
              "      <td>9.836458e+05</td>\n",
              "      <td>3.037971</td>\n",
              "      <td>29.643084</td>\n",
              "      <td>126.811014</td>\n",
              "      <td>125.922875</td>\n",
              "      <td>0.270126</td>\n",
              "      <td>NaN</td>\n",
              "      <td>NaN</td>\n",
              "      <td>0.229747</td>\n",
              "      <td>NaN</td>\n",
              "    </tr>\n",
              "  </tbody>\n",
              "</table>\n",
              "</div>"
            ],
            "text/plain": [
              "       Unnamed: 0.1  payment_method_id  payment_plan_days  plan_list_price  \\\n",
              "count  5.670040e+05      567004.000000      567004.000000    567004.000000   \n",
              "mean   1.702152e+06          39.431768          31.613620       144.962940   \n",
              "min    1.000000e+01           2.000000           0.000000         0.000000   \n",
              "25%    8.506078e+05          39.000000          30.000000       129.000000   \n",
              "50%    1.701320e+06          41.000000          30.000000       149.000000   \n",
              "75%    2.554220e+06          41.000000          30.000000       149.000000   \n",
              "max    3.406372e+06          41.000000         450.000000      2000.000000   \n",
              "std    9.836458e+05           3.037971          29.643084       126.811014   \n",
              "\n",
              "       actual_amount_paid  is_auto_renew               transaction_date  \\\n",
              "count       567004.000000  567004.000000                         567004   \n",
              "mean           147.481616       0.920752  2016-02-27 16:04:52.924918016   \n",
              "min              0.000000       0.000000            2015-01-01 00:00:00   \n",
              "25%            129.000000       1.000000            2015-08-06 00:00:00   \n",
              "50%            149.000000       1.000000            2016-02-27 00:00:00   \n",
              "75%            149.000000       1.000000            2016-09-27 00:00:00   \n",
              "max           2000.000000       1.000000            2017-03-31 00:00:00   \n",
              "std            125.922875       0.270126                            NaN   \n",
              "\n",
              "              membership_expire_date      is_cancel  \\\n",
              "count                         567004  567004.000000   \n",
              "mean   2016-04-16 21:28:14.235666944       0.055910   \n",
              "min              1970-01-01 00:00:00       0.000000   \n",
              "25%              2015-09-27 00:00:00       0.000000   \n",
              "50%              2016-04-23 00:00:00       0.000000   \n",
              "75%              2016-11-10 00:00:00       0.000000   \n",
              "max              2022-08-12 00:00:00       1.000000   \n",
              "std                              NaN       0.229747   \n",
              "\n",
              "               membership_start_date  \n",
              "count                         567004  \n",
              "mean   2016-03-16 06:44:37.466825472  \n",
              "min              1969-05-06 00:00:00  \n",
              "25%              2015-08-28 00:00:00  \n",
              "50%              2016-03-22 00:00:00  \n",
              "75%              2016-10-09 00:00:00  \n",
              "max              2022-07-13 00:00:00  \n",
              "std                              NaN  "
            ]
          },
          "execution_count": 34,
          "metadata": {},
          "output_type": "execute_result"
        }
      ],
      "source": [
        "df_transactions.describe()"
      ]
    },
    {
      "cell_type": "code",
      "execution_count": 35,
      "id": "f079b99d",
      "metadata": {
        "colab": {
          "base_uri": "https://localhost:8080/",
          "height": 802
        },
        "id": "f079b99d",
        "outputId": "e116d45d-9bc4-4276-a882-27499701a1ac"
      },
      "outputs": [
        {
          "data": {
            "text/html": [
              "<div>\n",
              "<style scoped>\n",
              "    .dataframe tbody tr th:only-of-type {\n",
              "        vertical-align: middle;\n",
              "    }\n",
              "\n",
              "    .dataframe tbody tr th {\n",
              "        vertical-align: top;\n",
              "    }\n",
              "\n",
              "    .dataframe thead th {\n",
              "        text-align: right;\n",
              "    }\n",
              "</style>\n",
              "<table border=\"1\" class=\"dataframe\">\n",
              "  <thead>\n",
              "    <tr style=\"text-align: right;\">\n",
              "      <th></th>\n",
              "      <th>transaction_count</th>\n",
              "      <th>counts</th>\n",
              "      <th>cumsum</th>\n",
              "      <th>proportion</th>\n",
              "    </tr>\n",
              "  </thead>\n",
              "  <tbody>\n",
              "    <tr>\n",
              "      <th>0</th>\n",
              "      <td>1</td>\n",
              "      <td>557566</td>\n",
              "      <td>557566</td>\n",
              "      <td>0.991876</td>\n",
              "    </tr>\n",
              "    <tr>\n",
              "      <th>1</th>\n",
              "      <td>2</td>\n",
              "      <td>4387</td>\n",
              "      <td>561953</td>\n",
              "      <td>0.999680</td>\n",
              "    </tr>\n",
              "    <tr>\n",
              "      <th>2</th>\n",
              "      <td>3</td>\n",
              "      <td>140</td>\n",
              "      <td>562093</td>\n",
              "      <td>0.999929</td>\n",
              "    </tr>\n",
              "    <tr>\n",
              "      <th>3</th>\n",
              "      <td>4</td>\n",
              "      <td>21</td>\n",
              "      <td>562114</td>\n",
              "      <td>0.999966</td>\n",
              "    </tr>\n",
              "    <tr>\n",
              "      <th>4</th>\n",
              "      <td>5</td>\n",
              "      <td>9</td>\n",
              "      <td>562123</td>\n",
              "      <td>0.999982</td>\n",
              "    </tr>\n",
              "    <tr>\n",
              "      <th>5</th>\n",
              "      <td>6</td>\n",
              "      <td>4</td>\n",
              "      <td>562127</td>\n",
              "      <td>0.999989</td>\n",
              "    </tr>\n",
              "    <tr>\n",
              "      <th>6</th>\n",
              "      <td>8</td>\n",
              "      <td>1</td>\n",
              "      <td>562128</td>\n",
              "      <td>0.999991</td>\n",
              "    </tr>\n",
              "    <tr>\n",
              "      <th>7</th>\n",
              "      <td>11</td>\n",
              "      <td>1</td>\n",
              "      <td>562129</td>\n",
              "      <td>0.999993</td>\n",
              "    </tr>\n",
              "    <tr>\n",
              "      <th>8</th>\n",
              "      <td>12</td>\n",
              "      <td>1</td>\n",
              "      <td>562130</td>\n",
              "      <td>0.999995</td>\n",
              "    </tr>\n",
              "    <tr>\n",
              "      <th>9</th>\n",
              "      <td>14</td>\n",
              "      <td>1</td>\n",
              "      <td>562131</td>\n",
              "      <td>0.999996</td>\n",
              "    </tr>\n",
              "    <tr>\n",
              "      <th>10</th>\n",
              "      <td>20</td>\n",
              "      <td>1</td>\n",
              "      <td>562132</td>\n",
              "      <td>0.999998</td>\n",
              "    </tr>\n",
              "    <tr>\n",
              "      <th>11</th>\n",
              "      <td>26</td>\n",
              "      <td>1</td>\n",
              "      <td>562133</td>\n",
              "      <td>1.000000</td>\n",
              "    </tr>\n",
              "  </tbody>\n",
              "</table>\n",
              "</div>"
            ],
            "text/plain": [
              "    transaction_count  counts  cumsum  proportion\n",
              "0                   1  557566  557566    0.991876\n",
              "1                   2    4387  561953    0.999680\n",
              "2                   3     140  562093    0.999929\n",
              "3                   4      21  562114    0.999966\n",
              "4                   5       9  562123    0.999982\n",
              "5                   6       4  562127    0.999989\n",
              "6                   8       1  562128    0.999991\n",
              "7                  11       1  562129    0.999993\n",
              "8                  12       1  562130    0.999995\n",
              "9                  14       1  562131    0.999996\n",
              "10                 20       1  562132    0.999998\n",
              "11                 26       1  562133    1.000000"
            ]
          },
          "execution_count": 35,
          "metadata": {},
          "output_type": "execute_result"
        }
      ],
      "source": [
        "daily_transactions_by_user = df_transactions.groupby(['msno', 'transaction_date', 'is_cancel']).size().reset_index(name='transaction_count')\n",
        "daily_transactions_by_user = daily_transactions_by_user.sort_values(by = 'transaction_count', ascending = False)\n",
        "daily_user_counts_by_transactions = daily_transactions_by_user.groupby(['transaction_count']).size().reset_index(name = 'counts')\n",
        "daily_user_counts_by_transactions['cumsum'] = daily_user_counts_by_transactions['counts'].cumsum()\n",
        "daily_user_counts_by_transactions['proportion'] = daily_user_counts_by_transactions['cumsum']/daily_user_counts_by_transactions['counts'].sum()\n",
        "daily_user_counts_by_transactions"
      ]
    },
    {
      "cell_type": "code",
      "execution_count": 36,
      "id": "79b0b38d",
      "metadata": {
        "colab": {
          "base_uri": "https://localhost:8080/",
          "height": 607
        },
        "id": "79b0b38d",
        "outputId": "051d6b6c-f356-4ceb-c06d-489ba21c8757"
      },
      "outputs": [
        {
          "data": {
            "image/png": "[encoded data removed]",
            "text/plain": [
              "<Figure size 1200x600 with 2 Axes>"
            ]
          },
          "metadata": {},
          "output_type": "display_data"
        }
      ],
      "source": [
        "fig, ax1 = plt.subplots(figsize=(12, 6))\n",
        "\n",
        "sns.barplot(x='transaction_count', y='counts', data=daily_user_counts_by_transactions, ax=ax1, color='skyblue')\n",
        "ax1.set_xlabel('Transaction Count (per User/Day)')\n",
        "ax1.set_ylabel('Number of Occurrences (Counts)', color='blue')\n",
        "ax1.tick_params(axis='y', labelcolor='blue')\n",
        "ax1.set_title('Pareto Chart of Transaction Counts per User/Day')\n",
        "\n",
        "ax2 = ax1.twinx()\n",
        "ax2.plot(daily_user_counts_by_transactions['transaction_count'].astype(str),\n",
        "         daily_user_counts_by_transactions['proportion'] * 100,\n",
        "         color='red', marker='o', linestyle='-')\n",
        "ax2.set_ylabel('Cumulative Percentage (%)', color='red')\n",
        "ax2.tick_params(axis='y', labelcolor='red')\n",
        "ax2.set_ylim(0, 105)\n",
        "\n",
        "for index, row in daily_user_counts_by_transactions.iterrows():\n",
        "    ax2.annotate(f'{row[\"proportion\"]:.1%}',\n",
        "                 (row['transaction_count'], row['proportion'] * 100),\n",
        "                 textcoords=\"offset points\", xytext=(0,10), ha='center', fontsize=8, color='red')\n",
        "\n",
        "plt.xticks(rotation=45, ha='right')\n",
        "plt.grid(True, which='both', linestyle='--', linewidth=0.5)\n",
        "plt.tight_layout()\n",
        "plt.show()"
      ]
    },
    {
      "cell_type": "code",
      "execution_count": 37,
      "id": "d7bf8d6f",
      "metadata": {
        "id": "d7bf8d6f"
      },
      "outputs": [],
      "source": [
        "outlier_user_list = list(daily_transactions_by_user[daily_transactions_by_user['transaction_count'] > 2]['msno'].unique())\n",
        "filtering = lambda x: True if x not in outlier_user_list else False\n",
        "df_transactions['filtered'] = df_transactions['msno'].apply(filtering)"
      ]
    },
    {
      "cell_type": "code",
      "execution_count": 38,
      "id": "1b7be927",
      "metadata": {
        "colab": {
          "base_uri": "https://localhost:8080/"
        },
        "id": "1b7be927",
        "outputId": "02fa7755-ee0c-4dc6-a8ad-0418f84fa270"
      },
      "outputs": [
        {
          "data": {
            "text/plain": [
              "0.004663106433111583"
            ]
          },
          "execution_count": 38,
          "metadata": {},
          "output_type": "execute_result"
        }
      ],
      "source": [
        "# Check proportion of records of \"outlier\" users\n",
        "df_transactions[df_transactions['filtered'] == False].shape[0] / df_transactions.shape[0]"
      ]
    },
    {
      "cell_type": "code",
      "execution_count": 39,
      "id": "9c15a179",
      "metadata": {
        "id": "9c15a179"
      },
      "outputs": [],
      "source": [
        "df_transactions = df_transactions[df_transactions['filtered'] == True]\n",
        "df_transactions = df_transactions.drop(columns=['filtered'])"
      ]
    },
    {
      "cell_type": "code",
      "execution_count": 40,
      "id": "Kx7T-Dzi5dji",
      "metadata": {
        "id": "Kx7T-Dzi5dji"
      },
      "outputs": [],
      "source": [
        "df_transactions = df_transactions[df_transactions['membership_start_date'] >= '2015-01-01']\n",
        "df_transactions = df_transactions[df_transactions['membership_expire_date'] <= '2017-03-31']"
      ]
    },
    {
      "cell_type": "code",
      "execution_count": 41,
      "id": "e73xhT_a5edd",
      "metadata": {
        "id": "e73xhT_a5edd"
      },
      "outputs": [],
      "source": [
        "df_transactions = df_transactions.reset_index(drop=True)"
      ]
    },
    {
      "cell_type": "code",
      "execution_count": 42,
      "id": "5_Cuy5r55CaU",
      "metadata": {
        "colab": {
          "base_uri": "https://localhost:8080/",
          "height": 226
        },
        "id": "5_Cuy5r55CaU",
        "outputId": "7297161e-2dd3-4939-9f66-3fb42610e23e"
      },
      "outputs": [
        {
          "data": {
            "text/html": [
              "<div>\n",
              "<style scoped>\n",
              "    .dataframe tbody tr th:only-of-type {\n",
              "        vertical-align: middle;\n",
              "    }\n",
              "\n",
              "    .dataframe tbody tr th {\n",
              "        vertical-align: top;\n",
              "    }\n",
              "\n",
              "    .dataframe thead th {\n",
              "        text-align: right;\n",
              "    }\n",
              "</style>\n",
              "<table border=\"1\" class=\"dataframe\">\n",
              "  <thead>\n",
              "    <tr style=\"text-align: right;\">\n",
              "      <th></th>\n",
              "      <th>Unnamed: 0.1</th>\n",
              "      <th>msno</th>\n",
              "      <th>payment_method_id</th>\n",
              "      <th>payment_plan_days</th>\n",
              "      <th>plan_list_price</th>\n",
              "      <th>actual_amount_paid</th>\n",
              "      <th>is_auto_renew</th>\n",
              "      <th>transaction_date</th>\n",
              "      <th>membership_expire_date</th>\n",
              "      <th>is_cancel</th>\n",
              "      <th>membership_start_date</th>\n",
              "    </tr>\n",
              "  </thead>\n",
              "  <tbody>\n",
              "    <tr>\n",
              "      <th>0</th>\n",
              "      <td>2116141</td>\n",
              "      <td>++4qZOZ7rISM4nY9xcUVPweG0A4Z12cGwzjZHmRzr3g=</td>\n",
              "      <td>35</td>\n",
              "      <td>7</td>\n",
              "      <td>0</td>\n",
              "      <td>0</td>\n",
              "      <td>0</td>\n",
              "      <td>2016-11-07</td>\n",
              "      <td>2016-11-14</td>\n",
              "      <td>0</td>\n",
              "      <td>2016-11-07</td>\n",
              "    </tr>\n",
              "    <tr>\n",
              "      <th>1</th>\n",
              "      <td>226140</td>\n",
              "      <td>++5nB0VuUuyj9xlngqv3OKUrmQXWZkO5QtB9FYXWTok=</td>\n",
              "      <td>41</td>\n",
              "      <td>30</td>\n",
              "      <td>129</td>\n",
              "      <td>129</td>\n",
              "      <td>1</td>\n",
              "      <td>2015-01-11</td>\n",
              "      <td>2015-05-08</td>\n",
              "      <td>0</td>\n",
              "      <td>2015-04-08</td>\n",
              "    </tr>\n",
              "    <tr>\n",
              "      <th>2</th>\n",
              "      <td>15747</td>\n",
              "      <td>++5nB0VuUuyj9xlngqv3OKUrmQXWZkO5QtB9FYXWTok=</td>\n",
              "      <td>41</td>\n",
              "      <td>30</td>\n",
              "      <td>129</td>\n",
              "      <td>129</td>\n",
              "      <td>1</td>\n",
              "      <td>2015-02-11</td>\n",
              "      <td>2015-06-05</td>\n",
              "      <td>0</td>\n",
              "      <td>2015-05-06</td>\n",
              "    </tr>\n",
              "    <tr>\n",
              "      <th>3</th>\n",
              "      <td>1522152</td>\n",
              "      <td>++5nB0VuUuyj9xlngqv3OKUrmQXWZkO5QtB9FYXWTok=</td>\n",
              "      <td>41</td>\n",
              "      <td>30</td>\n",
              "      <td>129</td>\n",
              "      <td>129</td>\n",
              "      <td>1</td>\n",
              "      <td>2015-03-11</td>\n",
              "      <td>2015-07-06</td>\n",
              "      <td>0</td>\n",
              "      <td>2015-06-06</td>\n",
              "    </tr>\n",
              "    <tr>\n",
              "      <th>4</th>\n",
              "      <td>2380774</td>\n",
              "      <td>++5nB0VuUuyj9xlngqv3OKUrmQXWZkO5QtB9FYXWTok=</td>\n",
              "      <td>41</td>\n",
              "      <td>30</td>\n",
              "      <td>129</td>\n",
              "      <td>129</td>\n",
              "      <td>1</td>\n",
              "      <td>2015-04-11</td>\n",
              "      <td>2015-08-05</td>\n",
              "      <td>0</td>\n",
              "      <td>2015-07-06</td>\n",
              "    </tr>\n",
              "  </tbody>\n",
              "</table>\n",
              "</div>"
            ],
            "text/plain": [
              "   Unnamed: 0.1                                          msno  \\\n",
              "0       2116141  ++4qZOZ7rISM4nY9xcUVPweG0A4Z12cGwzjZHmRzr3g=   \n",
              "1        226140  ++5nB0VuUuyj9xlngqv3OKUrmQXWZkO5QtB9FYXWTok=   \n",
              "2         15747  ++5nB0VuUuyj9xlngqv3OKUrmQXWZkO5QtB9FYXWTok=   \n",
              "3       1522152  ++5nB0VuUuyj9xlngqv3OKUrmQXWZkO5QtB9FYXWTok=   \n",
              "4       2380774  ++5nB0VuUuyj9xlngqv3OKUrmQXWZkO5QtB9FYXWTok=   \n",
              "\n",
              "   payment_method_id  payment_plan_days  plan_list_price  actual_amount_paid  \\\n",
              "0                 35                  7                0                   0   \n",
              "1                 41                 30              129                 129   \n",
              "2                 41                 30              129                 129   \n",
              "3                 41                 30              129                 129   \n",
              "4                 41                 30              129                 129   \n",
              "\n",
              "   is_auto_renew transaction_date membership_expire_date  is_cancel  \\\n",
              "0              0       2016-11-07             2016-11-14          0   \n",
              "1              1       2015-01-11             2015-05-08          0   \n",
              "2              1       2015-02-11             2015-06-05          0   \n",
              "3              1       2015-03-11             2015-07-06          0   \n",
              "4              1       2015-04-11             2015-08-05          0   \n",
              "\n",
              "  membership_start_date  \n",
              "0            2016-11-07  \n",
              "1            2015-04-08  \n",
              "2            2015-05-06  \n",
              "3            2015-06-06  \n",
              "4            2015-07-06  "
            ]
          },
          "execution_count": 42,
          "metadata": {},
          "output_type": "execute_result"
        }
      ],
      "source": [
        "df_transactions.head()"
      ]
    },
    {
      "cell_type": "code",
      "execution_count": 43,
      "id": "077a55d6-23d8-4753-9dbe-0b67898cb92e",
      "metadata": {
        "colab": {
          "base_uri": "https://localhost:8080/"
        },
        "id": "077a55d6-23d8-4753-9dbe-0b67898cb92e",
        "outputId": "3d9e668b-8628-4d9f-de77-47d7bf294464"
      },
      "outputs": [
        {
          "name": "stdout",
          "output_type": "stream",
          "text": [
            "silver_transactions.csv Stored to Silver Layer Successfully! ✅\n"
          ]
        }
      ],
      "source": [
        "# Create silver table and store to Google Cloud Storage\n",
        "silver_transactions_file_path = \"Silver Layer/silver_transactions.csv\"\n",
        "silver_transactions_gcs_path = f\"gs://{bucket_name}/{silver_transactions_file_path}\"\n",
        "\n",
        "try:\n",
        "    df_transactions.to_csv(silver_transactions_gcs_path, index=False)\n",
        "    print(\"silver_transactions.csv Stored to Silver Layer Successfully! ✅\")\n",
        "except Exception as e:\n",
        "    print(f\"silver_transactions.csv Store Failed: {e}\")"
      ]
    },
    {
      "cell_type": "markdown",
      "id": "hsVpN5tXuQom",
      "metadata": {
        "id": "hsVpN5tXuQom"
      },
      "source": [
        "## EDA"
      ]
    },
    {
      "cell_type": "code",
      "execution_count": 26,
      "id": "l047JhOcgziE",
      "metadata": {
        "id": "l047JhOcgziE"
      },
      "outputs": [],
      "source": [
        "### Ingesting data from Google Cloud Storage\n",
        "silver_transactions_file_path = \"Silver Layer/silver_transactions.csv\"\n",
        "silver_transactions_gcs_path = f\"gs://{bucket_name}/{silver_transactions_file_path}\"\n",
        "\n",
        "df_transactions = pd.read_csv(silver_transactions_gcs_path)"
      ]
    },
    {
      "cell_type": "code",
      "execution_count": 44,
      "id": "3JCAXGSSvLWG",
      "metadata": {
        "colab": {
          "base_uri": "https://localhost:8080/"
        },
        "id": "3JCAXGSSvLWG",
        "outputId": "0163428e-8bdc-4f40-f53a-490203ac57df"
      },
      "outputs": [
        {
          "name": "stderr",
          "output_type": "stream",
          "text": [
            "100%|██████████| 31194/31194 [01:59<00:00, 261.28it/s]\n"
          ]
        }
      ],
      "source": [
        "result_rows = []\n",
        "\n",
        "grouped = df_transactions.groupby('msno', sort=False)\n",
        "for msno, group in tqdm(grouped, total=len(grouped)):\n",
        "    group = group.reset_index(drop=True)\n",
        "\n",
        "    for i in range(len(group)):\n",
        "        row = group.iloc[i]\n",
        "\n",
        "        start_date = row['membership_start_date']\n",
        "        expire_date = row['membership_expire_date']\n",
        "        payment_plan_days = row['payment_plan_days']\n",
        "\n",
        "        if 30 <= payment_plan_days <= 31 and row['is_cancel'] == 0:\n",
        "\n",
        "            next_transaction_date = None\n",
        "            days_diff = None\n",
        "            for j in range(i + 1, len(group)):\n",
        "                next_row = group.iloc[j]\n",
        "                if next_row['is_cancel'] == 0:\n",
        "                    next_transaction_date = next_row['transaction_date']\n",
        "                    days_diff = (next_transaction_date - expire_date).days\n",
        "                    break\n",
        "\n",
        "            result_rows.append({\n",
        "                'msno': row['msno'],\n",
        "                'membership_start_date': start_date,\n",
        "                'membership_expire_date': expire_date,\n",
        "                'next_transaction_date': next_transaction_date,\n",
        "                'days_diff': days_diff,\n",
        "            })\n",
        "\n",
        "df_result = pd.DataFrame(result_rows)"
      ]
    },
    {
      "cell_type": "code",
      "execution_count": 45,
      "id": "AAOK4iCN67kw",
      "metadata": {
        "id": "AAOK4iCN67kw"
      },
      "outputs": [],
      "source": [
        "df_result.loc[df_result['days_diff'] < 0, 'days_diff'] = 0"
      ]
    },
    {
      "cell_type": "code",
      "execution_count": 46,
      "id": "CXvwTkh6u_5G",
      "metadata": {
        "colab": {
          "base_uri": "https://localhost:8080/",
          "height": 206
        },
        "id": "CXvwTkh6u_5G",
        "outputId": "f5e353ed-c00d-4887-8571-164b817bd4c3"
      },
      "outputs": [
        {
          "data": {
            "text/html": [
              "<div>\n",
              "<style scoped>\n",
              "    .dataframe tbody tr th:only-of-type {\n",
              "        vertical-align: middle;\n",
              "    }\n",
              "\n",
              "    .dataframe tbody tr th {\n",
              "        vertical-align: top;\n",
              "    }\n",
              "\n",
              "    .dataframe thead th {\n",
              "        text-align: right;\n",
              "    }\n",
              "</style>\n",
              "<table border=\"1\" class=\"dataframe\">\n",
              "  <thead>\n",
              "    <tr style=\"text-align: right;\">\n",
              "      <th></th>\n",
              "      <th>msno</th>\n",
              "      <th>membership_start_date</th>\n",
              "      <th>membership_expire_date</th>\n",
              "      <th>next_transaction_date</th>\n",
              "      <th>days_diff</th>\n",
              "    </tr>\n",
              "  </thead>\n",
              "  <tbody>\n",
              "    <tr>\n",
              "      <th>230091</th>\n",
              "      <td>T5QJLUWzPVF6EIX3f4E1wYN+lIkpXVxaAQ3loHlTBQM=</td>\n",
              "      <td>2015-05-14</td>\n",
              "      <td>2015-06-14</td>\n",
              "      <td>2015-06-15</td>\n",
              "      <td>1.0</td>\n",
              "    </tr>\n",
              "    <tr>\n",
              "      <th>153603</th>\n",
              "      <td>IoVH9hiUJ3TFJ/KLiNPFyyENXbYwFkremmPVQIYBQjU=</td>\n",
              "      <td>2015-11-18</td>\n",
              "      <td>2015-12-18</td>\n",
              "      <td>2015-12-17</td>\n",
              "      <td>0.0</td>\n",
              "    </tr>\n",
              "    <tr>\n",
              "      <th>100312</th>\n",
              "      <td>BW9qXJLirUKUnnt0ZIQSv2tfgLsAyyuBGxyaS1Lq+dU=</td>\n",
              "      <td>2016-04-17</td>\n",
              "      <td>2016-05-17</td>\n",
              "      <td>2016-05-17</td>\n",
              "      <td>0.0</td>\n",
              "    </tr>\n",
              "    <tr>\n",
              "      <th>297883</th>\n",
              "      <td>cEOJPfY4Dr89dIorDvN2q2t1nWWThNcgka0SAaQLatY=</td>\n",
              "      <td>2016-10-18</td>\n",
              "      <td>2016-11-17</td>\n",
              "      <td>2016-11-17</td>\n",
              "      <td>0.0</td>\n",
              "    </tr>\n",
              "    <tr>\n",
              "      <th>75287</th>\n",
              "      <td>8AStPxVBnnXcghOYikybYwn974e3fn2QRFLEp5L/Pqo=</td>\n",
              "      <td>2016-10-31</td>\n",
              "      <td>2016-11-30</td>\n",
              "      <td>2016-11-30</td>\n",
              "      <td>0.0</td>\n",
              "    </tr>\n",
              "  </tbody>\n",
              "</table>\n",
              "</div>"
            ],
            "text/plain": [
              "                                                msno membership_start_date  \\\n",
              "230091  T5QJLUWzPVF6EIX3f4E1wYN+lIkpXVxaAQ3loHlTBQM=            2015-05-14   \n",
              "153603  IoVH9hiUJ3TFJ/KLiNPFyyENXbYwFkremmPVQIYBQjU=            2015-11-18   \n",
              "100312  BW9qXJLirUKUnnt0ZIQSv2tfgLsAyyuBGxyaS1Lq+dU=            2016-04-17   \n",
              "297883  cEOJPfY4Dr89dIorDvN2q2t1nWWThNcgka0SAaQLatY=            2016-10-18   \n",
              "75287   8AStPxVBnnXcghOYikybYwn974e3fn2QRFLEp5L/Pqo=            2016-10-31   \n",
              "\n",
              "       membership_expire_date next_transaction_date  days_diff  \n",
              "230091             2015-06-14            2015-06-15        1.0  \n",
              "153603             2015-12-18            2015-12-17        0.0  \n",
              "100312             2016-05-17            2016-05-17        0.0  \n",
              "297883             2016-11-17            2016-11-17        0.0  \n",
              "75287              2016-11-30            2016-11-30        0.0  "
            ]
          },
          "execution_count": 46,
          "metadata": {},
          "output_type": "execute_result"
        }
      ],
      "source": [
        "df_result[df_result['days_diff'] <= 5].sample(5)"
      ]
    },
    {
      "cell_type": "code",
      "execution_count": 47,
      "id": "IKVPfKDw10Od",
      "metadata": {
        "colab": {
          "base_uri": "https://localhost:8080/",
          "height": 206
        },
        "id": "IKVPfKDw10Od",
        "outputId": "eb029e14-4d2d-4143-84a8-da68b06aa336"
      },
      "outputs": [
        {
          "data": {
            "text/html": [
              "<div>\n",
              "<style scoped>\n",
              "    .dataframe tbody tr th:only-of-type {\n",
              "        vertical-align: middle;\n",
              "    }\n",
              "\n",
              "    .dataframe tbody tr th {\n",
              "        vertical-align: top;\n",
              "    }\n",
              "\n",
              "    .dataframe thead th {\n",
              "        text-align: right;\n",
              "    }\n",
              "</style>\n",
              "<table border=\"1\" class=\"dataframe\">\n",
              "  <thead>\n",
              "    <tr style=\"text-align: right;\">\n",
              "      <th></th>\n",
              "      <th>msno</th>\n",
              "      <th>membership_start_date</th>\n",
              "      <th>membership_expire_date</th>\n",
              "      <th>next_transaction_date</th>\n",
              "      <th>days_diff</th>\n",
              "    </tr>\n",
              "  </thead>\n",
              "  <tbody>\n",
              "    <tr>\n",
              "      <th>387069</th>\n",
              "      <td>oKk5i+A98suZhhHJ/JYxnLearkUBr0g4PgTr16RPyUA=</td>\n",
              "      <td>2016-01-30</td>\n",
              "      <td>2016-02-29</td>\n",
              "      <td>2016-05-20</td>\n",
              "      <td>81.0</td>\n",
              "    </tr>\n",
              "    <tr>\n",
              "      <th>309192</th>\n",
              "      <td>dj9cHnDOW7u06NHkjUQu+9qr6xrxWnWxQ6ALATZCjpA=</td>\n",
              "      <td>2015-12-16</td>\n",
              "      <td>2016-01-15</td>\n",
              "      <td>2016-01-31</td>\n",
              "      <td>16.0</td>\n",
              "    </tr>\n",
              "    <tr>\n",
              "      <th>169466</th>\n",
              "      <td>KsrdEP7YNfBiBcPY9QSVXec0DiB4KMpGxE14gdPLnIk=</td>\n",
              "      <td>2016-09-04</td>\n",
              "      <td>2016-10-04</td>\n",
              "      <td>2016-10-14</td>\n",
              "      <td>10.0</td>\n",
              "    </tr>\n",
              "    <tr>\n",
              "      <th>116866</th>\n",
              "      <td>Dm+XNWFxdJ6VAbUiW0xT7xdxSWCqbA8w3wrCBXjfb94=</td>\n",
              "      <td>2016-07-15</td>\n",
              "      <td>2016-08-14</td>\n",
              "      <td>2016-09-04</td>\n",
              "      <td>21.0</td>\n",
              "    </tr>\n",
              "    <tr>\n",
              "      <th>260611</th>\n",
              "      <td>XDd7QyFACg4LNxYGGAmvPY5UdDoDGYeCbKRF2/JfiLQ=</td>\n",
              "      <td>2015-12-11</td>\n",
              "      <td>2016-01-10</td>\n",
              "      <td>2016-01-31</td>\n",
              "      <td>21.0</td>\n",
              "    </tr>\n",
              "  </tbody>\n",
              "</table>\n",
              "</div>"
            ],
            "text/plain": [
              "                                                msno membership_start_date  \\\n",
              "387069  oKk5i+A98suZhhHJ/JYxnLearkUBr0g4PgTr16RPyUA=            2016-01-30   \n",
              "309192  dj9cHnDOW7u06NHkjUQu+9qr6xrxWnWxQ6ALATZCjpA=            2015-12-16   \n",
              "169466  KsrdEP7YNfBiBcPY9QSVXec0DiB4KMpGxE14gdPLnIk=            2016-09-04   \n",
              "116866  Dm+XNWFxdJ6VAbUiW0xT7xdxSWCqbA8w3wrCBXjfb94=            2016-07-15   \n",
              "260611  XDd7QyFACg4LNxYGGAmvPY5UdDoDGYeCbKRF2/JfiLQ=            2015-12-11   \n",
              "\n",
              "       membership_expire_date next_transaction_date  days_diff  \n",
              "387069             2016-02-29            2016-05-20       81.0  \n",
              "309192             2016-01-15            2016-01-31       16.0  \n",
              "169466             2016-10-04            2016-10-14       10.0  \n",
              "116866             2016-08-14            2016-09-04       21.0  \n",
              "260611             2016-01-10            2016-01-31       21.0  "
            ]
          },
          "execution_count": 47,
          "metadata": {},
          "output_type": "execute_result"
        }
      ],
      "source": [
        "df_result[df_result['days_diff'] > 5].sample(5)"
      ]
    },
    {
      "cell_type": "code",
      "execution_count": 48,
      "id": "5KwnGs6gw4pt",
      "metadata": {
        "colab": {
          "base_uri": "https://localhost:8080/",
          "height": 607
        },
        "id": "5KwnGs6gw4pt",
        "outputId": "4572754b-9dbc-4c01-de4b-869629204e6a"
      },
      "outputs": [
        {
          "data": {
            "image/png": "[encoded data removed]",
            "text/plain": [
              "<Figure size 1000x600 with 2 Axes>"
            ]
          },
          "metadata": {},
          "output_type": "display_data"
        }
      ],
      "source": [
        "plt.figure(figsize=(10, 6))\n",
        "n, bins, patches = plt.hist(df_result['days_diff'], bins=range(0, 50), color='skyblue', edgecolor='black')\n",
        "\n",
        "plt.xlim(0, 50)\n",
        "plt.xticks(range(0, 51, 5))\n",
        "plt.title('Days Between Expire Date and Resubscription')\n",
        "plt.xlabel('Days')\n",
        "plt.ylabel('Number of Users')\n",
        "plt.grid(True, axis='y', linestyle='--', alpha=0.7)\n",
        "\n",
        "total_count = len(df_result)\n",
        "x_ticks_to_label = [5, 10, 15, 20, 25, 30, 35, 40, 45]\n",
        "\n",
        "for x in x_ticks_to_label:\n",
        "    if x >= len(bins):\n",
        "        continue\n",
        "\n",
        "    count_less_than_x = df_result[df_result['days_diff'] <= x].shape[0]\n",
        "    proportion = count_less_than_x / total_count\n",
        "\n",
        "    bin_index = x\n",
        "    patch = patches[bin_index]\n",
        "\n",
        "    height = patch.get_height()\n",
        "    bin_center = 0.5 * (bins[bin_index] + bins[bin_index + 1])\n",
        "\n",
        "    plt.text(\n",
        "        bin_center,\n",
        "        height + 1000,\n",
        "        f'{proportion:.2%}',\n",
        "        ha='center',\n",
        "        fontsize=9,\n",
        "        rotation=0\n",
        "    )\n",
        "\n",
        "ax2 = plt.twinx()\n",
        "cumulative_n = n.cumsum()\n",
        "cumulative_percentage = cumulative_n / total_count\n",
        "bin_centers = (bins[:-1] + bins[1:]) / 2\n",
        "ax2.plot(bin_centers, cumulative_percentage, color='red', marker='o', linestyle='-', linewidth=1, label='Pareto Curve (Cumulative Percentage)')\n",
        "ax2.set_ylim(0, 1)\n",
        "ax2.set_ylabel('Cumulative Percentage')\n",
        "ax2.yaxis.set_major_formatter(mtick.PercentFormatter(xmax=1))\n",
        "lines, labels = ax2.get_legend_handles_labels()\n",
        "plt.legend(lines, labels, loc='center right')\n",
        "\n",
        "plt.tight_layout()\n",
        "plt.show()"
      ]
    },
    {
      "cell_type": "code",
      "execution_count": 49,
      "id": "KJJO4zJq9BIt",
      "metadata": {
        "id": "KJJO4zJq9BIt"
      },
      "outputs": [],
      "source": [
        "# Check for small gaps between \"membership_expire_date\" and \"2017-03-31\", and if \"next_transaction_date\" is None,\n",
        "# drop these rows because it's still unknown whether there will be a next transaction after this or not.\n",
        "mask_drop = (\n",
        "    df_result['next_transaction_date'].isna() &\n",
        "    (pd.to_datetime('2017-03-31') - df_result['membership_expire_date']).dt.days.between(0, 5)\n",
        ")\n",
        "df_result = df_result[~mask_drop]"
      ]
    },
    {
      "cell_type": "markdown",
      "id": "adf5094d-7bd9-4fb1-9680-080c4c78f144",
      "metadata": {
        "id": "adf5094d-7bd9-4fb1-9680-080c4c78f144"
      },
      "source": [
        "## Gold Layer"
      ]
    },
    {
      "cell_type": "code",
      "execution_count": 50,
      "id": "Dv6kA-anSFbd",
      "metadata": {
        "id": "Dv6kA-anSFbd"
      },
      "outputs": [],
      "source": [
        "grace_period = 5\n",
        "df_result['churn'] = ((df_result['days_diff'] > grace_period) | (df_result['days_diff'] == \"None\")).astype(int)"
      ]
    },
    {
      "cell_type": "code",
      "execution_count": 51,
      "id": "o4w6iKwi1Qzv",
      "metadata": {
        "id": "o4w6iKwi1Qzv"
      },
      "outputs": [],
      "source": [
        "df_labels = df_result[['msno', 'membership_start_date', 'membership_expire_date', 'churn']]"
      ]
    },
    {
      "cell_type": "code",
      "execution_count": 52,
      "id": "5TBFk_0QTbmi",
      "metadata": {
        "colab": {
          "base_uri": "https://localhost:8080/",
          "height": 206
        },
        "id": "5TBFk_0QTbmi",
        "outputId": "b79fc7dc-cf60-49dc-f609-db6ce4668c70"
      },
      "outputs": [
        {
          "data": {
            "text/html": [
              "<div>\n",
              "<style scoped>\n",
              "    .dataframe tbody tr th:only-of-type {\n",
              "        vertical-align: middle;\n",
              "    }\n",
              "\n",
              "    .dataframe tbody tr th {\n",
              "        vertical-align: top;\n",
              "    }\n",
              "\n",
              "    .dataframe thead th {\n",
              "        text-align: right;\n",
              "    }\n",
              "</style>\n",
              "<table border=\"1\" class=\"dataframe\">\n",
              "  <thead>\n",
              "    <tr style=\"text-align: right;\">\n",
              "      <th></th>\n",
              "      <th>msno</th>\n",
              "      <th>membership_start_date</th>\n",
              "      <th>membership_expire_date</th>\n",
              "      <th>churn</th>\n",
              "    </tr>\n",
              "  </thead>\n",
              "  <tbody>\n",
              "    <tr>\n",
              "      <th>68460</th>\n",
              "      <td>7JopCbzqZSZGKf11aNfWrqFdTKKCA3idT7PkTyKFeG0=</td>\n",
              "      <td>2016-01-02</td>\n",
              "      <td>2016-02-01</td>\n",
              "      <td>0</td>\n",
              "    </tr>\n",
              "    <tr>\n",
              "      <th>470247</th>\n",
              "      <td>zZMMObPmmgU/x96e9V3XUwno2MLDZ+PoX/1C9SQ24HY=</td>\n",
              "      <td>2015-12-05</td>\n",
              "      <td>2016-01-04</td>\n",
              "      <td>0</td>\n",
              "    </tr>\n",
              "    <tr>\n",
              "      <th>56116</th>\n",
              "      <td>5eGi5miClZ8WLCsORxYCtYks36BqMMXhEyNHOfBYTug=</td>\n",
              "      <td>2016-10-01</td>\n",
              "      <td>2016-10-31</td>\n",
              "      <td>0</td>\n",
              "    </tr>\n",
              "    <tr>\n",
              "      <th>363380</th>\n",
              "      <td>l4Miv2QFJY8n4KSEd64dgveQJoV+s2/vNB6JwENx2Fc=</td>\n",
              "      <td>2016-02-03</td>\n",
              "      <td>2016-03-04</td>\n",
              "      <td>1</td>\n",
              "    </tr>\n",
              "    <tr>\n",
              "      <th>367485</th>\n",
              "      <td>lfNkr9VQ5GRRZZnqTLrODC37kp2TcYyvUCqVw9Jft7c=</td>\n",
              "      <td>2015-01-10</td>\n",
              "      <td>2015-02-10</td>\n",
              "      <td>1</td>\n",
              "    </tr>\n",
              "  </tbody>\n",
              "</table>\n",
              "</div>"
            ],
            "text/plain": [
              "                                                msno membership_start_date  \\\n",
              "68460   7JopCbzqZSZGKf11aNfWrqFdTKKCA3idT7PkTyKFeG0=            2016-01-02   \n",
              "470247  zZMMObPmmgU/x96e9V3XUwno2MLDZ+PoX/1C9SQ24HY=            2015-12-05   \n",
              "56116   5eGi5miClZ8WLCsORxYCtYks36BqMMXhEyNHOfBYTug=            2016-10-01   \n",
              "363380  l4Miv2QFJY8n4KSEd64dgveQJoV+s2/vNB6JwENx2Fc=            2016-02-03   \n",
              "367485  lfNkr9VQ5GRRZZnqTLrODC37kp2TcYyvUCqVw9Jft7c=            2015-01-10   \n",
              "\n",
              "       membership_expire_date  churn  \n",
              "68460              2016-02-01      0  \n",
              "470247             2016-01-04      0  \n",
              "56116              2016-10-31      0  \n",
              "363380             2016-03-04      1  \n",
              "367485             2015-02-10      1  "
            ]
          },
          "execution_count": 52,
          "metadata": {},
          "output_type": "execute_result"
        }
      ],
      "source": [
        "churn_0_sample = df_labels[df_labels['churn'] == 0].sample(3)\n",
        "churn_1_sample = df_labels[df_labels['churn'] == 1].sample(2)\n",
        "sampled_df = pd.concat([churn_0_sample, churn_1_sample])\n",
        "sampled_df"
      ]
    },
    {
      "cell_type": "code",
      "execution_count": 53,
      "id": "ctoTNKRfTjHW",
      "metadata": {
        "colab": {
          "base_uri": "https://localhost:8080/",
          "height": 487
        },
        "id": "ctoTNKRfTjHW",
        "outputId": "5c5c1804-2342-4235-e408-33478ea5af98"
      },
      "outputs": [
        {
          "name": "stdout",
          "output_type": "stream",
          "text": [
            "Proportion of 0s: 0.958\n",
            "Proportion of 1s: 0.042\n"
          ]
        },
        {
          "data": {
            "image/png": "[encoded data removed]",
            "text/plain": [
              "<Figure size 640x480 with 1 Axes>"
            ]
          },
          "metadata": {},
          "output_type": "display_data"
        }
      ],
      "source": [
        "churn_counts = df_labels['churn'].value_counts().sort_index()\n",
        "churn_proportions = df_labels['churn'].value_counts(normalize=True).sort_index()\n",
        "\n",
        "print(f\"Proportion of 0s: {churn_proportions.iloc[0]:.3f}\")\n",
        "print(f\"Proportion of 1s: {churn_proportions.iloc[1]:.3f}\")\n",
        "\n",
        "plt.bar(churn_counts.index, churn_counts.values, color=['blue', 'red'])\n",
        "plt.ylabel('Count')\n",
        "plt.xticks([0, 1])\n",
        "plt.title('Churn Label Distribution')\n",
        "plt.show()"
      ]
    },
    {
      "cell_type": "code",
      "execution_count": 54,
      "id": "f061d8c6",
      "metadata": {
        "colab": {
          "base_uri": "https://localhost:8080/"
        },
        "id": "f061d8c6",
        "outputId": "0f220584-c971-40d2-a3ea-46db265aad18"
      },
      "outputs": [
        {
          "name": "stdout",
          "output_type": "stream",
          "text": [
            "labels.csv Stored to Gold Layer Successfully! ✅\n"
          ]
        }
      ],
      "source": [
        "# Create gold table and store to Google Cloud Storage\n",
        "gold_label_file_path = \"Gold Layer/labels.csv\"\n",
        "gold_label_gcs_path = f\"gs://{bucket_name}/{gold_label_file_path}\"\n",
        "\n",
        "try:\n",
        "    df_labels.to_csv(gold_label_gcs_path, index=False)\n",
        "    print(\"labels.csv Stored to Gold Layer Successfully! ✅\")\n",
        "except Exception as e:\n",
        "    print(f\"labels.csv Store Failed: {e}\")"
      ]
    }
  ],
  "metadata": {
    "colab": {
      "provenance": []
    },
    "kernelspec": {
      "display_name": ".venv",
      "language": "python",
      "name": "python3"
    },
    "language_info": {
      "codemirror_mode": {
        "name": "ipython",
        "version": 3
      },
      "file_extension": ".py",
      "mimetype": "text/x-python",
      "name": "python",
      "nbconvert_exporter": "python",
      "pygments_lexer": "ipython3",
      "version": "3.11.2"
    }
  },
  "nbformat": 4,
  "nbformat_minor": 5
}
